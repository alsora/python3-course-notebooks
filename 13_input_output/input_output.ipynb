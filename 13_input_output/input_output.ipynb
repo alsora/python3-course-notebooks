{
 "cells": [
  {
   "cell_type": "markdown",
   "metadata": {},
   "source": [
    "# Input and Output\n",
    "\n",
    "The Python programs that you wrote so far, were using small amounts of fake data directly written into the program itself.\n",
    "\n",
    "In order to deal with real data it is fundamental to be able to let your Python program to interact with other files.\n",
    "You will have different types of text files containing your input data. This data has to be read by your Python program in order to be processed.\n",
    "Similarly, the processed output should not be simply shown on the screen using the `print()` **function**, but rather it should be saved to a new file.\n",
    "\n",
    "Python provides built-in **functions** for doing all of this."
   ]
  },
  {
   "cell_type": "markdown",
   "metadata": {},
   "source": [
    "### File paths\n",
    "\n",
    "In order to use a file in your program you have to specify the so called file path.\n",
    "The file path is a string that tells Python which file you want to work with.\n",
    "In the simplest case, if the file is in the same directory as your Python program, it's sufficient to provide the name of the file as file path.\n",
    "\n",
    "If the file is not in the same directory as your Python program, things are a little bit more complicated.\n",
    "You have 2 alternative ways for specifying the path:\n",
    " - The **absolute path** is a path that starts from the root directory of your computer and traverses a bunch of directories until it reaches the desired file. It will be something like `/home/username/Downloads/filename.txt`. You can find the absolute path of a file by opening a terminal in the directory where the file is and executing the command `realpath FILENAME`, or with a right click on the file and checking its information. An absolute path in Linux always starts with the slash `/` symbol.\n",
    " - The **relative path** is a path that starts from the directory where your Python program is. For example if you have a directory named `files` that contains your file named `filename.txt`, the relative path will be `files/filename.txt`. Note how there is no slash `/` symbol at the beginning. The case where you only specify the file name mentioned above is just a particular case of a relative path."
   ]
  },
  {
   "cell_type": "markdown",
   "metadata": {},
   "source": [
    "### Reading from a file\n",
    "\n",
    "The simplest thing that you can do with a file is to read its content and use it in your program.\n",
    "\n",
    "In this directory there is a file named `dna.txt` that contains several DNA sequences.\n",
    "Let's open it and print its content."
   ]
  },
  {
   "cell_type": "code",
   "execution_count": null,
   "metadata": {},
   "outputs": [],
   "source": [
    "file_path = \"dna.txt\"\n",
    "with open(file_path, \"r\") as f:\n",
    "    x = f.read()\n",
    "    print(x)"
   ]
  },
  {
   "cell_type": "markdown",
   "metadata": {},
   "source": [
    "First of all we specify the file path, that in this case is a relative path consisting only of the file name.\n",
    "\n",
    "Then we have a Python statement that you have never seen so far, but it's very helpful for working with files.\n",
    "You can read it as `f = open(file_path, \"r\")`.\n",
    "`f` is an object of **class File** and the `open()` function allows to create it.\n",
    "\n",
    "The `open()` function takes 2 input argument: the path to a file and a character defining its \"mode\". In this case, the `\"r\"` character denotes that we want to only read the file.\n",
    "\n",
    "The `with` statement ends with the colon `:` and its body is indented.\n",
    "After a file is opened, it also must be closed or strange problems may occur.\n",
    "Unfortunately, closing a file is often forgotten.\n",
    "The statement will automatically close the file at the end of its body.\n",
    "\n",
    "Within the statement body, we used the **method** `read()` provided by the **class File**.\n",
    "This **method** will read the entire file and store it into a variable.\n",
    "\n",
    "Files are usually made of multiple lines and we may want to keep them separate. The **method** `readlines()` provided by the **class File** returns us a **list** where each element is a **string** corresponding to a particular line of the file."
   ]
  },
  {
   "cell_type": "code",
   "execution_count": null,
   "metadata": {},
   "outputs": [],
   "source": [
    "file_path = \"dna.txt\"\n",
    "with open(file_path, \"r\") as f:\n",
    "    x = f.readlines()\n",
    "    print(x)"
   ]
  },
  {
   "cell_type": "markdown",
   "metadata": {},
   "source": [
    "### The `strip()` method\n",
    "\n",
    "When executing the blocks of code above, you can notice two things: the `read()` **method** returned you a multiline **string**, on the other hand the `readlines()` **method** returned you a **list** of lines where all the lines except the last one will have a `\\n` symbol at the end.\n",
    "\n",
    "This symbol denotes a new line and since we already splitted the file into different lines is most of the times just noise.\n",
    "\n",
    "The **class str** provides a convenient **method** for quickly eliminating these characters: `strip()`. This **method** will eliminate whitespaces, new lines or similar characters from the beginning and the end of a string."
   ]
  },
  {
   "cell_type": "code",
   "execution_count": null,
   "metadata": {},
   "outputs": [],
   "source": [
    "def show_stripped(text):\n",
    "    print(\"The text was: '\" + text +\"'\")\n",
    "    stripped_text = x.strip()\n",
    "    print(\"The stripped text is: '\" + stripped_text +\"'\")\n",
    "\n",
    "show_stripped(\"hello world \")\n",
    "print(\"----\")\n",
    "show_stripped(\"     hello world        \")\n",
    "print(\"----\")\n",
    "show_stripped(\"\\n hello world \\n\\n\\n\")"
   ]
  },
  {
   "cell_type": "markdown",
   "metadata": {},
   "source": [
    "If you try to open in read mode a file that does not exist, you will get an error."
   ]
  },
  {
   "cell_type": "code",
   "execution_count": null,
   "metadata": {},
   "outputs": [],
   "source": [
    "file_path = \"my_file.txt\"\n",
    "with open(file_path, \"r\") as f:\n",
    "    print(\"file opened\")"
   ]
  },
  {
   "cell_type": "markdown",
   "metadata": {},
   "source": [
    "### Exercise\n",
    "\n",
    "Define a function that takes as input a file path and returns a list of stripped lines.\n",
    "Test it on the `dna.txt` file.\n",
    "\n",
    "Hint: strings are immutable, that's why the strip method does not modify the object it is called on, but rather it returns a new, stripped, string."
   ]
  },
  {
   "cell_type": "code",
   "execution_count": null,
   "metadata": {},
   "outputs": [],
   "source": []
  },
  {
   "cell_type": "markdown",
   "metadata": {},
   "source": [
    "### Writing to a file\n",
    "\n",
    "The syntax for writing to a file, is very similar to the one for reading.\n",
    "\n",
    "When reading we opened a file in mode `\"r\"`.\n",
    "There are two different modes that allow to write to a file:\n",
    " - write mode `\"w\"` will first erase the content of the file\n",
    " - append mode `\"a\"` will allow to keep writing at the end of a file while preserving its original content\n",
    " \n",
    "Note that when you try to open a file in mode `\"w\"` or `\"a\"`, if the file does not exist it will be automatically created."
   ]
  },
  {
   "cell_type": "code",
   "execution_count": null,
   "metadata": {},
   "outputs": [],
   "source": [
    "file_path = \"newfile\"\n",
    "\n",
    "print(\"**** Opening in write mode:\")\n",
    "with open(file_path, \"w\") as f:\n",
    "    f.write(\"hello \")\n",
    "    f.write(\"world\\n\")\n",
    "    f.write(\"some text in one line\\nsome text in another line\")\n",
    "    x = \"some interesting text\"\n",
    "    f.write(\"\\n\" + x)\n",
    "\n",
    "print(\"**** Opening in read mode\")\n",
    "with open(file_path, \"r\") as f:\n",
    "    print(f.read())\n",
    "\n",
    "print(\"**** Opening in write mode:\")\n",
    "with open(file_path, \"w\") as f:\n",
    "    f.write(\"hello \")\n",
    "    f.write(\"world\")\n",
    "\n",
    "print(\"**** Opening in read mode:\")\n",
    "with open(file_path, \"r\") as f:\n",
    "    print(f.read())\n",
    "    \n",
    "print(\"**** Opening in append mode:\")\n",
    "with open(file_path, \"a\") as f:\n",
    "    f.write(\"\\n\")\n",
    "    x = \"some interesting text\"\n",
    "    f.write(x)\n",
    "\n",
    "print(\"**** Opening in read mode:\")\n",
    "with open(file_path, \"r\") as f:\n",
    "    print(f.read())"
   ]
  },
  {
   "cell_type": "markdown",
   "metadata": {},
   "source": [
    "After you open a file in write or append mode, you can use the `write()` method to write some text at the end of it.\n",
    "Note that you must take care of adding new lines using `\"\\n\"` when you need it."
   ]
  },
  {
   "cell_type": "markdown",
   "metadata": {},
   "source": [
    "### Exercise\n",
    "\n",
    "Open the file `\"ex_1.txt\"`, which contains one number in each line.\n",
    "Create 2 new files named `\"ex_1a.txt\"` and `\"ex_1b.txt\"`, with the first one containing the numbers of the original file that are smaller than 500 and the other containing the ones that are bigger.\n",
    "\n",
    "Hints:\n",
    " - Remember to use strip when reading multiple lines.\n",
    " - You will have to convert lines from being strings to integers in order to be able to use comparison operators with them."
   ]
  },
  {
   "cell_type": "code",
   "execution_count": null,
   "metadata": {},
   "outputs": [],
   "source": []
  }
 ],
 "metadata": {
  "kernelspec": {
   "display_name": "Python 3",
   "language": "python",
   "name": "python3"
  },
  "language_info": {
   "codemirror_mode": {
    "name": "ipython",
    "version": 3
   },
   "file_extension": ".py",
   "mimetype": "text/x-python",
   "name": "python",
   "nbconvert_exporter": "python",
   "pygments_lexer": "ipython3",
   "version": "3.7.5"
  }
 },
 "nbformat": 4,
 "nbformat_minor": 4
}
