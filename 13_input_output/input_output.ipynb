{
 "cells": [
  {
   "cell_type": "markdown",
   "metadata": {},
   "source": [
    "# Input and Output\n",
    "\n",
    "The Python programs that you wrote so far, were using small amounts of fake data directly written into the program itself.\n",
    "\n",
    "In order to deal with real data it is fundamental to be able to let your Python program to interact with other files.\n",
    "You will have different types of text files containing your input data. This data has to be read by your Python program in order to be processed.\n",
    "Similarly, the processed output should not be simply shown on the screen using the `print()` **function**, but rather it should be saved to a new file.\n",
    "\n",
    "Python provides built-in **functions** for doing all of this."
   ]
  },
  {
   "cell_type": "markdown",
   "metadata": {},
   "source": [
    "### Escape characters\n",
    "\n",
    "**Escape characters** are special symbols used by Python to represent more complex text information than just characters.\n",
    "\n",
    "Every line of code in Python contains one instruction to be executed. If you split an instruction into two lines, it will result in an error."
   ]
  },
  {
   "cell_type": "code",
   "execution_count": null,
   "metadata": {},
   "outputs": [],
   "source": [
    "x = 1 +\n",
    "2"
   ]
  },
  {
   "cell_type": "markdown",
   "metadata": {},
   "source": [
    "This may be a problem if you want to write a **string** of text that contains multiple lines."
   ]
  },
  {
   "cell_type": "code",
   "execution_count": null,
   "metadata": {},
   "outputs": [],
   "source": [
    "x = \"hello\n",
    "world\""
   ]
  },
  {
   "cell_type": "markdown",
   "metadata": {},
   "source": [
    "Python provides the special character `\"\\n\"` to represent a \"new line\" in your **strings**. This is called an **escape characters**: it's a backslash `\\` followed by a regular character.\n",
    "\n",
    "**Escape characters** are recognized by Python as special and treated accordingly.\n",
    "Note how the `\"\\n\"` is exactly replaced by a new line when you print it."
   ]
  },
  {
   "cell_type": "code",
   "execution_count": null,
   "metadata": {},
   "outputs": [],
   "source": [
    "print(\"hello\\nworld\")\n",
    "print(\"escaping \\n characters\")"
   ]
  },
  {
   "cell_type": "markdown",
   "metadata": {},
   "source": [
    "New lines are not the only **escape characters** in Python.\n",
    "There are many more and they are used to easily represent complex text.\n",
    "\n",
    "Each **escape character** is exactly replaced independently from the adjacent characters. You can also have one **escape character** after the other."
   ]
  },
  {
   "cell_type": "code",
   "execution_count": null,
   "metadata": {},
   "outputs": [],
   "source": [
    "x = \"This is a \\ttab\"\n",
    "print(x)\n",
    "\n",
    "x = \"Mixing t and tabs t\\t\\tt\\t\"\n",
    "print(x)\n",
    "\n",
    "x = \"These are quotes \\' \\\"\"\n",
    "print(x)\n",
    "\n",
    "x = \"This is an\\n\\tindented text on a new line\"\n",
    "print(x)\n",
    "\n",
    "x = \"And finally backslashes \\\\\\\\\"\n",
    "print(x)"
   ]
  },
  {
   "cell_type": "markdown",
   "metadata": {},
   "source": [
    "### Reading from a file\n",
    "\n",
    "The simplest thing that you can do with a file is to read its content and use it in your program.\n",
    "\n",
    "In this directory there is a file named `dna.txt` that contains several DNA sequences.\n",
    "Let's open it and print its content."
   ]
  },
  {
   "cell_type": "code",
   "execution_count": null,
   "metadata": {},
   "outputs": [],
   "source": [
    "file_path = \"dna.txt\"\n",
    "with open(file_path, \"r\") as f:\n",
    "    x = f.read()\n",
    "    print(x)"
   ]
  },
  {
   "cell_type": "markdown",
   "metadata": {},
   "source": [
    "First of all you have to specify the file path, i.e. where Python can find your file of interest.\n",
    "In this case, specifying its name is enough as it is in the same directory as this file that you are executing.\n",
    "\n",
    "Then there is a Python statement that you have never seen so far, but it's very helpful when working with files.\n",
    "The `with` statement ends with the colon `:` and its body is indented.\n",
    "The reason why we use this statement is that, after a file is opened, it also must be closed or strange problems may occur.\n",
    "Unfortunately, closing a file is often forgotten.\n",
    "The statement will automatically close the file at the end of its body.\n",
    "\n",
    "This means that the block above is equivalent to the following\n",
    "\n",
    "    f = open(file_path, \"r\")\n",
    "    x = f.read()\n",
    "    print(x)\n",
    "    f.close()\n",
    "    \n",
    "As you can see, `open() as f` is equivalent to assigning the opened file to the variable `f`.\n",
    "Another advantage of the `with` statement is that allows to immediately identify where a file is closed, i.e. at the end of the indented block. \n",
    "\n",
    "`f` is an object of **class File** and the `open()` function allows to create it.\n",
    "The `open()` function takes 2 input argument: the path to a file and a character defining its \"mode\". In this case, the `\"r\"` character denotes that you want to only read the file.\n",
    "\n",
    "Within the statement body, you can use the **method** `read()` provided by the **class File**.\n",
    "This **method** will read the entire file and store it into a variable.\n",
    "\n",
    "Files are usually made of multiple lines and you may want to keep them separate. The **method** `readlines()` provided by the **class File** returns us a **list** where each element is a **string** corresponding to a particular line of the file."
   ]
  },
  {
   "cell_type": "code",
   "execution_count": null,
   "metadata": {},
   "outputs": [],
   "source": [
    "file_path = \"dna.txt\"\n",
    "with open(file_path, \"r\") as f:\n",
    "    x = f.readlines()\n",
    "    print(x)"
   ]
  },
  {
   "cell_type": "markdown",
   "metadata": {},
   "source": [
    "### File paths\n",
    "\n",
    "In order to use a file in your program you have to specify the so called file path.\n",
    "The file path is a string that tells Python which file you want to work with.\n",
    "In the simplest case, if the file is in the same directory as your Python program, it's sufficient to provide the name of the file as file path.\n",
    "\n",
    "If the file is not in the same directory as your Python program, things are a little bit more complicated.\n",
    "You have 2 alternative ways for specifying the path:\n",
    " - The **absolute path** is a path that starts from the root directory of your computer and traverses a bunch of directories until it reaches the desired file. It will be something like `/home/username/Downloads/filename.txt`. You can find the absolute path of a file by opening a terminal in the directory where the file is and executing the command `realpath FILENAME`, or with a right click on the file and checking its information. An absolute path in Linux always starts with the slash `/` symbol.\n",
    " - The **relative path** is a path that starts from the directory where your Python program is. For example if you have a directory named `files` that contains your file named `filename.txt`, the relative path will be `files/filename.txt`. Note how there is no slash `/` symbol at the beginning. "
   ]
  },
  {
   "cell_type": "markdown",
   "metadata": {},
   "source": [
    "### The `strip()` method\n",
    "\n",
    "When executing the blocks of code above, you can notice two things: the `read()` **method** returned you a multiline **string**, on the other hand the `readlines()` **method** returned you a **list** of lines where all the lines except the last one will have a `\\n` symbol at the end.\n",
    "\n",
    "This symbol denotes a new line and since you already splitted the file into different lines is most of the times just noise.\n",
    "\n",
    "The **class str** provides a convenient **method** for quickly eliminating these characters: `strip()`. This **method** will eliminate whitespaces, new lines or similar characters from the beginning and the end of a string."
   ]
  },
  {
   "cell_type": "code",
   "execution_count": null,
   "metadata": {},
   "outputs": [],
   "source": [
    "def show_stripped(text):\n",
    "    print(\"The text was: '\" + text +\"'\")\n",
    "    stripped_text = x.strip()\n",
    "    print(\"The stripped text is: '\" + stripped_text +\"'\")\n",
    "\n",
    "show_stripped(\"hello world \")\n",
    "print(\"----\")\n",
    "show_stripped(\"     hello world        \")\n",
    "print(\"----\")\n",
    "show_stripped(\"\\n hello world \\n\\n\\n\")"
   ]
  },
  {
   "cell_type": "markdown",
   "metadata": {},
   "source": [
    "If you try to open in read mode a file that does not exist, you will get an error."
   ]
  },
  {
   "cell_type": "code",
   "execution_count": null,
   "metadata": {},
   "outputs": [],
   "source": [
    "file_path = \"my_file.txt\"\n",
    "with open(file_path, \"r\") as f:\n",
    "    print(\"file opened\")"
   ]
  },
  {
   "cell_type": "markdown",
   "metadata": {},
   "source": [
    "### Exercise\n",
    "\n",
    "Define a function that takes as input a file path and returns a list of stripped lines.\n",
    "Test it on the `dna.txt` file.\n",
    "\n",
    "Hint: strings are immutable, that's why the strip method does not modify the object it is called on, but rather it returns a new, stripped, string."
   ]
  },
  {
   "cell_type": "code",
   "execution_count": null,
   "metadata": {},
   "outputs": [],
   "source": []
  },
  {
   "cell_type": "markdown",
   "metadata": {},
   "source": [
    "### Writing to a file\n",
    "\n",
    "The syntax for writing to a file, is very similar to the one for reading.\n",
    "\n",
    "When reading, you opened a file in mode `\"r\"`.\n",
    "There are two different modes that allow to write to a file:\n",
    " - write mode `\"w\"` will first erase the content of the file\n",
    " - append mode `\"a\"` will allow to keep writing at the end of a file while preserving its original content\n",
    " \n",
    "Note that when you try to open a file in mode `\"w\"` or `\"a\"`, if the file does not exist it will be automatically created."
   ]
  },
  {
   "cell_type": "code",
   "execution_count": null,
   "metadata": {},
   "outputs": [],
   "source": [
    "file_path = \"newfile\"\n",
    "\n",
    "print(\"**** Opening in write mode:\")\n",
    "with open(file_path, \"w\") as f:\n",
    "    f.write(\"hello \")\n",
    "    f.write(\"world\\n\")\n",
    "    f.write(\"some text in one line\\nsome text in another line\")\n",
    "    x = \"some interesting text\"\n",
    "    f.write(\"\\n\" + x)\n",
    "\n",
    "print(\"**** Opening in read mode\")\n",
    "with open(file_path, \"r\") as f:\n",
    "    print(f.read())\n",
    "\n",
    "print(\"**** Opening in write mode:\")\n",
    "with open(file_path, \"w\") as f:\n",
    "    f.write(\"hello \")\n",
    "    f.write(\"world\")\n",
    "\n",
    "print(\"**** Opening in read mode:\")\n",
    "with open(file_path, \"r\") as f:\n",
    "    print(f.read())\n",
    "    \n",
    "print(\"**** Opening in append mode:\")\n",
    "with open(file_path, \"a\") as f:\n",
    "    f.write(\"\\n\")\n",
    "    x = \"some interesting text\"\n",
    "    f.write(x)\n",
    "\n",
    "print(\"**** Opening in read mode:\")\n",
    "with open(file_path, \"r\") as f:\n",
    "    print(f.read())"
   ]
  },
  {
   "cell_type": "markdown",
   "metadata": {},
   "source": [
    "After you open a file in write or append mode, you can use the `write()` method to write some text at the end of it.\n",
    "Note that you must take care of adding new lines using `\"\\n\"` when you need it."
   ]
  },
  {
   "cell_type": "markdown",
   "metadata": {},
   "source": [
    "### Exercise\n",
    "\n",
    "Open the file `\"ex_1.txt\"`, which contains one number in each line.\n",
    "Create 2 new files named `\"ex_1a.txt\"` and `\"ex_1b.txt\"`, with the first one containing the numbers of the original file that are smaller than 500 and the other containing the ones that are bigger.\n",
    "\n",
    "Hints:\n",
    " - Remember to use strip when reading multiple lines.\n",
    " - You will have to convert lines from being strings to integers in order to be able to use comparison operators with them."
   ]
  },
  {
   "cell_type": "code",
   "execution_count": null,
   "metadata": {},
   "outputs": [],
   "source": []
  },
  {
   "cell_type": "markdown",
   "metadata": {},
   "source": [
    "### CSV and TSV files\n",
    "\n",
    "The acronyms **csv** and **tsv** stand for Comma Separated Values and Tab Separated Values.\n",
    "They identify what is probably the most common format of files in data science fields.\n",
    "An popular example of such files is what you generate from Excel or similar editors.\n",
    "\n",
    "\n",
    "So, what is a **csv** (or a **tsv**)?\n",
    "It's a raw text file representing a table.\n",
    "Since we are dealing with raw text files, it is not convenient to represent this table using a grid, as it's done within the Excel program, but rather special characters delimit rows and columns.\n",
    "Each line of the text file represents a row of the table, i.e. the  newline escape characters `\\n` is the delimiter between rows.\n",
    "Each row contains multiple values that can be separated by any particular value. Common choices are commas `,` or tabs `\\t`. That's where the names for these file formats come from,\n",
    "\n",
    "Note that the term **csv** is also used for any generic grid representation: if, according to your convention, columns of values are separated by a semicolon `;` or by the word `SEPARATOR`, this is still a valid CSV file and it can be easily processed by Python.\n",
    "\n",
    "\n",
    "In this directory you can see an example of a **csv**: the file named `data.csv`.\n",
    "\n",
    "Let's now see how to read **csv** files in Python."
   ]
  },
  {
   "cell_type": "code",
   "execution_count": null,
   "metadata": {},
   "outputs": [],
   "source": [
    "import csv\n",
    "\n",
    "with open('data.csv', \"r\") as f:\n",
    "    x = csv.reader(f, delimiter=',')\n",
    "    for row in x:\n",
    "        print(row)"
   ]
  },
  {
   "cell_type": "markdown",
   "metadata": {},
   "source": [
    "As you can see, first of all it's necessary to `open` the file, exactly as it was done before.\n",
    "\n",
    "In order to read from the file, it is necessary to create a reader object.\n",
    "This can be done using the `csv.reader()` function provided by the `csv` module.\n",
    "Since we are using a module, do not forget `import csv` at the beginning of your code!\n",
    "The `csv.reader()` function takes as input the opened file and the delimiter used to separate columns. You may notice that the delimiter parameter is passed in a particular way (i.e. by specifying `delimiter=` before the value). There is nothing magic about it: it's just a more advanced way for specifying input parameters that serves 2 scopes: it allows you to easily visualize what that second parameter corresponds to and also helps Python in understanding how to use it.\n",
    "\n",
    "What is returned from `csv.reader()` function is an iterable object, i.e. you can use a `for` loop on it.\n",
    "Each iteration of the loop, the loop variable will be assigned to a different row of the file.\n",
    "The row is represented as a list of strings.\n",
    "\n",
    "\n",
    "More details on the `csv` module can be found in its documentation\n",
    "https://docs.python.org/3/library/csv.html"
   ]
  },
  {
   "cell_type": "markdown",
   "metadata": {},
   "source": [
    "### Exercise\n",
    "\n",
    "Open the `data.csv` file.\n",
    "In this file the first element of each row represents the name of a sample, while all the other values in the row are results of different measurements on this sample.\n",
    "Find the sample where the mean of observed values is the highest.\n",
    "\n",
    "Hint: note that all the csv reader gives you a list of strings. Values will have to be converted to numbers, while the sample name does not."
   ]
  },
  {
   "cell_type": "code",
   "execution_count": null,
   "metadata": {},
   "outputs": [],
   "source": []
  },
  {
   "cell_type": "markdown",
   "metadata": {},
   "source": [
    "### CSV DictReader\n",
    "\n",
    "As you may have noticed, the `data.csv` file used above had a relevant problem: columns where not labeled.\n",
    "This required some prior knowledge about what the value of each column means.\n",
    "\n",
    "The first row of a csv file can be used as an header, i.e. it provides labels for all the columns.\n",
    "This allows to represents the csv as many dictionaries instead of lists.\n",
    "Each dictionary represents a row where keys are all the labels and values are all the elements in that row.\n",
    "\n",
    "In order to deal with csv with headers, a different function should be used: `csv.DictReader()`.\n",
    "This function has capital letters, so it's a constructor for an object of type `DictReader`."
   ]
  },
  {
   "cell_type": "code",
   "execution_count": null,
   "metadata": {},
   "outputs": [],
   "source": [
    "import csv\n",
    "\n",
    "with open('data_with_header.csv', \"r\") as f:\n",
    "    x = csv.DictReader(f, delimiter=';')\n",
    "    for row in x:\n",
    "        print(row['sample'])"
   ]
  },
  {
   "cell_type": "markdown",
   "metadata": {},
   "source": [
    "### Exercise\n",
    "\n",
    "The `data_with_header.csv` file contains the same data as `data.csv`, with the addition of an header as first row.\n",
    "\n",
    "Find the sample for which the following expression has the smallest value: `x + z/y`.\n",
    "\n",
    "Hint: note that the file uses `;` as separator."
   ]
  },
  {
   "cell_type": "code",
   "execution_count": null,
   "metadata": {},
   "outputs": [],
   "source": []
  },
  {
   "cell_type": "markdown",
   "metadata": {},
   "source": [
    "### Exercise\n",
    "\n",
    "Download the `Processed nylon microarray data` from https://bioinformatics.mdanderson.org/Supplements/Datasets/Threeway/index.html (get both the normalized array data and the annotations).\n",
    "\n",
    "Load both files in Python.\n",
    "\n",
    "Remove from the normalized array data all the entries for which there is not a corresponding annotation."
   ]
  },
  {
   "cell_type": "code",
   "execution_count": null,
   "metadata": {},
   "outputs": [],
   "source": []
  }
 ],
 "metadata": {
  "kernelspec": {
   "display_name": "Python 3",
   "language": "python",
   "name": "python3"
  },
  "language_info": {
   "codemirror_mode": {
    "name": "ipython",
    "version": 3
   },
   "file_extension": ".py",
   "mimetype": "text/x-python",
   "name": "python",
   "nbconvert_exporter": "python",
   "pygments_lexer": "ipython3",
   "version": "3.7.5"
  }
 },
 "nbformat": 4,
 "nbformat_minor": 4
}
