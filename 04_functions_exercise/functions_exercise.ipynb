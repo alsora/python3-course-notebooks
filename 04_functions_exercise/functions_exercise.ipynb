{
 "cells": [
  {
   "cell_type": "markdown",
   "metadata": {},
   "source": [
    "# Exercise\n",
    "\n",
    "Write the body of a function `passport_is_valid()` that checks the details of a visitor and decides if he can enter the country.\n",
    "\n",
    "Hint: Maximillion shall not pass the control."
   ]
  },
  {
   "cell_type": "code",
   "execution_count": null,
   "metadata": {},
   "outputs": [],
   "source": [
    "def passport_is_valid(name, surname, age, country):\n",
    "    # Visitors from Italy are always welcome.\n",
    "    # A Visitor from another country can be admitted only\n",
    "    # if the sum of the letters in his name and surname \n",
    "    # is less than 20 characters.\n",
    "    # Visitors older than 30 must be from the United States of America, \n",
    "    # while younger visitors have no nationality restrictions.\n",
    "    ## Write here the body of `passport_is_valid` function.\n",
    "\n",
    "\n",
    "def control(n, s, a, c):\n",
    "    if passport_is_valid(n, s, a, c):\n",
    "        print(\"Welcome mr.\" + s)\n",
    "    else:\n",
    "        print(\"Go back to your country\", n, s)\n",
    "\n",
    "# First passenger details\n",
    "name_1 = \"Max\"\n",
    "surname_1 = \"Power\"\n",
    "age_1 = 43\n",
    "country_1 = \"USA\"\n",
    "\n",
    "control(name_1, surname_1, age_1, country_1)\n",
    "\n",
    "# Second passenger details\n",
    "name_2 = \"Maximillion\"\n",
    "surname_2 = \"PegasusJunior\"\n",
    "age_2 = 17\n",
    "country_2 = \"FR\"\n",
    "\n",
    "control(name_2, surname_2, age_2, country_2)\n",
    "\n",
    "# Third passenger details\n",
    "name_3 = \"Gino\"\n",
    "surname_3 = \"Pietrucci\"\n",
    "age_3 = 58\n",
    "country_3 = \"ITA\"\n",
    "\n",
    "control(name_3, surname_3, age_3, country_3)"
   ]
  }
 ],
 "metadata": {
  "kernelspec": {
   "display_name": "Python 3",
   "language": "python",
   "name": "python3"
  },
  "language_info": {
   "codemirror_mode": {
    "name": "ipython",
    "version": 3
   },
   "file_extension": ".py",
   "mimetype": "text/x-python",
   "name": "python",
   "nbconvert_exporter": "python",
   "pygments_lexer": "ipython3",
   "version": "3.7.5"
  }
 },
 "nbformat": 4,
 "nbformat_minor": 4
}
