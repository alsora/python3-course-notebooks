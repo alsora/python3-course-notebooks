{
 "cells": [
  {
   "cell_type": "markdown",
   "metadata": {},
   "source": [
    "# Exercise\n",
    "\n",
    "Write the body of a **function** `passport_is_valid()` that checks the details of a visitor and decides if he can enter the country.\n",
    "Note that you only have to write code in the body of the **function** and in no other areas.\n",
    "\n",
    "Hints: \n",
    " - Elon and Maximillion shall not pass the control.\n",
    " - Think about what the return type of the `passport_is_valid()` **function** shall be"
   ]
  },
  {
   "cell_type": "code",
   "execution_count": null,
   "metadata": {},
   "outputs": [],
   "source": [
    "def passport_is_valid(name, surname, age, country):\n",
    "    # Visitors from Italy are always welcome.\n",
    "    # A Visitor from another country can be admitted only\n",
    "    # if the sum of the letters in his name and surname \n",
    "    # is less than 20 characters.\n",
    "    # Visitors older than 30 must be from the United States of America, \n",
    "    # while younger visitors have no nationality restrictions.\n",
    "    ## Write here the body of `passport_is_valid` function.\n",
    "\n",
    "\n",
    "def control(n, s, a, c):\n",
    "    if passport_is_valid(n, s, a, c):\n",
    "        print(\"Welcome mr.\" + s)\n",
    "    else:\n",
    "        print(\"Go back to your country\", n, s)\n",
    "\n",
    "# First passenger check\n",
    "control(\"Elon\", \"Tusk\", 31, \"GB\")\n",
    "\n",
    "# Second passenger check\n",
    "control(\"Maximillion\", \"PegasusJunior\", 17, \"FR\")\n",
    "\n",
    "# Third passenger check\n",
    "control(\"Gino\", \"Pietrucci\", 58, \"ITA\")\n",
    "\n",
    "# Fourth passenger check\n",
    "control(\"Max\", \"Power\", 43, \"USA\")"
   ]
  }
 ],
 "metadata": {
  "kernelspec": {
   "display_name": "Python 3",
   "language": "python",
   "name": "python3"
  },
  "language_info": {
   "codemirror_mode": {
    "name": "ipython",
    "version": 3
   },
   "file_extension": ".py",
   "mimetype": "text/x-python",
   "name": "python",
   "nbconvert_exporter": "python",
   "pygments_lexer": "ipython3",
   "version": "3.8.2"
  }
 },
 "nbformat": 4,
 "nbformat_minor": 4
}
