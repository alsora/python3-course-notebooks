{
 "cells": [
  {
   "cell_type": "markdown",
   "metadata": {},
   "source": [
    "# Loops\n",
    "\n",
    "The `if` statement is used to conditionally execute some parts of the code.\n",
    "\n",
    "Another common requirement for a Python program is to repeat some operations multipe times. This is done with **loop** statements.\n",
    "\n",
    "As the `if` statements deal with **boolean** variables, the **loop** statements usually deal with containers like **lists**."
   ]
  },
  {
   "cell_type": "markdown",
   "metadata": {},
   "source": [
    "### The `for` loop\n",
    "\n",
    "In the previous lesson you wrote code to perform operations on every element of a list; however, this is a very repetitive task: you can do it if your list has a small number of elements, but it would become unsustainable in case of hundreds or thousands of elements."
   ]
  },
  {
   "cell_type": "code",
   "execution_count": null,
   "metadata": {},
   "outputs": [],
   "source": [
    "a = [1, 8, 64]\n",
    "\n",
    "x = a[0]\n",
    "print(x)\n",
    "x = a[1]\n",
    "print(x)\n",
    "x = a[2]\n",
    "print(x)"
   ]
  },
  {
   "cell_type": "markdown",
   "metadata": {},
   "source": [
    "Here is where the `for` loop statement comes into help.\n",
    "A `for` loop requires a list of elements and it is based on the concept of iterations.\n",
    "An iteration consists in executing the code that is in the body of the statement using one of the element in the list.\n",
    "The `for` loop goes through all the elements in the list one after the other, according to their order (i.e. their index).\n",
    "The `for` loop runs many iterations as the number of elements in the list.\n",
    "\n",
    "The body of a `for` loop is like the body of a function that is called on every element in the list, one by one.\n",
    "Note that the whole body is called on one element before proceeding to the next one."
   ]
  },
  {
   "cell_type": "code",
   "execution_count": null,
   "metadata": {},
   "outputs": [],
   "source": [
    "def divide(z):\n",
    "    return z / 2\n",
    "\n",
    "my_list = [1, 8, 64]\n",
    "for x in my_list:\n",
    "    print(\"This iteration is working with\", x)\n",
    "    half_x = divide(x)\n",
    "    print(\"The result is\", half_x)"
   ]
  },
  {
   "cell_type": "markdown",
   "metadata": {},
   "source": [
    "A `for` loop is characterized by:\n",
    " - the `for` keyword\n",
    " - a loop variable (`x` in the example above), i.e. a name to be used to refer to the current element in the **list** in turn\n",
    " - the **list** we want to work on\n",
    " - a body that does some work using the loop variable\n",
    "\n",
    "You can note the similarities betwen the `for` and the other statements: you need a colon `:` at the end of the first line and the body must be indented.\n",
    "\n",
    "The first line of the `for` statement always defines a so called loop variable.\n",
    "This variable is a place-holder and it allows to use values from the list in the statement body, using the same concept as **input parameters** of functions allow to use external values into the function body.\n",
    "\n",
    "The first iteration will assign the first element of the list to the loop variable and then it will execute the body of the `for` loop using that value. After the execution of the whole body, the successive iteration will start and the successive element in the list will be automatically assigned to the loop variable. This will continue until all the elements in the list have been processed.\n",
    "\n",
    "The name of this variable is not relevant, simply be careful to not use a name that is already used by some other variable in the code."
   ]
  },
  {
   "cell_type": "markdown",
   "metadata": {},
   "source": [
    "### Exercise\n",
    "\n",
    "Define a function that given an input number, returns the number itself if it's positive or `0` if the input number is negative.\n",
    "Use a `for` loop to call the function on every value in the input list and to print all the results."
   ]
  },
  {
   "cell_type": "code",
   "execution_count": null,
   "metadata": {},
   "outputs": [],
   "source": [
    "# Input list\n",
    "x = [1, 0, -2, -4, 5]"
   ]
  },
  {
   "cell_type": "markdown",
   "metadata": {},
   "source": [
    "### Exercise\n",
    "\n",
    "Define a function that takes a list as input argument and returns the sum of its elements. Call it on both input lists.\n",
    "\n",
    "Hint: you need to use a counter to incrementally keep track of the sum"
   ]
  },
  {
   "cell_type": "code",
   "execution_count": null,
   "metadata": {},
   "outputs": [],
   "source": [
    "# Input data\n",
    "x = [100, 1000, 10]\n",
    "y = [1, 1]"
   ]
  },
  {
   "cell_type": "markdown",
   "metadata": {},
   "source": [
    "### How to use `for` loops effectively\n",
    "\n",
    "A `for` loop can be used for a wide variety of reasons and most of the times it's invetibale when working with a **list**. Remember that it allows to do an operation multiple times, using all the elements of a list.\n",
    "Examples of use-cases are:\n",
    "\n",
    " - To call a function on every element of a container.\n",
    " - To update an external value multiple times according to the elements of a container."
   ]
  },
  {
   "cell_type": "code",
   "execution_count": null,
   "metadata": {},
   "outputs": [],
   "source": [
    "a = 0\n",
    "for x in [1, 2, 3]:\n",
    "    a = a + x # Update an external variable\n",
    "    print(x) # Call a function on the current element"
   ]
  },
  {
   "cell_type": "markdown",
   "metadata": {},
   "source": [
    "### Controlling the flow of a loop\n",
    "\n",
    "As we have seen, Python supports multiple levels of indentation. This means that you can have a statement inside a statement inside a statement inside a statement...\n",
    "\n",
    "You can combine together statements of different types, i.e. `for` and `if`."
   ]
  },
  {
   "cell_type": "code",
   "execution_count": null,
   "metadata": {},
   "outputs": [],
   "source": [
    "a = [10, 100, 1000]\n",
    "\n",
    "for x in a:\n",
    "    if x == 10:\n",
    "        print(\"The value is 10\")\n",
    "    else:\n",
    "        print(\"The value is not 10\")"
   ]
  },
  {
   "cell_type": "markdown",
   "metadata": {},
   "source": [
    "### Exercise\n",
    "\n",
    "Define a function that takes a list as argument and returns the sum of all the elements with a value between 5 and 9."
   ]
  },
  {
   "cell_type": "code",
   "execution_count": null,
   "metadata": {},
   "outputs": [],
   "source": [
    "# Input lists\n",
    "a = [1, 2, 3, 4, 5, 6, 7, 8, 9, 10]\n",
    "b = [6]"
   ]
  },
  {
   "cell_type": "markdown",
   "metadata": {},
   "source": [
    "### More flow control\n",
    "\n",
    "It is also possible to use `if` statements inside `for` loops to skip iterations or to terminate the loop early when some particular condition is satisfied.\n",
    "\n",
    "This is done using the keywords `continue` and `break`.\n",
    " - `continue` ends the current iteration and makes the loop to continue with the next one.\n",
    " - `break` ends the current iteration and terminates the loop, ignoring remaining elements in the container.\n",
    " \n",
    "Note how both keywords stops the current iteration. Similarly to `return` in a function, the lines after a `continue` or `break` are not executed."
   ]
  },
  {
   "cell_type": "code",
   "execution_count": null,
   "metadata": {},
   "outputs": [],
   "source": [
    "a = [10, 20, 30, 40, 50]\n",
    "\n",
    "print(\"Start the loop\")\n",
    "\n",
    "for x in a:\n",
    "    print(\"Start of iteration with x =\", x)\n",
    "    if x == 20:\n",
    "        continue # If this line is executed, we stop the current iteration and we start the next one\n",
    "    if x == 40:\n",
    "        break # If this line is executed, we stop the loop\n",
    "    print(\"End of iteration with x =\", x)\n",
    "    \n",
    "print(\"End of the loop\")"
   ]
  },
  {
   "cell_type": "markdown",
   "metadata": {},
   "source": [
    "The `continue` and `break` keyword **must** always be within an `if` statement.\n",
    "\n",
    "The motivation is similar to when you have multiple `return` in a function body: lines after them are not executed, so this has to happen only in some situations, not always."
   ]
  },
  {
   "cell_type": "code",
   "execution_count": null,
   "metadata": {},
   "outputs": [],
   "source": [
    "a = [10, 20, 30, 40, 50]\n",
    "\n",
    "# Lines after a `continue` are not executed, so this loop is\n",
    "# equivalent to one with only the first line\n",
    "for x in a:\n",
    "    print(\"I'm doing something with\", x)\n",
    "    continue\n",
    "    print(\"I'm doing something else with\", x)\n",
    "    \n",
    "print(\"-----\")    \n",
    "\n",
    "# A `break` stop the execution of the loop.\n",
    "# This is not really a loop, but it's equivalent to call the first line with the first element of the list\n",
    "for x in a:\n",
    "    print(\"I'm doing such crazy things with\", x)\n",
    "    break.\n",
    "    print(\"I'm doing bad things with\", x)"
   ]
  },
  {
   "cell_type": "markdown",
   "metadata": {},
   "source": [
    "### Exercise\n",
    "\n",
    "Define a function that concatenates strings until the `\"TAG\"` symbol is found.\n",
    "\n",
    "Hints:\n",
    " - String concatenation is obtained using the `+` operator with strings: `x = \"a\" + \"bc\" + \"d\"` will result in `x = \"abcd\"`.\n",
    " - This exercise is almost equivalent to summing all the elements in a list using a counter variable, but now the \"counter\" will be a string, not an integer number. How should you initialize it?"
   ]
  },
  {
   "cell_type": "code",
   "execution_count": null,
   "metadata": {},
   "outputs": [],
   "source": [
    "# Input list\n",
    "sequence = ['CAG','TAC','CAA','TAG','TAC','CAG','CAA']"
   ]
  },
  {
   "cell_type": "markdown",
   "metadata": {},
   "source": [
    "### Exercise\n",
    "\n",
    "Define a function that plays Black Jack: it should draw cards from the deck until the sum of the points of the cards drawn is either 21 or more.\n",
    "If the sum is exactly 21, the game is won, otherwise it's lost.\n",
    "The function should return whether the game was won or not."
   ]
  },
  {
   "cell_type": "code",
   "execution_count": null,
   "metadata": {},
   "outputs": [],
   "source": [
    "# Draw cards in order from the deck\n",
    "deck = [5, 10, 1, 1, 3, 8, 10, 6, 7, 10]"
   ]
  },
  {
   "cell_type": "markdown",
   "metadata": {},
   "source": [
    "### Nested `for` loops\n",
    "\n",
    "You can have a `for` loop from inside a `for` loop. These are called nested loops.\n",
    "\n",
    "Remember that, for each element in the container, the whole body of a loop is excuted once.\n",
    "This will result in restarting the inner loop in every new iteration of the outer loop.\n",
    "\n",
    "The `continue` and `break` keywords can be used also with nested loops, but keep in mind that they will only apply to the body of the specific loop that is containing them."
   ]
  },
  {
   "cell_type": "code",
   "execution_count": null,
   "metadata": {},
   "outputs": [],
   "source": [
    "for x in [1, 2, 3]:\n",
    "    print(\"outer loop:\", x)\n",
    "    for y in [10, 20, 30]:\n",
    "        print(\"inner loop:\", y, \"and outer loop:\", x)\n",
    "    \n",
    "print(\"------\")\n",
    "\n",
    "for x in [10, 20, 30, 40]:\n",
    "    print(\"outer loop:\", x)\n",
    "    if x == 30:\n",
    "        continue\n",
    "    for y in [1, 2, 3, 4]:\n",
    "        print(\"inner loop:\", y, \"and outer loop:\", x)\n",
    "        if x > 10 and y == 2:\n",
    "            break\n",
    "    print(\"end of outer loop:\", x)"
   ]
  },
  {
   "cell_type": "markdown",
   "metadata": {},
   "source": [
    "### Exercise\n",
    "\n",
    "Define a function that given 2 input numbers returns the smallest.\n",
    "Call this function on every possible pair of X-Y values and sum together all the returned values.\n",
    "\n",
    "Hints: \n",
    " - Use a nested `for` loop to call the function on every pair and a counter to keep track of the sum\n",
    " - The result is 38"
   ]
  },
  {
   "cell_type": "code",
   "execution_count": null,
   "metadata": {},
   "outputs": [],
   "source": [
    "# Problem data\n",
    "x_values = [2, 5, 8]\n",
    "y_values = [4, 19, 4, 1]"
   ]
  },
  {
   "cell_type": "markdown",
   "metadata": {},
   "source": [
    "### Exercise\n",
    "\n",
    "Write a block of code that does the following task:\n",
    "for each `x` value, this has to be multiplied with each of the `y` values.\n",
    "For each `x` value, it should also check if the sum of all these products is greater than the threshold and print a message accordingly.\n",
    "\n",
    "Hints:\n",
    " - Use a nested `for` loop and a counter.\n",
    " - Try to understand the key difference between this execise and the previous one, in particular **where the counter should be initialized**.\n",
    " - Only the first two `x` values (`4` and `6.28`) will have a sum of products greater than the threshold"
   ]
  },
  {
   "cell_type": "code",
   "execution_count": null,
   "metadata": {},
   "outputs": [],
   "source": [
    "# Problem data\n",
    "x_values = [4, 6.28, 2, 0.5]\n",
    "y_values = [0.1, 3, 7, -3.1, 2.6]\n",
    "threshold = 20"
   ]
  }
 ],
 "metadata": {
  "kernelspec": {
   "display_name": "Python 3",
   "language": "python",
   "name": "python3"
  },
  "language_info": {
   "codemirror_mode": {
    "name": "ipython",
    "version": 3
   },
   "file_extension": ".py",
   "mimetype": "text/x-python",
   "name": "python",
   "nbconvert_exporter": "python",
   "pygments_lexer": "ipython3",
   "version": "3.7.5"
  }
 },
 "nbformat": 4,
 "nbformat_minor": 4
}
