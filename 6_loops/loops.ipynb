{
 "cells": [
  {
   "cell_type": "markdown",
   "metadata": {},
   "source": [
    "# Loops\n",
    "\n",
    "The **if-else** statement is used for deciding which parts of the code to execute.\n",
    "\n",
    "However, often it's required to run the same part of the code multiple times. This is done with loops.\n",
    "\n",
    "Loops are a different type of statements. Where **if-else** deals mainly with boolean variables, the loops usually deal with **lists**."
   ]
  },
  {
   "cell_type": "markdown",
   "metadata": {},
   "source": [
    "### The for loop\n",
    "\n",
    "You may have noticed that writing code for lists in the previous lesson was quite repetitive: it can make sense if your list has a small number of elements, but it would become unusable in case of hundreds or thousands of elements.\n",
    "\n",
    "Here is where the **for** loop statement comes into help.\n",
    "A **for** loop requires a list of elements and it is based on the concept of iterations.\n",
    "An iteration consists in running the whole body of the statement on one of the elements in the list.\n",
    "The **for** loop runs many iterations as the number of elements in the list.\n",
    "\n",
    "The **for** loop statement has some similarities with the **if-else**: you need to write the `:` at the end of the line and its body must be indented.\n",
    "\n",
    "The loop allows to define a temporary variable, `x` in the next code cell.\n",
    "This variable is a place-holder, as the argument in a function definition.\n",
    "At every iteration, the place-holder will take the value of one of the elements in the list."
   ]
  },
  {
   "cell_type": "code",
   "execution_count": null,
   "metadata": {},
   "outputs": [],
   "source": [
    "def divide(z):\n",
    "    print(z / 2)\n",
    "\n",
    "for x in [1, 8, 64]:\n",
    "    print(\"processing\", x)\n",
    "    divide(x)    \n",
    "    \n",
    "a = [10, 100, 1000]\n",
    "for g in a:\n",
    "    divide(g)"
   ]
  },
  {
   "cell_type": "markdown",
   "metadata": {},
   "source": [
    "### Exercise\n",
    "\n",
    "Write a function that takes a list as argument and prints all the elements with a value between 5 and 10"
   ]
  },
  {
   "cell_type": "code",
   "execution_count": null,
   "metadata": {},
   "outputs": [],
   "source": [
    "# Input lists\n",
    "a = [1, 2, 3, 4, 5, 6, 7, 8, 9, 10]\n",
    "b = [6]"
   ]
  },
  {
   "cell_type": "markdown",
   "metadata": {},
   "source": [
    "### Exercise\n",
    "\n",
    "Write a function that takes a DNA sequence as argument and returns its complementary sequence: adenine (A) must be substituted with thymine (T) and vice versa, while guanine (G) must be substituted with cytosine (C) and vice versa."
   ]
  },
  {
   "cell_type": "code",
   "execution_count": null,
   "metadata": {},
   "outputs": [],
   "source": [
    "# Input DNA sequence\n",
    "dna = \"ACTGATCGATTA\""
   ]
  },
  {
   "cell_type": "markdown",
   "metadata": {},
   "source": [
    "### Controlling the flow of a loop\n",
    "\n",
    "As we have seen, Python supports multiple levels of indentation. This means that you can have a statement inside a statement inside a statement inside a statement...\n",
    "\n",
    "You can combine together statements of different types, i.e. **for** and **if-else**"
   ]
  },
  {
   "cell_type": "code",
   "execution_count": null,
   "metadata": {},
   "outputs": [],
   "source": [
    "a = [10, 100, 1000]\n",
    "\n",
    "for x in a:\n",
    "    if x == 10:\n",
    "        print(\"The value is 10\")\n",
    "    else:\n",
    "        print(\"The value is not 10\")"
   ]
  },
  {
   "cell_type": "markdown",
   "metadata": {},
   "source": [
    "### Exercise\n",
    "\n",
    "Write a function that takes a list as input. If the list has more than 2 elements it should return the sum of all its elements, otherwise it should return the value of the first element."
   ]
  },
  {
   "cell_type": "code",
   "execution_count": null,
   "metadata": {},
   "outputs": [],
   "source": [
    "# Input lists\n",
    "a = [1, 2, 3, 4]\n",
    "b = [10]\n",
    "c = [10, 20, 30]"
   ]
  },
  {
   "cell_type": "markdown",
   "metadata": {},
   "source": [
    "### More flow control\n",
    "\n",
    "Using **if-else** statements inside **for** loops allows to skip iterations or to terminate the loop early when some particular condition is satisfied.\n",
    "\n",
    "This is done using the keywords `continue` and `break`.\n",
    "Try to understand how they work from the next example"
   ]
  },
  {
   "cell_type": "code",
   "execution_count": null,
   "metadata": {},
   "outputs": [],
   "source": [
    "a = [10, 20, 30, 40, 50]\n",
    "\n",
    "for x in a:\n",
    "    print(\"Starting iteration with x =\", x)\n",
    "    if x == 20:\n",
    "        continue\n",
    "    if x == 40:\n",
    "        break\n",
    "    print(\"Ending iteration with x =\", x)"
   ]
  },
  {
   "cell_type": "markdown",
   "metadata": {},
   "source": [
    "### Exercise\n",
    "\n",
    "Write a function that plays Black Jack: it should draw cards from the deck until the sum of the points of the cards drawn is either 21 or more.\n",
    "If it's 21 it should print a victory message, otherwise the game is lost."
   ]
  },
  {
   "cell_type": "code",
   "execution_count": null,
   "metadata": {},
   "outputs": [],
   "source": [
    "deck = [5, 10, 1, 1, 3, 8, 10, 6, 7, 10]"
   ]
  }
 ],
 "metadata": {
  "kernelspec": {
   "display_name": "Python 3",
   "language": "python",
   "name": "python3"
  },
  "language_info": {
   "codemirror_mode": {
    "name": "ipython",
    "version": 3
   },
   "file_extension": ".py",
   "mimetype": "text/x-python",
   "name": "python",
   "nbconvert_exporter": "python",
   "pygments_lexer": "ipython3",
   "version": "3.7.5"
  }
 },
 "nbformat": 4,
 "nbformat_minor": 4
}
