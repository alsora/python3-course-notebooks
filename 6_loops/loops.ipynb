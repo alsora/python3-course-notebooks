{
 "cells": [
  {
   "cell_type": "markdown",
   "metadata": {},
   "source": [
    "# Loops\n",
    "\n",
    "The `if` statement is used for deciding which parts of the code to execute.\n",
    "\n",
    "Another common requirement for a Python program is to repeat some operations multipe times. This is done with **loop** statements.\n",
    "\n",
    "As the `if` statements deal with boolean variables, the **loop** statements usually deal with **containers** like **lists**."
   ]
  },
  {
   "cell_type": "markdown",
   "metadata": {},
   "source": [
    "### The `for` loop\n",
    "\n",
    "You may have noticed that writing code with lists in the previous lesson was quite repetitive: you can still do it if your list has a small number of elements, but it would become unsustainable in case of hundreds or thousands of elements.\n",
    "\n",
    "Here is where the `for` loop statement comes into help.\n",
    "A `for` loop requires a list of elements and it is based on the concept of iterations.\n",
    "An iteration consists in executing the code that is in the body of the statement using one of the element in the list.\n",
    "The `for` loop goes through all the elements in the list one by one according to their order.\n",
    "The `for` loop runs many iterations as the number of elements in the list."
   ]
  },
  {
   "cell_type": "code",
   "execution_count": null,
   "metadata": {},
   "outputs": [],
   "source": [
    "def divide(z):\n",
    "    print(z / 2)\n",
    "\n",
    "a = [1, 8, 64]\n",
    "for x in a:\n",
    "    print(\"processing\", x)\n",
    "    divide(x)"
   ]
  },
  {
   "cell_type": "markdown",
   "metadata": {},
   "source": [
    "A `for` loop is specified by:\n",
    " - the `for` keyword\n",
    " - a variable name to be used to refer to the current element in the list in turn\n",
    " - the list we want to work on\n",
    "\n",
    "Then, the rest of the `for` loop statement is similar to the `if` statement.\n",
    "You need to write the colon `:` at the end of the first line and its body must be indented.\n",
    "\n",
    "The first line of the loop defines a variable.\n",
    "This variable is a place-holder and it allows to use values from the list in the statement body. \n",
    "This variable behaves similar to input arguments of functions: you don't have to assign a value to it, because this will be done automatically at the beginning of every iteration by using each element of the list in turn."
   ]
  },
  {
   "cell_type": "markdown",
   "metadata": {},
   "source": [
    "### Exercise\n",
    "\n",
    "Write a function that takes a list as input argument and prints a message for each value in it."
   ]
  },
  {
   "cell_type": "code",
   "execution_count": null,
   "metadata": {},
   "outputs": [],
   "source": [
    "# Input data\n",
    "x = [100, 1000, 10]"
   ]
  },
  {
   "cell_type": "markdown",
   "metadata": {},
   "source": [
    "### Controlling the flow of a loop\n",
    "\n",
    "As we have seen, Python supports multiple levels of indentation. This means that you can have a statement inside a statement inside a statement inside a statement...\n",
    "\n",
    "You can combine together statements of different types, i.e. `for` and `if`."
   ]
  },
  {
   "cell_type": "code",
   "execution_count": null,
   "metadata": {},
   "outputs": [],
   "source": [
    "a = [10, 100, 1000]\n",
    "\n",
    "for x in a:\n",
    "    if x == 10:\n",
    "        print(\"The value is 10\")\n",
    "    else:\n",
    "        print(\"The value is not 10\")"
   ]
  },
  {
   "cell_type": "markdown",
   "metadata": {},
   "source": [
    "### Exercise\n",
    "\n",
    "Write a function that takes a list as argument and prints all the elements with a value between 5 and 10"
   ]
  },
  {
   "cell_type": "code",
   "execution_count": null,
   "metadata": {},
   "outputs": [],
   "source": [
    "# Input lists\n",
    "a = [1, 2, 3, 4, 5, 6, 7, 8, 9, 10]\n",
    "b = [6]"
   ]
  },
  {
   "cell_type": "markdown",
   "metadata": {},
   "source": [
    "### Exercise\n",
    "\n",
    "Write a function that takes a list as input. If the list has more than 2 elements it should return the sum of all its elements, otherwise it should return the value of the first element."
   ]
  },
  {
   "cell_type": "code",
   "execution_count": null,
   "metadata": {},
   "outputs": [],
   "source": [
    "# Input lists\n",
    "a = [1, 2, 3, 4]\n",
    "b = [10]\n",
    "c = [10, 20, 30]"
   ]
  },
  {
   "cell_type": "markdown",
   "metadata": {},
   "source": [
    "### Nested `for` loop\n",
    "\n",
    "You can start a new loop from inside a loop.\n",
    "This will result in restarting the inner loop for all the times required by the outer."
   ]
  },
  {
   "cell_type": "code",
   "execution_count": null,
   "metadata": {},
   "outputs": [],
   "source": [
    "for x in [1, 2, 3]:\n",
    "    print(\"outer loop:\", x)\n",
    "    for y in [10, 20, 30]:\n",
    "        print(\"inner loop:\", y, \" and outer loop:\", x)"
   ]
  },
  {
   "cell_type": "markdown",
   "metadata": {},
   "source": [
    "### Exercise\n",
    "\n",
    "Write a block of code that sums all the products of an `x` value with each of the `y` values.\n",
    "Then it should check if that sum is greater than the threshold.\n",
    "\n",
    "Hint: try using a `for` loop within another `for` loop."
   ]
  },
  {
   "cell_type": "code",
   "execution_count": null,
   "metadata": {},
   "outputs": [],
   "source": [
    "# Problem data\n",
    "x_values = [4, 6.28, 2, 0.5]\n",
    "y_values = [0.1, 3, 7, -3.1, 2.6]\n",
    "threshold = 20"
   ]
  },
  {
   "cell_type": "markdown",
   "metadata": {},
   "source": [
    "### More flow control\n",
    "\n",
    "Using `if` statements inside `for` loops allows to skip iterations or to terminate the loop early when some particular condition is satisfied.\n",
    "\n",
    "This is done using the keywords `continue` and `break`.\n",
    "Try to understand how they work from the next example"
   ]
  },
  {
   "cell_type": "code",
   "execution_count": null,
   "metadata": {},
   "outputs": [],
   "source": [
    "a = [10, 20, 30, 40, 50]\n",
    "\n",
    "for x in a:\n",
    "    print(\"Starting iteration with x =\", x)\n",
    "    if x == 20:\n",
    "        continue\n",
    "    if x == 40:\n",
    "        break\n",
    "    print(\"Ending iteration with x =\", x)"
   ]
  },
  {
   "cell_type": "markdown",
   "metadata": {},
   "source": [
    "### Exercise\n",
    "\n",
    "Write a function that plays Black Jack: it should draw cards from the deck until the sum of the points of the cards drawn is either 21 or more.\n",
    "If it's 21 it should print a victory message, otherwise the game is lost."
   ]
  },
  {
   "cell_type": "code",
   "execution_count": null,
   "metadata": {},
   "outputs": [],
   "source": [
    "# Draw cards in order from the deck\n",
    "deck = [5, 10, 1, 1, 3, 8, 10, 6, 7, 10]"
   ]
  }
 ],
 "metadata": {
  "kernelspec": {
   "display_name": "Python 3",
   "language": "python",
   "name": "python3"
  },
  "language_info": {
   "codemirror_mode": {
    "name": "ipython",
    "version": 3
   },
   "file_extension": ".py",
   "mimetype": "text/x-python",
   "name": "python",
   "nbconvert_exporter": "python",
   "pygments_lexer": "ipython3",
   "version": "3.7.5"
  }
 },
 "nbformat": 4,
 "nbformat_minor": 4
}
