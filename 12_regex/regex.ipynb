{
 "cells": [
  {
   "cell_type": "markdown",
   "metadata": {},
   "source": [
    "# Regular Expressions\n",
    "\n"
   ]
  },
  {
   "cell_type": "markdown",
   "metadata": {},
   "source": [
    "### Escape characters\n",
    "\n",
    "Every line of code in Python contains one instruction to be executed. If you split an instruction into two lines, it will result in an error."
   ]
  },
  {
   "cell_type": "code",
   "execution_count": null,
   "metadata": {},
   "outputs": [],
   "source": [
    "x = 1 +\n",
    "2"
   ]
  },
  {
   "cell_type": "markdown",
   "metadata": {},
   "source": [
    "This may be a problem if you want to write a **string** of text that contains multiple lines."
   ]
  },
  {
   "cell_type": "code",
   "execution_count": null,
   "metadata": {},
   "outputs": [],
   "source": [
    "x = \"hello\n",
    "world\""
   ]
  },
  {
   "cell_type": "markdown",
   "metadata": {},
   "source": [
    "Python provides the special character `\"\\n\"` to represent a \"new line\" in your **strings**. This is called an **escape characters**: it's a backslash `\\` followed by a regular character.\n",
    "\n",
    "**Escape characters** are recognized by Python as special and treated accordingly.\n",
    "Note how the `\"\\n\"` is exactly replaced by a new line when you print it."
   ]
  },
  {
   "cell_type": "code",
   "execution_count": null,
   "metadata": {},
   "outputs": [],
   "source": [
    "print(\"hello\\nworld\")\n",
    "print(\"escaping \\n characters\")"
   ]
  },
  {
   "cell_type": "markdown",
   "metadata": {},
   "source": [
    "New lines are not the only **escape characters** in Python.\n",
    "There are many more and they are used to easily represent complex text.\n",
    "\n",
    "Each **escape character** is exactly replaced independently from the adjacent characters. You can also have one **escape character** after the other."
   ]
  },
  {
   "cell_type": "code",
   "execution_count": null,
   "metadata": {},
   "outputs": [],
   "source": [
    "x = \"This is a \\ttab\"\n",
    "print(x)\n",
    "\n",
    "x = \"Mixing t and tabs t\\t\\tt\\t\"\n",
    "print(x)\n",
    "\n",
    "x = \"These are quotes \\' \\\"\"\n",
    "print(x)\n",
    "\n",
    "x = \"This is an\\n\\tindented text on a new line\"\n",
    "print(x)\n",
    "\n",
    "x = \"And finally backslashes \\\\\\\\\"\n",
    "print(x)"
   ]
  },
  {
   "cell_type": "markdown",
   "metadata": {},
   "source": [
    "### The `re` module\n",
    "\n",
    "An important Python **module** used for working with **strings** is the **regular expressions** one, named `re`.\n",
    "\n",
    "A **regular expression** (or **regex** for short) allows to implement functionalities like **find** or **find and replace** using special search pattenrs.\n",
    "\n",
    "**Regular expressions** add a whole new layer of special characters that are extremely helpful for searching for matches in a **string**.\n",
    "They are more complex than **escape characters**, but way more powerful.\n",
    "\n",
    "Let's see the how to use this new module for searching characters in a **string**.\n",
    "\n",
    "The **function** `search()` is provided by the `re` **module**. It takes as input two **strings** and it will search occurrences of the first **string** in the second.\n",
    "This function can be used within an `if` statement. To have different behaviors depenending on if an occurrence  has been found or not.\n",
    "\n",
    "**Never forget to `import re` before using regular expressions.**"
   ]
  },
  {
   "cell_type": "code",
   "execution_count": null,
   "metadata": {
    "scrolled": true
   },
   "outputs": [],
   "source": [
    "import re\n",
    "\n",
    "dna = \"ATCGCGGTCCCAC\"\n",
    "\n",
    "if re.search(\"GAATTC\", dna): # EcoRI restriction site is \"GAATTC\"\n",
    "    print(\"EcoRI restriction site found!\")\n",
    "else:\n",
    "    print(\"EcoRI restriction site not found!\")\n",
    "        \n",
    "if re.search(\"GGACC\", dna) or re.search(\"GGTCC\", dna): # AvaII restriction site is \"GGACC\" or \"GGTCC\" \n",
    "    print(\"AvaII restriction site found!\")\n",
    "else:\n",
    "    print(\"AvaII restriction site not found!\")"
   ]
  },
  {
   "cell_type": "markdown",
   "metadata": {},
   "source": [
    "### The alternative `(x|y)`\n",
    "\n",
    "The **regular expression** `(A|T)` represents a character that can be either `A` or `T`.\n",
    "Note how you have to add a `r` in front of a **string** containing a **regular expression**: this is to tell Python to treat the following text in a special way. Remember that the `r` is outside of the quotes.\n",
    "\n",
    "This regex is an **alternative**: between parenthesis `(` `)` you have a number of patterns separated by pipes `|`, only one of the patterns will be used.\n",
    "\n",
    "**You can have any number of patterns and each of them can be either a single character, more than one characters or even another regex**.\n",
    "\n",
    "Be very careful of not using whitespaces within the regular expression (e.g. between the sequences and the pipe symbol) otherwise they will be searched in the strings."
   ]
  },
  {
   "cell_type": "code",
   "execution_count": null,
   "metadata": {},
   "outputs": [],
   "source": [
    "import re\n",
    "\n",
    "dna = \"ATCGCGGTCCCAC\"\n",
    "\n",
    "if re.search(r\"GG(A|T)CC\", dna): # AvaII restriction site is \"GGACC\" or \"GGTCC\" \n",
    "    print(\"AvaII restriction site found!\")\n",
    "else:\n",
    "    print(\"AvaII restriction site not found!\")"
   ]
  },
  {
   "cell_type": "code",
   "execution_count": null,
   "metadata": {},
   "outputs": [],
   "source": [
    "import re\n",
    "\n",
    "sequences = [\"AGT\", \"AAAT\", \"AAAAT\", \"CAGTA\", \"AT\", \"AGAT\", \"AGAAAT\"]\n",
    "\n",
    "for seq in sequences:\n",
    "    if re.search(r\"(AG|AAA)T\", seq):\n",
    "        print(\"Matched\", seq)\n",
    "    else:\n",
    "        print(\"Not matched\", seq)"
   ]
  },
  {
   "cell_type": "markdown",
   "metadata": {},
   "source": [
    "### Online regex tools\n",
    "\n",
    "When working with regexes, sometime it's important to have a way to quickly test your new pattern with some text.\n",
    "You could create a simple Python program for that, but there are many available websites that provide this functionality with a nice graphic.\n",
    "\n",
    "An example is https://pythex.org/. Try to open this website, write `GG(A|T)CC` in the regular expression section and then write multiple sequences in the underlying test string section.\n",
    "You will see all the matches highlighted."
   ]
  },
  {
   "cell_type": "markdown",
   "metadata": {},
   "source": [
    "### Exercise\n",
    "\n",
    "Write a single regular expression that matches all the sequences in the first list and none of the words in the second list.\n",
    "\n",
    "Test it using the search function.\n",
    "\n",
    "Hint: use for loops to quickly test each list of sequences."
   ]
  },
  {
   "cell_type": "code",
   "execution_count": null,
   "metadata": {},
   "outputs": [],
   "source": [
    "import re\n",
    "\n",
    "sequences_to_match = [\"CAT\", \"GAT\", \"CAG\", \"GAC\"]\n",
    "sequences_to_not_match = [\"A\", \"CA\", \"AT\", \"AG\", \"CGT\", \"GAA\", \"AAT\", \"AAA\"]"
   ]
  },
  {
   "cell_type": "markdown",
   "metadata": {},
   "source": [
    "### Character groups `[xy]`\n",
    "\n",
    "A character group defines a set of characters and it will match only one of them.\n",
    "It is indicated as a sequence of characters between square brackets `[abc]`.\n",
    "Note that this is exactly equivalent to use the alternative regex among the individual characters in the sequence, e.g. `(a|b|c)`.\n",
    "\n",
    "The character group as a more compact representation for an alternative regex where each alternative is constituted by only 1 character.\n",
    "If you have more complex alternatives, i.e. made of more than one character or that involve other regex, you can't use the character group."
   ]
  },
  {
   "cell_type": "code",
   "execution_count": null,
   "metadata": {},
   "outputs": [],
   "source": [
    "import re\n",
    "\n",
    "regex = [r\"[AG]GC\", r\"[AGC]G[AGC]\"]\n",
    "sequences  = [\"AGC\", \"GGC\", \"CGC\", \"TGC\"]\n",
    "\n",
    "for reg in regex:\n",
    "    for seq in sequences:\n",
    "        if re.search(reg, seq):\n",
    "            print(reg, \"matched\", seq)\n",
    "        else:\n",
    "            print(reg, \"not matched\", seq)"
   ]
  },
  {
   "cell_type": "markdown",
   "metadata": {},
   "source": [
    "### Combining regex\n",
    "\n",
    "Now that you know some different regular expressions, you can start combining them to create more complex patterns.\n",
    "\n",
    "Remember that:\n",
    " - The alternative regex is  made of two or more alternative patterns. Each pattern can be either a single character, a sequence of characters or another regex.\n",
    " - The character group defines a set of characters and it will match only one of the characters in its set."
   ]
  },
  {
   "cell_type": "code",
   "execution_count": null,
   "metadata": {},
   "outputs": [],
   "source": [
    "import re\n",
    "\n",
    "sequences  = [\"AGGT\", \"CCATGTC\", \"AAAAAT\", \"TACTGC\", \"AGT\", \"AGTGT\", \"AGGAT\"]\n",
    "regex = r\"A([GT]G|[AC])T\"\n",
    "for seq in sequences:\n",
    "    if re.search(regex, seq):\n",
    "        print(regex, \"matched\", seq)\n",
    "    else:\n",
    "        print(regex, \"not matched\", seq)"
   ]
  },
  {
   "cell_type": "markdown",
   "metadata": {},
   "source": [
    "### Exercise\n",
    "\n",
    "Write a single regular expression that describes the following dna sequence:\n",
    " - `A` or `G` or `C` or `AGC`\n",
    " - `TT`\n",
    " - two generic bases (i.e. they can be any of `A`, `T`, `G`, `C`)\n",
    " - `A` or `G`\n",
    "\n",
    "Test that your regex matches the following sequences:\n",
    " - `ATTTTA`, `GTTCAA`, `AGCTTGGG`\n",
    " \n",
    "Test that your regex does not match the following sequences:\n",
    " - `AGCTTA`, `ATTG`, `TTTAAA`, `CTATTG`, `AGCTTAA`\n",
    " \n",
    " Hint: when you are designing a complex regex, it can be useful to do it for steps and remember to try it on the online visualizer."
   ]
  },
  {
   "cell_type": "code",
   "execution_count": null,
   "metadata": {},
   "outputs": [],
   "source": []
  },
  {
   "cell_type": "markdown",
   "metadata": {},
   "source": [
    "### Quantifiers `{2}`\n",
    "\n",
    "Quantifiers are symbols that allow to control the number of times a pattern is repeated.\n",
    "\n",
    " - `{3}`: matches the preceeding pattern 3 times.\n",
    " - `{1,4}`: matches the preceeding pattern at least 1 time and up to 4 times.\n",
    "\n",
    "Quantifiers are applied to the preceeding \"pattern\".\n",
    "This \"pattern\" can either be:\n",
    " - A normal character\n",
    " - An alternative regex\n",
    " - A character group\n",
    " - Any combination of the previous, as long as it's enclosed in parenthesis `()`"
   ]
  },
  {
   "cell_type": "code",
   "execution_count": null,
   "metadata": {},
   "outputs": [],
   "source": [
    "import re\n",
    "\n",
    "def search_regex(reg, sequences):\n",
    "    # This is an utility function for quickly testing a regex on a list of strings\n",
    "    for seq in sequences:\n",
    "        if re.search(reg, seq):\n",
    "            print(reg, \"matched\", seq)\n",
    "        else:\n",
    "            print(reg, \"not matched\", seq)\n",
    "    print(\"*** ----------- ***\")\n",
    "\n",
    "\n",
    "search_regex(r\"A{3}T\", [\"AAAT\", \"CAAATG\", \"AA\", \"ATAATC\"])\n",
    "\n",
    "search_regex(r\"AT{3}\", [\"ATTTG\", \"ATTTT\", \"ATATAT\"])\n",
    "\n",
    "search_regex(r\"(AT){3}\", [\"ATTTG\", \"ATTTT\", \"ATATAT\"])\n",
    "\n",
    "search_regex(r\"(A|T){3}\", [\"AAA\", \"CTTTG\", \"ATAG\", \"CAA\", \"AT\", \"AAGTT\", \"AATT\"])\n",
    "\n",
    "search_regex(r\"[AT]{3}\", [\"AAA\", \"CTTTG\", \"ATAG\", \"CAA\", \"AT\", \"AAGTT\", \"AATT\"])\n",
    "\n",
    "search_regex(r\"(A{2}|A{3})\", [\"AAA\", \"CAAAG\", \"AA\", \"ACAAGT\", \"TAC\"])\n",
    "\n",
    "search_regex(r\"A{2,3}\", [\"AAA\", \"CAAAG\", \"AA\", \"ACAAGT\", \"TAC\"])\n",
    "\n",
    "search_regex(r\"AT{0,1}\", [\"A\", \"AT\", \"T\", \"GATG\", \"ATT\"])"
   ]
  },
  {
   "cell_type": "markdown",
   "metadata": {},
   "source": [
    "### Exercise\n",
    "\n",
    "Write a single regular expression that describes the following dna sequence:\n",
    " - 3 equal bases (i.e. they can be any of `A`, `T`, `G`, `C`)\n",
    " - `TT`\n",
    " - between 0 and 3 `A`\n",
    "\n",
    "Test that your regex matches the following sequences:\n",
    " - `AAATT`, `GGGTTAAA`, `CCCTTA`, `TTTTTT`\n",
    " \n",
    "Test that your regex does not match the following sequences:\n",
    " - `AGTTT`, `AACTT`, `AATT`, `AAATTAAAA`"
   ]
  },
  {
   "cell_type": "code",
   "execution_count": null,
   "metadata": {},
   "outputs": [],
   "source": []
  }
 ],
 "metadata": {
  "kernelspec": {
   "display_name": "Python 3",
   "language": "python",
   "name": "python3"
  },
  "language_info": {
   "codemirror_mode": {
    "name": "ipython",
    "version": 3
   },
   "file_extension": ".py",
   "mimetype": "text/x-python",
   "name": "python",
   "nbconvert_exporter": "python",
   "pygments_lexer": "ipython3",
   "version": "3.7.5"
  }
 },
 "nbformat": 4,
 "nbformat_minor": 4
}
