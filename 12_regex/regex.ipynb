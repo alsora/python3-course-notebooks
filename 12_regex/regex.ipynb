{
 "cells": [
  {
   "cell_type": "markdown",
   "metadata": {},
   "source": [
    "# Regular Expressions\n",
    "\n",
    "Regular expressions are powerful and efficient tools for analyzing and manipulating text-based data.\n",
    "One of the most popular applications of programming techniques to bioinformatic is the processing of DNA strands.\n",
    "These are represented by Python **strings**, that's why regular expressions are one of the most widely-used programming tools in this field."
   ]
  },
  {
   "cell_type": "markdown",
   "metadata": {},
   "source": [
    "### The `re` module\n",
    "\n",
    "An important Python **module** used for working with **strings** is the **regular expressions** one, named `re`.\n",
    "\n",
    "A **regular expression** (or **regex** for short) allows to implement functionalities like **find** or **find and replace** using special search pattenrs.\n",
    "\n",
    "**Regular expressions** add a whole new layer of special characters that are extremely helpful for searching for matches in a **string**.\n",
    "\n",
    "Let's see how to use this new module for searching characters in a **string**.\n",
    "\n",
    "The **function** `search()` is provided by the `re` **module**. It takes as input two **strings** and it will search occurrences of the first **string** in the second.\n",
    "This function can be used within an `if` statement. To have different behaviors depenending on if an occurrence  has been found or not.\n",
    "\n",
    "**Never forget to `import re` before using regular expressions.**"
   ]
  },
  {
   "cell_type": "code",
   "execution_count": null,
   "metadata": {
    "scrolled": true
   },
   "outputs": [],
   "source": [
    "import re\n",
    "\n",
    "dna = \"ATCGCGGTCCCAC\"\n",
    "\n",
    "if re.search(\"GAATTC\", dna): # EcoRI restriction site is \"GAATTC\"\n",
    "    print(\"EcoRI restriction site found!\")\n",
    "else:\n",
    "    print(\"EcoRI restriction site not found!\")\n",
    "        \n",
    "if re.search(\"GGACC\", dna) or re.search(\"GGTCC\", dna): # AvaII restriction site is \"GGACC\" or \"GGTCC\" \n",
    "    print(\"AvaII restriction site found!\")\n",
    "else:\n",
    "    print(\"AvaII restriction site not found!\")"
   ]
  },
  {
   "cell_type": "markdown",
   "metadata": {},
   "source": [
    "### The alternative `(x|y)`\n",
    "\n",
    "The **regular expression** `(A|T)` represents a character that can be either `A` or `T`.\n",
    "Note how you have to add a `r` in front of a **string** containing a **regular expression**: this is to tell Python to treat the following text in a special way. Remember that the `r` is outside of the quotes.\n",
    "\n",
    "This regex is an **alternative**: between parenthesis `(` `)` you have a number of patterns separated by pipes `|`, only one of the patterns will be used.\n",
    "\n",
    "**You can have any number of patterns and each of them can be either a single character, more than one characters or even another regex**.\n",
    "\n",
    "Be very careful of not using whitespaces within the regular expression (e.g. between the sequences and the pipe symbol) otherwise they will be searched in the strings."
   ]
  },
  {
   "cell_type": "code",
   "execution_count": null,
   "metadata": {},
   "outputs": [],
   "source": [
    "import re\n",
    "\n",
    "dna = \"ATCGCGGTCCCAC\"\n",
    "\n",
    "if re.search(r\"GG(A|T)CC\", dna): # AvaII restriction site is \"GGACC\" or \"GGTCC\" \n",
    "    print(\"AvaII restriction site found!\")\n",
    "else:\n",
    "    print(\"AvaII restriction site not found!\")"
   ]
  },
  {
   "cell_type": "code",
   "execution_count": null,
   "metadata": {},
   "outputs": [],
   "source": [
    "import re\n",
    "\n",
    "sequences = [\"AGT\", \"AAAT\", \"AAAAT\", \"CAGTA\", \"AT\", \"AGAT\", \"AGAAAT\"]\n",
    "\n",
    "for seq in sequences:\n",
    "    if re.search(r\"(AG|AAA)T\", seq):\n",
    "        print(\"Matched\", seq)\n",
    "    else:\n",
    "        print(\"Not matched\", seq)"
   ]
  },
  {
   "cell_type": "markdown",
   "metadata": {},
   "source": [
    "### Online regex tools\n",
    "\n",
    "When working with regexes, sometime it's important to have a way to quickly test your new pattern with some text.\n",
    "You could create a simple Python program for that, but there are many available websites that provide this functionality with a nice graphic.\n",
    "\n",
    "An example is https://pythex.org/. Try to open this website, write `GG(A|T)CC` in the regular expression section and then write multiple sequences in the underlying test string section.\n",
    "You will see all the matches highlighted."
   ]
  },
  {
   "cell_type": "markdown",
   "metadata": {},
   "source": [
    "### Exercise\n",
    "\n",
    "Write a single regular expression that matches all the sequences in the first list and none of the sequences in the second list.\n",
    "\n",
    "Test it using the search function.\n",
    "\n",
    "Hint: use for loops to quickly test each list of sequences."
   ]
  },
  {
   "cell_type": "code",
   "execution_count": null,
   "metadata": {},
   "outputs": [],
   "source": [
    "import re\n",
    "\n",
    "sequences_to_match = [\"CAT\", \"GAT\", \"CAG\", \"GAC\"]\n",
    "sequences_to_not_match = [\"A\", \"CA\", \"AT\", \"AG\", \"CGT\", \"GAA\", \"AAT\", \"AAA\"]"
   ]
  },
  {
   "cell_type": "markdown",
   "metadata": {},
   "source": [
    "### Exercise\n",
    "\n",
    "Write a single regular expression that matches all the sequences in the first list and none of the sequences in the second list.\n",
    "\n",
    "Test it using the search function.\n",
    "\n",
    "Hint: use for loops to quickly test each list of sequences."
   ]
  },
  {
   "cell_type": "code",
   "execution_count": null,
   "metadata": {},
   "outputs": [],
   "source": [
    "import re\n",
    "\n",
    "sequences_to_match = [\"TAAAT\", \"CCGT\", \"AAAGT\", \"GT\", \"CCAAACGT\", \"TGAAAT\"]\n",
    "sequences_to_not_match = [\"TAAT\", \"AAA\", \"AT\", \"TG\", \"AAAG\",\"A\", \"G\", \"T\"]"
   ]
  },
  {
   "cell_type": "markdown",
   "metadata": {},
   "source": [
    "### Character groups `[xy]`\n",
    "\n",
    "A character group defines a set of characters and it will match only one of them.\n",
    "It is indicated as a sequence of characters between square brackets `[abc]`.\n",
    "Note that this is exactly equivalent to use the alternative regex among the individual characters in the sequence, e.g. `(a|b|c)`.\n",
    "\n",
    "The character group is a more compact representation for an alternative regex where each alternative is constituted by only 1 character.\n",
    "If you have more complex alternatives, i.e. made of more than one character or that involve other regex, you can't use the character group."
   ]
  },
  {
   "cell_type": "code",
   "execution_count": null,
   "metadata": {},
   "outputs": [],
   "source": [
    "import re\n",
    "\n",
    "regex = [r\"[AG]GC\", r\"[AGC]G[AGC]\"]\n",
    "sequences  = [\"AGC\", \"GGC\", \"CGC\", \"TGC\"]\n",
    "\n",
    "for reg in regex:\n",
    "    for seq in sequences:\n",
    "        if re.search(reg, seq):\n",
    "            print(reg, \"matched\", seq)\n",
    "        else:\n",
    "            print(reg, \"not matched\", seq)"
   ]
  },
  {
   "cell_type": "markdown",
   "metadata": {},
   "source": [
    "As you have seen, a character group `[abc]` will match exactly one among the character in its list.\n",
    "\n",
    "You can use character groups also to match any character that is not in a list. This is done by starting the group with a caret `^`.\n",
    "\n",
    "Note that the caret `^` must be at the beginning of the list of characters."
   ]
  },
  {
   "cell_type": "code",
   "execution_count": null,
   "metadata": {},
   "outputs": [],
   "source": [
    "import re\n",
    "\n",
    "regex = [r\"[^A]T\", r\"[^AG]T\"]\n",
    "sequences  = [\"AT\", \"CT\", \"GT\", \"AGT\", \"GAT\", \"T\", \"TT\"]\n",
    "\n",
    "for reg in regex:\n",
    "    for seq in sequences:\n",
    "        if re.search(reg, seq):\n",
    "            print(reg, \"matched\", seq)\n",
    "        else:\n",
    "            print(reg, \"not matched\", seq)"
   ]
  },
  {
   "cell_type": "markdown",
   "metadata": {},
   "source": [
    "### Combining regex\n",
    "\n",
    "Now that you know some different regular expressions, you can start combining them to create more complex patterns.\n",
    "\n",
    "Remember that:\n",
    " - The alternative regex is  made of two or more alternative patterns. Each pattern can be either a single character, a sequence of characters or another regex.\n",
    " - The character group defines a set of characters and it will match only one of the characters in its set."
   ]
  },
  {
   "cell_type": "code",
   "execution_count": null,
   "metadata": {},
   "outputs": [],
   "source": [
    "import re\n",
    "\n",
    "sequences  = [\"AGGT\", \"CCATGTC\", \"AAAAAT\", \"TACTGC\", \"AGT\", \"AGTGT\", \"AGGAT\"]\n",
    "regex = r\"A([GT]G|[AC])T\"\n",
    "for seq in sequences:\n",
    "    if re.search(regex, seq):\n",
    "        print(regex, \"matched\", seq)\n",
    "    else:\n",
    "        print(regex, \"not matched\", seq)"
   ]
  },
  {
   "cell_type": "markdown",
   "metadata": {},
   "source": [
    "### Exercise\n",
    "\n",
    "Write a single regular expression that describes the following dna sequence:\n",
    " - `A` or `G` or `C` or `AGC`\n",
    " - `TT`\n",
    " - two generic bases (i.e. they can be any of `A`, `T`, `G`, `C`)\n",
    " - `A` or `G`\n",
    " - Any base except `A` (i.e. it can be any of `T`, `G`, `C`)\n",
    "\n",
    "Test that your regex matches the following sequences:\n",
    " - `ATTTTAT`, `GTTCAAC`, `AGCTTGGGT`\n",
    " \n",
    "Test that your regex does not match the following sequences:\n",
    " - `AGCTTAT`, `ATTGT`, `TTTAAAC`, `CTATTGG`, `AGCTTAAT`, `ATTTTA`, `ATTTTAA`\n",
    " \n",
    " Hint: when you are designing a complex regex, it can be useful to do it for steps and remember to try it on the online visualizer."
   ]
  },
  {
   "cell_type": "code",
   "execution_count": null,
   "metadata": {},
   "outputs": [],
   "source": []
  },
  {
   "cell_type": "markdown",
   "metadata": {},
   "source": [
    "### Quantifiers `{2}`\n",
    "\n",
    "Quantifiers are symbols that allow to control the number of times a pattern is repeated.\n",
    "\n",
    " - `{3}`: matches the preceeding pattern 3 times.\n",
    " - `{1,4}`: matches the preceeding pattern at least 1 time and up to 4 times.\n",
    " - `{5,}`: matches the preceeding pattern at least 5 times (up to as many times as possible) \n",
    "\n",
    "Quantifiers are applied to the preceeding \"pattern\".\n",
    "This \"pattern\" can either be:\n",
    " - A normal character\n",
    " - An alternative regex\n",
    " - A character group\n",
    " - Any combination of the previous, as long as it's enclosed in parenthesis `()`"
   ]
  },
  {
   "cell_type": "code",
   "execution_count": null,
   "metadata": {},
   "outputs": [],
   "source": [
    "import re\n",
    "\n",
    "def search_regex(reg, sequences):\n",
    "    # This is an utility function for quickly testing a regex on a list of strings\n",
    "    for seq in sequences:\n",
    "        if re.search(reg, seq):\n",
    "            print(reg, \"matched\", seq)\n",
    "        else:\n",
    "            print(reg, \"not matched\", seq)\n",
    "    print(\"*** ----------- ***\")\n",
    "\n",
    "\n",
    "search_regex(r\"A{3}T\", [\"AAAT\", \"CAAATG\", \"AA\", \"ATAATC\"])\n",
    "\n",
    "search_regex(r\"AT{3}\", [\"ATTTG\", \"ATTTT\", \"ATATAT\"])\n",
    "\n",
    "search_regex(r\"(AT){3}\", [\"ATTTG\", \"ATTTT\", \"ATATAT\"])\n",
    "\n",
    "search_regex(r\"(A|T){3}\", [\"AAA\", \"CTTTG\", \"ATAG\", \"CAA\", \"AT\", \"AAGTT\", \"AATT\"])\n",
    "\n",
    "search_regex(r\"[AT]{3}\", [\"AAA\", \"CTTTG\", \"ATAG\", \"CAA\", \"AT\", \"AAGTT\", \"AATT\"])\n",
    "\n",
    "search_regex(r\"(A{2}|A{3})\", [\"AAA\", \"CAAAG\", \"AA\", \"ACAAGT\", \"TAC\"])\n",
    "\n",
    "search_regex(r\"A{2,3}\", [\"AAA\", \"CAAAG\", \"AA\", \"ACAAGT\", \"TAC\"])\n",
    "\n",
    "search_regex(r\"AT{0,1}\", [\"A\", \"AT\", \"T\", \"GATG\", \"ATT\"])\n",
    "\n",
    "search_regex(r\"AT{2,}G\", [\"AG\", \"ATG\", \"ATTG\", \"ATTTTTTT\", \"ATTTTTTTG\"])"
   ]
  },
  {
   "cell_type": "markdown",
   "metadata": {},
   "source": [
    "### Exercise\n",
    "\n",
    "Write a single regular expression that describes the following dna sequence:\n",
    " - 3 equal bases (i.e. they can be any of `A`, `T`, `G`, `C`)\n",
    " - `TT`\n",
    " - between 0 and 3 `A`\n",
    " - `T`\n",
    "\n",
    "Test that your regex matches the following sequences:\n",
    " - `AAATTT`, `AAATTAT`, `GGGTTAAATC`, `TTTTTT`\n",
    " \n",
    "Test that your regex does not match the following sequences:\n",
    " - `AGTTT`, `AACTT`, `AATT`, `AAATTAAAA`"
   ]
  },
  {
   "cell_type": "code",
   "execution_count": null,
   "metadata": {},
   "outputs": [],
   "source": []
  },
  {
   "cell_type": "markdown",
   "metadata": {},
   "source": [
    "### Positions `^` `$`\n",
    "\n",
    "The regular expressions that you have used so far were looking for matches regardless of their position in the target string.\n",
    "\n",
    "There exist also regex symbols to indicate the beginning and the end of a string: the caret `^` and dollar `$` symbols.\n",
    "They can be used to define a pattern that will match only if it occur in a certain position of a string, rather than anywhere.\n"
   ]
  },
  {
   "cell_type": "code",
   "execution_count": null,
   "metadata": {},
   "outputs": [],
   "source": [
    "regex = [r\"^AT\", r\"AT$\", r\"^AT$\"]\n",
    "sequences  = [\"AT\", \"ATG\", \"CAT\", \"CATG\", \"TTGATT\"]\n",
    "\n",
    "for reg in regex:\n",
    "    for seq in sequences:\n",
    "        if re.search(reg, seq):\n",
    "            print(reg, \"matched\", seq)\n",
    "        else:\n",
    "            print(reg, \"not matched\", seq)"
   ]
  },
  {
   "cell_type": "markdown",
   "metadata": {},
   "source": [
    "### Exercise\n",
    "\n",
    "Write a single regular expression that describes the following dna sequence:\n",
    " - `AAA` only if it's the begninning of the string, otherwise only `A` (no other `A` before that if it's not the beginning and not a single `A` at the beginning)\n",
    " - `TT` or `CC`\n",
    " - there may or may not be a `G`\n",
    " - there may or may not be a `C`\n",
    " - 1 or 2 `A` (make sure that if the string does not end there, there are no more `A`)\n",
    "\n",
    "Test that your regex matches the following sequences:\n",
    " - `AAATTA`, `AAACCCAAG`, `GATTGAC`, `AAACCGCAAC`, `GATTCAA`\n",
    " \n",
    "Test that your regex does not match the following sequences:\n",
    " - `ATTAA`, `AAATT`, `AATT`, `AAATTCGAAC`, `TATTAAA`"
   ]
  },
  {
   "cell_type": "code",
   "execution_count": null,
   "metadata": {},
   "outputs": [],
   "source": []
  },
  {
   "cell_type": "markdown",
   "metadata": {},
   "source": [
    "### The match class\n",
    "\n",
    "\n",
    "So far you have used the `re.search()` **function** only within `if` statementes, i.e. to understand if a match was present or not.\n",
    "\n",
    "It's important to know that this **function** does not return a **boolean** value, but rather an object of  the **match** class.\n",
    "This  object contains all the information about how your pattern matches in the given string.\n",
    "\n",
    "The reason why you have been able to use it as a **boolean** within the `if` statements is because whenever no match was found, a `None` value was returned.\n",
    "When using a generic (i.e. non **boolean**) object in an `if` statement, Python always returns `True` unless the object is `None`."
   ]
  },
  {
   "cell_type": "code",
   "execution_count": null,
   "metadata": {},
   "outputs": [],
   "source": [
    "import re\n",
    "\n",
    "m = re.search(\"A\", \"CGT\")\n",
    "print(\"The match is:\", m)\n",
    "if m:\n",
    "    print(\"Match found\")\n",
    "else:\n",
    "    print(\"Match not found\")"
   ]
  },
  {
   "cell_type": "code",
   "execution_count": null,
   "metadata": {},
   "outputs": [],
   "source": [
    "import re\n",
    "\n",
    "m = re.search(\"C[AG]\", \"ACGT\")\n",
    "if m:\n",
    "    print(\"Match found\")\n",
    "    print(\"The match start at index\", m.start(), \"and finishes at\", m.end())\n",
    "    print(\"The matched pattern is:\", m.group())"
   ]
  },
  {
   "cell_type": "markdown",
   "metadata": {},
   "source": [
    "Here you have seen some of the most useful methods that a **match** object provides.\n",
    "\n",
    " - `start()` returns the index of the **string** where the match starts.\n",
    " - `end()` returns the index of the **string** where the match ends.\n",
    " - `group()` returns the matched substring.\n",
    " \n",
    " Note that you can call **methods** only on a valid object, i.e. not on `None` objects.\n",
    " Remeber to always check if a match is valid (e.g. with an `if` statement) before calling any of the above methods."
   ]
  },
  {
   "cell_type": "markdown",
   "metadata": {},
   "source": [
    "### Caputring groups\n",
    "\n",
    "Consider a **regex** with multiple alternatives, e.g. `(A|G)T(A|G)`.\n",
    "A common requirement may be to understand which pattern in each alternative matched with the current **string**, e.g. whether the first alternative matched with an `A` or a `G` and the same also for the second one.\n",
    "Using the **methods** described above, you are able to extract the matched substring, but then you would need to play a little bit with indices in order to find what you need.\n",
    "This is generally not recommended, but with a simple regex as that one, it's easy to understand that the first character of the matched substring will correspond to the first alternative, while the last character of the matched substring will correspond to the second one.\n",
    "\n",
    "However, this would become incredibly difficult as soon as quantifiers are used.\n",
    "The reason is that in the previous case we relied on the knowledge of the length of the matched substring."
   ]
  },
  {
   "cell_type": "code",
   "execution_count": null,
   "metadata": {},
   "outputs": [],
   "source": [
    "import re\n",
    "\n",
    "m = re.search(\"(A|G)T(A|G)\", \"TTATGC\")\n",
    "if m:\n",
    "    matched_substring = m.group()\n",
    "    print(\"Match found\")\n",
    "    print(\"The matched pattern is:\", matched_substring)\n",
    "    print(\"The first alternative matched:\", matched_substring[0])\n",
    "    print(\"The second alternative matched:\", matched_substring[-1])\n",
    "    \n",
    "print (\"--------\")\n",
    "\n",
    "sequences  = [\"ATGC\", \"TGTGC\", \"TTGTAC\", \"TTTATGC\"]\n",
    "for seq in sequences:\n",
    "    m = re.search(\"T{0,3}(A|G)T(A|G)\", seq)\n",
    "    if m:\n",
    "        print(\"Match found\")\n",
    "        print(\"The matched pattern is:\", m.group())"
   ]
  },
  {
   "cell_type": "markdown",
   "metadata": {},
   "source": [
    "The concept of **capturing groups** allows to solve the problem.\n",
    "A **capturing group**, not to be confused with the character group regex, is basically every part of your regex that is enclosed between parenthesis `(` `)`.\n",
    "\n",
    "Alternatives are always within parenthesis, so they are automatically **capturing groups**, but the parenthesis can be put around any part of the regex.\n",
    "\n",
    "The match object that is returned by the `search()` function will not only contain information about the whole matched pattern, but also about all its **capturing groups**.\n",
    "This means that for each **capturing group** in your regex, you will be able to know the start and end indices and the matched substring.\n",
    "\n",
    "The syntax for accessing **capturing groups** is the same that you used before, but you will have to add a numeric argument to the `group()`, `start()` and `end()` methods.\n",
    "The number `0` indicates the whole pattern (and it's equivalent to not specifying anything as you have done before), the number `1` indicates the first capturing group, the number `2` indicates the second and so on and so forth.\n",
    "\n",
    "The advantage of **capturing groups** over using string indices, is that you always know which capturing group indicates which part of the match, regardless of any quantifier that may be present in the regex."
   ]
  },
  {
   "cell_type": "code",
   "execution_count": null,
   "metadata": {},
   "outputs": [],
   "source": [
    "import re\n",
    "\n",
    "sequences  = [\"ATGC\", \"TGTGC\", \"TTGTAC\", \"TTTATGC\"]\n",
    "for seq in sequences:\n",
    "    m = re.search(\"T{0,3}(A|G)T(A|G)\", seq)\n",
    "    if m:\n",
    "        print(\"Match found\")\n",
    "        print(\"The matched pattern is:\", m.group()) # This is equivalent to `m.group(0)`\n",
    "        print(\"The first alternative matched:\", m.group(1))\n",
    "        print(\"The second alternative matched:\", m.group(2))"
   ]
  },
  {
   "cell_type": "code",
   "execution_count": null,
   "metadata": {},
   "outputs": [],
   "source": [
    "import re\n",
    "\n",
    "sequences  = [\"ATGC\", \"TGTGC\", \"TTGTAC\", \"TTTATGC\"]\n",
    "for seq in sequences:\n",
    "    m = re.search(\"(T{0,3})(A|G)T(A|G)\", seq) # Capturing groups can be put around any part of the regex\n",
    "    if m:\n",
    "        print(\"Match found\")\n",
    "        print(\"The matched pattern is:\", m.group()) # This is equivalent to `m.group(0)`\n",
    "        print(\"The first capturing group matched:\", m.group(1))\n",
    "        print(\"The second capturing group (1st alternative) matched:\", m.group(2))\n",
    "        print(\"The third capturing group (2nd alternative) matched:\", m.group(3))"
   ]
  },
  {
   "cell_type": "markdown",
   "metadata": {},
   "source": [
    "### Exercise\n",
    "\n",
    "Define a function that takes a DNA sequence as input.\n",
    "This function should check if the provided sequence presents the following pattern:\n",
    " - any number of `A` bases (at least 1)\n",
    " - followed by between 0 and 5 generic bases (i.e. they can be any of `A`, `T`, `G`, `C`)\n",
    " - followed by an ambiguous base (i.e. something that is not `A`, `T`, `G`, `C`)\n",
    " \n",
    "The function should return the index of the ambiguous base or the length of the input DNA sequence if a match has not been found.\n",
    "\n",
    "Test your function on the provided input sequences: use the returned index to understand if a match was found or not and if found use the index to print the ambiguous base."
   ]
  },
  {
   "cell_type": "code",
   "execution_count": null,
   "metadata": {},
   "outputs": [],
   "source": [
    "# Input DNA sequences\n",
    "sequences = [\n",
    "    \"AAATY\",\n",
    "    \"XAAAT\",\n",
    "    \"AAAAAAAAAAAAAAAAAAANTTT\",\n",
    "    \"TTGCATTTTRA\",\n",
    "    \"CCTGAAATTABTTAAA\"\n",
    "]"
   ]
  },
  {
   "cell_type": "markdown",
   "metadata": {},
   "source": [
    "### Multiple matches\n",
    "\n",
    "When dealing with long sequences, it may happen that your regex will match multiple times within the **string**.\n",
    "If you are interested in processing all the matches and not just the first one as done before, you have to use the `finditer()` **function**.\n",
    "This function works exactly as `search()`, but it returns a **list** of matches.\n",
    "\n",
    "Note that you can use a `for` loop to examine each of the matches and that the lenght of the **list** is equivalent to the number of matches found. If no matches are found, the returned **list** will be empty."
   ]
  },
  {
   "cell_type": "code",
   "execution_count": null,
   "metadata": {},
   "outputs": [],
   "source": [
    "import re\n",
    "\n",
    "matches = re.finditer(r\"A\", \"ATATAT\") \n",
    "for m in matches:\n",
    "    print(\"Found match:\", m.group())"
   ]
  },
  {
   "cell_type": "markdown",
   "metadata": {},
   "source": [
    "### Exercise\n",
    "\n",
    "Given a DNA sequence as input, find all the runs of `A` and `T` longer than 5 bases (i.e. sequences made only of these 2 bases in any order).\n",
    "Print the length of each of these runs."
   ]
  },
  {
   "cell_type": "code",
   "execution_count": null,
   "metadata": {},
   "outputs": [],
   "source": [
    "# Input DNA sequence\n",
    "dna = \"ATCATATGGCAAATCTTTAGGATTTTAAAC\""
   ]
  }
 ],
 "metadata": {
  "kernelspec": {
   "display_name": "Python 3",
   "language": "python",
   "name": "python3"
  },
  "language_info": {
   "codemirror_mode": {
    "name": "ipython",
    "version": 3
   },
   "file_extension": ".py",
   "mimetype": "text/x-python",
   "name": "python",
   "nbconvert_exporter": "python",
   "pygments_lexer": "ipython3",
   "version": "3.7.5"
  }
 },
 "nbformat": 4,
 "nbformat_minor": 4
}
