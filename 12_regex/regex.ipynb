{
 "cells": [
  {
   "cell_type": "markdown",
   "metadata": {},
   "source": [
    "# Regular Expressions\n",
    "\n"
   ]
  },
  {
   "cell_type": "markdown",
   "metadata": {},
   "source": [
    "### Escape characters\n",
    "\n",
    "Every line of code in Python contains one or more instructions to be executed. If you split a command into 2 lines, it will result in an error."
   ]
  },
  {
   "cell_type": "code",
   "execution_count": 2,
   "metadata": {},
   "outputs": [
    {
     "ename": "SyntaxError",
     "evalue": "invalid syntax (<ipython-input-2-bdb480158c9f>, line 1)",
     "output_type": "error",
     "traceback": [
      "\u001b[0;36m  File \u001b[0;32m\"<ipython-input-2-bdb480158c9f>\"\u001b[0;36m, line \u001b[0;32m1\u001b[0m\n\u001b[0;31m    x = 1 +\u001b[0m\n\u001b[0m           ^\u001b[0m\n\u001b[0;31mSyntaxError\u001b[0m\u001b[0;31m:\u001b[0m invalid syntax\n"
     ]
    }
   ],
   "source": [
    "x = 1 +\n",
    "2"
   ]
  },
  {
   "cell_type": "markdown",
   "metadata": {},
   "source": [
    "This may be a problem if you want to write a **string** with text across more than 1 line."
   ]
  },
  {
   "cell_type": "code",
   "execution_count": 3,
   "metadata": {},
   "outputs": [
    {
     "ename": "SyntaxError",
     "evalue": "EOL while scanning string literal (<ipython-input-3-42dbf8328085>, line 1)",
     "output_type": "error",
     "traceback": [
      "\u001b[0;36m  File \u001b[0;32m\"<ipython-input-3-42dbf8328085>\"\u001b[0;36m, line \u001b[0;32m1\u001b[0m\n\u001b[0;31m    x = \"hello\u001b[0m\n\u001b[0m              ^\u001b[0m\n\u001b[0;31mSyntaxError\u001b[0m\u001b[0;31m:\u001b[0m EOL while scanning string literal\n"
     ]
    }
   ],
   "source": [
    "x = \"hello\n",
    "world\""
   ]
  },
  {
   "cell_type": "markdown",
   "metadata": {},
   "source": [
    "Python provides the special character `\"\\n\"` to represent a \"new line\" in your **strings**. This is called an **escape characters**: it's a backslash `\\` followed by a regular character.\n",
    "\n",
    "**Escape characters** are recognized by Python as special and treated accordingly.\n",
    "Note how the `\"\\n\"` is exactly replaced by a new line when you print it."
   ]
  },
  {
   "cell_type": "code",
   "execution_count": 5,
   "metadata": {},
   "outputs": [
    {
     "name": "stdout",
     "output_type": "stream",
     "text": [
      "hello\n",
      "world\n",
      "escaping \n",
      " characters\n"
     ]
    }
   ],
   "source": [
    "print(\"hello\\nworld\")\n",
    "print(\"escaping \\n characters\")"
   ]
  },
  {
   "cell_type": "markdown",
   "metadata": {},
   "source": [
    "New lines are not the only **escape characters** in Python.\n",
    "There are many more, used to easily represent more complex strings.\n",
    "\n",
    "Each **escape character** is exactly replaced independently from the adjacent characters. You can also have one **escape character** after the other."
   ]
  },
  {
   "cell_type": "code",
   "execution_count": 26,
   "metadata": {},
   "outputs": [
    {
     "name": "stdout",
     "output_type": "stream",
     "text": [
      "This is a \ttab\n",
      "Mixing t and tabs t\t\tt\t\n",
      "These are quotes ' \"\n",
      "This is an\n",
      "\tindented text on a new line\n",
      "And finally backslashes \\\\\n"
     ]
    }
   ],
   "source": [
    "x = \"This is a \\ttab\"\n",
    "print(x)\n",
    "\n",
    "x = \"Mixing t and tabs t\\t\\tt\\t\"\n",
    "print(x)\n",
    "\n",
    "x = \"These are quotes \\' \\\"\"\n",
    "print(x)\n",
    "\n",
    "x = \"This is an\\n\\tindented text on a new line\"\n",
    "print(x)\n",
    "\n",
    "x = \"And finally backslashes \\\\\\\\\"\n",
    "print(x)"
   ]
  },
  {
   "cell_type": "markdown",
   "metadata": {},
   "source": [
    "### The `re` module\n",
    "\n",
    "An important Python **module** used for working with **strings** is the **regular expressions** one, named `re`.\n",
    "\n",
    "A **regular expression** (or **regex** for short) allows to implement functionalities like **find** or **find and replace** using special search pattenrs.\n",
    "\n",
    "**Regular expressions** add a whole new layer of special characters that are extremely helpful for searching for matches in a **string**.\n",
    "They are more complex than **escape characters**, but way more powerful.\n",
    "\n",
    "Let's see the how to use this new module for searching characters in a **string**."
   ]
  },
  {
   "cell_type": "code",
   "execution_count": 86,
   "metadata": {
    "scrolled": true
   },
   "outputs": [
    {
     "name": "stdout",
     "output_type": "stream",
     "text": [
      "EcoRI restriction site not found!\n",
      "AvaII restriction site found!\n",
      "AvaII restriction site found!\n"
     ]
    }
   ],
   "source": [
    "import re\n",
    "\n",
    "dna = \"ATCGCGGTCCCAC\"\n",
    "\n",
    "if re.search(\"GAATTC\", dna):\n",
    "    print(\"EcoRI restriction site found!\")\n",
    "else:\n",
    "    print(\"EcoRI restriction site not found!\")\n",
    "        \n",
    "if re.search(\"GGACC\", dna) or re.search(\"GGTCC\", dna):\n",
    "    print(\"AvaII restriction site found!\")\n",
    "else:\n",
    "    print(\"AvaII restriction site not found!\")\n",
    "    \n",
    "if re.search(r\"GG[AT]CC\", dna):\n",
    "    print(\"AvaII restriction site found!\")\n",
    "else:\n",
    "    print(\"AvaII restriction site not found!\")"
   ]
  },
  {
   "cell_type": "markdown",
   "metadata": {},
   "source": [
    "The **regular expression** `[AT]` represents a character that can be either `A` or `T`.\n",
    "Note how we have to add a `r` in front of a **string** containing a **regular expression**: this is to tell Python to treat the following text in a special way. Remember that the `r` is outside of the quotes.\n",
    "\n",
    "You can put any number of characters within square brackets `[` `]` to be included for the match.\n",
    "\n",
    "https://pythex.org/"
   ]
  },
  {
   "cell_type": "markdown",
   "metadata": {},
   "source": [
    "### Exercise\n",
    "\n",
    "Check if "
   ]
  },
  {
   "cell_type": "code",
   "execution_count": null,
   "metadata": {},
   "outputs": [],
   "source": []
  },
  {
   "cell_type": "markdown",
   "metadata": {},
   "source": [
    "### Exercise"
   ]
  },
  {
   "cell_type": "code",
   "execution_count": null,
   "metadata": {},
   "outputs": [],
   "source": []
  },
  {
   "cell_type": "markdown",
   "metadata": {},
   "source": [
    "### `^` and `$`"
   ]
  },
  {
   "cell_type": "code",
   "execution_count": null,
   "metadata": {},
   "outputs": [],
   "source": []
  },
  {
   "cell_type": "code",
   "execution_count": null,
   "metadata": {},
   "outputs": [],
   "source": []
  },
  {
   "cell_type": "code",
   "execution_count": null,
   "metadata": {},
   "outputs": [],
   "source": []
  },
  {
   "cell_type": "code",
   "execution_count": null,
   "metadata": {},
   "outputs": [],
   "source": []
  },
  {
   "cell_type": "code",
   "execution_count": null,
   "metadata": {},
   "outputs": [],
   "source": [
    "x = \"Hello world\".replace(\"o\", \"0\")\n",
    "print (\"Substituted \\\"o\\\" with \\\"0\\\" with replace:\", x)\n",
    "\n",
    "x = re.sub(\"o\", \"0\", \"Hello world\")\n",
    "print (\"Substituted \\\"o\\\" with 0\\\" with a regex:\", x)\n",
    "\n",
    "x = re.sub(r\"\\d\", \"a\", \"1 z 2 z 3 z 4 z\")\n",
    "print(\"Substituted any digit with \\\"a\\\":\", x)"
   ]
  }
 ],
 "metadata": {
  "kernelspec": {
   "display_name": "Python 3",
   "language": "python",
   "name": "python3"
  },
  "language_info": {
   "codemirror_mode": {
    "name": "ipython",
    "version": 3
   },
   "file_extension": ".py",
   "mimetype": "text/x-python",
   "name": "python",
   "nbconvert_exporter": "python",
   "pygments_lexer": "ipython3",
   "version": "3.7.5"
  }
 },
 "nbformat": 4,
 "nbformat_minor": 4
}
