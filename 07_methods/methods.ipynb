{
 "cells": [
  {
   "cell_type": "markdown",
   "metadata": {},
   "source": [
    "# Methods\n",
    "\n",
    "Python **functions** allow to encapsulate a block of code that you want to re-use.\n",
    "You can define your own **functions** or use built-in ones, such as `print()` and `len()`.\n",
    "\n",
    "You will now learn about **methods**, another fundamental Python concept that is very similar to **functions**."
   ]
  },
  {
   "cell_type": "markdown",
   "metadata": {},
   "source": [
    "### Methods\n",
    "\n",
    "A **method** is just a particular type of **function**.\n",
    "**Methods** can be considered as utilities that a **class** provides for making easier to work with it. \n",
    "\n",
    "The main difference between **functions** and **methods** is that a **method** is provided by a **class**.\n",
    "This means that, for example, the Python **class string** will provide some **methods**, and similarly most of the other existing **classes** have **methods** as well.\n",
    "\n",
    "Due to this relation between a **method** and the **class** that provides it, the syntax for using **methods** is slightly different from the one for **functions**."
   ]
  },
  {
   "cell_type": "code",
   "execution_count": null,
   "metadata": {},
   "outputs": [],
   "source": [
    "# This function takes a string and a character as input\n",
    "# and counts how many times that character occurrs in the string\n",
    "def count_letter(text, letter):\n",
    "    count = 0\n",
    "    for x in text:\n",
    "        if x == letter:\n",
    "            count = count + 1\n",
    "    return count\n",
    "\n",
    "x = count_letter(\"hello\", \"l\")\n",
    "print(\"Occurrences of letter 'l':\", x)\n",
    "\n",
    "# There is no need to define a function for doing that task,\n",
    "# Python already provides a method `count()` for the string class\n",
    "my_string = \"world\"\n",
    "print(\"Occurrences of letter 'o':\", my_string.count(\"o\"))\n",
    "my_letter = \"p\"\n",
    "z = \"platypus\".count(my_letter)\n",
    "print(\"Occurrences of letter 'p':\", z)"
   ]
  },
  {
   "cell_type": "markdown",
   "metadata": {},
   "source": [
    "In the previous block of code, the `count_letter()` **function** and the `count()` **method** do exactly the same thing.\n",
    "However, the syntax for using them is different.\n",
    "The `count_letter()` **function** takes as input a **string** and a letter to search in that **string**.\n",
    "On the other hand, the `count()` **method** is called on a **string** **object** and takes as input a letter to search in that **string**.\n",
    "\n",
    "A **function** does not have that relation with a **class** that **methods** have.\n",
    "You call the **function** and you pass all the input between parenthesis, according to the order specified in the **function** definition.\n",
    "\n",
    "A **method** instead is called on a specific **object**, similarly to what you did with the **indexing operator** and **lists** (`my_list[0]`).\n",
    "There is a dot `.` between the **object** and the **method** name.\n",
    "This **object** is treated as the first argument of the **method**.\n",
    "Then, after the **method** name you find additional input parameters between parenthesis.\n",
    "\n",
    "Looking at the syntax, you can see that a **method** has always at least one input parameter, i.e. the **object** on which it is called.\n",
    "Note that a **method** can have any number of additional input arguments."
   ]
  },
  {
   "cell_type": "markdown",
   "metadata": {},
   "source": [
    "### Exercise\n",
    "\n",
    "Write a **function** that can be used to calculate the GC content of a DNA sequence, i.e. the percentage of bases that are either guanine (G) or cytosine (C).\n",
    "\n",
    "\\begin{equation*}\n",
    "GC_{content} = \\frac{G + C}{A + T + G + C} \\times 100\n",
    "\\end{equation*}\n"
   ]
  },
  {
   "cell_type": "code",
   "execution_count": null,
   "metadata": {},
   "outputs": [],
   "source": [
    "# Input DNA sequences\n",
    "dna_1 = \"ACTGATCGATTACGTATAGTATTTGCTATCATACATATATATCGATGCGTTCAT\"\n",
    "dna_2 = \"ATGC\""
   ]
  },
  {
   "cell_type": "markdown",
   "metadata": {},
   "source": [
    "### List and String\n",
    "\n",
    "As you already saw, **lists** and **strings** present similarities: they share some **operators** and **functions**.\n",
    "They also provide some equal **methods**."
   ]
  },
  {
   "cell_type": "code",
   "execution_count": null,
   "metadata": {},
   "outputs": [],
   "source": [
    "my_string = \"hello\"\n",
    "my_list = [1, 2, 3]\n",
    "\n",
    "print(\"The indexing operator allows to read elements:\")\n",
    "x = my_string[2]\n",
    "print(x)\n",
    "x = my_list[2]\n",
    "print(x)\n",
    "\n",
    "print(\"The len() function:\")\n",
    "y = len(my_string)\n",
    "print(y)\n",
    "y = len(my_list)\n",
    "print(y)\n",
    "\n",
    "print(\"The for loop can be used with lists and strings:\")\n",
    "for k in my_string:\n",
    "    print(k)\n",
    "for k in my_list:\n",
    "    print(k)\n",
    "\n",
    "print(\"The `count()` method:\")\n",
    "z = my_string.count(\"o\")\n",
    "print(z)\n",
    "z = my_list.count(1)\n",
    "print(z)"
   ]
  },
  {
   "cell_type": "markdown",
   "metadata": {},
   "source": [
    "### Exercise\n",
    "\n",
    "Define a **function** with 2 input parameters: a **list** of **strings** and an additional **string**.\n",
    "The **function** should return the number of occurrences of the additional string among all the strings in the list.\n",
    "\n",
    "Hints:\n",
    " - A **list** of **strings** is just like a **list** of numbers, remember that you can call **string methods** on its elements.\n",
    " - Use a `for` loop to check every **string** in the **list** and a counter for the sum."
   ]
  },
  {
   "cell_type": "code",
   "execution_count": null,
   "metadata": {},
   "outputs": [],
   "source": [
    "l1 = [\"the dog is happy\", \"the dog is very happy\"]\n",
    "s1 = \"y\"\n",
    "\n",
    "l2 = [\"the cat is hungry\", \"the cat is going to eat something\", \"the cat is eating\"]\n",
    "s2 = \"in\""
   ]
  },
  {
   "cell_type": "markdown",
   "metadata": {},
   "source": [
    "### Exercise\n",
    "\n",
    "Define a **function** with 2 input parameters: a **list** of **strings** and an additional **string**.\n",
    "The **function** should return the element of the **list** (i.e. one of the **strings**) that has the highest number of occurrences of the additional **string**.\n",
    "\n",
    "Hints:\n",
    " - This exercise is similar to when you had to find the highest number in a **list**.\n",
    " - During the loop iterations, you will need 2 separate **variables**: the highest number of occurrences and the **string** where you got it from. On the other hand when finding the highest number both information where provided by the number itself."
   ]
  },
  {
   "cell_type": "code",
   "execution_count": null,
   "metadata": {},
   "outputs": [],
   "source": [
    "l1 = [\"dog\", \"cat\", \"cow\", \"fox\"]\n",
    "s1 = \"a\"\n",
    "\n",
    "l2 = [\"dogs are dogs\", \"cats are similar to dogs\", \"cows are cows\"]\n",
    "s2 = \"dogs\"\n",
    "\n",
    "l3 = [\"dogs are pretty, but not milky\", \"cats are savage\", \"milky cows are milky\"]\n",
    "s3 = \"lk\""
   ]
  },
  {
   "cell_type": "markdown",
   "metadata": {},
   "source": [
    "### Exercise\n",
    "\n",
    "Define a **function** that takes a **list** as input argument and returns the most occurring element in the **list**. If multiple elements have the same number of occurrences, return any of them."
   ]
  },
  {
   "cell_type": "code",
   "execution_count": null,
   "metadata": {},
   "outputs": [],
   "source": [
    "# Input lists\n",
    "x = [1, 1, 1, 2]\n",
    "y = [1, 2, 3, 4, 5]\n",
    "z = [1, 2, 2, 3, 3, 3]"
   ]
  },
  {
   "cell_type": "markdown",
   "metadata": {},
   "source": [
    "###  The `replace()` method\n",
    "\n",
    "The `replace()` **method** is called on an object of **class string** and it takes 2 other **strings** as input: it will replace all occurrences in the object of the first argument with the second argument.\n",
    "\n",
    "It's a **method** that is available only for **string** objects. You will get an error if you use it with an object of **class list**.\n",
    "\n",
    "Remember that a **string** is immutable: a **method** such as `replace()` does not actually modify the **string** it is called on. It has a `return` value and it returns a new **string** object that is a modified version of the original **string**, while leaving the object on which it is called unchanged.\n"
   ]
  },
  {
   "cell_type": "code",
   "execution_count": null,
   "metadata": {},
   "outputs": [],
   "source": [
    "my_string = \"hello world\"\n",
    "\n",
    "# `replace()` method changes all occurrences of first sub-string into the second sub-string\n",
    "my_string_v2 = my_string.replace(\"o\", \"XX\") # The result is stored into `my_string_v2`\n",
    "\n",
    "print(my_string)\n",
    "print(my_string_v2)"
   ]
  },
  {
   "cell_type": "markdown",
   "metadata": {},
   "source": [
    "### Exercise\n",
    "\n",
    "Define a **function** that takes as input a **string** and two characters.\n",
    "The **function** should return a modified version of the **string** where the character among the two provided that occurs the most is replaced by `!`, while the other is replaced by `?` only if there are more than 2 occurrences of it."
   ]
  },
  {
   "cell_type": "code",
   "execution_count": null,
   "metadata": {},
   "outputs": [],
   "source": [
    "# First input\n",
    "s1 = \"hello\"\n",
    "c1_a = \"l\"\n",
    "c1_b = \"e\"\n",
    "# Second input\n",
    "s2 = \"world\"\n",
    "c2_a = \"a\"\n",
    "c2_b = \"b\"\n",
    "# Third input\n",
    "s3 = \"xxyyxxy\"\n",
    "c3_a = \"x\"\n",
    "c3_b = \"y\""
   ]
  },
  {
   "cell_type": "markdown",
   "metadata": {},
   "source": [
    "### Exercise\n",
    "\n",
    "Define a **function** that takes a **string** as input and returns a modified version of the input **string** where the character that occurs the least is replaced by `?` and the character that occurs the most is replaced by `!`.\n",
    "\n",
    "Hints:\n",
    " - When computing the highest positive number in a list (or the most number of occurrences) you created an additional variable initialized to `0` and then you updated it every time you found a number higher than the variable itself. This was correct because `0` is the smallest non-negative number, so any number in the list would have been greater or equal than that. On the other hand, if you are looking for the smallest number (or the least number of occurrences) you will have to initialize the variable to a value such that every possible value that you will find will be smaller or equal to that. A safe bet, is to initialize it to a huge number (e.g. 1000000000000) and then to assume that your list will only contain smaller elements. This is not very robust, as in a real application you never know all the possible input in advance. Considering this exercise, a possible solution is to initialize the variable to be equal to the length of the string, as this number is obviously greater than the number of occurrences of any character in it.\n",
    " \n",
    "- This exercise is similar to when you had to find the string with more occurrences of a character in a list of strings. In that case you had to use 2 separate variables, here you will need 4 of them.\n"
   ]
  },
  {
   "cell_type": "code",
   "execution_count": null,
   "metadata": {},
   "outputs": [],
   "source": [
    "# Input strings\n",
    "x = \"xyzxyyxyyz\"\n",
    "y = \"ababaccccca\""
   ]
  },
  {
   "cell_type": "markdown",
   "metadata": {},
   "source": [
    "### The `append()` method\n",
    "\n",
    "An important **method** that is available only to **list** objects is `append()`.\n",
    "\n",
    "**Lists** are mutable and you have seen how it's possible to modify single elements of a **list**.\n",
    "Similarly, it's also possible to extend a **list** by \"appending\" elements at its end.\n",
    "\n",
    "Note that differently from `replace()` with **strings**, this **method** modifies the object that is called on.\n",
    "The `append()` **method** has no return value. You only have to call on an object and this will be modified."
   ]
  },
  {
   "cell_type": "code",
   "execution_count": null,
   "metadata": {},
   "outputs": [],
   "source": [
    "my_list = []\n",
    "print(my_list)\n",
    "\n",
    "# `append()` method adds an element at the end of the string\n",
    "my_list.append(9)\n",
    "print(my_list)"
   ]
  },
  {
   "cell_type": "markdown",
   "metadata": {},
   "source": [
    "It's important to be careful to **never call `append()` on a list while you are iterating with a `for` loop on it**.\n",
    "\n",
    "This is because the `for` loop will go through all the elements in the **list** and if in its body you add elements at the end, you will also go through these new elements. There is the risk of undesired side effects or infinite loops.\n",
    "\n",
    "Consider the task of adding to a **list** all its elements with the values doubled.\n",
    "\n",
    "The following code shows a wrong way of doing it that causes an infinite loop (P.S. you can terminate a block of code using the \"stop\" button in the topbar, i.e. the black square next to \"Run\")."
   ]
  },
  {
   "cell_type": "code",
   "execution_count": null,
   "metadata": {},
   "outputs": [],
   "source": [
    "x = [1, 2, 3]\n",
    "for a in x:\n",
    "    print(\"a is:\", a, \"adding:\", a * 2)\n",
    "    x.append(a * 2)"
   ]
  },
  {
   "cell_type": "markdown",
   "metadata": {},
   "source": [
    "To avoid the infinite loop, you have to create a copy of the **list** such that you can use the original **list** in the `for` loop statement, but you add elements to the copy (or viceversa).\n",
    "\n",
    "However, **list** objects are copied by reference. If you don't remember what copy by reference is, check again the chapter on **lists**, but it's the concept that causes changes to a **list** within a function to be reflected also on the object outside the function."
   ]
  },
  {
   "cell_type": "code",
   "execution_count": null,
   "metadata": {},
   "outputs": [],
   "source": [
    "x = [1, 2, 3]\n",
    "y = x # This is a copy by reference, so `y` it's just an alias for `x` but the object is the same\n",
    "for a in y:\n",
    "    print(\"a is:\", a, \"adding:\", a * 2)\n",
    "    x.append(a * 2)"
   ]
  },
  {
   "cell_type": "code",
   "execution_count": null,
   "metadata": {},
   "outputs": [],
   "source": [
    "x = [1, 2, 3]\n",
    "\n",
    "y = [] # `y` is a separate object from `x`\n",
    "# This loop has the effect of copying the content of `x` into `y`\n",
    "for v in x:\n",
    "    y.append(v)\n",
    "\n",
    "print(\"After first loop\", y) # The content of `x` and `y` is the same, but they are still separate\n",
    "\n",
    "# This loop performs the requested task on a copy of the list, avoiding the infinite loop problem\n",
    "for v in x:\n",
    "    y.append(2 * v)\n",
    "\n",
    "print(\"After second loop\", y)"
   ]
  },
  {
   "cell_type": "markdown",
   "metadata": {},
   "source": [
    "### Exercise\n",
    "\n",
    "Define a **function** that takes a **list** as input and returns a new list as output. This output list should contain only the elements of the input **list** that are odd or smaller than 0.\n",
    "\n",
    "Hint: think of this exercise as if you had to \"sum\" all the elements of a list that have specific characteristics. You would do it with a counter. This is very similar, but the counter variable is a list and you append instead of summing."
   ]
  },
  {
   "cell_type": "code",
   "execution_count": null,
   "metadata": {},
   "outputs": [],
   "source": [
    "# Input lists\n",
    "x = [1, 8, -3, -6, 4, 2, -10]\n",
    "y = [4]\n",
    "z = []"
   ]
  },
  {
   "cell_type": "markdown",
   "metadata": {},
   "source": [
    "### Exercise\n",
    "\n",
    "Define a **function** that takes a **list** as input and returns a new version of it.\n",
    "The new version should contain only the first 2 occurrences of each element in the **list**.\n",
    "\n",
    "Hints:\n",
    " - Start from an empty list and begin appending the elements of the input list to it. Before appending an element, check if there are already too many elements with that value or not.\n",
    " - The expected output is `[1, 2, 3, 1, 2, 3, 4, 4]`."
   ]
  },
  {
   "cell_type": "code",
   "execution_count": null,
   "metadata": {},
   "outputs": [],
   "source": [
    "x = [1, 2, 3, 1, 2, 3, 1, 2, 3, 4, 4, 4]"
   ]
  },
  {
   "cell_type": "markdown",
   "metadata": {},
   "source": [
    "### Exercise\n",
    "\n",
    "Define a **function** that takes a **list** as input.\n",
    "This **function** should return a new **list** as output where the element in each position is equal to the sum between the element in the corresponding position in the input **list** and all the elements in the previous positions in the output **list**.\n",
    "\n",
    "Hint: the expected output is `[10, 110, 1120]`."
   ]
  },
  {
   "cell_type": "code",
   "execution_count": null,
   "metadata": {},
   "outputs": [],
   "source": [
    "x = [10, 100, 1000]"
   ]
  }
 ],
 "metadata": {
  "kernelspec": {
   "display_name": "Python 3",
   "language": "python",
   "name": "python3"
  },
  "language_info": {
   "codemirror_mode": {
    "name": "ipython",
    "version": 3
   },
   "file_extension": ".py",
   "mimetype": "text/x-python",
   "name": "python",
   "nbconvert_exporter": "python",
   "pygments_lexer": "ipython3",
   "version": "3.8.2"
  }
 },
 "nbformat": 4,
 "nbformat_minor": 4
}
