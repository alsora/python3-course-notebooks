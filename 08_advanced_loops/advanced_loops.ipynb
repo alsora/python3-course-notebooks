{
 "cells": [
  {
   "cell_type": "markdown",
   "metadata": {},
   "source": [
    "# Advanced loops\n",
    "\n",
    "So far, `for` loops have been used to perform repeated tasks using all the elements of a **list**, using multiple iterations.\n",
    "During each iteration, the placeholder variable was being assigned the value of one of the elements in turn.\n",
    "\n",
    "However, it is not directly possible to know, in the loop body, the position of the element (i.e. the index) that you are currently processing.\n",
    "\n",
    "Consider for example the following assignements and think how would you solve them."
   ]
  },
  {
   "cell_type": "markdown",
   "metadata": {},
   "source": [
    " - Write a code that, given a **list** prints all the elements that are at positions that are multiple of 3."
   ]
  },
  {
   "cell_type": "code",
   "execution_count": null,
   "metadata": {},
   "outputs": [],
   "source": [
    "# Use a counter to know which index you are currently working with.\n",
    "i = 0 # You need to initialize the counter\n",
    "for x in [1, 10, 100, 1000]:\n",
    "    if i % 3 == 0:\n",
    "        print(\"This is element\", x, \"at postion\", i)\n",
    "    i = i + 1 # You need to update the counter at the end of the iteration"
   ]
  },
  {
   "cell_type": "markdown",
   "metadata": {},
   "source": [
    "- Write a code that prints all the numbers between 0 and X that are multiple of 3."
   ]
  },
  {
   "cell_type": "code",
   "execution_count": null,
   "metadata": {},
   "outputs": [],
   "source": [
    "# Create a \"fake list\", made of all the possible numbers in your range 0, X \n",
    "my_fake_list = [0, 1, 2, 3, 4, 5, 6, 7, 8, 9, 10]\n",
    "for x in my_fake_list:\n",
    "    if x % 3 == 0:\n",
    "        print(\"Number is multiple of 3:\", x)"
   ]
  },
  {
   "cell_type": "markdown",
   "metadata": {},
   "source": [
    "The first code block looks more complex and prone to errors than required (e.g. you have to remember to correctly increment the counter).\n",
    "\n",
    "On the other hand, the second code block makes sense only if your range is relatively small.\n",
    "\n",
    "You will now learn about two important Python **functions** that allow to easily solve the problems described above."
   ]
  },
  {
   "cell_type": "markdown",
   "metadata": {},
   "source": [
    "### The `enumerate()` function\n",
    "\n",
    "The `enumerate()` **function** allows to use two placeholder variables in a `for` loop. The first one will have the current index assigned, while the second one the value of the current element (as in standard `for` loops).\n",
    "\n",
    "Keep in mind that the order of the placeholder variables is important, not their name.\n",
    "The first one is always the index and the second one is always the value."
   ]
  },
  {
   "cell_type": "code",
   "execution_count": null,
   "metadata": {},
   "outputs": [],
   "source": [
    "for i, x in enumerate([1, 10, 100, 1000]):\n",
    "    print(\"This is element\", x, \"at postion\", i)"
   ]
  },
  {
   "cell_type": "markdown",
   "metadata": {},
   "source": [
    "### Exercise\n",
    "\n",
    "Define a function that takes a list as input argument and returns the sum of all the numbers that have a value smaller or equal than their index (e.g. a value 1 in position 1 is ok, while a value 4 in position 3 is not)."
   ]
  },
  {
   "cell_type": "code",
   "execution_count": null,
   "metadata": {},
   "outputs": [],
   "source": [
    "# Input lists\n",
    "x = [1, 3]\n",
    "y = [0, 0, 2, 2, 4, 4]\n",
    "z = [2, 2, 2, 2, 2, 2]"
   ]
  },
  {
   "cell_type": "markdown",
   "metadata": {},
   "source": [
    "### The `range()` function\n",
    "\n",
    "The `range()` **function** allows to iterate over a sequence of numbers by only specifying its boundaries.\n",
    "\n",
    "Remember that **list** indices start at 0 and that the last element in the list is at index `len() - 1`, similarly the end boundary in the `range()` function (i.e. the second argument) is excluded."
   ]
  },
  {
   "cell_type": "code",
   "execution_count": null,
   "metadata": {},
   "outputs": [],
   "source": [
    "for x in range(0, 5):\n",
    "    print(\"range iteration:\", x)\n",
    "\n",
    "z = 100\n",
    "for x in range(10, z):\n",
    "    if x % 9 == 0:\n",
    "        print(\"Number is multiple of 9:\", x)"
   ]
  },
  {
   "cell_type": "markdown",
   "metadata": {},
   "source": [
    "### Exericse\n",
    "\n",
    "Define a function for computing the factorial of an input number. The factorial is the following expression:\n",
    "\n",
    "\\begin{equation*}\n",
    "4! = 4 \\times 3 \\times 2 \\times 1\n",
    "\\end{equation*}\n",
    "\n",
    "Note that there is also an exception: the factorial of 0, is 1.\n",
    "\n",
    "Hints: remember the commutative property: $4 \\times 3 \\times 2 \\times 1 = 1 \\times 2 \\times 3 \\times 4$"
   ]
  },
  {
   "cell_type": "code",
   "execution_count": null,
   "metadata": {},
   "outputs": [],
   "source": [
    "# Input numbers\n",
    "a = 0\n",
    "b = 1\n",
    "c = 2\n",
    "d = 3\n",
    "e = 4"
   ]
  },
  {
   "cell_type": "markdown",
   "metadata": {},
   "source": [
    "### The slicing operator\n",
    "\n",
    "An additional operator that is available for **string** and **list** is the **slicing** operator.\n",
    "It is very similar to the **indexing** operator `[N]`, but it allows to obtain a \"slice\" of elements, instead of only 1.\n",
    "\n",
    "The slice is indicated with 2 numbers (that reperesent indices) separated by a colon `:`. Note that the first index is included, while the second is excluded. The slice operator always returns a list\n",
    "\n",
    "**Remember that the first position is index 0**."
   ]
  },
  {
   "cell_type": "code",
   "execution_count": null,
   "metadata": {},
   "outputs": [],
   "source": [
    "my_list = [10, 20, 30, 40, 50, 60]\n",
    "\n",
    "a = my_list[0:2]\n",
    "b = my_list[2:len(my_list)]\n",
    "print(a)\n",
    "print(b)\n",
    "\n",
    "c = my_list[:3] # If the start index (left of `:`) is not specified, it is assumed to be 0\n",
    "d = my_list[3:] # If the end index (right of `:`) is not specified, it is assumed to be length of the list\n",
    "print(c)\n",
    "print(d)\n",
    "\n",
    "# The slicing operator always returns a list, in some cases a list of a single element\n",
    "e = my_list[2:3]\n",
    "f = my_list[:1]\n",
    "print(e, \"and\", e[0])\n",
    "print(f, \"and\", f[0])"
   ]
  },
  {
   "cell_type": "markdown",
   "metadata": {},
   "source": [
    "In the previous lesson you saw how to copy a **list** by using a `for` loop in order to create a new, but identical object.\n",
    "\n",
    "The slicing operator always returns a new **list** object, not a reference to the original, so it can be used for copying **lists** in a compact way."
   ]
  },
  {
   "cell_type": "code",
   "execution_count": null,
   "metadata": {},
   "outputs": [],
   "source": [
    "my_list = [10, 20, 30]\n",
    "\n",
    "x = []\n",
    "for v in my_list:\n",
    "    x.append(v)\n",
    "print(\"x is:\", x)\n",
    "\n",
    "y = my_list[0:len(my_list)]\n",
    "print(\"y is:\", y)\n",
    "\n",
    "z = my_list[:]\n",
    "print(\"z is:\", z)"
   ]
  },
  {
   "cell_type": "markdown",
   "metadata": {},
   "source": [
    "### Exercise\n",
    "\n",
    "Define a function that takes two strings as input. The function should return a string that is obtained by concatenating the first three letters of the first string with the last three letters of the second string.\n",
    "If one of the strings has less than three letters, it should use all of them."
   ]
  },
  {
   "cell_type": "code",
   "execution_count": null,
   "metadata": {},
   "outputs": [],
   "source": [
    "# First pair of strings\n",
    "s_1a = \"Hello\"\n",
    "s_1b = \"Computer\"\n",
    "# Second pair of strings\n",
    "s_2a = \".\"\n",
    "s_2b = \"--\"\n",
    "# Third pair of strings\n",
    "s_3a = \"Cat\"\n",
    "s_4a = \"Dog sitter\""
   ]
  },
  {
   "cell_type": "markdown",
   "metadata": {},
   "source": [
    "### Exercise\n",
    "\n",
    "Write a function that takes a string as input and returns the characters in the middle.\n",
    "If the string has an odd number of characters, it should return the 3 characters in the middle or all of them is the string is shorter than 3 characters.\n",
    "If the string has an even number of characters, it should return the 4 characters in the middle or all of them is the string is shorter than 4 characters."
   ]
  },
  {
   "cell_type": "code",
   "execution_count": null,
   "metadata": {},
   "outputs": [],
   "source": [
    "a = \"hello\"\n",
    "b = \"b\"\n",
    "c = \"dog\"\n",
    "d = \"abcdefgh\"\n",
    "e = \"ee\"\n",
    "f = \"fish\""
   ]
  },
  {
   "cell_type": "markdown",
   "metadata": {},
   "source": [
    "### Exercise\n",
    "\n",
    "Define a function that takes two strings as input. It should return the number of occurrences of the letter `a` among the first 3 characters of the first string and the last 3 characters of the second string."
   ]
  },
  {
   "cell_type": "code",
   "execution_count": null,
   "metadata": {},
   "outputs": [],
   "source": [
    "# First pair of strings\n",
    "s1_a = \"charity\"\n",
    "s1_b = \"world\"\n",
    "# Second pair of strings\n",
    "s2_a = \"abandon\"\n",
    "s2_b = \"a\"\n",
    "# Third pair of strings\n",
    "s3_a = \"racoon\"\n",
    "s3_b = \"pea\""
   ]
  },
  {
   "cell_type": "markdown",
   "metadata": {},
   "source": [
    "### Exercise\n",
    "\n",
    "Define a function that takes a number as input argument and returns a list of 10 elements that contains the multiplication table (from 1 to 10) for the input number (i.e. 6, 12, 18, ...)."
   ]
  },
  {
   "cell_type": "code",
   "execution_count": null,
   "metadata": {},
   "outputs": [],
   "source": [
    "# Input numbers\n",
    "x = 6\n",
    "y = 10"
   ]
  },
  {
   "cell_type": "markdown",
   "metadata": {},
   "source": [
    "### Exercise\n",
    "\n",
    "Define a function that takes a list as input argument and returns the highest number at an odd position."
   ]
  },
  {
   "cell_type": "code",
   "execution_count": null,
   "metadata": {},
   "outputs": [],
   "source": [
    "# Input lists\n",
    "x = [0, 0, 1, 1, 2, 2]\n",
    "y = [-4, -2, 6, -3]"
   ]
  },
  {
   "cell_type": "markdown",
   "metadata": {},
   "source": [
    "### Exercise\n",
    "\n",
    "Define a function that takes a list as input a returns the highest number of consecutive equal letters in it.\n",
    "For example `[2, 1, 1, 2, 1, 1, 1, 2]` should return `3` as there are three consecutive `1`.\n",
    "\n",
    "Hints:\n",
    " - Use a counter to count the current sequence of elements.\n",
    " - Use the `enumerate()` function.\n",
    " - Remember that you can use mathematical expressions with the indexing operator: `my_list[a + b]`\n",
    " - Every iteration you should check for the following element in the list to decide whether to increment or reset the counter.\n",
    " - Be careful to not go out of bound: always check if an index is valid before accessing it."
   ]
  },
  {
   "cell_type": "code",
   "execution_count": null,
   "metadata": {},
   "outputs": [],
   "source": [
    "a = [2, 1, 1, 2, 1, 1, 1, 2]\n",
    "b = [0, 0, 1, 2]\n",
    "c = [1, 2, 3, 3, 3, 3]"
   ]
  }
 ],
 "metadata": {
  "kernelspec": {
   "display_name": "Python 3",
   "language": "python",
   "name": "python3"
  },
  "language_info": {
   "codemirror_mode": {
    "name": "ipython",
    "version": 3
   },
   "file_extension": ".py",
   "mimetype": "text/x-python",
   "name": "python",
   "nbconvert_exporter": "python",
   "pygments_lexer": "ipython3",
   "version": "3.7.5"
  }
 },
 "nbformat": 4,
 "nbformat_minor": 4
}
