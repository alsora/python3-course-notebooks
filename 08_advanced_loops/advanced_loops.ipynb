{
 "cells": [
  {
   "cell_type": "markdown",
   "metadata": {},
   "source": [
    "# Advanced loops\n",
    "\n",
    "You have been using `for` loops to repeat a task using all the elements of a **list**, through multiple iterations.\n",
    "During each iteration, the value of one of the elements is assigned to the placeholder loop variable and the code in the body of the loop is executed.\n",
    "\n",
    "You may have noticed that it is not directly possible to know the index of the element that you are currently processing (i.e. its position in the **list**). However, this knowledge would make some tasks simpler.\n",
    "\n",
    "Consider for example the following exercises and think how would you solve them."
   ]
  },
  {
   "cell_type": "markdown",
   "metadata": {},
   "source": [
    " - Write a code that, given a **list** prints all the elements after the second."
   ]
  },
  {
   "cell_type": "code",
   "execution_count": null,
   "metadata": {},
   "outputs": [],
   "source": [
    "# Use a counter to know which index you are currently working with.\n",
    "c = 0 # You need to initialize the counter\n",
    "for x in [1, 10, 100, 1000]:\n",
    "    if c > 1:\n",
    "        print(\"This is element\", x, \"at postion\", c)\n",
    "    c = c + 1 # You need to update the counter at the end of the iteration (not before)"
   ]
  },
  {
   "cell_type": "markdown",
   "metadata": {},
   "source": [
    "- Write a code that prints all the numbers between 1 and 10 that are multiple of 3."
   ]
  },
  {
   "cell_type": "code",
   "execution_count": null,
   "metadata": {},
   "outputs": [],
   "source": [
    "# Create a \"fake list\", made of all the possible numbers in your range 1, 10\n",
    "my_fake_list = [1] # The list must contain already 1 element, otherwise the loop's body will not be executed\n",
    "c = 2 # We initialize with the first element to add (2 becasue 1 is already there)\n",
    "for fake_var in my_fake_list:\n",
    "    my_fake_list.append(c) # This is dangerous as it can cause an infinit loop\n",
    "    if len(my_fake_list) == 10: # This makes sure that we stop when all the elements have been added\n",
    "        break\n",
    "    c = c + 1 # Prepare the next number to be added\n",
    "\n",
    "print(\"My fake list is: \", my_fake_list)\n",
    "\n",
    "for x in my_fake_list:\n",
    "    if x % 3 == 0:\n",
    "        print(x, \"is multiple of 3\")"
   ]
  },
  {
   "cell_type": "markdown",
   "metadata": {},
   "source": [
    "Both exercises look very simple in principle, but the way in which they are implemented using only a basic `for` loop may become challenging.\n",
    "\n",
    "The solutions are complex and prone to errors mainly because we have to correctly initialize and update a counter variable.\n",
    "\n",
    "You will now learn about two important Python **functions** that allow to easily solve the problems described above."
   ]
  },
  {
   "cell_type": "markdown",
   "metadata": {},
   "source": [
    "### The `enumerate()` function\n",
    "\n",
    "The `enumerate()` **function** provides an automatic counter for knowing the index of the current element in a `for` loop.\n",
    "This is done using two separate variables in the loop statement: the first one will have the current index assigned to it, while the second one the value of the current element (as in standard `for` loops).\n",
    "Note that there is a comma `,` separating the two variables.\n",
    "\n",
    "Keep in mind that **the order of the placeholder variables is important**, not their names.\n",
    "When using `enumerate()`, the first variable is always the index and the second one is always the value.\n",
    "\n",
    "It is recommended to give meaningful name to placeholder variables when you have more than one of them, to prevent mistakes in the loop body."
   ]
  },
  {
   "cell_type": "code",
   "execution_count": null,
   "metadata": {},
   "outputs": [],
   "source": [
    "my_list = [1, 10, 100, 1000]\n",
    "for index, value in enumerate(my_list):\n",
    "    print(\"This is element\", value, \"at postion\", index)"
   ]
  },
  {
   "cell_type": "markdown",
   "metadata": {},
   "source": [
    "### Exercise\n",
    "\n",
    "Define a function that takes a list as input argument and returns a new list made only by the elements at odd positions"
   ]
  },
  {
   "cell_type": "code",
   "execution_count": null,
   "metadata": {},
   "outputs": [],
   "source": [
    "# Input lists\n",
    "x = [10, 20, 30, 40, 50]\n",
    "y = []"
   ]
  },
  {
   "cell_type": "markdown",
   "metadata": {},
   "source": [
    "### The `range()` function\n",
    "\n",
    "The `range()` **function** allows to generate a progressive sequence of numbers by only specifying its extremes (i.e. where the sequence starts and ends) to use it in a `for` loop.\n",
    "\n",
    "Remember that **list** indices start at `0` and that the last element in the list is at index `len() - 1`.\n",
    "Similarly the end boundary in the `range()` function is excluded.\n",
    "\n",
    "Considering a range representing the sequence from `2` to `5`:\n",
    " - The length of the range is `5 - 2` (i.e. it has 3 elements).\n",
    " - The first element is `2`.\n",
    " - The last element is `4`.\n",
    " - It's equivalent to the **list** `[2, 3, 4]`."
   ]
  },
  {
   "cell_type": "code",
   "execution_count": null,
   "metadata": {},
   "outputs": [],
   "source": [
    "for x in range(0, 5):\n",
    "    print(\"Range iteration:\", x)\n",
    "\n",
    "print(\"----\")\n",
    "    \n",
    "z = 100\n",
    "for x in range(10, z):\n",
    "    if x % 9 == 0:\n",
    "        print(\"Number is multiple of 9:\", x)"
   ]
  },
  {
   "cell_type": "markdown",
   "metadata": {},
   "source": [
    "### Exericse\n",
    "\n",
    "Define a function for computing the factorial of an input number. The factorial is the following expression:\n",
    "\n",
    "\\begin{equation*}\n",
    "4! = 4 \\times 3 \\times 2 \\times 1\n",
    "\\end{equation*}\n",
    "\n",
    "Note that there is an exception: the factorial of 0, is 1.\n",
    "\n",
    "Hints:\n",
    " - This exercise is similar to when you had to sum all the elements of a list.\n",
    " - You should apply the commutative property to make the expression simpler to represent with a range: $4 \\times 3 \\times 2 \\times 1 = 1 \\times 2 \\times 3 \\times 4$"
   ]
  },
  {
   "cell_type": "code",
   "execution_count": null,
   "metadata": {},
   "outputs": [],
   "source": [
    "# Input numbers\n",
    "a = 0\n",
    "b = 1\n",
    "c = 4\n",
    "d = 5"
   ]
  },
  {
   "cell_type": "markdown",
   "metadata": {},
   "source": [
    "### The slicing operator\n",
    "\n",
    "The **slicing** operator combines the **indexing** operator `[N]` with the `range()` **function**, allowing to access a range of elements in **strings** and **lists** objects.\n",
    "\n",
    "The **slicing** operator requires to specify 2 numbers: a start and an end indices.\n",
    "This allows to access a \"slice\" of elements in a **list** or **string** instead of only one.\n",
    "For example, given a **list** of 10 elements, you could extract the slice from element 2 to element 5.\n",
    "\n",
    "The 2 indices are separated by a colon and within square brackets `[2:5]`. Note that the first index is included, while the second is excluded, according to the same logic described for the `range()` function. \n",
    "\n",
    "The standard rules of the **indexing** operator still apply: you have to remember that the first position is at index 0 and you have to make sure that indices are valid within the **list**.\n",
    "\n",
    "The **slicing** operator always returns a **list** object: if the specified range includes only 1 element, the operator will return a list of 1 element.\n",
    "\n",
    "The **list** returned by the **slicing** operator is a new object with values equal to the original ones, it's not an alias or a reference of the original."
   ]
  },
  {
   "cell_type": "code",
   "execution_count": null,
   "metadata": {},
   "outputs": [],
   "source": [
    "my_list = [10, 20, 30, 40, 50, 60]\n",
    "\n",
    "a = my_list[0:2]\n",
    "b = my_list[2:len(my_list)] # The end index is not included \n",
    "print(a)\n",
    "print(b)\n",
    "\n",
    "c = my_list[:3] # If the start index (left of `:`) is not specified, it is assumed to be 0\n",
    "d = my_list[3:] # If the end index (right of `:`) is not specified, it is assumed to be length of the list\n",
    "print(c)\n",
    "print(d)\n",
    "\n",
    "# The slicing operator always returns a list, in some cases a list of a single element\n",
    "e = my_list[2:3]\n",
    "f = my_list[:1]\n",
    "print(e, \"and\", e[0])\n",
    "print(f, \"and\", f[0])"
   ]
  },
  {
   "cell_type": "markdown",
   "metadata": {},
   "source": [
    "In the previous lesson you saw how to copy a **list** by using a `for` loop in order to create a new, but identical object.\n",
    "\n",
    "The slicing operator always returns a new **list** object, not a reference to the original, so it can be used for copying **lists** in a compact way."
   ]
  },
  {
   "cell_type": "code",
   "execution_count": null,
   "metadata": {},
   "outputs": [],
   "source": [
    "my_list = [10, 20, 30]\n",
    "\n",
    "# Copy using a `for` loop\n",
    "x = []\n",
    "for v in my_list:\n",
    "    x.append(v)\n",
    "print(\"x is:\", x)\n",
    "\n",
    "# Copy using slicing operator\n",
    "y = my_list[0:len(my_list)]\n",
    "print(\"y is:\", y)\n",
    "\n",
    "# Copy using slicing operator, using default values\n",
    "z = my_list[:]\n",
    "print(\"z is:\", z)"
   ]
  },
  {
   "cell_type": "markdown",
   "metadata": {},
   "source": [
    "### Exercise\n",
    "\n",
    "Define a function that takes two strings as input. The function should return a string that is obtained by concatenating the first three letters of the first string with the last three letters of the second string.\n",
    "If one of the strings has less than three letters, it should use all of them.\n",
    "\n",
    "Remember that concatenation is the \"addition\" of two strings."
   ]
  },
  {
   "cell_type": "code",
   "execution_count": null,
   "metadata": {},
   "outputs": [],
   "source": [
    "# First pair of strings\n",
    "s_1a = \"Hello\"\n",
    "s_1b = \"Computer\"\n",
    "# Second pair of strings\n",
    "s_2a = \".\"\n",
    "s_2b = \"--\"\n",
    "# Third pair of strings\n",
    "s_3a = \"Cat\"\n",
    "s_4a = \"Dog sitter\""
   ]
  },
  {
   "cell_type": "markdown",
   "metadata": {},
   "source": [
    "### Exercise\n",
    "\n",
    "Define a function that takes a list as input argument and returns the sum of all the numbers that have a value smaller or equal than their indices (e.g. value 1 in position 1 is ok and it should be summed, while value 4 in position 3 is not)."
   ]
  },
  {
   "cell_type": "code",
   "execution_count": null,
   "metadata": {},
   "outputs": [],
   "source": [
    "# Input lists\n",
    "x = [1, 3]\n",
    "y = [0, 0, 2, 2, 4, 4]\n",
    "z = [2, 2, 2, 2, 2, 2]"
   ]
  },
  {
   "cell_type": "markdown",
   "metadata": {},
   "source": [
    "### Exercise\n",
    "\n",
    "Write a function that takes a string as input and returns some characters from the middle.\n",
    "If the string has an odd number of characters, it should return the 3 characters in the middle or all of them is the string is shorter than 3 characters.\n",
    "If the string has an even number of characters, it should return the 4 characters in the middle or all of them is the string is shorter than 4 characters."
   ]
  },
  {
   "cell_type": "code",
   "execution_count": null,
   "metadata": {},
   "outputs": [],
   "source": [
    "a = \"hello\"\n",
    "b = \"b\"\n",
    "c = \"dog\"\n",
    "d = \"abcdefgh\"\n",
    "e = \"ee\"\n",
    "f = \"fish\""
   ]
  },
  {
   "cell_type": "markdown",
   "metadata": {},
   "source": [
    "### Exercise\n",
    "\n",
    "Define a function that takes two strings as input. It should return the number of occurrences of the letter `a` among the first 3 characters of the first string and the last 3 characters of the second string."
   ]
  },
  {
   "cell_type": "code",
   "execution_count": null,
   "metadata": {},
   "outputs": [],
   "source": [
    "# First pair of strings\n",
    "s1_a = \"charity\"\n",
    "s1_b = \"world\"\n",
    "# Second pair of strings\n",
    "s2_a = \"abandon\"\n",
    "s2_b = \"a\"\n",
    "# Third pair of strings\n",
    "s3_a = \"racoon\"\n",
    "s3_b = \"pea\""
   ]
  },
  {
   "cell_type": "markdown",
   "metadata": {},
   "source": [
    "### Exercise\n",
    "\n",
    "Define a function that takes a number as input argument and returns a list of 10 elements that contains the multiplication table (from 1 to 10) for the input number (i.e. 6, 12, 18, ...)."
   ]
  },
  {
   "cell_type": "code",
   "execution_count": null,
   "metadata": {},
   "outputs": [],
   "source": [
    "# Input numbers\n",
    "x = 6\n",
    "y = 10"
   ]
  },
  {
   "cell_type": "markdown",
   "metadata": {},
   "source": [
    "### Exercise\n",
    "\n",
    "Define a function that takes a list as input argument and returns the highest number at an odd position."
   ]
  },
  {
   "cell_type": "code",
   "execution_count": null,
   "metadata": {},
   "outputs": [],
   "source": [
    "# Input lists\n",
    "x = [0, 0, 1, 1, 2, 2]\n",
    "y = [-4, -2, 6, -3]"
   ]
  },
  {
   "cell_type": "markdown",
   "metadata": {},
   "source": [
    "### Exercise\n",
    "\n",
    "Define a function that takes as input a string and a list of strings representing a database.\n",
    "The function should compare the provided input string with every string in the databse and find the two strings in the database that are the most similar with it.\n",
    "The function should return a list of 2 elements corresponding to the 2 most similar strings in order.\n",
    "\n",
    "Similarity is only measured by same elements in the exact same position among the strings."
   ]
  },
  {
   "cell_type": "code",
   "execution_count": null,
   "metadata": {},
   "outputs": [],
   "source": [
    "# The database\n",
    "db = [\n",
    "    \"ATATATATATAT\",\n",
    "    \"AGCTAGCTAGCT\",\n",
    "    \"GCGCGCATATAT\",\n",
    "    \"TGCAATGACGTA\"\n",
    "]\n",
    "\n",
    "# Input strings\n",
    "x = \"AAAAAAAAAAAA\"\n",
    "y = \"GAGAGACTCTCT\""
   ]
  },
  {
   "cell_type": "markdown",
   "metadata": {},
   "source": [
    "### Exercise\n",
    "\n",
    "Define a function that takes a list as input and returns the highest number of consecutive equal values in it.\n",
    "For example `[2, 1, 1, 2, 1, 1, 1, 2]` should return `3` as there are three consecutive `1`.\n",
    "\n",
    "Hints:\n",
    " - Use the `enumerate()` function to know the current index.\n",
    " - Use the slicing operator to create a sublist of the remaining elements.\n",
    " - Keep counting until the values in the sublist are equal to the current value."
   ]
  },
  {
   "cell_type": "code",
   "execution_count": null,
   "metadata": {},
   "outputs": [],
   "source": [
    "a = [2, 1, 1, 2, 1, 1, 1, 2]\n",
    "b = [0, 0, 1, 2]\n",
    "c = [1, 2, 3, 3, 3, 3]"
   ]
  },
  {
   "cell_type": "markdown",
   "metadata": {},
   "source": [
    "### List of lists\n",
    "\n",
    "You have already seen examples of **lists of strings**.\n",
    "Each element in the **list** is a **string** and this allows to use all the **string** methods and operators on it."
   ]
  },
  {
   "cell_type": "code",
   "execution_count": null,
   "metadata": {},
   "outputs": [],
   "source": [
    "x = [\"ab\", \"cd\"]\n",
    "\n",
    "for s in x:\n",
    "    print(\"The string is:\", s, \"the first value is:\", s[0])\n",
    "    for c in s:\n",
    "        print(\"The character is:\", c)\n",
    "\n",
    "print(\"-----\")\n",
    "        \n",
    "s = x[1]\n",
    "print(\"The first value of the second string is:\", s[0])\n",
    "print(\"The first value of the first string is:\", x[0][0])"
   ]
  },
  {
   "cell_type": "markdown",
   "metadata": {},
   "source": [
    "A very similar syntax allows to work with **lists of lists**. This is an useful concept, as it allows for example to represent matrices."
   ]
  },
  {
   "cell_type": "code",
   "execution_count": null,
   "metadata": {},
   "outputs": [],
   "source": [
    "x = [[0, 0], [1, 1], [2, 2]]\n",
    "print(\"This is a matrix of\", len(x), \"rows\", \"and\", len(x[0]), \"columns\")\n",
    "\n",
    "for row in x:\n",
    "    print(\"The row is:\", row)\n",
    "    for v in row:\n",
    "        print(\"A value in the row is:\", v)"
   ]
  },
  {
   "cell_type": "markdown",
   "metadata": {},
   "source": [
    "### Exercise\n",
    "\n",
    "Write a function that takes 2 integer numbers (let's say `X` and `Y`) as input and it returns a matrix (i.e. a list of lists) with `X` rows and `Y` columns (i.e. the main list has `X` elements, each of them is a list of `Y` elements).\n",
    "\n",
    "Hint: use a nested for loop to create the elements in the list of lists one by one."
   ]
  },
  {
   "cell_type": "code",
   "execution_count": null,
   "metadata": {},
   "outputs": [],
   "source": []
  }
 ],
 "metadata": {
  "kernelspec": {
   "display_name": "Python 3",
   "language": "python",
   "name": "python3"
  },
  "language_info": {
   "codemirror_mode": {
    "name": "ipython",
    "version": 3
   },
   "file_extension": ".py",
   "mimetype": "text/x-python",
   "name": "python",
   "nbconvert_exporter": "python",
   "pygments_lexer": "ipython3",
   "version": "3.7.5"
  }
 },
 "nbformat": 4,
 "nbformat_minor": 4
}
