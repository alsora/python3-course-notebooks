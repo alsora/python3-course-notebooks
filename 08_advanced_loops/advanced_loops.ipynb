{
 "cells": [
  {
   "cell_type": "markdown",
   "metadata": {},
   "source": [
    "# Advanced loops\n",
    "\n",
    "You have been using `for` loops to repeat a task using all the elements of a **list**, through multiple iterations.\n",
    "During each iteration, the value of one of the elements is assigned to the placeholder loop variable and the code in the body of the loop is executed.\n",
    "\n",
    "You may have noticed that it is not directly possible to know the index of the element that you are currently processing (i.e. its position in the **list**). However, this knowledge would make some tasks simpler.\n",
    "\n",
    "Consider for example the following exercises and think how would you solve them."
   ]
  },
  {
   "cell_type": "markdown",
   "metadata": {},
   "source": [
    " - Write a code that, given a **list** prints all the elements after the second."
   ]
  },
  {
   "cell_type": "code",
   "execution_count": null,
   "metadata": {},
   "outputs": [],
   "source": [
    "# Use a counter to know which index you are currently working with.\n",
    "c = 0 # You need to initialize the counter\n",
    "for x in [1, 10, 100, 1000]:\n",
    "    if c > 1:\n",
    "        print(\"This is element\", x, \"at postion\", c)\n",
    "    c = c + 1 # You need to update the counter at the end of the iteration (not before)"
   ]
  },
  {
   "cell_type": "markdown",
   "metadata": {},
   "source": [
    "- Write a code that prints all the numbers between 1 and 10 that are multiple of 3."
   ]
  },
  {
   "cell_type": "code",
   "execution_count": null,
   "metadata": {},
   "outputs": [],
   "source": [
    "# Create a \"fake list\", made of all the possible numbers in the range 1, 10\n",
    "my_fake_list = [1] # The list must contain already an element, otherwise the loop's body will not be executed\n",
    "c = 2 # Initialize a variable with the first element to add (`2` becasue `1` is already in the list)\n",
    "for fake_var in my_fake_list:\n",
    "    my_fake_list.append(c) # This is dangerous as it can cause an infinite loop\n",
    "    c = c + 1 # Prepare the next number to be added\n",
    "    # The following prevents the problem of having an infinite loop\n",
    "    if len(my_fake_list) == 10: # Stop the loop when all the elements have been added\n",
    "        break\n",
    "\n",
    "print(\"My fake list is:\", my_fake_list)\n",
    "\n",
    "for x in my_fake_list:\n",
    "    if x % 3 == 0:\n",
    "        print(x, \"is multiple of 3\")"
   ]
  },
  {
   "cell_type": "markdown",
   "metadata": {},
   "source": [
    "Both exercises look very simple in principle, but the way in which they are implemented using only a basic `for` loop may become challenging.\n",
    "\n",
    "The solutions are complex and prone to errors mainly because you have to correctly initialize and update a counter variable.\n",
    "\n",
    "You will now learn about two important Python **functions** that allow to easily solve the problems described above."
   ]
  },
  {
   "cell_type": "markdown",
   "metadata": {},
   "source": [
    "### The `enumerate()` function\n",
    "\n",
    "The `enumerate()` **function** provides an automatic counter for knowing the index of the current element in a `for` loop.\n",
    "This is done using two separate variables in the loop statement: the first one will have the current index assigned to it, while the second one the value of the current element (as in standard `for` loops).\n",
    "Note that there is a comma `,` separating the two variables.\n",
    "\n",
    "Keep in mind that **the order of the placeholder variables is important, not their names**.\n",
    "When using `enumerate()`, the first variable is always the index and the second one is always the value.\n",
    "\n",
    "It is recommended to give meaningful name to placeholder variables when you have more than one of them, to prevent mistakes in the loop body."
   ]
  },
  {
   "cell_type": "code",
   "execution_count": null,
   "metadata": {},
   "outputs": [],
   "source": [
    "my_list = [1, 10, 100, 1000]\n",
    "for index, value in enumerate(my_list):\n",
    "    print(\"At position\", index, \"there is element\", value)"
   ]
  },
  {
   "cell_type": "markdown",
   "metadata": {},
   "source": [
    "### Exercise\n",
    "\n",
    "Define a function that takes a list as input argument and returns a new list made only by the elements at odd positions.\n",
    "Call the function on both input lists."
   ]
  },
  {
   "cell_type": "code",
   "execution_count": null,
   "metadata": {},
   "outputs": [],
   "source": [
    "# Input lists\n",
    "x = [10, 20, 30, 40, 50]\n",
    "y = []"
   ]
  },
  {
   "cell_type": "markdown",
   "metadata": {},
   "source": [
    "### The `range()` function\n",
    "\n",
    "The `range()` **function** allows to generate a progressive sequence of numbers by only specifying its extremes (i.e. where the sequence starts and ends) to use it in a `for` loop.\n",
    "\n",
    "Remember that **list** indices start at `0` and that the last element in the list is at index `len() - 1`.\n",
    "Similarly the end boundary in the `range()` function is excluded.\n",
    "\n",
    "Considering a range representing the sequence from `2` to `5`:\n",
    " - The first element is `2`.\n",
    " - The last element is `4`.\n",
    " - It's equivalent to the **list** `[2, 3, 4]`.\n",
    " - The length of the range is `5 - 2 = 3`."
   ]
  },
  {
   "cell_type": "code",
   "execution_count": null,
   "metadata": {},
   "outputs": [],
   "source": [
    "for x in range(0, 5):\n",
    "    print(\"Range iteration:\", x)\n",
    "\n",
    "print(\"----\")\n",
    "    \n",
    "z = 100\n",
    "for x in range(10, z):\n",
    "    if x % 9 == 0:\n",
    "        print(\"Number is multiple of 9:\", x)"
   ]
  },
  {
   "cell_type": "markdown",
   "metadata": {},
   "source": [
    "### Exericse\n",
    "\n",
    "Define a function for computing the factorial of an input number. The factorial is the following expression:\n",
    "\n",
    "\\begin{equation*}\n",
    "4! = 4 \\times 3 \\times 2 \\times 1\n",
    "\\end{equation*}\n",
    "\n",
    "Note that there is an exception: the factorial of 0 is 1.\n",
    "\n",
    "Call this function on all the input numbers.\n",
    "\n",
    "Hints:\n",
    " - This exercise is similar to when you had to sum all the elements of a list, but here you have to multiply, so be careful at how you initialize the counter variable.\n",
    " - You should apply the commutative property to make the expression simpler to represent with a range: $4 \\times 3 \\times 2 \\times 1 = 1 \\times 2 \\times 3 \\times 4$"
   ]
  },
  {
   "cell_type": "code",
   "execution_count": null,
   "metadata": {},
   "outputs": [],
   "source": [
    "# Input numbers\n",
    "a = 4\n",
    "b = 5\n",
    "c = 1\n",
    "d = 0"
   ]
  },
  {
   "cell_type": "markdown",
   "metadata": {},
   "source": [
    "### The slicing operator\n",
    "\n",
    "The **slicing** operator combines the **indexing** operator `[N]` with the `range()` **function**, allowing to access a range of elements in **strings** and **lists** objects.\n",
    "\n",
    "The **slicing** operator requires to specify 2 numbers: a start and an end indices.\n",
    "This allows to access a \"slice\" of elements in a **list** or **string** instead of only one.\n",
    "For example, given a **list** of 10 elements, you could extract the slice from element 2 to element 5.\n",
    "\n",
    "The 2 indices are separated by a colon `:` and within square brackets `[2:5]`. Note that the first index is included, while the second is excluded, according to the same logic described for the `range()` function. \n",
    "\n",
    "The standard rules of the **indexing** operator still apply: you have to remember that the first position is at index `0` and you have to make sure that indices are valid within the **list**.\n",
    "\n",
    "The **slicing** operator always returns a **list** object: if the specified range includes only 1 element, the operator will return a list of 1 element.\n",
    "\n",
    "The **list** returned by the **slicing** operator is a new object with values equal to the original ones, it's not an alias or a reference to the original **list**."
   ]
  },
  {
   "cell_type": "code",
   "execution_count": null,
   "metadata": {},
   "outputs": [],
   "source": [
    "my_list = [10, 20, 30, 40, 50, 60]\n",
    "print(\"my_list is:\", my_list)\n",
    "\n",
    "\n",
    "a = my_list[0:2]\n",
    "b = my_list[2:len(my_list)] # The end index is not included \n",
    "print(\"my_list[0:2] is:\", a)\n",
    "print(\"my_list[2:len(my_list)] is:\", b)\n",
    "\n",
    "c = my_list[:3] # If the start index (left of `:`) is not specified, it is assumed to be 0\n",
    "d = my_list[3:] # If the end index (right of `:`) is not specified, it is assumed to be length of the list\n",
    "print(\"my_list[:3] is:\", c)\n",
    "print(\"my_list[3:] is:\", d)\n",
    "\n",
    "# The slicing operator always returns a list, in some cases a list of a single element\n",
    "e = my_list[2:3]\n",
    "f = my_list[:1]\n",
    "print(\"my_list[2:3] is:\", e, \"and the element is:\", e[0])\n",
    "print(\"my_list[:1] is:\", f, \"and the element is:\", f[0])"
   ]
  },
  {
   "cell_type": "markdown",
   "metadata": {},
   "source": [
    "In the previous lesson you saw how to copy a **list** by using a `for` loop in order to create a new, but identical object.\n",
    "\n",
    "The slicing operator always returns a new **list** object, not a reference to the original, so it can be used for copying **lists** in a compact way."
   ]
  },
  {
   "cell_type": "code",
   "execution_count": null,
   "metadata": {},
   "outputs": [],
   "source": [
    "my_list = [10, 20, 30]\n",
    "\n",
    "# Copy using a `for` loop\n",
    "x = []\n",
    "for v in my_list:\n",
    "    x.append(v)\n",
    "print(\"x is:\", x)\n",
    "\n",
    "# Copy using slicing operator\n",
    "y = my_list[0:len(my_list)]\n",
    "print(\"y is:\", y)\n",
    "\n",
    "# Copy using slicing operator, using default values\n",
    "z = my_list[:]\n",
    "print(\"z is:\", z)\n",
    "\n",
    "z[0] = 1 # z is a new list object, not a reference to my_list, so changes to `z` do not reflect on `my_list`\n",
    "print(\"After the change z is:\", z, \"and my_list is:\", my_list)"
   ]
  },
  {
   "cell_type": "markdown",
   "metadata": {},
   "source": [
    "### Exercise\n",
    "\n",
    "Define a function that takes two strings as input. The function should return a string that is obtained by concatenating the first three letters of the first string with the last three letters of the second string.\n",
    "If one of the strings has less than three letters, it should use all of them.\n",
    "\n",
    "Call this function on all the pairs of strings.\n",
    "\n",
    "Hint: concatenation is the \"addition\" of two strings."
   ]
  },
  {
   "cell_type": "code",
   "execution_count": null,
   "metadata": {},
   "outputs": [],
   "source": [
    "# First pair of strings\n",
    "s_1a = \"Hello\"\n",
    "s_1b = \"Computer\"\n",
    "# Second pair of strings\n",
    "s_2a = \".\"\n",
    "s_2b = \"--\"\n",
    "# Third pair of strings\n",
    "s_3a = \"Cat\"\n",
    "s_3b = \"Dog sitter\"\n",
    "# Fourth pair of strings\n",
    "s_3a = \"AA\"\n",
    "s_3b = \"BBBB\""
   ]
  },
  {
   "cell_type": "markdown",
   "metadata": {},
   "source": [
    "### Exercise\n",
    "\n",
    "Define a function that takes a list as input argument and returns the sum of all the numbers that have a value smaller or equal than their indices (e.g. value 1 in position 1 is ok and it should be summed, while value 4 in position 3 is not).\n",
    "\n",
    "Call this function on all the input lists."
   ]
  },
  {
   "cell_type": "code",
   "execution_count": null,
   "metadata": {},
   "outputs": [],
   "source": [
    "# Input lists\n",
    "x = [1, 3]\n",
    "y = [0, 0, 2, 2, 4, 4]\n",
    "z = [2, 2, 2, 2, 2, 2]"
   ]
  },
  {
   "cell_type": "markdown",
   "metadata": {},
   "source": [
    "### Exercise\n",
    "\n",
    "Define a function that takes two strings as input. It should return the number of occurrences of the letter `a` among the first 3 characters of the first string and the last 3 characters of the second string."
   ]
  },
  {
   "cell_type": "code",
   "execution_count": null,
   "metadata": {},
   "outputs": [],
   "source": [
    "# First pair of strings\n",
    "s1_a = \"charity\"\n",
    "s1_b = \"world\"\n",
    "# Second pair of strings\n",
    "s2_a = \"abandon\"\n",
    "s2_b = \"a\"\n",
    "# Third pair of strings\n",
    "s3_a = \"racoon\"\n",
    "s3_b = \"pea\""
   ]
  },
  {
   "cell_type": "markdown",
   "metadata": {},
   "source": [
    "### Exercise\n",
    "\n",
    "Define a function that takes a number as input argument and returns a list of 10 elements that contains the multiplication table (from 1 to 10) for the input number (i.e. 6, 12, 18, ...)."
   ]
  },
  {
   "cell_type": "code",
   "execution_count": null,
   "metadata": {},
   "outputs": [],
   "source": [
    "# Input numbers\n",
    "x = 6\n",
    "y = 10"
   ]
  },
  {
   "cell_type": "markdown",
   "metadata": {},
   "source": [
    "### Exercise\n",
    "\n",
    "Define a function that takes a list as input argument and returns the highest number at an odd position."
   ]
  },
  {
   "cell_type": "code",
   "execution_count": null,
   "metadata": {},
   "outputs": [],
   "source": [
    "# Input lists\n",
    "x = [0, 0, 1, 1, 2, 2]\n",
    "y = [-4, -2, 6, -3]"
   ]
  },
  {
   "cell_type": "markdown",
   "metadata": {},
   "source": [
    "### Exercise\n",
    "\n",
    "Define a function that takes a list as input and returns the highest number of consecutive equal values in it.\n",
    "For example `[2, 1, 1, 2, 1, 1, 1, 2]` should return `3` as there are three consecutive `1`.\n",
    "\n",
    "Hints:\n",
    " - Use the `enumerate()` function to know the current index.\n",
    " - Use the slicing operator to create a sublist of the remaining elements.\n",
    " - Use a loop on this sublist and count until the numbers are equal to the current value."
   ]
  },
  {
   "cell_type": "code",
   "execution_count": null,
   "metadata": {},
   "outputs": [],
   "source": [
    "a = [2, 1, 1, 2, 1, 1, 1, 2]\n",
    "b = [0, 0, 1, 2]\n",
    "c = [1, 2, 3, 3, 3, 3]"
   ]
  },
  {
   "cell_type": "markdown",
   "metadata": {},
   "source": [
    "### List of lists\n",
    "\n",
    "You have already seen examples of **lists of strings**.\n",
    "Each element in the **list** is a **string** and this allows to use all the **string** methods and operators on it."
   ]
  },
  {
   "cell_type": "code",
   "execution_count": null,
   "metadata": {},
   "outputs": [],
   "source": [
    "x = [\"ab\", \"cd\"]\n",
    "\n",
    "for s in x:\n",
    "    print(\"The string is:\", s, \"the first value is:\", s[0])\n",
    "    for c in s:\n",
    "        print(\"The character is:\", c)\n",
    "\n",
    "print(\"-----\")\n",
    "        \n",
    "s = x[1]\n",
    "print(\"The first value of the second string is:\", s[0])\n",
    "print(\"The first value of the first string is:\", x[0][0])"
   ]
  },
  {
   "cell_type": "markdown",
   "metadata": {},
   "source": [
    "A very similar syntax allows to work with **lists of lists**. This is an useful concept, as it allows for example to represent matrices.\n",
    "\n",
    "Note that in order to represent a matrix all the lists within the list must have the same lenght, however this is not a general requirement for a **list of lists**. "
   ]
  },
  {
   "cell_type": "code",
   "execution_count": null,
   "metadata": {},
   "outputs": [],
   "source": [
    "x = [[0, 0], [1, 1], [2, 2]]\n",
    "print(\"This is a matrix of\", len(x), \"rows\", \"and\", len(x[0]), \"columns\")\n",
    "print(x)\n",
    "\n",
    "for row in x:\n",
    "    print(\"The row is:\", row)\n",
    "    for v in row:\n",
    "        print(\"A value in the row is:\", v)"
   ]
  }
 ],
 "metadata": {
  "kernelspec": {
   "display_name": "Python 3",
   "language": "python",
   "name": "python3"
  },
  "language_info": {
   "codemirror_mode": {
    "name": "ipython",
    "version": 3
   },
   "file_extension": ".py",
   "mimetype": "text/x-python",
   "name": "python",
   "nbconvert_exporter": "python",
   "pygments_lexer": "ipython3",
   "version": "3.7.5"
  }
 },
 "nbformat": 4,
 "nbformat_minor": 4
}
