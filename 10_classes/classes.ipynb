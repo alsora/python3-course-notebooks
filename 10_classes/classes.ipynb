{
 "cells": [
  {
   "cell_type": "markdown",
   "metadata": {},
   "source": [
    "# Classes\n",
    "\n",
    "You saw different **classes** so far, such as **int**, **float**, **bool**, **string**, **list** and **dictionary**.\n",
    "\n",
    "In your Python program you can have different objects belonging to the same **class**, they are called instances of a **class**. They share some properties and operations, but they have different values.\n",
    "For example you can have as many **list** as you want in your program, all with different values, and you can use the same **methods** or **functions** on all of them.\n",
    "\n",
    "A **class** is characterized by some internal data (e.g. 1 integer number in case of **int** or some key-value pairs in case of **dictionary**), which represents its **state**.\n",
    "A **class** can be mutable or immutable, depending on if it's possible to change its **state**.\n",
    "\n",
    "A **class** provides **methods** that can either give information about its state (e.g. the `count()` **method** for **strings**) or can modify the state (e.g. the `append()` **method** for **lists**).\n",
    "\n",
    "Different instances of a **class** are characterized by differences in their **states**, but they all provide the same **methods**.\n",
    "\n",
    "This chapter will give you more details about **classes** and in the end, you will be able to define your custom **classes**, to be used in your programs, similarly to what you did when defining new **functions**."
   ]
  },
  {
   "cell_type": "markdown",
   "metadata": {},
   "source": [
    "### Constructors\n",
    "\n",
    "For each Python **class** there is a so called **constructor function**.\n",
    "\n",
    "The **constructor** is a particular **function** that allows to create an object of a specific **class**.\n",
    "The name of this function **is always identical to the name of the class** for which you want to create an instance.\n",
    "\n",
    "**Constructors** can have any number of input parameters and their syntax is identical to the one of standard **functions**.\n",
    "The arguments will be used to initialize the **state** of the creted object."
   ]
  },
  {
   "cell_type": "code",
   "execution_count": null,
   "metadata": {},
   "outputs": [],
   "source": [
    "# The `int` (i.e. integer) class provides a constructor that takes an integer number as argument\n",
    "# The following 2 lines have the exact same effect\n",
    "x = int(5)\n",
    "x = 5\n",
    "\n",
    "# The `float` class provides a constructor that takes a decimal number as argument\n",
    "# The following 2 lines have the exact same effect\n",
    "y = float(2.5)\n",
    "y = 2.5\n",
    "\n",
    "# The `str` (i.e. string) class provides a constructor that takes a text as argument\n",
    "# The following 2 lines have the exact same effect\n",
    "z = str(\"hello\")\n",
    "z = \"hello\""
   ]
  },
  {
   "cell_type": "markdown",
   "metadata": {},
   "source": [
    "So far nothing new, you have always been able to create instances of these **classes** by initializing them using a specific value, even without using their respective **constructor function**.\n",
    "\n",
    "Actually the new syntax may seem unnecessarily complex, and that is true for the previous example, but using **constructors** open many more possibilities for you.\n",
    "\n",
    "First of all, **constructors** can often be used to perform conversions."
   ]
  },
  {
   "cell_type": "code",
   "execution_count": null,
   "metadata": {},
   "outputs": [],
   "source": [
    "a = 3.2 # Python creates a variable to store the value 3.2, it will use a float\n",
    "b = int(3.2) # Specifically ask for an int variable to store a float value, a conversion is required\n",
    "print(\"a is:\", a, \"b is:\", b)\n",
    "\n",
    "c = \"10\" # Python creates a variable to store the value \"10\", it will use a str\n",
    "d = int(\"10\") # Specifically ask for an int variable to store a string, a conversion is required\n",
    "print(\"c is:\", c, \"d is:\", d)\n",
    "# `d` is an int variable now, so you can use it in math operations (this would cause an error with `c`)\n",
    "print (\"the result of the operation is:\", d + 100)\n",
    "\n",
    "e = 2 # Python creates a variable to store the value 2, it will use an int\n",
    "f = str(e) # Specifically ask for a str variable to store an integer value, a conversion is required\n",
    "print(\"e is:\", e, \"f is:\", f)\n",
    "# `f` is a str variable now, so you can concatenate it to a string (this would cause an error with `e`)\n",
    "concat = \"hello \" + f\n",
    "print(concat)"
   ]
  },
  {
   "cell_type": "markdown",
   "metadata": {},
   "source": [
    "A particular family of **constructors** is made of the so called **default constructors**. They don't take any input parameters and they will initialize your variable to a default value."
   ]
  },
  {
   "cell_type": "code",
   "execution_count": null,
   "metadata": {},
   "outputs": [],
   "source": [
    "x = int()\n",
    "y = str()\n",
    "k = list()\n",
    "z = dict()\n",
    "\n",
    "print(\"A default int is:\", x)\n",
    "print(\"A default str is:\", y) # This is the empty string \"\", it's difficult to print it!\n",
    "print(\"A default list is:\", k)\n",
    "print(\"A default dict is:\", z)"
   ]
  },
  {
   "cell_type": "markdown",
   "metadata": {},
   "source": [
    "Remember that **every class must have at least one constructor, but can have any number of them**.\n",
    "\n",
    "For example you have seen how a **string** has an empty, default, **constructor**, a **constructor** that takes a text as input and another **constructor** that takes a number as input."
   ]
  },
  {
   "cell_type": "markdown",
   "metadata": {},
   "source": [
    "### Exercise\n",
    "\n",
    "Define a function that takes a list of strings as input. These strings represent different lines in a book. The function should return a new list where each element is a string made of the line number followed by the line itself (e.g. \"1 This is the first line\"), note that there is no line 0, i.e. the first line must be indicated with 1.\n",
    "\n",
    "Hints: \n",
    " - Create a new list, while doing a for loop using the enumerate function.\n",
    " - Use the constructor for converting numbers into strings and then perform concatenation."
   ]
  },
  {
   "cell_type": "code",
   "execution_count": null,
   "metadata": {},
   "outputs": [],
   "source": [
    "# Input lists\n",
    "x = [\"This is the first line\", \"This is the second line\", \"This is the third line\"]"
   ]
  },
  {
   "cell_type": "markdown",
   "metadata": {},
   "source": [
    "### Define your first class\n",
    "\n",
    "You defined your custom **functions** with the purpose of being able to create a block of code that can be re-used with different input data.\n",
    "A similar reasoning applies also to **classes**, with the difference that a **class** is made of both **data** and **methods**.\n",
    "\n",
    "Let's now define a very simple **class**.\n",
    "\n",
    "Note that you can give any name to your **classes**, such as you did with **functions**, but it's recommended to write these names using the so called **PascalCase** style: the first letter of every word is uppercase and there are no symbols between them.\n",
    "Remember that the **constructor function** has the same name of the **class**. By using **PascalCase** for the names of your custom **classes** it will be easier to understand when a **function** is a **constructor**."
   ]
  },
  {
   "cell_type": "code",
   "execution_count": null,
   "metadata": {},
   "outputs": [],
   "source": [
    "class MagicInt:\n",
    "    # Class definition\n",
    "    def __init__(self, x):\n",
    "        #  Constructor definition\n",
    "        self.val = x # Definition of a state variable\n",
    "\n",
    "    def get_val(self):\n",
    "        # Additional method definition\n",
    "        return self.val # Access to a state variable\n",
    "\n",
    "# Creation of different instances of class `MagicInt` using the constructor\n",
    "x = MagicInt(10)\n",
    "y = MagicInt(30)\n",
    "\n",
    "# Call the `get_val()` method on the created objects\n",
    "a = x.get_val()\n",
    "print(\"The magic values are\", a, \"and\", y.get_val())"
   ]
  },
  {
   "cell_type": "markdown",
   "metadata": {},
   "source": [
    "A **class** is defined using the keyword `class`, followed by its name and the colon `:`.\n",
    "Then you have the body of the **class**, which, as usual, is indented.\n",
    "The **class** definition ends at the end of its body.\n",
    "\n",
    "The body will contain what looks like several **functions** definitions: these are actually the definitions of the **methods** that the **class** provides.\n",
    "A **method** is just like a **function** but it's defined inside a **class** body, morever **methods** always have at least 1 argument that must be named `self`.\n",
    "When you first encountered **methods**, you saw that they are always called on an object and that this object was treated as an hidden input argument for the **method**.\n",
    "That's why **the first parameter in every method definition must be the keyword `self`**: this parameter allows the **method** to access the **state** of the object in its body. When calling a **method**, you don't have to provide a value for that first parameter, but only for the following ones if they are present.\n",
    "\n",
    "A **class** should only contain **methods** and not **functions**, this means that all the definitions in the **class** body must have the keyword `self` as first input parameter.\n",
    "\n",
    "Every **class** should contain at least one **method** called exactly `__init__`: this is automatically converted by Python into the **class constructor function**.\n",
    "Beside `self` this **method** can have any number of arguments, that are used to initialize the state of the object when it is created. If there are no other arguments besides `self` that will be a **default constructor**, i.e. it will initialize all the objects in the same way.\n",
    "\n",
    "The importance of the **constructor function** becomes more evident when dealing with custom **classes** like the one defined above.\n",
    "Python already provides you ways for creating objects of the standard **classes** even without using their **constructor** (e.g. `x = 7` rather than `x = int(7)`), but there is no such syntax for custom **classes**.\n",
    "\n",
    "A **class** contains data in its **state**. How to define, initialize and use this **state**?\n",
    "\n",
    "You have to use the keyword `self` inside the **methods**.\n",
    "The syntax `self.val = 5` means that you are initializing a variable named `val` that is part of the **state** of the **class**.\n",
    "\n",
    "Differently from local variables defined within a the body of a **function**, variables that are part of the **state**, i.e. that are indicated as `self.something`, will maintain their value even at the end of the **method**.\n",
    "This allows you to initialize the **state** in a **method** (e.g. in the **class constructor**) and then to provide additional **methods** that do some work with it, as the `get_val()` method above."
   ]
  },
  {
   "cell_type": "markdown",
   "metadata": {},
   "source": [
    "### Exercise\n",
    "\n",
    "Define a class that stores a string in its state and provides a method that returns the character with the most occurrences in the string.\n",
    "\n",
    "Create an object of this class using the input string and test the method."
   ]
  },
  {
   "cell_type": "code",
   "execution_count": null,
   "metadata": {},
   "outputs": [],
   "source": [
    "# Input string\n",
    "x = \"Hello world\""
   ]
  },
  {
   "cell_type": "markdown",
   "metadata": {},
   "source": [
    "### Exercise\n",
    "\n",
    "Define a class that represents a rectangle. A rectangle is defined by its length and its height.\n",
    "The rectangle should provide one method that returns its area and another method that returns its perimeter.\n",
    "\n",
    "Create an object using the provided data and test the methods."
   ]
  },
  {
   "cell_type": "code",
   "execution_count": null,
   "metadata": {},
   "outputs": [],
   "source": [
    "# Rectangle data\n",
    "length = 10\n",
    "height = 4"
   ]
  },
  {
   "cell_type": "markdown",
   "metadata": {},
   "source": [
    "### Exercise\n",
    "\n",
    "Define a class that represents a person. It has to store the person name and age.\n",
    "It has to provide a method that takes a string as input and returns a new string where all the occurrences of `NAME` have been replaced by the person's name and all the occurrences of `AGE` have been replaced by the person's age.\n",
    "\n",
    "Create an object of this class using the person data and test it using the provided string.\n",
    "\n",
    "Hint: use the string method replace, keeping in mind that it requires to use only strings as input, not integers. A conversion will be required."
   ]
  },
  {
   "cell_type": "code",
   "execution_count": null,
   "metadata": {},
   "outputs": [],
   "source": [
    "# Person data\n",
    "name = \"Mark\"\n",
    "age = 8\n",
    "\n",
    "# Input string\n",
    "x = \"hello my name is NAME and I'm AGE years old\""
   ]
  },
  {
   "cell_type": "markdown",
   "metadata": {},
   "source": [
    "### Mutable classes\n",
    "\n",
    "The **classes** that you have defined above were all immutable: i.e. after an object was created, it was only possible to read the **state**, not to modify it.\n",
    "\n",
    "A common pattern is to define a **get** method for every data stored in your class that you want to read, and a **set** method for every data stored in your class that you want to modify."
   ]
  },
  {
   "cell_type": "code",
   "execution_count": null,
   "metadata": {},
   "outputs": [],
   "source": [
    "class MutableClass:\n",
    "    def __init__(self, x):\n",
    "        print(\"Initializing x\")\n",
    "        self.x = x\n",
    "    def get_x(self):\n",
    "        print(\"Reading x\")\n",
    "        return self.x\n",
    "    def set_x(self, new_x):\n",
    "        print(\"Writing x\")\n",
    "        self.x = new_x\n",
    "        \n",
    "my_object = MutableClass(10)\n",
    "print(\"x is:\", my_object.get_x())\n",
    "\n",
    "my_object.set_x(2)\n",
    "print(\"x is:\", my_object.get_x())"
   ]
  },
  {
   "cell_type": "markdown",
   "metadata": {},
   "source": [
    "It's recommended to initialize all the variables that are part of the **state** in the **constructor**,\n",
    "this will make sure that you will never try to read the state before it has been defined.\n",
    "\n",
    "Note that there is no real difference in syntax for initializing a variable in the `__init__()` method or somewhere else, it is simply a recommended practice as it can prevent many errors."
   ]
  },
  {
   "cell_type": "code",
   "execution_count": null,
   "metadata": {},
   "outputs": [],
   "source": [
    "class MutableClass:\n",
    "    def __init__(self):\n",
    "        print(\"This constructor does nothing\")\n",
    "    def get_x(self):\n",
    "        print(\"Reading x\")\n",
    "        return self.x\n",
    "    def set_x(self, new_x):\n",
    "        print(\"Writing x\")\n",
    "        self.x = new_x\n",
    "        \n",
    "my_object = MutableClass()\n",
    "print(\"x is:\", my_object.get_x())"
   ]
  },
  {
   "cell_type": "code",
   "execution_count": null,
   "metadata": {},
   "outputs": [],
   "source": [
    "class MutableClass:\n",
    "    def __init__(self):\n",
    "        print(\"This constructor does nothing\")\n",
    "    def get_x(self):\n",
    "        print(\"Reading x\")\n",
    "        return self.x\n",
    "    def set_x(self, new_x):\n",
    "        print(\"Writing x\")\n",
    "        self.x = new_x\n",
    "\n",
    "# The class is the same as above, but this code block does not cause an error\n",
    "# because you call the `set` method before the `get` one.\n",
    "# However, it is very easy to make mistakes.\n",
    "my_object = MutableClass()\n",
    "my_object.set_x(2)\n",
    "print(\"x is:\", my_object.get_x())\n",
    "my_object.set_x(6)\n",
    "print(\"x is:\", my_object.get_x())"
   ]
  },
  {
   "cell_type": "markdown",
   "metadata": {},
   "source": [
    "By Initializing all the **state** variables in the **constructor** you make sure that once an object is created (i.e. using the **constructor**) then all the **methods** can be safely called without risk of errors."
   ]
  },
  {
   "cell_type": "markdown",
   "metadata": {},
   "source": [
    "### Exercise\n",
    "\n",
    "Define a class that stores a number and provides a method that returns the stored number (`get_number()`) and another method that takes a number as input and modifies the stored number (`set_number()`).\n",
    "\n",
    "Create an object of this class using the provided initial value and then update it using the new value. Use the `get_number()` method to verify that everything works as expected."
   ]
  },
  {
   "cell_type": "code",
   "execution_count": null,
   "metadata": {},
   "outputs": [],
   "source": [
    "# Initial value\n",
    "x = 10\n",
    "# New value\n",
    "y = 20"
   ]
  },
  {
   "cell_type": "markdown",
   "metadata": {},
   "source": [
    "### Exercise\n",
    "\n",
    "Define a counter class: this class should have a method `increment()` that increments the counter and a method `get_count()` that returns the current counter value.\n",
    "\n",
    "Create an object of this class and call the `increment()` method multiple times.\n",
    "Make sure that `get_count()` always returns the number of times `increment()` has been called so far."
   ]
  },
  {
   "cell_type": "code",
   "execution_count": null,
   "metadata": {},
   "outputs": [],
   "source": []
  }
 ],
 "metadata": {
  "kernelspec": {
   "display_name": "Python 3",
   "language": "python",
   "name": "python3"
  },
  "language_info": {
   "codemirror_mode": {
    "name": "ipython",
    "version": 3
   },
   "file_extension": ".py",
   "mimetype": "text/x-python",
   "name": "python",
   "nbconvert_exporter": "python",
   "pygments_lexer": "ipython3",
   "version": "3.7.5"
  }
 },
 "nbformat": 4,
 "nbformat_minor": 4
}
