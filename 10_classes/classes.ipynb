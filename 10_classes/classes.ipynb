{
 "cells": [
  {
   "cell_type": "markdown",
   "metadata": {},
   "source": [
    "# Classes\n",
    "\n",
    "A **class** in Python is a type of object. \n",
    "\n",
    "You saw different **classes** so far, such as **int**, **string**, **dictionary**.\n",
    "\n",
    "A single **class** can be instantiated into several different objects, which share some common characteristics.\n",
    "\n",
    "A **class** is characterized by some internal data (e.g. 1 integer number in case of **int** or key-value pairs in case of **dictionary**), which is defined as the **state** of the object.\n",
    "A **class** is mutable, if it's possible to change its **state**.\n",
    "\n",
    "A **class** provides methods that can either give information about its state (e.g. the `count()` method for **strings**) or can modify the state (e.g. the `append()` method for **lists**).\n",
    "\n",
    "This chapter will give you more details about **classes** and in the end, you will be able to create your custom **classes**, to be used in your programs, similarly to what you did when creating custom **functions**."
   ]
  },
  {
   "cell_type": "markdown",
   "metadata": {},
   "source": [
    "### Constructors\n",
    "\n",
    "The **constructor** is a particular **function** that allows to create an object of a specific **class**.\n",
    "\n",
    "The name of this function **is always identical to the name of the class**.\n",
    "\n",
    "**Constructors** can have any number of arguments and their syntax is identical to standard **functions**.\n",
    "The arguments will be used to initialize the **state** of the creted object."
   ]
  },
  {
   "cell_type": "code",
   "execution_count": null,
   "metadata": {},
   "outputs": [],
   "source": [
    "# The `int` (i.e. integer) class provides a constructor that takes an integer number as argument\n",
    "# The following 2 lines have the exact same effect\n",
    "x = int(5)\n",
    "x = 5\n",
    "\n",
    "# The `float` class provides a constructor that takes a decimal number as argument\n",
    "# The following 2 lines have the exact same effect\n",
    "y = float(2.5)\n",
    "y = 2.5\n",
    "\n",
    "# The `str` (i.e. string) class provides a constructor that takes a text as argument\n",
    "# The following 2 lines have the exact same effect\n",
    "z = str(\"hello\")\n",
    "z = \"hello\""
   ]
  },
  {
   "cell_type": "markdown",
   "metadata": {},
   "source": [
    "So far nothing new, you have always been able to create variables of these **classes** by initializing them using a specific value.\n",
    "\n",
    "Actually the new syntax may seem unnecessarily complex, and that is true for the previous example, but using **constructors** open many more possibilities for you.\n",
    "\n",
    "First of all, **constructors** can often perform conversions."
   ]
  },
  {
   "cell_type": "code",
   "execution_count": null,
   "metadata": {},
   "outputs": [],
   "source": [
    "a = 2.5 # Python creates a variable to store the value 2.5, it will use a float\n",
    "b = int(2.5) # We specifically ask for an int variable to store that value, a conversion is required\n",
    "print(\"a is:\", a, \"b is:\", b)\n",
    "\n",
    "c = \"10\" # Python creates a variable to store the value \"10\", it will use a str\n",
    "d = int(\"10\") # We specifically ask for an int variable to store that value, a conversion is required\n",
    "print(\"c is:\", c, \"d is:\", d)\n",
    "\n",
    "# `d` is an int variable now, so we can use it in math operations\n",
    "print (\"the result of the operation is:\", d + 100)\n",
    "\n",
    "e = 2 # Python creates a variable to store the value 2, it will use an int\n",
    "f = str(e) # We specifically ask for a str variable to store that value, a conversion is required\n",
    "print(\"e is:\", e, \"f is:\", f)\n",
    "\n",
    "# `f` is a str variable now, so we can concatenate it to other strings\n",
    "# remember that you can't concatenate an int and a string\n",
    "concat = \"hello \" + f\n",
    "print(concat)"
   ]
  },
  {
   "cell_type": "markdown",
   "metadata": {},
   "source": [
    "A particular family of **constructors** is made of the so called **default constructors**. They don't take any input argument and will initialize your variable to a default value."
   ]
  },
  {
   "cell_type": "code",
   "execution_count": null,
   "metadata": {},
   "outputs": [],
   "source": [
    "x = int()\n",
    "y = str()\n",
    "k = list()\n",
    "z = dict()\n",
    "\n",
    "print(\"A default int is:\", x)\n",
    "print(\"A default str is:\", y) # This is the empty string \"\", it's difficult to print it!\n",
    "print(\"A default list is:\", k)\n",
    "print(\"A default dict is:\", z)"
   ]
  },
  {
   "cell_type": "markdown",
   "metadata": {},
   "source": [
    "Remember that **every class must have at least one constructor**."
   ]
  },
  {
   "cell_type": "markdown",
   "metadata": {},
   "source": [
    "### Exercise\n",
    "\n",
    "Define a function that takes a list of strings as input. These strings represent different lines in a book. The function should return a new list where each element is a string made of the line number followed by the line itself (e.g. \"1 This is the first line\"), note that there is no line 0, i.e. the first line must be indicated with 1.\n",
    "\n",
    "Hint: create a new list, while doing a for loop using the enumerate function."
   ]
  },
  {
   "cell_type": "code",
   "execution_count": null,
   "metadata": {},
   "outputs": [],
   "source": [
    "# Input lists\n",
    "x = [\"This is the first line\", \"This is the second line\", \"This is the third line\"]"
   ]
  },
  {
   "cell_type": "markdown",
   "metadata": {},
   "source": [
    "### Define your first class\n",
    "\n",
    "Let's define a very simple **class**.\n",
    "\n",
    "You defined your custom **functions** with the purpose of being able to create a block of code that can be re-used with different input data.\n",
    "A similar reasoning applies also to **classes**, with the difference that a **class** is made of both data and methods.\n",
    "\n",
    "Note that you can give any name to your **classes**, such as you did with **functions**, but it's recommended to use capitalized names, to make it easier to understand that something is a custom **class**."
   ]
  },
  {
   "cell_type": "code",
   "execution_count": null,
   "metadata": {},
   "outputs": [],
   "source": [
    "# Class definition\n",
    "class MagicInt:\n",
    "\n",
    "    def __init__(self, x):\n",
    "        self.val = x\n",
    "\n",
    "    def get_val(self):\n",
    "        return self.val\n",
    "\n",
    "# Creation of objects of class MagicInt using the constructor\n",
    "x = MagicInt(10)\n",
    "y = MagicInt(30)\n",
    "\n",
    "# Call the `get_val()` method on the created objects\n",
    "a = x.get_val()\n",
    "print(\"The magic values are\", a, \"and\", y.get_val())"
   ]
  },
  {
   "cell_type": "markdown",
   "metadata": {},
   "source": [
    "A **class** is defined using the keyword `class`, followed by its name and the colon `:`.\n",
    "Then you have the body of the **class**, which, as usual, is indented.\n",
    "\n",
    "The body will contain what looks like **functions** definition: these are actually the definitions of the **methods** that the **class** provides.\n",
    "\n",
    "Every **class** must contain a **method** called exactly `__init__`: this is converted by Python into the **class constructor**.\n",
    "\n",
    "Remember that when introducing **methods** we said that they always have 1 hidden argument that is the object on which they are called.\n",
    "That's why **the first parameter in every method definition must be the word `self`**. When calling a method, you don't have to provide a value for that first parameter, but only for the following ones if they are present.\n",
    "\n",
    "A **class** contains data in its **state**. How to define, initialize and use this **state**?\n",
    "\n",
    "We have to use the keyword `self`.\n",
    "The syntax `self.val = x` means that we are initializing a variable named `val` that is part of the **state** of our class using the value of `x`.\n",
    "The keyword `self` as first input parameter and its usage in the body, constitutes the difference between **functions** and **methods**.\n",
    "\n",
    "A **class** can only contain **methods** and not **functions**, this means that all the definition in the **class** body must have the keyword `self` as first input parameter.\n",
    "\n",
    "\n",
    "Differently from local variables defined within a function body, variables that are part of the **state**, i.e. that are indicated as `self.something`, will maintain their value even at the end of the **method**.\n",
    "\n",
    "This allows us to initialize the **state** in the **class constructor** and then to provide **methods** that do some work with it."
   ]
  },
  {
   "cell_type": "markdown",
   "metadata": {},
   "source": [
    "### Exercise\n",
    "\n",
    "Define a class that stores a string in its state and provides a method that returns the character with the most occurrences in the string"
   ]
  },
  {
   "cell_type": "code",
   "execution_count": null,
   "metadata": {},
   "outputs": [],
   "source": []
  },
  {
   "cell_type": "markdown",
   "metadata": {},
   "source": [
    "### Exercise\n",
    "\n",
    "Define a class that represents a rectangle. A rectangle is defined by its length and its height.\n",
    "The rectangle should provide one method that returns its area and another method that returns its perimeter."
   ]
  },
  {
   "cell_type": "code",
   "execution_count": null,
   "metadata": {},
   "outputs": [],
   "source": []
  },
  {
   "cell_type": "markdown",
   "metadata": {},
   "source": [
    "### Exercise\n",
    "\n",
    "Define a class that represents a person. It has to store the person name and age.\n",
    "It has to provide a method that takes a string as input and returns a new string where all the occurrences of `NAME` have been replaced by the person's name and all the occurrences of `AGE` have been replaced by the person's age.\n",
    "\n",
    "Hint: the replace method requires to use strings as input, not integers."
   ]
  },
  {
   "cell_type": "code",
   "execution_count": null,
   "metadata": {},
   "outputs": [],
   "source": [
    "# Input string\n",
    "x = \"hello my name is NAME and I'm AGE years old\""
   ]
  },
  {
   "cell_type": "markdown",
   "metadata": {},
   "source": [
    "### Exercise\n",
    "\n",
    "Define your first mutable class. This class has to store a number which is initialized in the constructor and should provide a method that returns the stored number (`get_number()`) and another method that takes a number as input and modifies the stored number (`set_number()`)."
   ]
  },
  {
   "cell_type": "code",
   "execution_count": null,
   "metadata": {},
   "outputs": [],
   "source": []
  }
 ],
 "metadata": {
  "kernelspec": {
   "display_name": "Python 3",
   "language": "python",
   "name": "python3"
  },
  "language_info": {
   "codemirror_mode": {
    "name": "ipython",
    "version": 3
   },
   "file_extension": ".py",
   "mimetype": "text/x-python",
   "name": "python",
   "nbconvert_exporter": "python",
   "pygments_lexer": "ipython3",
   "version": "3.7.5"
  }
 },
 "nbformat": 4,
 "nbformat_minor": 4
}
