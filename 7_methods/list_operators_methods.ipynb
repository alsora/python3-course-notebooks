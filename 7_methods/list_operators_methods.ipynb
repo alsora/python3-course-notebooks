{
 "cells": [
  {
   "cell_type": "markdown",
   "metadata": {},
   "source": [
    "# Methods\n",
    "\n",
    "You may have understood from the previous lessons that not all the types in Python are the same.\n",
    "\n",
    "A **list** (and similarly also a **string**) allows more operations than a basic type, such as an **integer**.\n",
    "\n",
    "Some operators are available on most of the types."
   ]
  },
  {
   "cell_type": "code",
   "execution_count": null,
   "metadata": {},
   "outputs": [],
   "source": [
    "x = 7\n",
    "y = x + 2\n",
    "\n",
    "a = \"hello \"\n",
    "b = a + \"world\"\n",
    "\n",
    "k = [5, 10]\n",
    "z = k + [1]"
   ]
  },
  {
   "cell_type": "markdown",
   "metadata": {},
   "source": [
    "Some operators are specific to particular types and will result in an error if called on the wrong one."
   ]
  },
  {
   "cell_type": "code",
   "execution_count": null,
   "metadata": {},
   "outputs": [],
   "source": [
    "a = [10, 100, 1000]\n",
    "b = a[0]\n",
    "\n",
    "c = b[0]"
   ]
  },
  {
   "cell_type": "markdown",
   "metadata": {},
   "source": [
    "### Methods\n",
    "\n",
    "The \"functions\" that are restricted to a specific type are called **methods**.\n",
    "You can think of them as particular functions and indeed sometimes the words \"method\" and \"function\" are used interchangeably (even if it's not always correct).\n",
    "\n",
    "The main difference between a method and a function is that a method is always implicitly used for a variable for which it is called.\n",
    "This implies that a method takes always at least 1 argument, i.e. the variable on which it is called."
   ]
  },
  {
   "cell_type": "code",
   "execution_count": null,
   "metadata": {},
   "outputs": [],
   "source": [
    "# This is the function `len`, called with 1 argument \"Hello\"\n",
    "x = len(\"Hello\") \n",
    "\n",
    "# This is the method `upper`. This method is called ON THE VARIABLE \"Hello\"\n",
    "# The variable itself it's considered as the first argument to the method\n",
    "y = \"Hello\".upper()\n",
    "\n",
    "# This is the method `count`. This method is called ON THE VARIABLE `z`\n",
    "# `count` is a method that takes 2 arguments: \n",
    "# the variable `z` is the first and `1` is the second\n",
    "z = [1, 20, 30, 10, 1, 1]\n",
    "k = z.count(1)"
   ]
  },
  {
   "cell_type": "markdown",
   "metadata": {},
   "source": [
    "As a general rule, before calling a method on a variable, you must know the type of that variable.\n",
    "This allows you to find out if the method you are interested in exists for that variable or not.\n",
    "\n",
    "This information can also be deduced by thinking if a particular method makes sense for a particular type of variable.\n",
    "\n",
    "You saw the `upper()` method being called on a variable of type **string** to capitalize it.\n",
    "Do you think that it could be called also on a **list of integers**? Try to answer the question \"What should the output be?\" and if the answer is ambiguous then it's likely that the method will not be available for that type.\n",
    "\n",
    "Another option is to search information about the type on Google: you will find lists of all the available methods."
   ]
  },
  {
   "cell_type": "markdown",
   "metadata": {},
   "source": [
    "### Exercise\n",
    "\n",
    "Write a function that can be used to calculate the GC content of a DNA sequence, i.e. the percentage of bases that are either guanine (G) or cytosine (C)."
   ]
  },
  {
   "cell_type": "code",
   "execution_count": null,
   "metadata": {},
   "outputs": [],
   "source": [
    "# Input DNA sequences\n",
    "dna_1 = \"ACTGATCGATTACGTATAGTATTTGCTATCATACATATATATCGATGCGTTCAT\"\n",
    "dna_2 = \"ATGC\""
   ]
  },
  {
   "cell_type": "markdown",
   "metadata": {},
   "source": [
    "### Methods and variable state\n",
    "\n",
    "Another difference between methods and functions is that when a method is called **on a variable** it can alter its state.\n",
    "\n",
    "The following method has no return value, but calling it will alter the state of the variable on which it's called."
   ]
  },
  {
   "cell_type": "code",
   "execution_count": null,
   "metadata": {},
   "outputs": [],
   "source": [
    "a = []\n",
    "print(a)\n",
    "a.append(20)\n",
    "print(a)\n",
    "a.append(10)\n",
    "print(a)"
   ]
  },
  {
   "cell_type": "markdown",
   "metadata": {},
   "source": [
    "### Exercise\n",
    "\n",
    "Write a function that takes a list as input and returns as output a new list made only of the odd values."
   ]
  },
  {
   "cell_type": "code",
   "execution_count": null,
   "metadata": {},
   "outputs": [],
   "source": [
    "# Input lists\n",
    "a = [1, 2, 3, 4, 5]\n",
    "b = [10, 11, 20, 11, 30, 11, 40, 11, 50, 11]\n",
    "d = [2]\n",
    "e = [1]"
   ]
  }
 ],
 "metadata": {
  "kernelspec": {
   "display_name": "Python 3",
   "language": "python",
   "name": "python3"
  },
  "language_info": {
   "codemirror_mode": {
    "name": "ipython",
    "version": 3
   },
   "file_extension": ".py",
   "mimetype": "text/x-python",
   "name": "python",
   "nbconvert_exporter": "python",
   "pygments_lexer": "ipython3",
   "version": "3.7.5"
  }
 },
 "nbformat": 4,
 "nbformat_minor": 4
}
