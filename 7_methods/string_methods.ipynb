{
 "cells": [
  {
   "cell_type": "markdown",
   "metadata": {},
   "source": [
    "# Methods\n",
    "\n",
    "As you already saw, Python provides some built-in **functions** such as `print()` and `len()`.\n",
    "\n",
    "\n",
    "You will now learn about **methods**, another fundamental Python concept that is very similar to **functions**."
   ]
  },
  {
   "cell_type": "markdown",
   "metadata": {},
   "source": [
    "### Methods\n",
    "\n",
    "A **method** is a particular type of **function**.\n",
    "**Methods** can be considered as \"utility functions\" that a **type** provides for making easier to work with it. \n",
    "\n",
    "Note how we said that \"a method is provided by a type\".\n",
    "This means that the Python type **string** will provides some methods for example, and similarly most of the other existing types have methods as well.\n",
    "\n",
    "As you know, functions usually have **input parameters**, but it's also possible, despite being not particularly useful, to create functions that have no input.\n",
    "\n",
    "On the other hand, a **method must always have at least 1 input parameter** and this is an object (variable or value) of the type that provides the method you want to use.\n",
    "\n",
    "Due to this particular relation between a method and the type that provides it, the syntax for using methods is slightly different then the ones for functions."
   ]
  },
  {
   "cell_type": "code",
   "execution_count": null,
   "metadata": {},
   "outputs": [],
   "source": [
    "# This function takes a string and a character as input\n",
    "# and counts how many times that character occurrs in the string\n",
    "def count_letter(text, letter):\n",
    "    count = 0\n",
    "    for x in text:\n",
    "        if x == letter:\n",
    "            count = count + 1\n",
    "    return count\n",
    "\n",
    "x = count_letter(\"hello\", \"l\")\n",
    "print(\"Occurrences of letter 'l':\", x)\n",
    "\n",
    "# There is no need to define a function for doing that task,\n",
    "# string objects already provided a method\n",
    "my_string = \"world\"\n",
    "print(\"Occurrences of letter 'o':\", my_string.count(\"o\"))\n",
    "z = \"platypus\".count(\"p\")\n",
    "print(\"Occurrences of letter 'p':\", z)"
   ]
  },
  {
   "cell_type": "markdown",
   "metadata": {},
   "source": [
    "In the previous block of code, the `count_letter()` **function** and the `count()` **method** do exactly the same thing.\n",
    "However, the syntax for using them is different.\n",
    "\n",
    "A **function** does not have that relation with a type that **methods** have.\n",
    "You call the **function** and you pass all the input between parenthesis, in the order that they are required by the function definition.\n",
    "\n",
    "A **method** instead is called \"on a specific object\", similarly to what you did with the indexing operator and lists (`my_list[0]`).\n",
    "There is a dot `.` between that object and the **method** name.\n",
    "This object is treated as the first argument of the **method**.\n",
    "Then, after the **method** name you find additional input arguments between parenthesis.\n",
    "\n",
    "Note that a method can have any number of additional input argument."
   ]
  },
  {
   "cell_type": "markdown",
   "metadata": {},
   "source": [
    "### Exercise\n",
    "\n",
    "Write a function that can be used to calculate the GC content of a DNA sequence, i.e. the percentage of bases that are either guanine (G) or cytosine (C).\n",
    "\n",
    "\\begin{equation*}\n",
    "\\frac{G + C}{A + T + G + C} \\times 100 \\%\n",
    "\\end{equation*}\n",
    "\n",
    "Hints:\n",
    " - You will have to use the just learnt method in the function.\n",
    " - The denominator of the function is simply the total length of the sequence"
   ]
  },
  {
   "cell_type": "code",
   "execution_count": null,
   "metadata": {},
   "outputs": [],
   "source": [
    "# Input DNA sequences\n",
    "dna_1 = \"ACTGATCGATTACGTATAGTATTTGCTATCATACATATATATCGATGCGTTCAT\"\n",
    "dna_2 = \"ATGC\""
   ]
  },
  {
   "cell_type": "markdown",
   "metadata": {},
   "source": [
    "### String methods\n",
    "\n",
    "In the previous example, you saw a method available for objects of type **string**.\n",
    "Here some more of them:\n",
    " - `count()` returns the number of occurrences of a character (or a short string) within the string object.\n",
    " - `upper()` returns a version of the string with all uppercase (i.e. capital) letters.\n",
    " - `lower()` returns a version of the string with all lowercase (i.e. non-capital) letters.\n",
    " "
   ]
  },
  {
   "cell_type": "code",
   "execution_count": null,
   "metadata": {},
   "outputs": [],
   "source": []
  }
 ],
 "metadata": {
  "kernelspec": {
   "display_name": "Python 3",
   "language": "python",
   "name": "python3"
  },
  "language_info": {
   "codemirror_mode": {
    "name": "ipython",
    "version": 3
   },
   "file_extension": ".py",
   "mimetype": "text/x-python",
   "name": "python",
   "nbconvert_exporter": "python",
   "pygments_lexer": "ipython3",
   "version": "3.7.5"
  }
 },
 "nbformat": 4,
 "nbformat_minor": 4
}
