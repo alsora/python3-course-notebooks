{
 "cells": [
  {
   "cell_type": "markdown",
   "metadata": {},
   "source": [
    "# Methods\n",
    "\n",
    "Python **functions** allow to encapsulate a block of code that you want to re-use.\n",
    "You can define your own **functions** or use built-in ones, such as `print()` and `len()`.\n",
    "\n",
    "You will now learn about **methods**, another fundamental Python concept that is very similar to **functions**."
   ]
  },
  {
   "cell_type": "markdown",
   "metadata": {},
   "source": [
    "### Methods\n",
    "\n",
    "A **method** is a particular type of **function**.\n",
    "**Methods** can be considered as \"utility functions\" that a **type** provides for making easier to work with it. \n",
    "\n",
    "Note how we said that \"a method is provided by a type\".\n",
    "This means that, for example, the Python type **string** will provide some methods, and similarly most of the other existing types have methods as well.\n",
    "\n",
    "As you know, functions usually have **input parameters**, but it's also possible, despite being not particularly useful, to create functions that have no input.\n",
    "\n",
    "On the other hand, a **method must always have at least 1 input parameter** and this is an object (variable or value) of the type that provides the method you want to use.\n",
    "\n",
    "Due to this particular relation between a method and the type that provides it, the syntax for using methods is slightly different then the ones for functions."
   ]
  },
  {
   "cell_type": "code",
   "execution_count": null,
   "metadata": {},
   "outputs": [],
   "source": [
    "# This function takes a string and a character as input\n",
    "# and counts how many times that character occurrs in the string\n",
    "def count_letter(text, letter):\n",
    "    count = 0\n",
    "    for x in text:\n",
    "        if x == letter:\n",
    "            count = count + 1\n",
    "    return count\n",
    "\n",
    "x = count_letter(\"hello\", \"l\")\n",
    "print(\"Occurrences of letter 'l':\", x)\n",
    "\n",
    "# There is no need to define a function for doing that task,\n",
    "# string objects provide the method `count()`\n",
    "my_string = \"world\"\n",
    "print(\"Occurrences of letter 'o':\", my_string.count(\"o\"))\n",
    "z = \"platypus\".count(\"p\")\n",
    "print(\"Occurrences of letter 'p':\", z)"
   ]
  },
  {
   "cell_type": "markdown",
   "metadata": {},
   "source": [
    "In the previous block of code, the `count_letter()` **function** and the `count()` **method** do exactly the same thing.\n",
    "However, the syntax for using them is different.\n",
    "\n",
    "A **function** does not have that relation with a type that **methods** have.\n",
    "You call the **function** and you pass all the input between parenthesis, in the order that they are required by the function definition.\n",
    "\n",
    "A **method** instead is called \"on a specific object\", similarly to what you did with the indexing operator and lists (`my_list[0]`).\n",
    "There is a dot `.` between that object and the **method** name.\n",
    "This object is treated as the first argument of the **method**.\n",
    "Then, after the **method** name you find additional input arguments between parenthesis.\n",
    "\n",
    "Note that a **method** can have any number of additional input argument."
   ]
  },
  {
   "cell_type": "markdown",
   "metadata": {},
   "source": [
    "### Exercise\n",
    "\n",
    "Write a function that can be used to calculate the GC content of a DNA sequence, i.e. the percentage of bases that are either guanine (G) or cytosine (C).\n",
    "\n",
    "\\begin{equation*}\n",
    "\\frac{G + C}{A + T + G + C} \\times 100\n",
    "\\end{equation*}\n",
    "\n",
    "Hints:\n",
    " - You will have to use the just learnt method in the function's body."
   ]
  },
  {
   "cell_type": "code",
   "execution_count": null,
   "metadata": {},
   "outputs": [],
   "source": [
    "# Input DNA sequences\n",
    "dna_1 = \"ACTGATCGATTACGTATAGTATTTGCTATCATACATATATATCGATGCGTTCAT\"\n",
    "dna_2 = \"ATGC\""
   ]
  },
  {
   "cell_type": "markdown",
   "metadata": {},
   "source": [
    "### List and String methods\n",
    "\n",
    "As you already saw, **lists** and **strings** present similarities: they share some **operators** and **functions**.\n",
    "They also provide some equal **methods**."
   ]
  },
  {
   "cell_type": "code",
   "execution_count": null,
   "metadata": {},
   "outputs": [],
   "source": [
    "my_string = \"hello\"\n",
    "my_list = [1, 2, 3]\n",
    "\n",
    "print(\"The indexing operator used to read elements:\")\n",
    "x = my_string[2]\n",
    "print(x)\n",
    "x = my_list[2]\n",
    "print(x)\n",
    "\n",
    "print(\"The len() function:\")\n",
    "y = len(my_string)\n",
    "print(y)\n",
    "y = len(my_list)\n",
    "print(y)\n",
    "\n",
    "print(\"The for loop can be used with lists and strings:\")\n",
    "for k in my_string:\n",
    "    print(k)\n",
    "for k in my_list:\n",
    "    print(k)\n",
    "\n",
    "print(\"The `count()` method:\")\n",
    "z = my_string.count(\"o\")\n",
    "print(z)\n",
    "z = my_list.count(1)\n",
    "print(z)"
   ]
  },
  {
   "cell_type": "markdown",
   "metadata": {},
   "source": [
    "An additional operator that is available for **string** and **list** is the **slicing** operator.\n",
    "It is very similar to the **indexing** operator `[N]`, but it allows to obtain a \"slice\" of elements, instead of only 1.\n",
    "\n",
    "The slice is indicated with 2 numbers (that reperesent indices) separated by a colon `:`. Note that the first index is included, while the second is excluded.\n",
    "\n",
    "**Remember that the first position is index 0**."
   ]
  },
  {
   "cell_type": "code",
   "execution_count": null,
   "metadata": {},
   "outputs": [],
   "source": [
    "my_list = [10, 20, 30, 40]\n",
    "x = my_list[0:2]\n",
    "y = my_list[2:len(my_list)]\n",
    "\n",
    "print(x)\n",
    "print(y)"
   ]
  },
  {
   "cell_type": "markdown",
   "metadata": {},
   "source": [
    "### Exercise\n",
    "\n",
    "Define a function that takes two strings as input. The function should return a string that is obtained by concatenating the first three letters of the first string with the last three letters of the second string.\n",
    "If one of the strings has less than three letters, it should use all of them."
   ]
  },
  {
   "cell_type": "code",
   "execution_count": null,
   "metadata": {},
   "outputs": [],
   "source": [
    "# First pair of strings\n",
    "s_1a = \"Hello\"\n",
    "s_1b = \"Computer\"\n",
    "# Second pair of strings\n",
    "s_2a = \".\"\n",
    "s_2b = \"--\"\n",
    "# Third pair of strings\n",
    "s_3a = \"Cat\"\n",
    "s_4a = \"Dog sitter\""
   ]
  },
  {
   "cell_type": "markdown",
   "metadata": {},
   "source": [
    "###  The `replace()` method\n",
    "\n",
    "The `replace()` method is called on an object of type **string** and it takes 2 other **string** arguments as input: it will replace all occurrences of the first argument in the object with the second argument.\n",
    "\n",
    "It's a method that is available only for **string** objects. You will get an error if you use it with an object of type **list**.\n",
    "\n",
    "Remember that a string is immutable: a method such as `replace()` does not actually modify the string it is called on. It has a `return` value and it returns a new **string** object that is a modified version of the original **string**, while leaving the object on which it is called unchanged."
   ]
  },
  {
   "cell_type": "code",
   "execution_count": null,
   "metadata": {},
   "outputs": [],
   "source": [
    "my_string = \"hello world\"\n",
    "\n",
    "# `replace()` method changes all occurrences of first sub-string into the second sub-string\n",
    "my_string_v2 = my_string.replace(\"o\", \"XX\")\n",
    "\n",
    "print(my_string)\n",
    "print(my_string_v2)"
   ]
  },
  {
   "cell_type": "markdown",
   "metadata": {},
   "source": [
    "### Exercise\n",
    "\n",
    "Define a function that takes a string as input. Count the number of occurrences of each character in the string. Return a modified version of the input string where the character that occurs the least is replaced by `?` and the character that occurs the most is replaced by `!`."
   ]
  },
  {
   "cell_type": "code",
   "execution_count": null,
   "metadata": {},
   "outputs": [],
   "source": [
    "# Input string\n",
    "x = \"xyzxyyxyyz\""
   ]
  },
  {
   "cell_type": "markdown",
   "metadata": {},
   "source": [
    "### The `append()` method\n",
    "\n",
    "An important method that is available only to **list** objects is `append()`.\n",
    "\n",
    "**Lists** are mutable, as you have seen it's possible to modify single elements of a list.\n",
    "Similarly, it's also possible to extend a **list** by \"appending\" elements at its end.\n",
    "\n",
    "Note that differently from `replace()` with **strings**, this method modifies the object that is called on."
   ]
  },
  {
   "cell_type": "code",
   "execution_count": null,
   "metadata": {},
   "outputs": [],
   "source": [
    "my_list = []\n",
    "print(my_list)\n",
    "\n",
    "# `append()` method adds an element at the end of the string\n",
    "my_list.append(9)\n",
    "print(my_list)"
   ]
  },
  {
   "cell_type": "markdown",
   "metadata": {},
   "source": [
    "### Exercise\n",
    "\n",
    "Define a function that takes a list as input and returns a new list as output. This output list should contain only the elements of the input list that are odd or smaller than 0.\n",
    "\n",
    "Hint: think of this exercise as if you had to \"sum\" all the elements of a list that have specific characteristics. You would do it with a counter. This is very similar, but the counter variable is a list."
   ]
  },
  {
   "cell_type": "code",
   "execution_count": null,
   "metadata": {},
   "outputs": [],
   "source": [
    "# Input lists\n",
    "x = [1, 8, -3, -6, 4, 2, -10]\n",
    "y = [4]\n",
    "z = []"
   ]
  },
  {
   "cell_type": "markdown",
   "metadata": {},
   "source": [
    "# Lists of lists\n",
    "\n",
    "So far, all the **lists** that you saw, where containing numbers.\n",
    "However, a **list** is a generic container, so it can store objects of any type."
   ]
  },
  {
   "cell_type": "code",
   "execution_count": 11,
   "metadata": {},
   "outputs": [
    {
     "name": "stdout",
     "output_type": "stream",
     "text": [
      "world\n",
      "r\n",
      "o\n"
     ]
    }
   ],
   "source": [
    "# This is a list of strings\n",
    "w = \"hello\"\n",
    "my_list = [\"world\", w, \"dogs and cats\"]\n",
    "\n",
    "# Read a string from the list of strings\n",
    "a = my_list[0]\n",
    "print(a)\n",
    "# Read a character from the string\n",
    "b = a[2]\n",
    "print(b)\n",
    "\n",
    "# Read a character from a string in the list of strings\n",
    "x  = my_list[1][4]\n",
    "print(x)"
   ]
  },
  {
   "cell_type": "markdown",
   "metadata": {},
   "source": [
    "**Lists of strings** are not particularly helpful, as you could simply write them one after the other.\n",
    "\n",
    "However, the same syntax allows to have **lists of lists**"
   ]
  },
  {
   "cell_type": "code",
   "execution_count": 13,
   "metadata": {},
   "outputs": [
    {
     "name": "stdout",
     "output_type": "stream",
     "text": [
      "list: [1, 2, 3] has first element 1\n",
      "list: [10, 100] has first element 10\n"
     ]
    }
   ],
   "source": [
    "my_list = [[1, 2, 3], [10, 100], []]\n",
    "for l in my_list:\n",
    "    if len(l) > 0:\n",
    "        print(\"list:\", l, \"has first element\", l[0])"
   ]
  },
  {
   "cell_type": "markdown",
   "metadata": {},
   "source": [
    "# Advanced `for` loops\n",
    "\n",
    "In the `for` loops used so far, you have been performing iterations on all the elements of a container.\n",
    "During each iteration, the placeholder variable was being assigned the value of one of the elements in turn.\n",
    "\n",
    "Assume to have to write a code that uses a `for` loop and, it the body of the loop statement, it has to do a different behavior depending on the position of each variable in the container."
   ]
  },
  {
   "cell_type": "code",
   "execution_count": null,
   "metadata": {},
   "outputs": [],
   "source": [
    "# Use a counter to know which element you are currently working with.\n",
    "# It is not simple\n",
    "\n",
    "i = 0 # You need to initialize the counter\n",
    "for x in [1, 10, 100, 1000]:\n",
    "    print(\"This is element\", x, \"at postion\", i)\n",
    "    i = i + 1 # You need to update the counter at the end of the iteration"
   ]
  },
  {
   "cell_type": "markdown",
   "metadata": {},
   "source": [
    "### The `enumerate()` function\n",
    "\n",
    "The `enumerate()` function solves that issue, by allowing to use two placeholder variables. The first one will have the current index assigned, while the second one the value of the element as in standard `for` loops.\n",
    "\n",
    "Keep in mind that the order is important, not the name of the placeholder variables.\n",
    "The first one is always the index and the second one is always the value."
   ]
  },
  {
   "cell_type": "code",
   "execution_count": null,
   "metadata": {},
   "outputs": [],
   "source": [
    "for i, x in enumerate([1, 10, 100, 1000]):\n",
    "    print(\"This is element\", x, \"at postion\", i)"
   ]
  },
  {
   "cell_type": "markdown",
   "metadata": {},
   "source": [
    "### The `range()` function\n",
    "\n",
    "Sometimes you don't have a **list** already, but you want to repeat a task multiple times.\n",
    "\n",
    "You need at least a fake list to use the `for` loop.\n",
    "\n",
    "The `range()` function solves that problem, allowing to specify the boundaries of your list (i.e. all integer numbers from 10 to 100)"
   ]
  },
  {
   "cell_type": "code",
   "execution_count": null,
   "metadata": {},
   "outputs": [],
   "source": [
    "my_fake_list = [0, 1, 2, 3, 4, 5, 6, 7, 8]\n",
    "for x in my_fake_list:\n",
    "    if x % 2 == 0:\n",
    "        print(\"Number is multiple of 2\", x)\n",
    "        \n",
    "for x in range(10, 100):\n",
    "    if x % 9 == 0:\n",
    "        print(\"Number is multiple of 9\", x)"
   ]
  },
  {
   "cell_type": "markdown",
   "metadata": {},
   "source": [
    "### Exericse\n",
    "\n",
    "Define a function for computing the factorial of an input number. The factorial is the following expression:\n",
    "\n",
    "\\begin{equation*}\n",
    "4! = 4 \\times 3 \\times 2 \\times 1\n",
    "\\end{equation*}\n",
    "\n",
    "Note that there is also an exception: the factorial of 0, is 1.\n",
    "\n",
    "Hints: remember the commutative property: $4 \\times 3 \\times 2 \\times 1 = 1 \\times 2 \\times 3 \\times 4$"
   ]
  },
  {
   "cell_type": "code",
   "execution_count": null,
   "metadata": {},
   "outputs": [],
   "source": [
    "# Input numbers\n",
    "a = 0\n",
    "b = 1\n",
    "c = 2\n",
    "d = 3\n",
    "e = 4"
   ]
  },
  {
   "cell_type": "markdown",
   "metadata": {},
   "source": [
    "### Exercise\n",
    "\n",
    "Define a function that takes a number as input argument and returns a list of 10 elements that contains the multiplication table (from 1 to 10) for the input number (i.e. 6, 12, 18, ...)."
   ]
  },
  {
   "cell_type": "code",
   "execution_count": null,
   "metadata": {},
   "outputs": [],
   "source": [
    "# Input numbers\n",
    "x = 6\n",
    "y = 10"
   ]
  },
  {
   "cell_type": "markdown",
   "metadata": {},
   "source": [
    "### Exercise\n",
    "\n",
    "Define a function that takes a list as input arguments and returns the sum of all the numbers at even indices that are greater than 2."
   ]
  },
  {
   "cell_type": "code",
   "execution_count": null,
   "metadata": {},
   "outputs": [],
   "source": [
    "# Input lists\n",
    "x = [1, 3]\n",
    "y = [0, 0, 2, 2, 4, 4]\n",
    "z = [1, 1, 1, 2, 2, 2]"
   ]
  }
 ],
 "metadata": {
  "kernelspec": {
   "display_name": "Python 3",
   "language": "python",
   "name": "python3"
  },
  "language_info": {
   "codemirror_mode": {
    "name": "ipython",
    "version": 3
   },
   "file_extension": ".py",
   "mimetype": "text/x-python",
   "name": "python",
   "nbconvert_exporter": "python",
   "pygments_lexer": "ipython3",
   "version": "3.7.5"
  }
 },
 "nbformat": 4,
 "nbformat_minor": 4
}
