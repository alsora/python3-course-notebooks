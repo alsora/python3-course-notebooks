{
 "cells": [
  {
   "cell_type": "markdown",
   "metadata": {},
   "source": [
    "# Methods\n",
    "\n",
    "Python **functions** allow to encapsulate a block of code that you want to re-use.\n",
    "You can define your own **functions** or use built-in ones, such as `print()` and `len()`.\n",
    "\n",
    "You will now learn about **methods**, another fundamental Python concept that is very similar to **functions**."
   ]
  },
  {
   "cell_type": "markdown",
   "metadata": {},
   "source": [
    "### Methods\n",
    "\n",
    "A **method** is a particular **function**.\n",
    "**Methods** can be considered as \"utility functions\" that a **type** provides for making easier to work with it. \n",
    "\n",
    "Note how we said that \"a method is provided by a type\".\n",
    "This means that, for example, the Python type **string** will provide some methods, and similarly most of the other existing types have methods as well.\n",
    "\n",
    "As you know, functions usually have **input parameters**, but it's also possible, despite being not particularly useful, to create functions that have no input.\n",
    "\n",
    "On the other hand, a **method must always have at least 1 input parameter** and this is an object (variable or value) of the type that provides that specific method.\n",
    "\n",
    "Due to this relation between a **method** and the type that provides it, the syntax for using **methods** is slightly different from the ones for **functions**."
   ]
  },
  {
   "cell_type": "code",
   "execution_count": null,
   "metadata": {},
   "outputs": [],
   "source": [
    "# This function takes a string and a character as input\n",
    "# and counts how many times that character occurrs in the string\n",
    "def count_letter(text, letter):\n",
    "    count = 0\n",
    "    for x in text:\n",
    "        if x == letter:\n",
    "            count = count + 1\n",
    "    return count\n",
    "\n",
    "x = count_letter(\"hello\", \"l\")\n",
    "print(\"Occurrences of letter 'l':\", x)\n",
    "\n",
    "# There is no need to define a function for doing that task,\n",
    "# string objects provide the method `count()`\n",
    "my_string = \"world\"\n",
    "print(\"Occurrences of letter 'o':\", my_string.count(\"o\"))\n",
    "my_letter = \"p\"\n",
    "z = \"platypus\".count(my_letter)\n",
    "print(\"Occurrences of letter 'p':\", z)"
   ]
  },
  {
   "cell_type": "markdown",
   "metadata": {},
   "source": [
    "In the previous block of code, the `count_letter()` **function** and the `count()` **method** do exactly the same thing.\n",
    "However, the syntax for using them is different.\n",
    "\n",
    "A **function** does not have that relation with a type that **methods** have.\n",
    "You call the **function** and you pass all the input between parenthesis, in the order that they are required by the function definition.\n",
    "\n",
    "A **method** instead is called \"on a specific object\", similarly to what you did with the indexing operator and lists (`my_list[0]`).\n",
    "There is a dot `.` between that object and the **method** name.\n",
    "This object is treated as the first argument of the **method**.\n",
    "Then, after the **method** name you find additional input arguments between parenthesis.\n",
    "\n",
    "Note that a **method** can have any number of additional input arguments."
   ]
  },
  {
   "cell_type": "markdown",
   "metadata": {},
   "source": [
    "### Exercise\n",
    "\n",
    "Write a function that can be used to calculate the GC content of a DNA sequence, i.e. the percentage of bases that are either guanine (G) or cytosine (C).\n",
    "\n",
    "\\begin{equation*}\n",
    "\\frac{G + C}{A + T + G + C} \\times 100\n",
    "\\end{equation*}\n"
   ]
  },
  {
   "cell_type": "code",
   "execution_count": null,
   "metadata": {},
   "outputs": [],
   "source": [
    "# Input DNA sequences\n",
    "dna_1 = \"ACTGATCGATTACGTATAGTATTTGCTATCATACATATATATCGATGCGTTCAT\"\n",
    "dna_2 = \"ATGC\""
   ]
  },
  {
   "cell_type": "markdown",
   "metadata": {},
   "source": [
    "### List and String\n",
    "\n",
    "As you already saw, **lists** and **strings** present similarities: they share some **operators** and **functions**.\n",
    "They also provide some equal **methods**."
   ]
  },
  {
   "cell_type": "code",
   "execution_count": null,
   "metadata": {},
   "outputs": [],
   "source": [
    "my_string = \"hello\"\n",
    "my_list = [1, 2, 3]\n",
    "\n",
    "print(\"The indexing operator allows to read elements:\")\n",
    "x = my_string[2]\n",
    "print(x)\n",
    "x = my_list[2]\n",
    "print(x)\n",
    "\n",
    "print(\"The len() function:\")\n",
    "y = len(my_string)\n",
    "print(y)\n",
    "y = len(my_list)\n",
    "print(y)\n",
    "\n",
    "print(\"The for loop can be used with lists and strings:\")\n",
    "for k in my_string:\n",
    "    print(k)\n",
    "for k in my_list:\n",
    "    print(k)\n",
    "\n",
    "print(\"The `count()` method:\")\n",
    "z = my_string.count(\"o\")\n",
    "print(z)\n",
    "z = my_list.count(1)\n",
    "print(z)"
   ]
  },
  {
   "cell_type": "markdown",
   "metadata": {},
   "source": [
    "### Exercise\n",
    "\n",
    "Define a function with 2 input parameters: a list of strings and an additional string.\n",
    "The function should return the sum of the number of occurrences of the additional string among all the strings in the list.\n",
    "\n",
    "Hints:\n",
    " - A list of strings is just like a list of numbers, remember that you can call string methods on its elements.\n",
    " - Use a `for` loop to check every string in the list and a counter for the sum."
   ]
  },
  {
   "cell_type": "code",
   "execution_count": null,
   "metadata": {},
   "outputs": [],
   "source": [
    "l1 = [\"the dog is happy\", \"the dog is very happy\"]\n",
    "s1 = \"y\"\n",
    "\n",
    "l2 = [\"the cat is hungry\", \"the cat is going to eat something\", \"the cat is eating\"]\n",
    "s2 = \"in\""
   ]
  },
  {
   "cell_type": "markdown",
   "metadata": {},
   "source": [
    "### Exercise\n",
    "\n",
    "Define a function with 2 input parameters: a list of strings and an additional string.\n",
    "The function should return the element of the list (i.e. one of the strings) that has the highest number of occurrences of the additional string.\n",
    "\n",
    "Hints:\n",
    " - This exercise is similar to when you had to find the highest number in a list.\n",
    " - During the loop iterations, you will need 2 separate variables: the highest number of occurrences and the string where you got it from. On the other hand when finding the highest number both information where provided by the number itself."
   ]
  },
  {
   "cell_type": "code",
   "execution_count": null,
   "metadata": {},
   "outputs": [],
   "source": [
    "l1 = [\"dog\", \"cat\", \"cow\", \"fox\"]\n",
    "s1 = \"a\"\n",
    "\n",
    "l2 = [\"dogs are dogs\", \"cats are similar to dogs\", \"cows are cows\"]\n",
    "s2 = \"dogs\"\n",
    "\n",
    "l3 = [\"dogs are pretty, but not milky\", \"cats are savage\", \"milky cows are milky\"]\n",
    "s3 = \"lk\""
   ]
  },
  {
   "cell_type": "markdown",
   "metadata": {},
   "source": [
    "###  The `replace()` method\n",
    "\n",
    "The `replace()` method is called on an object of type **string** and it takes 2 other **string** arguments as input: it will replace all occurrences of the first argument in the object with the second argument.\n",
    "\n",
    "It's a method that is available only for **string** objects. You will get an error if you use it with an object of type **list**.\n",
    "\n",
    "Remember that a string is immutable: a method such as `replace()` does not actually modify the string it is called on. It has a `return` value and it returns a new **string** object that is a modified version of the original **string**, while leaving the object on which it is called unchanged."
   ]
  },
  {
   "cell_type": "code",
   "execution_count": null,
   "metadata": {},
   "outputs": [],
   "source": [
    "my_string = \"hello world\"\n",
    "\n",
    "# `replace()` method changes all occurrences of first sub-string into the second sub-string\n",
    "my_string_v2 = my_string.replace(\"o\", \"XX\")\n",
    "\n",
    "print(my_string)\n",
    "print(my_string_v2)"
   ]
  },
  {
   "cell_type": "markdown",
   "metadata": {},
   "source": [
    "### Exercise\n",
    "\n",
    "Define a function that takes as input a string and two characters.\n",
    "The function should return a modified version of the string where the character among the two provided that occurs the most is replaced by `!`, while the other is replaced by `?` only if there are more than 2 occurrences of it."
   ]
  },
  {
   "cell_type": "code",
   "execution_count": null,
   "metadata": {},
   "outputs": [],
   "source": [
    "# First input\n",
    "s1 = \"hello\"\n",
    "c1_a = \"l\"\n",
    "c1_b = \"e\"\n",
    "# Second input\n",
    "s2 = \"world\"\n",
    "c2_a = \"a\"\n",
    "c2_b = \"b\"\n",
    "# Third input\n",
    "s3 = \"xxyyxxy\"\n",
    "c3_a = \"x\"\n",
    "c3_b = \"y\""
   ]
  },
  {
   "cell_type": "markdown",
   "metadata": {},
   "source": [
    "### Exercise\n",
    "\n",
    "Define a function that takes a string as input. Count the number of occurrences of each character in the string. Return a modified version of the input string where the character that occurs the least is replaced by `?` and the character that occurs the most is replaced by `!`.\n",
    "\n",
    "Hints:\n",
    " - This exercise is similar to when you had to find the string with more occurrences of a character in a list of strings. In that case you had to use 2 separate variables, here you will need 4 of them.\n",
    " - When computing the highest positive number of the string with more occurrences, you initialized a counter to `0`. That's because `0` is smaller than every positive number. When looking for the least number of occurrences, you have to initialize the counter to the biggest possible number, such that the condition for updating it will be verified for any number of occurrences. In this particular case it's enough to initialize it as the length of your string as that number will be greater than every possible number of occurrences."
   ]
  },
  {
   "cell_type": "code",
   "execution_count": null,
   "metadata": {},
   "outputs": [],
   "source": [
    "# Input strings\n",
    "x = \"xyzxyyxyyz\"\n",
    "y = \"ababaccccca\""
   ]
  },
  {
   "cell_type": "markdown",
   "metadata": {},
   "source": [
    "### The `append()` method\n",
    "\n",
    "An important method that is available only to **list** objects is `append()`.\n",
    "\n",
    "**Lists** are mutable, as you have seen it's possible to modify single elements of a list.\n",
    "Similarly, it's also possible to extend a **list** by \"appending\" elements at its end.\n",
    "\n",
    "Note that differently from `replace()` with **strings**, this method modifies the object that is called on."
   ]
  },
  {
   "cell_type": "code",
   "execution_count": null,
   "metadata": {},
   "outputs": [],
   "source": [
    "my_list = []\n",
    "print(my_list)\n",
    "\n",
    "# `append()` method adds an element at the end of the string\n",
    "my_list.append(9)\n",
    "print(my_list)"
   ]
  },
  {
   "cell_type": "markdown",
   "metadata": {},
   "source": [
    "### Exercise\n",
    "\n",
    "Define a function that takes a list as input and returns a new list as output. This output list should contain only the elements of the input list that are odd or smaller than 0.\n",
    "\n",
    "Hint: think of this exercise as if you had to \"sum\" all the elements of a list that have specific characteristics. You would do it with a counter. This is very similar, but the counter variable is a list."
   ]
  },
  {
   "cell_type": "code",
   "execution_count": null,
   "metadata": {},
   "outputs": [],
   "source": [
    "# Input lists\n",
    "x = [1, 8, -3, -6, 4, 2, -10]\n",
    "y = [4]\n",
    "z = []"
   ]
  },
  {
   "cell_type": "markdown",
   "metadata": {},
   "source": [
    "### Exercise\n",
    "\n",
    "Define a function that takes a list as input and returns a new version of it.\n",
    "The new version should contain only the first 2 occurrences of each element in the list.\n",
    "\n",
    "Hints:\n",
    " - Start from an empty list and begin adding the elements of the input list to it. Before adding an element, check if there are already too many elements with that value or not.\n",
    " - The expected output is `[1, 2, 3, 1, 2, 3, 4, 4]`."
   ]
  },
  {
   "cell_type": "code",
   "execution_count": null,
   "metadata": {},
   "outputs": [],
   "source": [
    "x = [1, 2, 3, 1, 2, 3, 1, 2, 3, 4, 4, 4]"
   ]
  }
 ],
 "metadata": {
  "kernelspec": {
   "display_name": "Python 3",
   "language": "python",
   "name": "python3"
  },
  "language_info": {
   "codemirror_mode": {
    "name": "ipython",
    "version": 3
   },
   "file_extension": ".py",
   "mimetype": "text/x-python",
   "name": "python",
   "nbconvert_exporter": "python",
   "pygments_lexer": "ipython3",
   "version": "3.7.5"
  }
 },
 "nbformat": 4,
 "nbformat_minor": 4
}
