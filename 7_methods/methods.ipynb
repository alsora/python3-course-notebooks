{
 "cells": [
  {
   "cell_type": "markdown",
   "metadata": {},
   "source": [
    "# Methods\n",
    "\n",
    "Python **functions** allow to encapsulate a block of code that you want to re-use.\n",
    "You can define your own **functions** or use built-in ones, such as `print()` and `len()`.\n",
    "\n",
    "You will now learn about **methods**, another fundamental Python concept that is very similar to **functions**."
   ]
  },
  {
   "cell_type": "markdown",
   "metadata": {},
   "source": [
    "### Methods\n",
    "\n",
    "A **method** is a particular type of **function**.\n",
    "**Methods** can be considered as \"utility functions\" that a **type** provides for making easier to work with it. \n",
    "\n",
    "Note how we said that \"a method is provided by a type\".\n",
    "This means that, for example, the Python type **string** will provide some methods, and similarly most of the other existing types have methods as well.\n",
    "\n",
    "As you know, functions usually have **input parameters**, but it's also possible, despite being not particularly useful, to create functions that have no input.\n",
    "\n",
    "On the other hand, a **method must always have at least 1 input parameter** and this is an object (variable or value) of the type that provides that specific method.\n",
    "\n",
    "Due to this relation between a **method** and the type that provides it, the syntax for using **methods** is slightly different then the ones for **functions**."
   ]
  },
  {
   "cell_type": "code",
   "execution_count": null,
   "metadata": {},
   "outputs": [],
   "source": [
    "# This function takes a string and a character as input\n",
    "# and counts how many times that character occurrs in the string\n",
    "def count_letter(text, letter):\n",
    "    count = 0\n",
    "    for x in text:\n",
    "        if x == letter:\n",
    "            count = count + 1\n",
    "    return count\n",
    "\n",
    "x = count_letter(\"hello\", \"l\")\n",
    "print(\"Occurrences of letter 'l':\", x)\n",
    "\n",
    "# There is no need to define a function for doing that task,\n",
    "# string objects provide the method `count()`\n",
    "my_string = \"world\"\n",
    "print(\"Occurrences of letter 'o':\", my_string.count(\"o\"))\n",
    "z = \"platypus\".count(\"p\")\n",
    "print(\"Occurrences of letter 'p':\", z)"
   ]
  },
  {
   "cell_type": "markdown",
   "metadata": {},
   "source": [
    "In the previous block of code, the `count_letter()` **function** and the `count()` **method** do exactly the same thing.\n",
    "However, the syntax for using them is different.\n",
    "\n",
    "A **function** does not have that relation with a type that **methods** have.\n",
    "You call the **function** and you pass all the input between parenthesis, in the order that they are required by the function definition.\n",
    "\n",
    "A **method** instead is called \"on a specific object\", similarly to what you did with the indexing operator and lists (`my_list[0]`).\n",
    "There is a dot `.` between that object and the **method** name.\n",
    "This object is treated as the first argument of the **method**.\n",
    "Then, after the **method** name you find additional input arguments between parenthesis.\n",
    "\n",
    "Note that a **method** can have any number of additional input argument."
   ]
  },
  {
   "cell_type": "markdown",
   "metadata": {},
   "source": [
    "### Exercise\n",
    "\n",
    "Write a function that can be used to calculate the GC content of a DNA sequence, i.e. the percentage of bases that are either guanine (G) or cytosine (C).\n",
    "\n",
    "\\begin{equation*}\n",
    "\\frac{G + C}{A + T + G + C} \\times 100\n",
    "\\end{equation*}\n"
   ]
  },
  {
   "cell_type": "code",
   "execution_count": null,
   "metadata": {},
   "outputs": [],
   "source": [
    "# Input DNA sequences\n",
    "dna_1 = \"ACTGATCGATTACGTATAGTATTTGCTATCATACATATATATCGATGCGTTCAT\"\n",
    "dna_2 = \"ATGC\""
   ]
  },
  {
   "cell_type": "markdown",
   "metadata": {},
   "source": [
    "### List and String\n",
    "\n",
    "As you already saw, **lists** and **strings** present similarities: they share some **operators** and **functions**.\n",
    "They also provide some equal **methods**."
   ]
  },
  {
   "cell_type": "code",
   "execution_count": null,
   "metadata": {},
   "outputs": [],
   "source": [
    "my_string = \"hello\"\n",
    "my_list = [1, 2, 3]\n",
    "\n",
    "print(\"The indexing operator allows to read elements:\")\n",
    "x = my_string[2]\n",
    "print(x)\n",
    "x = my_list[2]\n",
    "print(x)\n",
    "\n",
    "print(\"The len() function:\")\n",
    "y = len(my_string)\n",
    "print(y)\n",
    "y = len(my_list)\n",
    "print(y)\n",
    "\n",
    "print(\"The for loop can be used with lists and strings:\")\n",
    "for k in my_string:\n",
    "    print(k)\n",
    "for k in my_list:\n",
    "    print(k)\n",
    "\n",
    "print(\"The `count()` method:\")\n",
    "z = my_string.count(\"o\")\n",
    "print(z)\n",
    "z = my_list.count(1)\n",
    "print(z)"
   ]
  },
  {
   "cell_type": "markdown",
   "metadata": {},
   "source": [
    "### Exercise\n",
    "\n",
    "Define a function with 2 input parameters: a list of strings and an additional string.\n",
    "The function should return the sum of the number of occurrences of the additional string amont all the strings in the list.\n",
    "\n",
    "Hints:\n",
    " - A list of strings is just like a list of numbers, remember that you can call string methods on its element.\n",
    " - Use a `for` loop to check every string in the list."
   ]
  },
  {
   "cell_type": "code",
   "execution_count": null,
   "metadata": {},
   "outputs": [],
   "source": [
    "l1 = [\"the dog is happy\", \"the dog is very happy\"]\n",
    "s1 = \"y\"\n",
    "\n",
    "l2 = [\"the cat is hungry\", \"the cat is going to eat something\", \"the cat is eating\"]\n",
    "s2 = \"in\""
   ]
  },
  {
   "cell_type": "markdown",
   "metadata": {},
   "source": [
    "### Exercise\n",
    "\n",
    "Define a function with 2 input parameters: a list of strings and an additional string.\n",
    "The function should return the element of the list (i.e. one of the strings) that has the highest number of occurrences of the additional string.\n",
    "\n",
    "Hints:\n",
    " - This exercise is similar to when you had to find the smallest number in a list.\n",
    " - During the loop iterations, you have to keep track of 2 separate entities: the highest number of occurrences and the string where you got it from. On the other hand when finding the smallest number both information where provided by the number itself."
   ]
  },
  {
   "cell_type": "code",
   "execution_count": null,
   "metadata": {},
   "outputs": [],
   "source": [
    "l1 = [\"dog\", \"cat\", \"cow\", \"fox\"]\n",
    "s1 = \"a\"\n",
    "\n",
    "l2 = [\"dogs are dogs\", \"cats are similar to  dogs\", \"cows are cows\"]\n",
    "s2 = \"dogs\"\n",
    "\n",
    "l3 = [\"dogs are pretty, but not milky\", \"cats are savage\", \"milky cows are milky\"]\n",
    "s3 = \"lk\""
   ]
  },
  {
   "cell_type": "markdown",
   "metadata": {},
   "source": [
    "###  The `replace()` method\n",
    "\n",
    "The `replace()` method is called on an object of type **string** and it takes 2 other **string** arguments as input: it will replace all occurrences of the first argument in the object with the second argument.\n",
    "\n",
    "It's a method that is available only for **string** objects. You will get an error if you use it with an object of type **list**.\n",
    "\n",
    "Remember that a string is immutable: a method such as `replace()` does not actually modify the string it is called on. It has a `return` value and it returns a new **string** object that is a modified version of the original **string**, while leaving the object on which it is called unchanged."
   ]
  },
  {
   "cell_type": "code",
   "execution_count": null,
   "metadata": {},
   "outputs": [],
   "source": [
    "my_string = \"hello world\"\n",
    "\n",
    "# `replace()` method changes all occurrences of first sub-string into the second sub-string\n",
    "my_string_v2 = my_string.replace(\"o\", \"XX\")\n",
    "\n",
    "print(my_string)\n",
    "print(my_string_v2)"
   ]
  },
  {
   "cell_type": "markdown",
   "metadata": {},
   "source": [
    "### Exercise\n",
    "\n",
    "Define a function that takes a string as input. Count the number of occurrences of each character in the string. Return a modified version of the input string where the character that occurs the least is replaced by `?` and the character that occurs the most is replaced by `!`."
   ]
  },
  {
   "cell_type": "code",
   "execution_count": null,
   "metadata": {},
   "outputs": [],
   "source": [
    "# Input string\n",
    "x = \"xyzxyyxyyz\""
   ]
  },
  {
   "cell_type": "markdown",
   "metadata": {},
   "source": [
    "### The `append()` method\n",
    "\n",
    "An important method that is available only to **list** objects is `append()`.\n",
    "\n",
    "**Lists** are mutable, as you have seen it's possible to modify single elements of a list.\n",
    "Similarly, it's also possible to extend a **list** by \"appending\" elements at its end.\n",
    "\n",
    "Note that differently from `replace()` with **strings**, this method modifies the object that is called on."
   ]
  },
  {
   "cell_type": "code",
   "execution_count": null,
   "metadata": {},
   "outputs": [],
   "source": [
    "my_list = []\n",
    "print(my_list)\n",
    "\n",
    "# `append()` method adds an element at the end of the string\n",
    "my_list.append(9)\n",
    "print(my_list)"
   ]
  },
  {
   "cell_type": "markdown",
   "metadata": {},
   "source": [
    "### Exercise\n",
    "\n",
    "Define a function that takes a list as input and returns a new list as output. This output list should contain only the elements of the input list that are odd or smaller than 0.\n",
    "\n",
    "Hint: think of this exercise as if you had to \"sum\" all the elements of a list that have specific characteristics. You would do it with a counter. This is very similar, but the counter variable is a list."
   ]
  },
  {
   "cell_type": "code",
   "execution_count": null,
   "metadata": {},
   "outputs": [],
   "source": [
    "# Input lists\n",
    "x = [1, 8, -3, -6, 4, 2, -10]\n",
    "y = [4]\n",
    "z = []"
   ]
  },
  {
   "cell_type": "markdown",
   "metadata": {},
   "source": [
    "### Exercise\n",
    "\n",
    "Define a function that takes a list as input and returns a new version of it.\n",
    "The new version should contain only the first 2 occurrences of each element in the list.\n",
    "\n",
    "Hints:\n",
    " - Start from an empty list and begin adding the elements of the input lis\n",
    " - The expected output is `[1, 2, 3, 1, 2, 3, 4, 4]`."
   ]
  },
  {
   "cell_type": "code",
   "execution_count": null,
   "metadata": {},
   "outputs": [],
   "source": [
    "x = [1, 2, 3, 1, 2, 3, 1, 2, 3, 4, 4, 4]"
   ]
  },
  {
   "cell_type": "markdown",
   "metadata": {},
   "source": [
    "### The slicing operator\n",
    "\n",
    "An additional operator that is available for **string** and **list** is the **slicing** operator.\n",
    "It is very similar to the **indexing** operator `[N]`, but it allows to obtain a \"slice\" of elements, instead of only 1.\n",
    "\n",
    "The slice is indicated with 2 numbers (that reperesent indices) separated by a colon `:`. Note that the first index is included, while the second is excluded. The slice operator always returns a list\n",
    "\n",
    "**Remember that the first position is index 0**."
   ]
  },
  {
   "cell_type": "code",
   "execution_count": null,
   "metadata": {},
   "outputs": [],
   "source": [
    "my_list = [10, 20, 30, 40, 50, 60]\n",
    "\n",
    "a = my_list[0:2]\n",
    "b = my_list[2:len(my_list)]\n",
    "print(a)\n",
    "print(b)\n",
    "\n",
    "c = my_list[:3] # If the start index (left of `:`) is not specified, it is assumed to be 0\n",
    "d = my_list[3:] # If the end index (right of `:`) is not specified, it is assumed to be the maximum\n",
    "print(c)\n",
    "print(d)\n",
    "\n",
    "# The slicing operator always returns a list, in some cases a list of a single element\n",
    "e = my_list[2:3]\n",
    "f = my_list[:1]\n",
    "print(e, \"and\", e[0])\n",
    "print(f, \"and\", f[0])"
   ]
  },
  {
   "cell_type": "markdown",
   "metadata": {},
   "source": [
    "### Exercise\n",
    "\n",
    "Define a function that takes two strings as input. The function should return a string that is obtained by concatenating the first three letters of the first string with the last three letters of the second string.\n",
    "If one of the strings has less than three letters, it should use all of them."
   ]
  },
  {
   "cell_type": "code",
   "execution_count": null,
   "metadata": {},
   "outputs": [],
   "source": [
    "# First pair of strings\n",
    "s_1a = \"Hello\"\n",
    "s_1b = \"Computer\"\n",
    "# Second pair of strings\n",
    "s_2a = \".\"\n",
    "s_2b = \"--\"\n",
    "# Third pair of strings\n",
    "s_3a = \"Cat\"\n",
    "s_4a = \"Dog sitter\""
   ]
  },
  {
   "cell_type": "markdown",
   "metadata": {},
   "source": [
    "### Exercise\n",
    "\n",
    "Write a function that takes a string as input and returns the characters in the middle.\n",
    "If the string has an odd number of characters, it should return the 3 characters in the middle or all of them is the string is shorter than 3 characters.\n",
    "If the string has an even number of characters, it should return the 4 characters in the middle or all of them is the string is shorter than 4 characters."
   ]
  },
  {
   "cell_type": "code",
   "execution_count": null,
   "metadata": {},
   "outputs": [],
   "source": [
    "a = \"hello\"\n",
    "b = \"b\"\n",
    "c = \"dog\"\n",
    "d = \"abcdefgh\"\n",
    "e = \"ee\"\n",
    "f = \"fish\""
   ]
  },
  {
   "cell_type": "markdown",
   "metadata": {},
   "source": [
    "# Advanced `for` loops\n",
    "\n",
    "So far, `for` loops have been used to perform repeated tasks using all the elements of a **list**, using multiple iterations.\n",
    "During each iteration, the placeholder variable was being assigned the value of one of the elements in turn.\n",
    "\n",
    "However, it is not directly possible to know, in the loop body, the position of the element (i.e. the index) that you are currently processing.\n",
    "\n",
    "Consider for example the following assignements and think how would you solve them."
   ]
  },
  {
   "cell_type": "markdown",
   "metadata": {},
   "source": [
    " - Write a code that, given a **list** prints all the elements that are at positions multiple than 3."
   ]
  },
  {
   "cell_type": "code",
   "execution_count": null,
   "metadata": {},
   "outputs": [],
   "source": [
    "# Use a counter to know which index you are currently working with.\n",
    "i = 0 # You need to initialize the counter\n",
    "for x in [1, 10, 100, 1000]:\n",
    "    if i % 3 == 0:\n",
    "        print(\"This is element\", x, \"at postion\", i)\n",
    "    i = i + 1 # You need to update the counter at the end of the iteration"
   ]
  },
  {
   "cell_type": "markdown",
   "metadata": {},
   "source": [
    "- Write a code that prints all the numbers between 0 and X that are multiple of 3."
   ]
  },
  {
   "cell_type": "code",
   "execution_count": null,
   "metadata": {},
   "outputs": [],
   "source": [
    "# Create a \"fake list\", made of all the possible numbers in your range 0, X \n",
    "my_fake_list = [0, 1, 2, 3, 4, 5, 6, 7, 8, 9, 10]\n",
    "for x in my_fake_list:\n",
    "    if x % 3 == 0:\n",
    "        print(\"Number is multiple of 3:\", x)"
   ]
  },
  {
   "cell_type": "markdown",
   "metadata": {},
   "source": [
    "The first code block looks more complex and prone to errors than required (e.g. you have to remember to correctly increment the counter).\n",
    "\n",
    "On the other hand, the second code block makes sense only if your range is relatively small.\n",
    "\n",
    "You will now learn about two important Python **functions** that allow to easily solve the problems described above."
   ]
  },
  {
   "cell_type": "markdown",
   "metadata": {},
   "source": [
    "### The `enumerate()` function\n",
    "\n",
    "The `enumerate()` **function** allows to use two placeholder variables in a `for` loop. The first one will have the current index assigned, while the second one the value of the current element (as in standard `for` loops).\n",
    "\n",
    "Keep in mind that the order of the placeholder variables is important, not their name.\n",
    "The first one is always the index and the second one is always the value."
   ]
  },
  {
   "cell_type": "code",
   "execution_count": null,
   "metadata": {},
   "outputs": [],
   "source": [
    "for i, x in enumerate([1, 10, 100, 1000]):\n",
    "    print(\"This is element\", x, \"at postion\", i)"
   ]
  },
  {
   "cell_type": "markdown",
   "metadata": {},
   "source": [
    "### The `range()` function\n",
    "\n",
    "The `range()` **function** allows to iterate over a sequence of numbers by only specifying its boundaries.\n",
    "\n",
    "Remember that **list** indices start at 0 and that the last element in the list is at index `len() - 1`, similarly the end boundary in the `range()` function (i.e. the second argument) is excluded."
   ]
  },
  {
   "cell_type": "code",
   "execution_count": null,
   "metadata": {},
   "outputs": [],
   "source": [
    "for x in range(0, 5):\n",
    "    print(\"range iteration:\", x)\n",
    "\n",
    "z = 100\n",
    "for x in range(10, z):\n",
    "    if x % 9 == 0:\n",
    "        print(\"Number is multiple of 9:\", x)"
   ]
  },
  {
   "cell_type": "markdown",
   "metadata": {},
   "source": [
    "### Exericse\n",
    "\n",
    "Define a function for computing the factorial of an input number. The factorial is the following expression:\n",
    "\n",
    "\\begin{equation*}\n",
    "4! = 4 \\times 3 \\times 2 \\times 1\n",
    "\\end{equation*}\n",
    "\n",
    "Note that there is also an exception: the factorial of 0, is 1.\n",
    "\n",
    "Hints: remember the commutative property: $4 \\times 3 \\times 2 \\times 1 = 1 \\times 2 \\times 3 \\times 4$"
   ]
  },
  {
   "cell_type": "code",
   "execution_count": null,
   "metadata": {},
   "outputs": [],
   "source": [
    "# Input numbers\n",
    "a = 0\n",
    "b = 1\n",
    "c = 2\n",
    "d = 3\n",
    "e = 4"
   ]
  },
  {
   "cell_type": "markdown",
   "metadata": {},
   "source": [
    "### Exercise\n",
    "\n",
    "Define a function that takes a number as input argument and returns a list of 10 elements that contains the multiplication table (from 1 to 10) for the input number (i.e. 6, 12, 18, ...)."
   ]
  },
  {
   "cell_type": "code",
   "execution_count": null,
   "metadata": {},
   "outputs": [],
   "source": [
    "# Input numbers\n",
    "x = 6\n",
    "y = 10"
   ]
  },
  {
   "cell_type": "markdown",
   "metadata": {},
   "source": [
    "### Exercise\n",
    "\n",
    "Define a function that takes a list as input argument and returns the sum of all the numbers that have a value smaller or equal than their index (e.g. a value 1 in position 1 is ok, while a value 4 in position 3 is not)."
   ]
  },
  {
   "cell_type": "code",
   "execution_count": null,
   "metadata": {},
   "outputs": [],
   "source": [
    "# Input lists\n",
    "x = [1, 3]\n",
    "y = [0, 0, 2, 2, 4, 4]\n",
    "z = [2, 2, 2, 2, 2, 2]"
   ]
  },
  {
   "cell_type": "markdown",
   "metadata": {},
   "source": [
    "### Exercise\n",
    "\n",
    "Define a function that takes a list as input argument and returns the highest number at an odd position."
   ]
  },
  {
   "cell_type": "code",
   "execution_count": null,
   "metadata": {},
   "outputs": [],
   "source": [
    "# Input lists\n",
    "x = [0, 0, 1, 1, 2, 2]\n",
    "y = [-4, -2, 6, -3]"
   ]
  },
  {
   "cell_type": "markdown",
   "metadata": {},
   "source": [
    "### Exercise\n",
    "\n",
    "Define a function that takes a list as input a returns the highest number of consecutive equal letters in it.\n",
    "For example `[2, 1, 1, 2, 1, 1, 1, 2]` should return `3` as there are three consecutive `1`.\n",
    "\n",
    "Hints:\n",
    " - Use a counter to count the current sequence of elements.\n",
    " - Use the `enumerate()` function.\n",
    " - Remember that you can use mathematical expressions with the indexing operator: `my_list[a + b]`\n",
    " - Every iteration you should check for the following element in the list to decide whether to increment or reset the counter.\n",
    " - Be careful to not go out of bound: always check if an index is valid before accessing it."
   ]
  },
  {
   "cell_type": "code",
   "execution_count": null,
   "metadata": {},
   "outputs": [],
   "source": [
    "a = [2, 1, 1, 2, 1, 1, 1, 2]\n",
    "b = [0, 0, 1, 2]\n",
    "c = [1, 2, 3, 3, 3, 3]"
   ]
  }
 ],
 "metadata": {
  "kernelspec": {
   "display_name": "Python 3",
   "language": "python",
   "name": "python3"
  },
  "language_info": {
   "codemirror_mode": {
    "name": "ipython",
    "version": 3
   },
   "file_extension": ".py",
   "mimetype": "text/x-python",
   "name": "python",
   "nbconvert_exporter": "python",
   "pygments_lexer": "ipython3",
   "version": "3.7.5"
  }
 },
 "nbformat": 4,
 "nbformat_minor": 4
}
