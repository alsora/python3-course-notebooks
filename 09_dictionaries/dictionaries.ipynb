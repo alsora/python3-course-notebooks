{
 "cells": [
  {
   "cell_type": "markdown",
   "metadata": {},
   "source": [
    "# Dictionaries\n",
    "\n",
    "In the previous lessons you used **lists** in your Python code.\n",
    "An object of **class list** is a container of ordered values.\n",
    "\n",
    "The fact that a list is *ordered* is a fundamental concept: **lists** work the best when the items stored there can be ordered in a natural and meaningful way.\n",
    "\n",
    "However, that's not always the case."
   ]
  },
  {
   "cell_type": "code",
   "execution_count": null,
   "metadata": {},
   "outputs": [],
   "source": [
    "# This list contains how much you earned each month of the last year (from January to December)\n",
    "# The items have a meaningful order, so working with them it's easy\n",
    "payslips = [100, 120, 100, 90, 100, 110, 100, 120, 95, 100, 90, 120]\n",
    "june_index = 5\n",
    "print(\"The pay in January is\", payslips[0], \"and the pay in july is\", payslips[june_index + 1])\n",
    "\n",
    "# This list contains consecutive observations of an experiment\n",
    "# The order of the elements is important: if we mix them, they would provide a different result\n",
    "obs = [1, 5, 10]\n",
    "last = 0\n",
    "for x in obs:\n",
    "    if x > last:\n",
    "        print(\"The observed value increased to\", x)\n",
    "\n",
    "# This list contains the price of the ticket in different museums\n",
    "# These items DO NOT have a meaningful natural order.\n",
    "# They could be ordered in any way that it would  not make any difference:\n",
    "# you still need a \"map\" that tells you which element is in which position.\n",
    "museum_tickets = [5, 2, 8]\n",
    "science_museum_index = 0\n",
    "history_musuem_index = 1\n",
    "art_museum_index = 2\n",
    "print(\"The ticket for the science museum costs\", museum_tickets[science_museum_index])"
   ]
  },
  {
   "cell_type": "markdown",
   "metadata": {},
   "source": [
    "### Dictionaries\n",
    "\n",
    "A **list** is not the only container **class** in Python. There are also **dictionaries**: a container **class** that is meant to solve the problem described above.\n",
    "\n",
    "A **dictionary** is a container of multiple **key-value** pairs.\n",
    "\n",
    "Think about what a dictionary is in your everyday experience: a dictionary is a book where, for each word ( the **key**) there is a description (the **value**). Each word is defined only once, but multiple words may have the same definition (e.g. if they are synonyms). Even if the dictionary is ordered (alphabetically), when you have to use it you don't say things like \"I need the definition of the third word after this one\", but rather \"I need the definition of the word *cephalopod*\".\n",
    "\n",
    "A Python **dictionary** has all the properties described above."
   ]
  },
  {
   "cell_type": "code",
   "execution_count": null,
   "metadata": {},
   "outputs": [],
   "source": [
    "museum_tickets = {\n",
    "    \"science_museum\" : 5,\n",
    "    \"history_museum\" : 2,\n",
    "    \"art_museum\" : 8\n",
    "}\n",
    "\n",
    "x = museum_tickets[\"science_museum\"]\n",
    "print(\"The science ticket costs\", x)\n",
    "print(\"The art ticket costs\", museum_tickets[\"art_museum\"])"
   ]
  },
  {
   "cell_type": "markdown",
   "metadata": {},
   "source": [
    "Let's analyze how to create and use a **dictionary**.\n",
    "\n",
    "A **dictionary** is initialized using multiple key-value pairs between curly brackets `{`, `}`.\n",
    "First you have a **key**, then its corresponding **value**; between the key and the value there is a colon `:`.\n",
    "Key-value pairs are separated by commas `,`.\n",
    "\n",
    "In order to access a value in the dictionary, you use an operator very similar to the indexing operator used for lists. The only difference is that you have to provide a key between brackets and not a position.\n",
    "\n",
    "Note that you can use different **classes** for keys and values: keys can be of any Python immutable **class**, i.e. **int**, **float**, **string**, but you can't use **lists** as keys, on the other hand values can be of any **class**, both mutable and immutable."
   ]
  },
  {
   "cell_type": "markdown",
   "metadata": {},
   "source": [
    "### Exercise\n",
    "\n",
    "Write a dictionary that allows to convert some numbers into their English text representation (i.e. `1` to `\"one\"`). Try to access some elements."
   ]
  },
  {
   "cell_type": "code",
   "execution_count": null,
   "metadata": {},
   "outputs": [],
   "source": []
  },
  {
   "cell_type": "markdown",
   "metadata": {},
   "source": [
    "### Checking for elements existence\n",
    "\n",
    "If you try to access an element of a **list** using a non-existing index you get an out-of-bound error.\n",
    "You should always check if an index is valid before using it to access an element of a container.\n",
    "\n",
    "For **lists**, this check consists in making sure that the index is less than the length of the **list**."
   ]
  },
  {
   "cell_type": "code",
   "execution_count": null,
   "metadata": {},
   "outputs": [],
   "source": [
    "my_list = [1, 10, 100]\n",
    "\n",
    "my_indices = [1, 6]\n",
    "for index in my_indices:\n",
    "    if index < len(my_list):\n",
    "        print(\"The index\", index, \"is valid and the element is\", my_list[index])\n",
    "    else:\n",
    "        print(\"The index\", index, \"is out of bound, I can't use it\")"
   ]
  },
  {
   "cell_type": "markdown",
   "metadata": {},
   "source": [
    "The same problem applies also to **dictionaries**.\n",
    "If you try to **read** the value for a non-existing key, you will get an error."
   ]
  },
  {
   "cell_type": "code",
   "execution_count": null,
   "metadata": {},
   "outputs": [],
   "source": [
    "my_dict = { \"a\" : 10 }\n",
    "\n",
    "# KeyError: key \"b\" does not exist in the dictionary\n",
    "print(my_dict[\"b\"])"
   ]
  },
  {
   "cell_type": "markdown",
   "metadata": {},
   "source": [
    "Similarly to **lists** also **dictionaries** provide a way for checking if a key is valid or not."
   ]
  },
  {
   "cell_type": "code",
   "execution_count": null,
   "metadata": {
    "scrolled": true
   },
   "outputs": [],
   "source": [
    "my_dict = { \"a\" : 10 }\n",
    "\n",
    "my_key = \"a\"\n",
    "if my_key in my_dict:\n",
    "    print(\"The key\", my_key, \"has been found and the value is\", my_dict[my_key])\n",
    "    \n",
    "# The syntax on the right hand side of the assignmenet operator evaluates to a boolean value\n",
    "# That's why we have been able to use it in an `if` statement above\n",
    "# `in` is a boolean operator exactly as `>` or `!=`\n",
    "found = \"my_fancy_key\" in my_dict\n",
    "print(\"Is the key found?\", found)"
   ]
  },
  {
   "cell_type": "markdown",
   "metadata": {},
   "source": [
    "### Exercise\n",
    "\n",
    "Encoding is an invertible operation that takes some data and represent it in a different format.\n",
    "\n",
    "Use the provided encoding dictionary to convert a sequence of characters into their encoded form.\n",
    "Note that not all values in the list have a valid encoding described in the dictionary. Encode any missing value as  `0`."
   ]
  },
  {
   "cell_type": "code",
   "execution_count": null,
   "metadata": {},
   "outputs": [],
   "source": [
    "encoding_dict = {\n",
    "    \"_\" : 0,\n",
    "    \"a\" : 1,\n",
    "    \"b\" : 2,\n",
    "    \"c\" : 3,\n",
    "    \"d\" : 4\n",
    "}\n",
    "\n",
    "x = [\"a\", \"d\", \"h\", \"b\", \"b\", \"_\"] # This should encode to `[1, 4, 0, 2, 2, 0]`"
   ]
  },
  {
   "cell_type": "markdown",
   "metadata": {},
   "source": [
    "### Iterating over a dictionary\n",
    "\n",
    "In a **list** each element has an index and its value.\n",
    "The `enumerate()` function allows you to do a  `for` loop that uses both of them.\n",
    "\n",
    "On the other hand, a **dictionary** is made of keys (instead of indices) and values.\n",
    "\n",
    "It is possible to iterate through the elements of a **dictionary** using standard `for` loops. In this case, the placeholder variable will have each of the keys assigned to it, not the values as when working with **lists**."
   ]
  },
  {
   "cell_type": "code",
   "execution_count": null,
   "metadata": {},
   "outputs": [],
   "source": [
    "my_dict = {\n",
    "    1 : \"uno\",\n",
    "    2 : \"dos\",\n",
    "    5 : \"cinco\",\n",
    "    10 : \"diez\"\n",
    "}\n",
    "\n",
    "for k in my_dict:\n",
    "    print(k, \"corresponds to\", my_dict[k])"
   ]
  },
  {
   "cell_type": "markdown",
   "metadata": {},
   "source": [
    "### Modifying a dictionary\n",
    "\n",
    "The **dictionary** is a mutable **class**, as the **list**.\n",
    "This means that you can modify the value for an existing key or add new key-value pairs.\n",
    "\n",
    "Using the **indexing** operator on the left hand side of an assignment, you can modify the value in a **list** at the position indicated by the index.\n",
    "The same applies to **dictionaries**, but you have to specify the key instead of the index.\n",
    "Note that you can't modify an existing key, but only its associated value.\n",
    "\n",
    "In a **list** you can add new elements at the end using the `append()` **method**.\n",
    "This does not exists for **dictionaries** because key-value pairs do not have a meaningful order.\n",
    "The same operator described above for modifying existing values, can be used to add new key-value pairs to a **dictionary**: if the provided key does not exist it will be automatically created.\n",
    "This is different from **lists** where the **indexing** operator would give you an out-of-bound error regardless if you are trying to **read** or **write** values.\n",
    "\n",
    "Remember that keys are unique in a **dictionary**."
   ]
  },
  {
   "cell_type": "code",
   "execution_count": null,
   "metadata": {},
   "outputs": [],
   "source": [
    "my_dict = {\n",
    "    \"a\" : 10\n",
    "}\n",
    "\n",
    "print(my_dict[\"a\"])\n",
    "my_dict[\"a\"] = 20 # key \"a\" already exist in the dictionary, so modify its value\n",
    "print(my_dict[\"a\"])\n",
    "my_dict[\"b\"] = 40 # key `b` does not exist in the dictionary, create a new key-value pair\n",
    "\n",
    "print(my_dict)"
   ]
  },
  {
   "cell_type": "markdown",
   "metadata": {},
   "source": [
    "Note that in the last example you are trying to modify the **dictionary** entry for key `b`. `my_dict[\"b\"]` is on the left side of the assignement operator.\n",
    "\n",
    "You can't **read** a value from a non-existing key (i.e. by using it on the right hand side of an assignement operator), but you can use a non-existing key to **write** a new key-value pair into the **dictionary**.\n",
    "\n",
    "Note that the following 2 notations result in exactly the same **dictionary**."
   ]
  },
  {
   "cell_type": "code",
   "execution_count": null,
   "metadata": {},
   "outputs": [],
   "source": [
    "# This syntax is preferred when you already know all the elements\n",
    "a = {\n",
    "    \"a\" : 10,\n",
    "    \"b\" : 20\n",
    "}\n",
    "print(\"Dictionary a:\", a)\n",
    "\n",
    "# This syntax is preferred when you have to add key-value pairs according to some conditions\n",
    "b = {}\n",
    "b[\"a\"] = 10\n",
    "b[\"b\"] = 20\n",
    "print(\"Dictionary b:\", b)"
   ]
  },
  {
   "cell_type": "markdown",
   "metadata": {},
   "source": [
    "When creating **dictionaries**, a different behavior is often required depending on if a certain key (and thus also its corresponding value) is already present or not."
   ]
  },
  {
   "cell_type": "code",
   "execution_count": null,
   "metadata": {},
   "outputs": [],
   "source": [
    "my_dict = {}\n",
    "\n",
    "my_keys = [\"a\", \"b\", \"a\", \"a\"]\n",
    "for k in my_keys:\n",
    "    if k in my_dict:\n",
    "        my_dict[k] = my_dict[k] * 10\n",
    "    else:\n",
    "        my_dict[k] = 1\n",
    "\n",
    "print(my_dict)"
   ]
  },
  {
   "cell_type": "markdown",
   "metadata": {},
   "source": [
    "Remember that mutable **classes** in Python are copied by reference.\n",
    "\n",
    "This means that if you copy a **dictionary** and then you modify it, the changes will reflect also on the copy as it happens with **lists**.\n",
    "\n",
    "You can avoid copy by reference with the same mechanisms used for **lists**, i.e. creating a new empty **dictionary** and adding all the elements of the original one to it.\n",
    "\n",
    "Note that the **slicing** operator is not available for **dictionaries**."
   ]
  },
  {
   "cell_type": "code",
   "execution_count": null,
   "metadata": {},
   "outputs": [],
   "source": [
    "a = {}\n",
    "b = a\n",
    "\n",
    "b[\"a\"] = 1\n",
    "\n",
    "print(\"a is:\", a)\n",
    "print(\"b is:\", b)"
   ]
  },
  {
   "cell_type": "markdown",
   "metadata": {},
   "source": [
    "### Exercise\n",
    "\n",
    "Define a function that given an input number returns a dictionary where the keys are all the integer numbers from `1` to the input number included and the values are their square.\n",
    "\n",
    "Hint: you should use the `range()` function in your loop."
   ]
  },
  {
   "cell_type": "code",
   "execution_count": null,
   "metadata": {},
   "outputs": [],
   "source": [
    "# Input values\n",
    "x = 2\n",
    "y = 5"
   ]
  },
  {
   "cell_type": "markdown",
   "metadata": {},
   "source": [
    "### Exercise\n",
    "\n",
    "Define a function that takes as input a list of strings and it returns a dictionary where each key is a character that is present in one of the strings and the value is its total number of occurrences within the list."
   ]
  },
  {
   "cell_type": "code",
   "execution_count": null,
   "metadata": {},
   "outputs": [],
   "source": [
    "# Input lists\n",
    "x = [\"hello\", \"world\", \"test\"]\n",
    "y = [\"what you doing?\"]"
   ]
  },
  {
   "cell_type": "markdown",
   "metadata": {},
   "source": [
    "### Exercise\n",
    "\n",
    "Decoding is the inverse of the encoding operation. It converts an encoded information back to its original form.\n",
    "Use the encoding dictionary to create a decoding dictionary, i.e. its opposite where the encoded value is the key and the decoded version is the value."
   ]
  },
  {
   "cell_type": "code",
   "execution_count": null,
   "metadata": {},
   "outputs": [],
   "source": [
    "encoding_dict = {\n",
    "    \"_\" : 0,\n",
    "    \"a\" : 1,\n",
    "    \"b\" : 2,\n",
    "    \"c\" : 3,\n",
    "    \"d\" : 4\n",
    "}\n",
    "\n",
    "z = [1, 4, 0, 2, 2, 0]"
   ]
  },
  {
   "cell_type": "markdown",
   "metadata": {},
   "source": [
    "### Exercise\n",
    "\n",
    "Define a function that takes as input a string and a list of strings representing a database.\n",
    "The function should compare the provided input string with every string in the databse and find the two strings in the database that are the most similar with it.\n",
    "The function should return a list of 2 elements corresponding to the 2 most similar strings in order.\n",
    "\n",
    "Similarity is only measured by same elements in the exact same position among the strings."
   ]
  },
  {
   "cell_type": "code",
   "execution_count": null,
   "metadata": {},
   "outputs": [],
   "source": [
    "# The database\n",
    "db = [\n",
    "    \"ATATATATATAT\",\n",
    "    \"AGCTAGCTAGCT\",\n",
    "    \"GCGCGCATATAT\",\n",
    "    \"TGCAATGACGTA\"\n",
    "]\n",
    "\n",
    "# Input strings\n",
    "x = \"AAAAAAAAAAAA\"\n",
    "y = \"GAGAGACTCTCT\""
   ]
  }
 ],
 "metadata": {
  "kernelspec": {
   "display_name": "Python 3",
   "language": "python",
   "name": "python3"
  },
  "language_info": {
   "codemirror_mode": {
    "name": "ipython",
    "version": 3
   },
   "file_extension": ".py",
   "mimetype": "text/x-python",
   "name": "python",
   "nbconvert_exporter": "python",
   "pygments_lexer": "ipython3",
   "version": "3.7.5"
  }
 },
 "nbformat": 4,
 "nbformat_minor": 4
}
