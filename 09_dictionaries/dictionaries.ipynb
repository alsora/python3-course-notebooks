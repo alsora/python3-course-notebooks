{
 "cells": [
  {
   "cell_type": "markdown",
   "metadata": {},
   "source": [
    "# Dictionaries\n",
    "\n",
    "In the previous lessons you used **lists** in your Python code.\n",
    "An object of type **list** is a container of ordered values.\n",
    "\n",
    "The fact that a list is *ordered* is a fundamental concept: **lists** work the best when the items stored there can be ordered in a natural and meaningful way.\n",
    "\n",
    "However, that's not always the case."
   ]
  },
  {
   "cell_type": "code",
   "execution_count": null,
   "metadata": {},
   "outputs": [],
   "source": [
    "# This list contains how much you earned each month of the last year (from January to December)\n",
    "payslips = [100, 120, 100, 90, 100, 110, 100, 120, 95, 100, 90, 120]\n",
    "\n",
    "# The items in the above list have a meaningful order, so working with them it's easy\n",
    "january_pay = payslips[0]\n",
    "june_index = 5\n",
    "july_pay = payslips[june_index + 1]\n",
    "\n",
    "# This list contains the price of 1 ticket in different museums\n",
    "museum_tickets = [5, 2, 8]\n",
    "\n",
    "# The items in the above list DO NOT have a meaningful natural order.\n",
    "# Using a list does not give us many advantages as we need additional information\n",
    "# about which museum is in each position.\n",
    "science_museum_index = 0\n",
    "history_musuem_index = 1\n",
    "art_museum_index = 2\n",
    "\n",
    "science_museum_ticket = museum_tickets[science_museum_index]"
   ]
  },
  {
   "cell_type": "markdown",
   "metadata": {},
   "source": [
    "### Dictionaries\n",
    "\n",
    "A **list** is not the only container type in Python. You also have **dictionaries**: a container type that is meant to solve the problem described above.\n",
    "\n",
    "A **dictionary** is a container of multiple **key-value** pairs.\n",
    "\n",
    "Think about what a dictionary is in your everyday experience: a dictionary is a book where, for each word ( the **key**) there is a description (the **value**). Each word appears only once, but multiple words may have the same definition (e.g. if they are synonyms). Even if the dictionary is ordered (alphabetically), when you have to use it you don't say things like \"I need the definition of the third word after this one\", but rather \"I need the definition of the word *cephalopod*\".\n",
    "\n",
    "A Python **dictionary** has all the properties described above."
   ]
  },
  {
   "cell_type": "code",
   "execution_count": null,
   "metadata": {},
   "outputs": [],
   "source": [
    "museum_tickets = {\n",
    "    \"science_museum\" : 5,\n",
    "    \"history_museum\" : 2,\n",
    "    \"art_museum\" : 8\n",
    "}\n",
    "\n",
    "x = museum_tickets[\"science_museum\"]\n",
    "print(\"The science ticket costs\", x)\n",
    "print(\"The art ticket costs\", museum_tickets[\"art_museum\"])"
   ]
  },
  {
   "cell_type": "markdown",
   "metadata": {},
   "source": [
    "Let's analyze how to create and use a **dictionary**.\n",
    "\n",
    "A **dictionary** is initialized using multiple key-value pairs between curly brackets `{`, `}`.\n",
    "First you have a **key**, then its corresponding **value**; between the key and the value there is a colon `:`.\n",
    "Key-value pairs are separated by commas `,`.\n",
    "\n",
    "In order to access a value in the dictionary, you use an operator very similar to the indexing operator used for lists. The only difference is that the value between brackets denotes a key and not a position.\n",
    "\n",
    "Keys can be any Python immutable type, i.e. **int**, **float**, **string**, but you can't use **lists** as keys, on the other hand values can be of any type."
   ]
  },
  {
   "cell_type": "markdown",
   "metadata": {},
   "source": [
    "### Exercise\n",
    "\n",
    "Write a dictionary that uses integer number from 10 to 15 as keys and the corresponding textual translation as values (e.g. `\"ten\"`).\n",
    "Use a loop to print all the values.\n",
    "\n",
    "Hint: you should use the `range()` function in your loop."
   ]
  },
  {
   "cell_type": "code",
   "execution_count": null,
   "metadata": {},
   "outputs": [],
   "source": []
  },
  {
   "cell_type": "markdown",
   "metadata": {},
   "source": [
    "### Checking for elements existence\n",
    "\n",
    "Do you remember what happens when trying to access an element of a **list** using a non-existing index? You get an out-of-bound error.\n",
    "\n",
    "You should always check if an index is valid before using it to access an element of a container."
   ]
  },
  {
   "cell_type": "code",
   "execution_count": null,
   "metadata": {},
   "outputs": [],
   "source": [
    "my_list = [1, 10, 100]\n",
    "\n",
    "my_indices = [1, 6]\n",
    "for index in my_indices:\n",
    "    if index < len(my_list):\n",
    "        print(\"The index\", index, \"is valid and the element is\", my_list[index])\n",
    "    else:\n",
    "        print(\"The index\", index, \"is out of bound, I can't use it\")"
   ]
  },
  {
   "cell_type": "markdown",
   "metadata": {},
   "source": [
    "The similar problem applies also to **dictionaries**.\n",
    "If you try to read the value for a non-existing key, you will get an error."
   ]
  },
  {
   "cell_type": "code",
   "execution_count": null,
   "metadata": {},
   "outputs": [],
   "source": [
    "my_dict = {\n",
    "    \"a\" : 10\n",
    "}\n",
    "\n",
    "# KeyError: key \"b\" does not exist in the dictionary\n",
    "print(my_dict[\"b\"])"
   ]
  },
  {
   "cell_type": "markdown",
   "metadata": {},
   "source": [
    "Similarly to **lists** also **dictionaries** have a way for checking if a key is valid or not."
   ]
  },
  {
   "cell_type": "code",
   "execution_count": null,
   "metadata": {
    "scrolled": true
   },
   "outputs": [],
   "source": [
    "my_dict = {\n",
    "    \"a\" : 10\n",
    "}\n",
    "\n",
    "my_key = \"a\"\n",
    "if my_key in my_dict:\n",
    "    print(\"The key\", my_key, \"has been found and the value is\", my_dict[my_key])\n",
    "    \n",
    "# The syntax on the right hand side of the assignmenet operator evaluates to a boolean value\n",
    "found = \"my_fancy_key\" in my_dict\n",
    "print(found)\n",
    "if found:\n",
    "    print(\"Also this other key has been found\")\n",
    "else:\n",
    "    print(\"This other key has not been found =(\")"
   ]
  },
  {
   "cell_type": "markdown",
   "metadata": {},
   "source": [
    "### Exercise\n",
    "\n",
    "Encoding is an invertible operation that takes some data and represent it in a different format.\n",
    "\n",
    "Use the provided encoding dictionary to convert a list into its encoded format.\n",
    "Note that not all values in the list have a valid encoding described in the dictionary. Encode any missing value as the symbol `_`."
   ]
  },
  {
   "cell_type": "code",
   "execution_count": null,
   "metadata": {},
   "outputs": [],
   "source": [
    "encoding_dict = {\n",
    "    0 : \"_\",\n",
    "    1 : \"a\",\n",
    "    2 : \"b\",\n",
    "    3 : \"c\",\n",
    "    4 : \"d\"\n",
    "}\n",
    "\n",
    "x = [1, 4, 7, 2, 2, 0] # This should encode to `[\"a\", \"d\", \"_\", \"b\", \"b\", \"_\"]`"
   ]
  },
  {
   "cell_type": "markdown",
   "metadata": {},
   "source": [
    "### Iterating over a dictionary\n",
    "\n",
    "In a **list** each element has an index and its value.\n",
    "The `enumerate()` function allows you to do a  `for` loop that uses both of them.\n",
    "\n",
    "On the other hand, a **dictionary** is made of keys (instead of indices) and values.\n",
    "\n",
    "It is possible to iterate through the elements of a **dictionary** using standard `for` loops. In this case, the placeholder variable will have each of the keys assigned to it, not the values as when working with **lists**.\n",
    "\n",
    "If you want to replicate what the `enumerate()` function does for **lists** you should use the `items()` method of dictionary objects.\n",
    "As when using `enumerate()`, you must provide 2 placeholder variables and their order is important: the first one is the key and the second one will be the value."
   ]
  },
  {
   "cell_type": "code",
   "execution_count": null,
   "metadata": {},
   "outputs": [],
   "source": [
    "my_dict = {\n",
    "    1 : \"uno\",\n",
    "    2 : \"dos\",\n",
    "    5 : \"cinco\",\n",
    "    10 : \"diez\"\n",
    "}\n",
    "\n",
    "for k in my_dict:\n",
    "    print(k, \"corresponds to\", my_dict[k])\n",
    "    \n",
    "for k, v in my_dict.items():\n",
    "    print(k, \"corresponds to\", v)"
   ]
  },
  {
   "cell_type": "markdown",
   "metadata": {},
   "source": [
    "### Exercise\n",
    "\n",
    "Decoding is the inverse of the encoding operation. It converts an encoded information back to its original form.\n",
    "Use the encoding dictionary to restore the provided list to its original version.\n",
    "\n",
    "Note that the decoding operation is usually more complex than the encoding and it will not always be possible to recostruct exactly the original information."
   ]
  },
  {
   "cell_type": "code",
   "execution_count": null,
   "metadata": {},
   "outputs": [],
   "source": [
    "encoding_dict = {\n",
    "    0 : \"_\",\n",
    "    1 : \"a\",\n",
    "    2 : \"b\",\n",
    "    3 : \"c\",\n",
    "    4 : \"d\"\n",
    "}\n",
    "\n",
    "z = [\"a\", \"d\", \"_\", \"b\", \"b\", \"_\"]"
   ]
  },
  {
   "cell_type": "markdown",
   "metadata": {},
   "source": [
    "### Modifying a dictionary\n",
    "\n",
    "The **dictionary** is a mutable type, as the **list**. This means that you can modify individual elements within a dictionary.\n",
    "\n",
    "A value can be modified with a syntax that is identical to what used for **lists**.\n",
    "\n",
    "A **list** is an ordered sequence of elements. It is possible to add values at the end of a **list** using the `append()` method.\n",
    "\n",
    "On the other hand, you can add an element to a **dictionary** using the same syntax required for modifying an element.\n",
    "\n",
    "Moreover **dictionaries** provide the method `pop()` that allows to remove a key-value pair by specifying its key.\n",
    "\n",
    "Remember that keys are unique in a dictionary."
   ]
  },
  {
   "cell_type": "code",
   "execution_count": 18,
   "metadata": {},
   "outputs": [
    {
     "name": "stdout",
     "output_type": "stream",
     "text": [
      "10\n",
      "20\n",
      "{'a': 20, 'b': 40}\n",
      "{'b': 40}\n"
     ]
    }
   ],
   "source": [
    "my_dict = {\n",
    "    \"a\" : 10\n",
    "}\n",
    "\n",
    "print(my_dict[\"a\"])\n",
    "my_dict[\"a\"] = 20 # key \"a\" already exist in the dictionary, so modify its value\n",
    "print(my_dict[\"a\"])\n",
    "my_dict[\"b\"] = 40 # key `b` does not exist in the dictionary, create a new key-value pair\n",
    "\n",
    "print(my_dict)\n",
    "\n",
    "my_dict.pop(\"a\")\n",
    "\n",
    "print(my_dict)"
   ]
  },
  {
   "cell_type": "markdown",
   "metadata": {},
   "source": [
    "Note that in the last example you are trying to modify the **dictionary** entry for key `b`. `my_dict[\"b\"]` is on the left side of the assignement operator.\n",
    "\n",
    "You can't read a value from a non-existing key (i.e. by using it on the right hand side of an assignement operator), but you can set a value to a non-existing key.\n",
    "\n",
    "Note that the following 2 notations result in exactly the same **dictionary**."
   ]
  },
  {
   "cell_type": "code",
   "execution_count": 4,
   "metadata": {},
   "outputs": [
    {
     "name": "stdout",
     "output_type": "stream",
     "text": [
      "Dictionary a: {'a': 10, 'b': 20}\n",
      "Dictionary b: {'a': 10, 'b': 20}\n"
     ]
    }
   ],
   "source": [
    "a = {\n",
    "    \"a\" : 10,\n",
    "    \"b\" : 20\n",
    "}\n",
    "print(\"Dictionary a:\", a)\n",
    "\n",
    "b = {}\n",
    "b[\"a\"] = 10\n",
    "b[\"b\"] = 20\n",
    "print(\"Dictionary b:\", b)"
   ]
  },
  {
   "cell_type": "markdown",
   "metadata": {},
   "source": [
    "Often, when creating dictionaries, a different behavior is required depending on if a certain key (and thus also its corresponding value) is already present or not."
   ]
  },
  {
   "cell_type": "code",
   "execution_count": null,
   "metadata": {},
   "outputs": [],
   "source": [
    "my_dict = {}\n",
    "\n",
    "my_key = \"a\"\n",
    "if my_key in my_dict:\n",
    "    my_dict[my_key] = my_dict[my_key] * 10\n",
    "else:\n",
    "    my_dict[my_key] = 1"
   ]
  },
  {
   "cell_type": "markdown",
   "metadata": {},
   "source": [
    "### Exercise\n",
    "\n",
    "Define a function that takes a list as input argument and returns the most occurring element in the list. If multiple elements have the same number of occurrences, return any of them.\n",
    "\n",
    "Hints: \n",
    " - Use a dictionary to create and update a counts table.\n",
    " - At the end, go through the dictionary and check the element with the highest count."
   ]
  },
  {
   "cell_type": "code",
   "execution_count": null,
   "metadata": {},
   "outputs": [],
   "source": [
    "# Input lists\n",
    "x = [1, 1, 1, 2]\n",
    "y = [1, 2, 3, 4, 5]\n",
    "z = [1, 2, 2, 3, 3, 3]"
   ]
  },
  {
   "cell_type": "markdown",
   "metadata": {},
   "source": [
    "# Lists of lists\n",
    "\n",
    "So far, all the **lists** that you saw, where containing numbers.\n",
    "However, a **list** is a generic container, so it can store objects of any type."
   ]
  },
  {
   "cell_type": "code",
   "execution_count": null,
   "metadata": {},
   "outputs": [],
   "source": [
    "# This is a list of strings\n",
    "w = \"hello\"\n",
    "my_list = [\"world\", w, \"dogs and cats\"]\n",
    "\n",
    "# Read a string from the list of strings\n",
    "a = my_list[0]\n",
    "print(a)\n",
    "# Read a character from the string\n",
    "b = a[2]\n",
    "print(b)\n",
    "\n",
    "# Read a character from a string in the list of strings\n",
    "x  = my_list[1][4]\n",
    "print(x)"
   ]
  },
  {
   "cell_type": "markdown",
   "metadata": {},
   "source": [
    "**Lists of strings** are not particularly helpful, as you could simply write them one after the other.\n",
    "\n",
    "However, the same syntax allows to have **lists of lists**"
   ]
  },
  {
   "cell_type": "code",
   "execution_count": null,
   "metadata": {},
   "outputs": [],
   "source": [
    "my_list = [[1, 2, 3], [10, 100], []]\n",
    "for l in my_list:\n",
    "    if len(l) > 0:\n",
    "        print(\"list:\", l, \"has first element\", l[0])"
   ]
  }
 ],
 "metadata": {
  "kernelspec": {
   "display_name": "Python 3",
   "language": "python",
   "name": "python3"
  },
  "language_info": {
   "codemirror_mode": {
    "name": "ipython",
    "version": 3
   },
   "file_extension": ".py",
   "mimetype": "text/x-python",
   "name": "python",
   "nbconvert_exporter": "python",
   "pygments_lexer": "ipython3",
   "version": "3.7.5"
  }
 },
 "nbformat": 4,
 "nbformat_minor": 4
}
