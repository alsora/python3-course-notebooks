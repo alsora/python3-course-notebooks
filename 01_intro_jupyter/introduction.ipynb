{
 "cells": [
  {
   "cell_type": "markdown",
   "metadata": {},
   "source": [
    "#  Introduction to Jupyter Notebooks\n",
    "\n",
    "The Jupyter Notebook is an open-source web application that allows you to create and share documents that contain live code, equations, visualizations and narrative text.\n",
    "\n",
    "The currently selected cell is identified by a colored rectangle that surrounds it.\n",
    "\n",
    "A Notebook is made of cells and each of them can be of some different types.\n",
    "\n",
    " - Markdown cell: it's a cell that contains standard text or images. It's used to provide descriptions or notes about what the code will do. Markdown cells are editable. This whole block of text is a markdown cell!  Double click on this cell to start editing it if you want! When you are done with your editing and you want to \"save\" the cell, just press [SHIFT + Enter] or the `Run` button in the bar at the top of the notebook.\n",
    " - Code cell: it's a cell that contains Python code which can be executed. The second cell in this document is a code cell (i.e. the block that starts with `print(\"This is ...`. You will notice that code cells are always in editable mode. On the left of a code cell you will find the text `In [ ]:`. A code cell allows to execute the Python code it contains by running it: you have to select it and then press [SHIFT + Enter] or the `Run` button in the bar at the top of the notebook. Note that after running the cell, an increasing number will appear at its left. This number indicates the order in which the code cells have been run in the whole Notebook.\n",
    " - Output cell: this is a cell that is automatically generated when running a code cell that produces (i.e. displays) some data. If a code cell produces some output, this will be displayed immediately after it, with the text `Out [ ]:` and a number matching the one of the input. Running again a code cell will \"refresh its output\". You can't directly edit an output cell. Its content is univocally determined by the code cell just before it. Modifying the content of the code cell and running it again will produce a different output cell."
   ]
  },
  {
   "cell_type": "code",
   "execution_count": null,
   "metadata": {},
   "outputs": [],
   "source": [
    "print(\"This is printed from a code cell and it will appear in an output cell\")"
   ]
  },
  {
   "cell_type": "markdown",
   "metadata": {},
   "source": [
    "### Adding cells\n",
    "\n",
    "While working, you can completely edit your Jupyter Notebook, adding notes, example or anything you want.\n",
    "\n",
    "- Use the \"plus sign\" icon in the top bar of the notebook to insert a cell below the currently selected one.\n",
    "- Use `Insert` -> `Insert Cell Above` from the menu to insert above."
   ]
  },
  {
   "cell_type": "markdown",
   "metadata": {},
   "source": [
    "### Changing the type of a cell\n",
    "\n",
    "You can always change the type of a cell from the dropdown menu present in the top bar of the notebook.\n",
    "You can only change the type of the currently selected cell.\n",
    "\n",
    "For example, select now this cell. A blue rectangle should surround it.\n",
    "You should now see a dropdown menu at the top with written `Markdown`. \n",
    "Click on the dropdown menu and select the type `Code`.\n",
    "\n",
    "You will see the layout of this cell to change, transforming it into a code cell.\n",
    "You can try to run this cell!\n",
    "\n",
    "Nothing bad should happen.\n",
    "\n",
    "After all your experiments, convert this cell back to Markdown."
   ]
  },
  {
   "cell_type": "markdown",
   "metadata": {},
   "source": [
    "### Saving the Notebook\n",
    "\n",
    "The Notebook automatically saves every time you run something.\n",
    "In addition, you can create Checkpoints.\n",
    "To create a Checkpoint, click `File` -> `Save and Checkpoint` in the nav bar at the top.\n",
    "\n",
    "Checkpoints allow you to restore the Notebook to that old state, by clicking `File` -> `Revert to Checkpoint` in the nav bar at the top.\n",
    "\n",
    "**NOTE:** every time you start a new lesson it's suggested to make a copy of it.\n",
    "You can do that after opening the lesson in the browser by clicking `File`-> `Make a Copy` in the nav bar at the top.\n",
    "This has 2 purposes: allows you to easily return to a clean stage if you messed up too much and it simplifies how you can receive updates."
   ]
  },
  {
   "cell_type": "markdown",
   "metadata": {},
   "source": [
    "### More cells!!!!\n",
    "\n",
    "\n",
    "After running a cell, you will automatically select the following one.\n",
    "Running the last cell will create a new cell after it.\n",
    "\n",
    "Try running the last cell.\n",
    "This will create a new cell.\n",
    "\n",
    "Now try deleting the cell you just created.\n",
    "To do this: select the cell with the mouse by clicking in the white space between the cell content and the colored bounding box. After the click, the bounding box should be blue.\n",
    "Now press the letter `d` 2 times in quick succession.\n",
    "The cell should disappear."
   ]
  },
  {
   "cell_type": "code",
   "execution_count": null,
   "metadata": {},
   "outputs": [],
   "source": [
    "print(\"I'm the last cell\")"
   ]
  }
 ],
 "metadata": {
  "kernelspec": {
   "display_name": "Python 3",
   "language": "python",
   "name": "python3"
  },
  "language_info": {
   "codemirror_mode": {
    "name": "ipython",
    "version": 3
   },
   "file_extension": ".py",
   "mimetype": "text/x-python",
   "name": "python",
   "nbconvert_exporter": "python",
   "pygments_lexer": "ipython3",
   "version": "3.8.2"
  }
 },
 "nbformat": 4,
 "nbformat_minor": 4
}
