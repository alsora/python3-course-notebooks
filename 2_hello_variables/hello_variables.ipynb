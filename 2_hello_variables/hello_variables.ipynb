{
 "cells": [
  {
   "cell_type": "markdown",
   "metadata": {},
   "source": [
    "# Hello, variables\n",
    "\n",
    "This lesson starts from the very basics of Python.\n",
    "\n",
    "Python is a programming language, which means that it's a language created with the purpose of generating unambiguous instructions that can be executed by a computer.\n",
    "\n",
    "Instructions are generated from the aggregation of a multitude of extremely simple building blocks."
   ]
  },
  {
   "cell_type": "markdown",
   "metadata": {},
   "source": [
    "### Variables\n",
    "\n",
    "Variables are the fundamental building block from the Python point of view.\n",
    "\n",
    "A variable expresses itself through its type, its name and its value."
   ]
  },
  {
   "cell_type": "code",
   "execution_count": null,
   "metadata": {},
   "outputs": [],
   "source": [
    "# This is a variable of type int (integer number), named foo and with value 8\n",
    "foo = 8"
   ]
  },
  {
   "cell_type": "markdown",
   "metadata": {},
   "source": [
    "There are many types of variables in Python, let's start from the basic ones:\n",
    " - **int** it's an integer number (e.g. `5`)\n",
    " - **float** it's a decimal number (e.g. `12.7`)\n",
    " - **string** it's a piece of text (e.g. `\"pippo\"`)"
   ]
  },
  {
   "cell_type": "code",
   "execution_count": null,
   "metadata": {},
   "outputs": [],
   "source": [
    "x = 2\n",
    "y = 3.4\n",
    "z = \"ciao\""
   ]
  },
  {
   "cell_type": "markdown",
   "metadata": {},
   "source": [
    "### Assigning values to variables\n",
    "\n",
    "You can assign a value to a variable multiple times, you will always overwrite its previous one.\n",
    "\n",
    "Assignation is done with the **=** operator"
   ]
  },
  {
   "cell_type": "code",
   "execution_count": null,
   "metadata": {},
   "outputs": [],
   "source": [
    "x = 1\n",
    "y = 3\n",
    "x = 2\n",
    "y = x\n",
    "z = \"ciao\"\n",
    "x = z"
   ]
  },
  {
   "cell_type": "markdown",
   "metadata": {},
   "source": [
    "### Printing variables\n",
    "\n",
    "Printing, is the action of generating some raw text output from your Python program.\n",
    "\n",
    "To print, you need to use the function **print()**.\n",
    "Functions always have parenthesis and allow to pass arguments when specified within the parenthesis."
   ]
  },
  {
   "cell_type": "code",
   "execution_count": null,
   "metadata": {},
   "outputs": [],
   "source": [
    "# Call the function print() with argument the string \"Hello, World\"\n",
    "print(\"Hello, World\")"
   ]
  },
  {
   "cell_type": "markdown",
   "metadata": {},
   "source": [
    "Generally, you can print simple text, the value of a variable or a mixture of those.\n",
    "The text is denoted by the `\"` `\"` symbols.\n",
    "Anything without these symbols is treated as a variable and its value will be printed."
   ]
  },
  {
   "cell_type": "code",
   "execution_count": null,
   "metadata": {},
   "outputs": [],
   "source": [
    "# Print text\n",
    "print(\"Hello\")\n",
    "\n",
    "# Print the content of a variable\n",
    "x = \"Hello from a variable\"\n",
    "print(x)\n",
    "y = 7\n",
    "print(y)\n",
    "\n",
    "# Print a little bit of everything\n",
    "print(\"I want to say\", x, \"because the number is\", y)"
   ]
  },
  {
   "cell_type": "markdown",
   "metadata": {},
   "source": [
    "### Mathematical operations\n",
    "\n",
    "Python knows math!\n",
    "All the standard mathematical operations that you can find on a calculator are available in Python... And also much more."
   ]
  },
  {
   "cell_type": "code",
   "execution_count": null,
   "metadata": {},
   "outputs": [],
   "source": [
    "x = 1 + 2\n",
    "y = x * 3\n",
    "k = 8 / 2.5"
   ]
  },
  {
   "cell_type": "markdown",
   "metadata": {},
   "source": [
    "Mathematical operations can be applied also to strings.\n",
    "In this case we talk about string concatenation, i.e. one string is attached at the end of other"
   ]
  },
  {
   "cell_type": "code",
   "execution_count": null,
   "metadata": {},
   "outputs": [],
   "source": [
    "a = \"some text\"\n",
    "b = \" some other text \"\n",
    "c = a + b + \"and even more text\""
   ]
  },
  {
   "cell_type": "markdown",
   "metadata": {},
   "source": [
    "You (usually) can't mix variables of different types in a mathematical operator"
   ]
  },
  {
   "cell_type": "code",
   "execution_count": null,
   "metadata": {},
   "outputs": [],
   "source": [
    "a = \"some text \" + 4"
   ]
  },
  {
   "cell_type": "markdown",
   "metadata": {},
   "source": [
    "And not all the operators are always available"
   ]
  },
  {
   "cell_type": "code",
   "execution_count": null,
   "metadata": {},
   "outputs": [],
   "source": [
    "c = \"Pippo\" - \"other text\""
   ]
  },
  {
   "cell_type": "markdown",
   "metadata": {},
   "source": [
    "### Exercise\n",
    "\n",
    "Print the requested values"
   ]
  },
  {
   "cell_type": "code",
   "execution_count": null,
   "metadata": {},
   "outputs": [],
   "source": [
    "right_hand = 5\n",
    "left_hand = 5\n",
    "right_foot = 5\n",
    "left_foot = 4\n",
    "\n",
    "# Print the total number of fingers\n",
    "\n",
    "# Print the difference between the number of fingers on the left and those on the right\n"
   ]
  }
 ],
 "metadata": {
  "kernelspec": {
   "display_name": "Python 3",
   "language": "python",
   "name": "python3"
  },
  "language_info": {
   "codemirror_mode": {
    "name": "ipython",
    "version": 3
   },
   "file_extension": ".py",
   "mimetype": "text/x-python",
   "name": "python",
   "nbconvert_exporter": "python",
   "pygments_lexer": "ipython3",
   "version": "3.7.5"
  }
 },
 "nbformat": 4,
 "nbformat_minor": 4
}
