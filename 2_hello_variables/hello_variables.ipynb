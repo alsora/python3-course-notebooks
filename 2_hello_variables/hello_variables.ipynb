{
 "cells": [
  {
   "cell_type": "markdown",
   "metadata": {},
   "source": [
    "# Hello, variables\n",
    "\n",
    "This lesson starts from the very basics of Python.\n",
    "Remember, now  that you are starting a new lesson, first make a copy of it. By using the button in the nav bar at the top you will automatically start working on the copy.\n",
    "\n",
    "\n",
    "Python is a programming language, which means that it's a language created with the purpose of generating unambiguous instructions that can be executed by a computer.\n",
    "\n",
    "Instructions are generated from the aggregation of a multitude of extremely simple building blocks."
   ]
  },
  {
   "cell_type": "markdown",
   "metadata": {},
   "source": [
    "### Comments\n",
    "\n",
    "Despite all the efforts to write clear and nice programs, it's not always immediate to understand what a program does or why it does that in a specific way.\n",
    "\n",
    "Comments solve this problem.\n",
    "\n",
    "A comment is a part of a Python program that will be **completely ignored** during the execution.\n",
    "It's only purpose is to be read by the human that is looking at the code.\n",
    "\n",
    "Comments are identified by the `#` symbol.\n",
    "Everything that is between the `#` symbol and the end of that line is treated as a comment."
   ]
  },
  {
   "cell_type": "code",
   "execution_count": null,
   "metadata": {},
   "outputs": [],
   "source": [
    "# This is a comment in a Python program\n",
    "\n",
    "# Comment # Comment @qupièoqèrf3f ####"
   ]
  },
  {
   "cell_type": "markdown",
   "metadata": {},
   "source": [
    "### Values\n",
    "\n",
    "There are many kinds of information that a computer can process. These are referred to as **types**.\n",
    "Each type is characterized by a possible set of values.\n",
    "\n",
    "Example of the basic (built-in) types are the following:\n",
    " - **int** it's an integer number (e.g. `5`)\n",
    " - **float** it's a decimal number (e.g. `12.7`)\n",
    " - **string** it's a piece of text (e.g. `\"dog\"`)\n",
    " \n",
    "There are more types available in Python and, as you will see, it is also possible for you to define your own types."
   ]
  },
  {
   "cell_type": "markdown",
   "metadata": {},
   "source": [
    "### Variables\n",
    "\n",
    "**Variables** are the fundamental building blocks from the Python point of view.\n",
    "\n",
    "A variable is a label (i.e. a uniquely identifying name) for a location in memory where a value can be stored.\n",
    "Note that a variable can hold only 1 value at the time.\n",
    "\n",
    "A variable expresses itself through its name and its value (and the type of its value).\n",
    "\n",
    "A variable is defined (i.e. created) by assigning a value to a label."
   ]
  },
  {
   "cell_type": "code",
   "execution_count": null,
   "metadata": {},
   "outputs": [],
   "source": [
    "# The label foo denotes a variable that stores a value of type int: 8\n",
    "foo = 8"
   ]
  },
  {
   "cell_type": "code",
   "execution_count": null,
   "metadata": {},
   "outputs": [],
   "source": [
    "x = 2\n",
    "y = 3.4\n",
    "z = \"world\""
   ]
  },
  {
   "cell_type": "markdown",
   "metadata": {},
   "source": [
    "### The Assignment Operator\n",
    "\n",
    "In Python a variable is defined using the assignment operator, a single equals sign (`=`).\n",
    "\n",
    "This operator assigns the value on its right hand side to the variable on its left hand side,\n",
    "\n",
    "Note that the assignment operator can be used in the same way to either define a new variable, by assigning a value to it, as well as to assign a new value to an already existing variable.\n",
    "\n",
    "You can assign a value to a variable multiple times, you will always overwrite its previous one."
   ]
  },
  {
   "cell_type": "code",
   "execution_count": null,
   "metadata": {},
   "outputs": [],
   "source": [
    "x = 1 # Define x by assigning the value 1\n",
    "y = 2 # Define y by assigning the value 2\n",
    "x = y # Overwrite the value of x with the value of y\n",
    "\n",
    "z = \"Hello\"\n",
    "k = \"World\"\n",
    "k = z"
   ]
  },
  {
   "cell_type": "markdown",
   "metadata": {},
   "source": [
    "The left hand side of the assignment operator must always be a variable.\n",
    "Remember that operator is going to store a value there.\n",
    "\n",
    "The right hand side of the assignment operator can be anything that has a value: a value, a variable (which always stores a value) or a more complex expression (which will be evaluated).\n",
    "\n",
    "If you try to assign a value to another value, you will get an assignment error."
   ]
  },
  {
   "cell_type": "code",
   "execution_count": null,
   "metadata": {},
   "outputs": [],
   "source": [
    "a = 8 # Assign to the memory identified by `a` the value of 8"
   ]
  },
  {
   "cell_type": "code",
   "execution_count": null,
   "metadata": {},
   "outputs": [],
   "source": [
    "3 = 8 # What should this mean? You can't assign to 3 the value of 8"
   ]
  },
  {
   "cell_type": "code",
   "execution_count": null,
   "metadata": {},
   "outputs": [],
   "source": [
    "a = 8 # This is ok\n",
    "3 = a # This is the same as before! You can't assign to 3 the value stored by variable `a`"
   ]
  },
  {
   "cell_type": "markdown",
   "metadata": {},
   "source": [
    "Keep in mind that the exact same concept also applies to **string** values.\n",
    "\n",
    "A **string**, i.e. a piece of text, is identified by the quotation marks `\"` around it.\n",
    "Every word in a Python code that is not surrounded by `\"` is treated as the label of a variable."
   ]
  },
  {
   "cell_type": "code",
   "execution_count": null,
   "metadata": {},
   "outputs": [],
   "source": [
    "hello = \"hello\" # Assign to the memory identified by `hello` the value of \"hello\""
   ]
  },
  {
   "cell_type": "code",
   "execution_count": null,
   "metadata": {},
   "outputs": [],
   "source": [
    "\"hello\" = \"world\" # What should this mean? You can't assign to \"world\" the value of \"hello\""
   ]
  },
  {
   "cell_type": "code",
   "execution_count": null,
   "metadata": {},
   "outputs": [],
   "source": [
    "hello = \"hello\" # This is ok\n",
    "\"world\" = hello # This is the same as before! You can't assign to \"world\" the value stored by variable `hello`"
   ]
  },
  {
   "cell_type": "markdown",
   "metadata": {},
   "source": [
    "As you have seen, you can assign to a variable the value of another variable.\n",
    "\n",
    "The assignment operator can be used to define (i.e. create) a variable, however it's required that the right hand side has already been defined.\n",
    "A variable that has not been defined can't be evaluated.\n",
    "\n",
    "Trying to assing an undefined variable will result in an error."
   ]
  },
  {
   "cell_type": "code",
   "execution_count": null,
   "metadata": {},
   "outputs": [],
   "source": [
    "a = t # Variable `t` is not defined, which value should be assigned to `a` ?"
   ]
  },
  {
   "cell_type": "code",
   "execution_count": null,
   "metadata": {},
   "outputs": [],
   "source": [
    "a = \"t\" # This is ok\n",
    "a = t # Variable `t` is not defined, which value should be used to overwrite `a` ?"
   ]
  },
  {
   "cell_type": "markdown",
   "metadata": {},
   "source": [
    "### Printing variables\n",
    "\n",
    "Printing, is the action of generating some raw text output from your Python program.\n",
    "\n",
    "To print, you need to use the function **print()**.\n",
    "Functions always have parenthesis and allow to pass arguments when specified within the parenthesis."
   ]
  },
  {
   "cell_type": "code",
   "execution_count": null,
   "metadata": {},
   "outputs": [],
   "source": [
    "# Call the function print() with argument the string \"Hello, World\"\n",
    "print(\"Hello, World\")"
   ]
  },
  {
   "cell_type": "markdown",
   "metadata": {},
   "source": [
    "Generally, you can print a value, the value of a variable or a mixture of those.\n",
    "\n",
    "Remember that a **string** value is denoted by the quotation marks `\"` around the text.\n",
    "Everything else without these symbols is treated as a variable and its value will be printed."
   ]
  },
  {
   "cell_type": "code",
   "execution_count": null,
   "metadata": {},
   "outputs": [],
   "source": [
    "# Print values\n",
    "print(\"Hello\")\n",
    "\n",
    "# Print the value of a variable\n",
    "x = \"Hello from a variable\"\n",
    "print(x)\n",
    "y = 7\n",
    "print(y)\n",
    "\n",
    "# Be careful with quotation marks\n",
    "hello = \"this variable has a very strange value\"\n",
    "print(\"hello\")\n",
    "print(hello)\n",
    "\n",
    "# Print a little bit of everything\n",
    "print(\"I want to say\", x, \"because the number is\", y)"
   ]
  },
  {
   "cell_type": "markdown",
   "metadata": {},
   "source": [
    "### Mathematical operators\n",
    "\n",
    "Python knows math!\n",
    "All the standard mathematical operators that you can find on a calculator are available in Python... And also much more.\n",
    "\n",
    "When an expression, like a mathematical operator, is present in an assignment, the whole expression on the right side will be evaluated first and then assigned to the variable on the left side."
   ]
  },
  {
   "cell_type": "code",
   "execution_count": null,
   "metadata": {},
   "outputs": [],
   "source": [
    "x = 1 + 2\n",
    "y = x * 3\n",
    "k = 8 / 2.5"
   ]
  },
  {
   "cell_type": "markdown",
   "metadata": {},
   "source": [
    "Remember that the `=` symbol is the assignment operator. It's different from the mathematical equal sign and consequently Python assignments are not mathematical equations where one side is equal to the other."
   ]
  },
  {
   "cell_type": "code",
   "execution_count": null,
   "metadata": {},
   "outputs": [],
   "source": [
    "x = 1 # Assign to `x` the value 1\n",
    "\n",
    "# A line with an assignment is not a mathematical equation.\n",
    "# It's perfectly fine to do things like assigning to a variable its value plus 1.\n",
    "# Indeed this is the simplest way for incrementing a variable.\n",
    "# This is not an equation, as clearly a number cannot be equal to the same number plus one.\n",
    "x = x + 1"
   ]
  },
  {
   "cell_type": "markdown",
   "metadata": {},
   "source": [
    "### Strings math\n",
    "\n",
    "Mathematical operations can be applied also to strings.\n",
    "In this case we talk about string concatenation, i.e. one string is attached at the end of other"
   ]
  },
  {
   "cell_type": "code",
   "execution_count": null,
   "metadata": {},
   "outputs": [],
   "source": [
    "a = \"some text\"\n",
    "b = \" some other text \"\n",
    "c = a + b + \"and even more text\""
   ]
  },
  {
   "cell_type": "markdown",
   "metadata": {},
   "source": [
    "You (usually) can't mix variables of different types in an operator.\n",
    "Running the next code cell will result in an error."
   ]
  },
  {
   "cell_type": "code",
   "execution_count": null,
   "metadata": {},
   "outputs": [],
   "source": [
    "a = \"some text \" + 4"
   ]
  },
  {
   "cell_type": "markdown",
   "metadata": {},
   "source": [
    "And not all the operators are always available"
   ]
  },
  {
   "cell_type": "code",
   "execution_count": null,
   "metadata": {},
   "outputs": [],
   "source": [
    "c = \"this text\" - \"other text\""
   ]
  },
  {
   "cell_type": "markdown",
   "metadata": {},
   "source": [
    "### Exercise\n",
    "\n",
    "Print the requested values"
   ]
  },
  {
   "cell_type": "code",
   "execution_count": null,
   "metadata": {},
   "outputs": [],
   "source": [
    "right_hand = 5\n",
    "left_hand = 5\n",
    "right_foot = 5\n",
    "left_foot = 4\n",
    "\n",
    "# Print the total number of fingers\n",
    "\n",
    "# Print the difference between the number of fingers on the left and those on the right\n"
   ]
  }
 ],
 "metadata": {
  "kernelspec": {
   "display_name": "Python 3",
   "language": "python",
   "name": "python3"
  },
  "language_info": {
   "codemirror_mode": {
    "name": "ipython",
    "version": 3
   },
   "file_extension": ".py",
   "mimetype": "text/x-python",
   "name": "python",
   "nbconvert_exporter": "python",
   "pygments_lexer": "ipython3",
   "version": "3.7.5"
  }
 },
 "nbformat": 4,
 "nbformat_minor": 4
}