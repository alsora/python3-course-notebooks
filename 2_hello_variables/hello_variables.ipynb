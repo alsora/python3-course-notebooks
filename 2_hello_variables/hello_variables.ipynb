{
 "cells": [
  {
   "cell_type": "markdown",
   "metadata": {},
   "source": [
    "# Hello, variables\n",
    "\n",
    "This lesson starts from the very basics of Python.\n",
    "\n",
    "Python is a programming language, which means that it's a language created with the purpose of generating unambiguous instructions that can be executed by a computer.\n",
    "\n",
    "Instructions are generated from the aggregation of a multitude of extremely simple building blocks."
   ]
  },
  {
   "cell_type": "markdown",
   "metadata": {},
   "source": [
    "### Comments\n",
    "\n",
    "Despite all the efforts to write clear and nice programs, it's not always immediate to understand what a program does or why it does that in a specific way.\n",
    "\n",
    "Comments solve this problem.\n",
    "\n",
    "A comment is a part of a Python program that will be **completely ignored** during the execution.\n",
    "It's only purpose is to be read by the human that is looking at the code.\n",
    "\n",
    "Comments are identified by the `#` symbol.\n",
    "Everything that is between the `#` symbol and the end of that line is treated as a comment."
   ]
  },
  {
   "cell_type": "code",
   "execution_count": null,
   "metadata": {},
   "outputs": [],
   "source": [
    "# This is a line made only of a comment\n",
    "\n",
    "\"Hello\" # This line has some Python code and then a comment\n",
    "\n",
    "# Comment # Comment @qupièoqèrf3f ####"
   ]
  },
  {
   "cell_type": "markdown",
   "metadata": {},
   "source": [
    "### Variables\n",
    "\n",
    "Variables are the fundamental building block from the Python point of view.\n",
    "\n",
    "A variable expresses itself through its type, its name and its value."
   ]
  },
  {
   "cell_type": "code",
   "execution_count": null,
   "metadata": {},
   "outputs": [],
   "source": [
    "# This is a variable of type int (integer number), named foo and with value 8\n",
    "foo = 8"
   ]
  },
  {
   "cell_type": "markdown",
   "metadata": {},
   "source": [
    "There are many types of variables in Python, let's start from the basic ones:\n",
    " - **int** it's an integer number (e.g. `5`)\n",
    " - **float** it's a decimal number (e.g. `12.7`)\n",
    " - **string** it's a piece of text (e.g. `\"dog\"`)"
   ]
  },
  {
   "cell_type": "code",
   "execution_count": null,
   "metadata": {},
   "outputs": [],
   "source": [
    "x = 2\n",
    "y = 3.4\n",
    "z = \"world\""
   ]
  },
  {
   "cell_type": "markdown",
   "metadata": {},
   "source": [
    "### Assigning values to variables\n",
    "\n",
    "You can assign a value to a variable multiple times, you will always overwrite its previous one.\n",
    "\n",
    "Assignation is done with the `=` operator.\n",
    "\n",
    "When assigning, you must put a variable name at the left of the `=` operator. The value of that variable will be changed by the assignement.\n",
    "\n",
    "At the right of the operator you can have a raw value (e.g. `1`, `33.1` or `\"Hello\"`), the name of another variable or a more complex expression.\n",
    "What is at the right side of the operator will be entirely evaluated and the result will be assigned to the variable on the left side."
   ]
  },
  {
   "cell_type": "code",
   "execution_count": null,
   "metadata": {},
   "outputs": [],
   "source": [
    "x = 1\n",
    "y = 3\n",
    "x = 2\n",
    "y = x\n",
    "z = \"hello\"\n",
    "x = z"
   ]
  },
  {
   "cell_type": "markdown",
   "metadata": {},
   "source": [
    "When something that is not a number is assigned to a variable, this can either be a string text or it can be the name of another variable. Note that you can use as right side operands only those variables with a value already associated."
   ]
  },
  {
   "cell_type": "code",
   "execution_count": null,
   "metadata": {},
   "outputs": [],
   "source": [
    "a = \"x\" # Assign the text \"x\" to this variable\n",
    "# a = x # This would result in an error, because no value has been assigned to the variable x yet\n",
    "\n",
    "x = \"some text\"\n",
    "a = x # Assign the value of the variable x to this variable, i.e. \"some text\""
   ]
  },
  {
   "cell_type": "markdown",
   "metadata": {},
   "source": [
    "### Printing variables\n",
    "\n",
    "Printing, is the action of generating some raw text output from your Python program.\n",
    "\n",
    "To print, you need to use the function **print()**.\n",
    "Functions always have parenthesis and allow to pass arguments when specified within the parenthesis."
   ]
  },
  {
   "cell_type": "code",
   "execution_count": null,
   "metadata": {},
   "outputs": [],
   "source": [
    "# Call the function print() with argument the string \"Hello, World\"\n",
    "print(\"Hello, World\")"
   ]
  },
  {
   "cell_type": "markdown",
   "metadata": {},
   "source": [
    "Generally, you can print simple text, the value of a variable or a mixture of those.\n",
    "The text is denoted by the `\"` `\"` symbols.\n",
    "Anything without these symbols is treated as a variable and its value will be printed."
   ]
  },
  {
   "cell_type": "code",
   "execution_count": null,
   "metadata": {},
   "outputs": [],
   "source": [
    "# Print raw values\n",
    "print(\"Hello\")\n",
    "print(18)\n",
    "\n",
    "# Print the content of a variable\n",
    "x = \"Hello from a variable\"\n",
    "print(x)\n",
    "y = 7\n",
    "print(y)\n",
    "\n",
    "# Print a little bit of everything\n",
    "print(\"I want to say\", x, \"because the number is\", y)"
   ]
  },
  {
   "cell_type": "markdown",
   "metadata": {},
   "source": [
    "### Mathematical operators\n",
    "\n",
    "Python knows math!\n",
    "All the standard mathematical operators that you can find on a calculator are available in Python... And also much more."
   ]
  },
  {
   "cell_type": "code",
   "execution_count": null,
   "metadata": {},
   "outputs": [],
   "source": [
    "x = 1 + 2\n",
    "y = x * 3\n",
    "k = 8 / 2.5"
   ]
  },
  {
   "cell_type": "markdown",
   "metadata": {},
   "source": [
    "Mathematical operations can be applied also to strings.\n",
    "In this case we talk about string concatenation, i.e. one string is attached at the end of other"
   ]
  },
  {
   "cell_type": "code",
   "execution_count": null,
   "metadata": {},
   "outputs": [],
   "source": [
    "a = \"some text\"\n",
    "b = \" some other text \"\n",
    "c = a + b + \"and even more text\""
   ]
  },
  {
   "cell_type": "markdown",
   "metadata": {},
   "source": [
    "You (usually) can't mix variables of different types in an operator.\n",
    "Running the next code cell will result in an error."
   ]
  },
  {
   "cell_type": "code",
   "execution_count": null,
   "metadata": {},
   "outputs": [],
   "source": [
    "a = \"some text \" + 4"
   ]
  },
  {
   "cell_type": "markdown",
   "metadata": {},
   "source": [
    "And not all the operators are always available"
   ]
  },
  {
   "cell_type": "code",
   "execution_count": null,
   "metadata": {},
   "outputs": [],
   "source": [
    "c = \"this text\" - \"other text\""
   ]
  },
  {
   "cell_type": "markdown",
   "metadata": {},
   "source": [
    "### Exercise\n",
    "\n",
    "Print the requested values"
   ]
  },
  {
   "cell_type": "code",
   "execution_count": null,
   "metadata": {},
   "outputs": [],
   "source": [
    "right_hand = 5\n",
    "left_hand = 5\n",
    "right_foot = 5\n",
    "left_foot = 4\n",
    "\n",
    "# Print the total number of fingers\n",
    "\n",
    "# Print the difference between the number of fingers on the left and those on the right\n"
   ]
  }
 ],
 "metadata": {
  "kernelspec": {
   "display_name": "Python 3",
   "language": "python",
   "name": "python3"
  },
  "language_info": {
   "codemirror_mode": {
    "name": "ipython",
    "version": 3
   },
   "file_extension": ".py",
   "mimetype": "text/x-python",
   "name": "python",
   "nbconvert_exporter": "python",
   "pygments_lexer": "ipython3",
   "version": "3.7.5"
  }
 },
 "nbformat": 4,
 "nbformat_minor": 4
}
