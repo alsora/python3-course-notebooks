{
 "cells": [
  {
   "cell_type": "markdown",
   "metadata": {},
   "source": [
    "# Hello, variables\n",
    "\n",
    "This lesson starts from the very basics of Python.\n",
    "Remember, now  that you are starting a new lesson, first make a copy of it. By using the button in the nav bar at the top you will automatically start working on the copy.\n",
    "\n",
    "\n",
    "Python is a programming language, which means that it's a language created with the purpose of generating unambiguous instructions that can be executed by a computer.\n",
    "\n",
    "Instructions are generated from the aggregation of a multitude of extremely simple building blocks."
   ]
  },
  {
   "cell_type": "markdown",
   "metadata": {},
   "source": [
    "### Comments\n",
    "\n",
    "Despite all the efforts to write clear and nice programs, it's not always immediate to understand what a program does or why it does that in a specific way.\n",
    "\n",
    "Comments solve this problem.\n",
    "\n",
    "A comment is a part of a Python program that will be **completely ignored** during the execution.\n",
    "Its only purpose is to be read by the person that is looking at the code.\n",
    "\n",
    "Comments are identified by the `#` symbol.\n",
    "Everything that is between the `#` symbol and the end of that line is treated as a comment."
   ]
  },
  {
   "cell_type": "code",
   "execution_count": null,
   "metadata": {},
   "outputs": [],
   "source": [
    "# This is a comment in a Python program\n",
    "\n",
    "# Comment # Comment @qupièoqèrf3f ####"
   ]
  },
  {
   "cell_type": "markdown",
   "metadata": {},
   "source": [
    "### Classes, objects and values\n",
    "\n",
    "There are many kinds of information that a computer can process. These different types are referred to as **classes**.\n",
    "Each **class** is characterized by a possible set of values.\n",
    "\n",
    "Some of the most common **classes** in Python are the following:\n",
    " - **int** represents an integer number (e.g. `5`)\n",
    " - **float** represents a decimal number (e.g. `12.7`)\n",
    " - **string** represents a piece of text (e.g. `\"dog\"`)\n",
    " \n",
    "An entity that belongs to a **class** is named **object**.\n",
    "You can say that `5` is an **object** of **class** **int** with value `5`.\n",
    " \n",
    "There are many more **classes** available in Python and, as you will see, it is also possible to define your own to suit the requirements of your program."
   ]
  },
  {
   "cell_type": "markdown",
   "metadata": {},
   "source": [
    "### Variables\n",
    "\n",
    "**Variables** are the fundamental building blocks of a Python program.\n",
    "\n",
    "Imagine to have a spreadsheet (e.g. Excel) made of many different cells. Each cell may have a value in it and it is identified by a label (e.g. the cell in row 1, column B which contains the number 112).\n",
    "\n",
    "A **variable** is the equivalent of those labels in programming languages.\n",
    "A **variable** is a uniquely identifying name for a location in the memory of a computer (i.e. a cell) where an object can be stored.\n",
    "\n",
    "The **variable** provides a way for reading or writing into the memory of your computer (i.e. the big spreadsheet that contains all the numbers that your program needs to use).\n",
    "\n",
    "A **variable** is defined (i.e. created) by assigning an object to a label.\n",
    "Note that a **variable** can hold only one object at the time."
   ]
  },
  {
   "cell_type": "code",
   "execution_count": null,
   "metadata": {},
   "outputs": [],
   "source": [
    "# The variable labeled `foo` is defined by assigning to it an object of class int and value 8\n",
    "foo = 8"
   ]
  },
  {
   "cell_type": "code",
   "execution_count": null,
   "metadata": {},
   "outputs": [],
   "source": [
    "x = 2\n",
    "y = 3.4\n",
    "z = \"world\""
   ]
  },
  {
   "cell_type": "markdown",
   "metadata": {},
   "source": [
    "### The Assignment Operator\n",
    "\n",
    "In Python a **variable** is always defined using the **assignment operator**, i.e. the equal sign (`=`) that you saw in the previous code cells.\n",
    "\n",
    "This operator assigns the **object** on its right hand side to the **variable** on its left hand side.\n",
    "\n",
    "Note that the **assignment operator** can be used in the same way to either define a new **variable**, i.e. by assigning an **object** to a **variable** that was never used up to that point of your program, as well as to assign a new **object** to an already existing **variable**.\n",
    "\n",
    "You can assign an **object** to a **variable** multiple times, this will result in overwriting the previously assigned one."
   ]
  },
  {
   "cell_type": "code",
   "execution_count": null,
   "metadata": {},
   "outputs": [],
   "source": [
    "x = 1 # Define x\n",
    "y = 2 # Define y\n",
    "x = y # Overwrite the value of x with the content of y\n",
    "\n",
    "z = \"Hello\"\n",
    "k = \"World\"\n",
    "k = z"
   ]
  },
  {
   "cell_type": "markdown",
   "metadata": {},
   "source": [
    "The left hand side of the **assignment operator** must always be a **variable**.\n",
    "Remember that operator is going to store an **object** there.\n",
    "\n",
    "The right hand side of the **assignment operator** can be anything that can represent an **object**: a value, a variable (which stores an **object** with a value) or a more complex expression (which will be evaluated).\n",
    "\n",
    "If you try to assign an **object** to a generic value, you will get an assignment error.\n",
    "Try to run the following code cells and see what happens."
   ]
  },
  {
   "cell_type": "code",
   "execution_count": null,
   "metadata": {},
   "outputs": [],
   "source": [
    "a = 8 # Assign to the memory identified by variable `a` the int 8"
   ]
  },
  {
   "cell_type": "code",
   "execution_count": null,
   "metadata": {},
   "outputs": [],
   "source": [
    "3 = 8 # What should this mean? You can't assign to the int 3 the int 8"
   ]
  },
  {
   "cell_type": "code",
   "execution_count": null,
   "metadata": {},
   "outputs": [],
   "source": [
    "a = 8 # This is ok\n",
    "3 = a # This is the same as before! You can't assign to 3 the content of variable `a`"
   ]
  },
  {
   "cell_type": "markdown",
   "metadata": {},
   "source": [
    "Keep in mind that the exact same concept also applies to **string** **objects**.\n",
    "\n",
    "A **string**, i.e. a piece of text, is identified by the quotation marks `\"` around it.\n",
    "Every word in a Python code that is not surrounded by `\"` is treated as the label of a **variable**."
   ]
  },
  {
   "cell_type": "code",
   "execution_count": null,
   "metadata": {},
   "outputs": [],
   "source": [
    "hello = \"hello\" # Assign to the memory identified by variable `hello` the string \"hello\""
   ]
  },
  {
   "cell_type": "code",
   "execution_count": null,
   "metadata": {},
   "outputs": [],
   "source": [
    "\"hello\" = \"world\" # What should this mean? You can't assign to the string \"world\" the string \"hello\""
   ]
  },
  {
   "cell_type": "code",
   "execution_count": null,
   "metadata": {},
   "outputs": [],
   "source": [
    "hello = \"hello\" # This is ok\n",
    "\"world\" = hello # This is the same as before! You can't assign to \"world\" the content of variable `hello`"
   ]
  },
  {
   "cell_type": "markdown",
   "metadata": {},
   "source": [
    "As you have seen, you can assign to a **variable** the content of another **variable**.\n",
    "\n",
    "The **assignment operator** can be used to define (i.e. create) a **variable**, however it's required that the right hand side has already been defined.\n",
    "This is because a **variable** that has not been defined can't be evaluated to an **object**, so the computer wouldn't know what to write in the memory.\n",
    "\n",
    "Trying to assing an undefined **variable** will result in an error.\n",
    "Try to execute the following code cells and see what happens."
   ]
  },
  {
   "cell_type": "code",
   "execution_count": null,
   "metadata": {},
   "outputs": [],
   "source": [
    "a = t # Variable `t` is not defined, which value should be assigned to `a` ?"
   ]
  },
  {
   "cell_type": "code",
   "execution_count": null,
   "metadata": {},
   "outputs": [],
   "source": [
    "a = \"t\" # This is ok\n",
    "a = t # Variable `t` is not defined, which value should be used to overwrite `a` ?"
   ]
  },
  {
   "cell_type": "markdown",
   "metadata": {},
   "source": [
    "### Printing variables\n",
    "\n",
    "Printing, is the action of generating textual output from your Python program.\n",
    "\n",
    "To print, you need to use the **function** `print()`.\n",
    "The concept of **functions** will be examined in great details in the next lessons, but for now you can consider them as special operators identified by a keyword (print in this case) and followed by an **object** betweeen parenthesis.\n",
    "\n",
    "Try to execute the following code cell and you will see its generated output."
   ]
  },
  {
   "cell_type": "code",
   "execution_count": null,
   "metadata": {},
   "outputs": [],
   "source": [
    "# Call the function print() with as object the string \"Hello, World\"\n",
    "print(\"Hello, World\")"
   ]
  },
  {
   "cell_type": "markdown",
   "metadata": {},
   "source": [
    "It's very important to understand the role of printing within a Python program.\n",
    "Printing provides a way to give information to the person who executes a program.\n",
    "\n",
    "Let's examine the difference and similarities between using comments and printing.\n",
    " - Comments are meant for a person who reads the code and are ignored by the program execution\n",
    " - Prints are meant for a person who executes the program\n",
    " - Comments can be written as you prefer as they are not executed\n",
    " - Prints are executed so they must follow the rules of Python programming language or would generate errors.\n",
    " - Comments are static pieces of information\n",
    " - Prints are dynamic as the printed text depends on the program execution\n",
    "\n",
    "Generally, you can print an **object**, the content of a **variable** or a mixture of those.\n",
    "\n",
    "Printing is useful for understanding what your program is doing and if it's working correctly.\n",
    "\n",
    "Remember that a **string** **object** is denoted by the quotation marks `\"` around the text.\n",
    "Everything else without these symbols is treated as a variable and its value will be printed.\n",
    "\n",
    "Try to guess what the following code block will print and then run it to confirm your hypothesis."
   ]
  },
  {
   "cell_type": "code",
   "execution_count": null,
   "metadata": {},
   "outputs": [],
   "source": [
    "# Print values\n",
    "print(\"Hello\")\n",
    "\n",
    "# Print the value of a variable\n",
    "x = \"Hello from a variable\"\n",
    "print(x)\n",
    "y = 7\n",
    "print(y)\n",
    "\n",
    "# Be careful with quotation marks\n",
    "hello = \"this variable has a very strange value\"\n",
    "print(\"hello\")\n",
    "print(hello)\n",
    "\n",
    "# Print a little bit of everything\n",
    "print(\"I want to say\", x, \"because the number is\", y)"
   ]
  },
  {
   "cell_type": "markdown",
   "metadata": {},
   "source": [
    "From the previous code cell you can note the following things:\n",
    " - Each print statement goes into a separate line of the output\n",
    " - It is possible to print more than one object within the same statement, by separating them with a comma `,`."
   ]
  },
  {
   "cell_type": "markdown",
   "metadata": {},
   "source": [
    "### Mathematical operators\n",
    "\n",
    "Python can do math!\n",
    "All the standard mathematical operators that you can find on a calculator are available in Python... And also much more.\n",
    "\n",
    "In the previous section, you assigned to a **variable** a single value.\n",
    "It's also possible to assign to a **variable** the outcome of a more complex expression.\n",
    "\n",
    "When an expression, like a mathematical operator, is present in an assignment, the whole expression on the right side will be evaluated first and then the resulting **object** will be assigned to the **variable** on the left side."
   ]
  },
  {
   "cell_type": "code",
   "execution_count": null,
   "metadata": {},
   "outputs": [],
   "source": [
    "x = 1 + 2 # (1 + 2) is equal to 3, so this line is equivalent to ``x = 3``\n",
    "y = x * 3\n",
    "k = 8 / 2.5\n",
    "\n",
    "print(k)"
   ]
  },
  {
   "cell_type": "markdown",
   "metadata": {},
   "source": [
    "Remember that the `=` symbol is the **assignment operator**. Python assignments are not mathematical equations where one side is equal to the other."
   ]
  },
  {
   "cell_type": "code",
   "execution_count": null,
   "metadata": {},
   "outputs": [],
   "source": [
    "x = 1 # Assign to `x` the value 1\n",
    "\n",
    "# A line with an assignment is not a mathematical equation.\n",
    "# It's perfectly fine to do things like assigning to a variable its value plus 1.\n",
    "# Indeed this is the simplest way for incrementing the value stored in a variable.\n",
    "# This is not an equation, as clearly a number cannot be equal to the same number plus one.\n",
    "x = x + 1"
   ]
  },
  {
   "cell_type": "markdown",
   "metadata": {},
   "source": [
    "### Strings math\n",
    "\n",
    "Mathematical operators can be applied also to **strings** and not only to numbers.\n",
    "The most common usage is **string** concatenation, i.e. attaching one **string** at the end of other"
   ]
  },
  {
   "cell_type": "code",
   "execution_count": null,
   "metadata": {},
   "outputs": [],
   "source": [
    "a = \"some text\"\n",
    "b = \" some other text \"\n",
    "c = a + b + \"and even more text\"\n",
    "\n",
    "print(c)"
   ]
  },
  {
   "cell_type": "markdown",
   "metadata": {},
   "source": [
    "You (usually) can't mix **variables** of different **classes** in an operator.\n",
    "Running the next code cell will result in an error."
   ]
  },
  {
   "cell_type": "code",
   "execution_count": null,
   "metadata": {},
   "outputs": [],
   "source": [
    "a = \"some text \" + 4"
   ]
  },
  {
   "cell_type": "markdown",
   "metadata": {},
   "source": [
    "Not all the operators are always available with any **class**.\n",
    "\n",
    "For example you can add numbers and pieces of text (concatenation), but you can't subtract pieces of text."
   ]
  },
  {
   "cell_type": "code",
   "execution_count": null,
   "metadata": {},
   "outputs": [],
   "source": [
    "c = \"this text\" - \"other text\""
   ]
  },
  {
   "cell_type": "markdown",
   "metadata": {},
   "source": [
    "### Exercise\n",
    "\n",
    "Print the requested values"
   ]
  },
  {
   "cell_type": "code",
   "execution_count": null,
   "metadata": {},
   "outputs": [],
   "source": [
    "right_hand = 5\n",
    "left_hand = 5\n",
    "right_foot = 5\n",
    "left_foot = 4\n",
    "\n",
    "# Print the total number of fingers\n",
    "\n",
    "# Print the difference between the number of fingers on the left and those on the right\n"
   ]
  },
  {
   "cell_type": "markdown",
   "metadata": {},
   "source": [
    "### Exercise\n",
    "\n",
    "Assign numerical values to 2 **variables**, calculate the average of these two **variables** and store the result in a third **variable**. Print out the result to the screen."
   ]
  },
  {
   "cell_type": "code",
   "execution_count": null,
   "metadata": {},
   "outputs": [],
   "source": []
  }
 ],
 "metadata": {
  "kernelspec": {
   "display_name": "Python 3",
   "language": "python",
   "name": "python3"
  },
  "language_info": {
   "codemirror_mode": {
    "name": "ipython",
    "version": 3
   },
   "file_extension": ".py",
   "mimetype": "text/x-python",
   "name": "python",
   "nbconvert_exporter": "python",
   "pygments_lexer": "ipython3",
   "version": "3.8.2"
  }
 },
 "nbformat": 4,
 "nbformat_minor": 4
}
