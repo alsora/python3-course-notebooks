{
 "cells": [
  {
   "cell_type": "markdown",
   "metadata": {},
   "source": [
    "# Boolean conditions\n",
    "\n",
    "Another **class** that is available in Python is the **boolean**. It is used to represent if a condition is verified or not.\n",
    "\n",
    "A **boolean** can only have 2 possible values: `True` or `False`.\n",
    "These are possible values that can be assigned to variables and used in your Python code, such as you have done with numbers (**int**, **float**) and text (**string**);"
   ]
  },
  {
   "cell_type": "code",
   "execution_count": null,
   "metadata": {},
   "outputs": [],
   "source": [
    "x = True\n",
    "y = False\n",
    "x = y\n",
    "\n",
    "# Boolean can also be printed\n",
    "print(y)"
   ]
  },
  {
   "cell_type": "markdown",
   "metadata": {},
   "source": [
    "**Boolean** values are written capitalized, i.e. with the first letter uppercase.\n",
    "If you write them differently, the Python program will not execute and you will get an error.\n",
    "\n",
    "Writing `true` or `false` in your program, will result in having Python treat them as **variable** names.\n",
    "Your program will generate an error if you try to use them as, hopefully, you have not defined **variables** with such names.\n",
    "\n",
    "The Python editor will help you spot this error by the fact that correctly spelled **boolean variables** are displayed in bold green text.\n",
    "\n",
    "Try to execute the next code block."
   ]
  },
  {
   "cell_type": "code",
   "execution_count": null,
   "metadata": {},
   "outputs": [],
   "source": [
    "a = true"
   ]
  },
  {
   "cell_type": "markdown",
   "metadata": {},
   "source": [
    "### Comparison operators\n",
    "\n",
    "Python does not only provides mathematical operators, but it also provides comparison operators.\n",
    "\n",
    "In the general case (i.e. let's exclude mathematical operations on **strings** for a while) a mathematical operator represents an expression between numbers and produces a number as a result.\n",
    "\n",
    "On the other hand, a comparison operator represents an expression between numbers and produces a **boolean object** as a result.\n",
    "\n",
    "Here some examples of comparison operators."
   ]
  },
  {
   "cell_type": "code",
   "execution_count": null,
   "metadata": {},
   "outputs": [],
   "source": [
    "# If 2 is greater than 5, then `2 > 5` will evaluate to True, otherwise it will evaluate to False\n",
    "# The produced boolean value is then assigned to the variable `x`\n",
    "x = 2 > 5\n",
    "print(\"x is:\", x)\n",
    "\n",
    "a = 3\n",
    "y = a <= 5 # <= is the smaller or equal operator\n",
    "print(\"y is:\", y)\n",
    "\n",
    "b = 4\n",
    "z = b == 1 # == is the equality operator: is one object equivalent to another?\n",
    "k = a != b # != is the inequality operator: is one object different from another?\n",
    "print(\"z is:\", z, \"k is:\", k)"
   ]
  },
  {
   "cell_type": "markdown",
   "metadata": {},
   "source": [
    "**Note the difference between the equality operator `==` and the assignement operator `=`**\n",
    "\n",
    "Expressions like the ones above behave exactly as probably more familiar ones like `x = 2 + 3`. You perform a computation and you assign the result to a **variable**."
   ]
  },
  {
   "cell_type": "markdown",
   "metadata": {},
   "source": [
    "### Exercise\n",
    "\n",
    "Print the requested values"
   ]
  },
  {
   "cell_type": "code",
   "execution_count": null,
   "metadata": {},
   "outputs": [],
   "source": [
    "a = \"Hello\"\n",
    "## Perform equality comparison between variable `a` and \"World\" and print the result\n",
    "\n",
    "b = 7\n",
    "## Perform a greater or equal comparison between 10 and variable `b` and print the result"
   ]
  },
  {
   "cell_type": "markdown",
   "metadata": {},
   "source": [
    "### Logical operators\n",
    "\n",
    "\n",
    "Python also provides some particular comparison operators that are written in plain English: the logical operators.\n",
    "Logical operators are tipically used when multiple conditions have to be combined.\n",
    "\n",
    "Differently from comparison operators which always act on two numeric **objects**, logical operators acts on one or two **boolean objects**.\n",
    "\n",
    "\n",
    " - `and`: it's True if both the boolean **objects** are True\n",
    " - `or`: it's True if at least one boolean **objects** is True\n",
    " - `not`: it's True only if the boolean **objects** is False\n",
    "\n",
    "As you can see, `and` and `or` operates on two objects, while `not` operates on a single one.\n",
    "\n",
    "The following tables are called truth tables and contain the results of logical operations.\n",
    "You will need to learn them in order to use **boleans** in your program.\n",
    "\n",
    "\n",
    "<table>\n",
    "<tr><td>\n",
    "\n",
    "| x | y | x and y |\n",
    "|:---:|:---:|:---:|\n",
    "| `True` | `True` | `True` |\n",
    "| `True` | `False` | `False` |\n",
    "| `False` | `True` | `False` |\n",
    "| `False` | `False` | `False` |\n",
    "\n",
    "</td><td>\n",
    "    \n",
    "| x | y | x or y |\n",
    "|:---:|:---:|:---:|\n",
    "| `True` | `True` | `True` |\n",
    "| `True` | `False` | `True` |\n",
    "| `False` | `True` | `True` |\n",
    "| `False` | `False` | `False` |\n",
    "\n",
    "</td><td>\n",
    "\n",
    "|x | not x |\n",
    "|:---:|:---:|\n",
    "| `True` | `False` |\n",
    "| `False` | `True` |\n",
    "\n",
    "</td></tr> </table>"
   ]
  },
  {
   "cell_type": "code",
   "execution_count": null,
   "metadata": {},
   "outputs": [],
   "source": [
    "a = 5\n",
    "b = a > 1 and a < 10\n",
    "print(\"Is a between 1 and 10?\", b)"
   ]
  },
  {
   "cell_type": "markdown",
   "metadata": {},
   "source": [
    "Try to predict what the following code block will produce as output, then execute it to confirm your prediction.\n",
    "\n",
    "If your prediction was wrong, try to add some print statements throughout the code, in order to show the value of all the involved **variables**."
   ]
  },
  {
   "cell_type": "code",
   "execution_count": null,
   "metadata": {},
   "outputs": [],
   "source": [
    "x = 2 > 5 and 3 > 1.1\n",
    "y = 3 > 1 and 8 <= 3\n",
    "\n",
    "z = 0.01 > 2 * 0.001 or 8 > 11 or 3 == 4\n",
    "k = False or 10 > 1\n",
    "\n",
    "j = False and False\n",
    "\n",
    "m = not y and not k\n",
    "p = (x and y) or (j and not m)\n",
    "\n",
    "print(\"p is:\", p)"
   ]
  },
  {
   "cell_type": "markdown",
   "metadata": {},
   "source": [
    "### `if` statement\n",
    "\n",
    "A **statement** in Python is a way for controlling the flow of execution of the code.\n",
    "\n",
    "In all the Python programs that you have seen so far, all the instructions were executed one after the other.\n",
    "The `if` statement allows to check a condition and to change the behavior of the program accordingly.\n",
    "\n",
    "An example consists in running a block of code only if a condition is verified."
   ]
  },
  {
   "cell_type": "code",
   "execution_count": null,
   "metadata": {},
   "outputs": [],
   "source": [
    "# This is an `if` statement\n",
    "if 2 > 5:\n",
    "    print(\"I'm printing this line because 2 is greater than 5\")\n",
    "\n",
    "print(\"This line is not part of an if statement, so it's always executed\")\n",
    "\n",
    "# This is another `if` statement\n",
    "c = 8\n",
    "if c <= 10:\n",
    "    print(\"I'm printing this line because c is smaller or equal than 10\")\n",
    "    \n",
    "print(\"Another line that is not part of an if statement\")"
   ]
  },
  {
   "cell_type": "markdown",
   "metadata": {},
   "source": [
    "As you may notice an `if` **statement** is made of the following parts:\n",
    " - the `if` keyword detenos the beginning of the **statement**\n",
    " - a **boolean** condition that will be evaluated by the program\n",
    " - the `:` at the end of that line\n",
    " - one or more line of code that constitute the body of the `if` statement. These are the lines that are conditionally executed. You can clearly identify them because they are indented 4 spaces with respect to the rest of the code.\n",
    "\n",
    "Indentation is the process of adding leading whitespaces at the beginning of a line of code.\n",
    "Indentation is always done with multiple of 4 spaces.\n",
    "Consecutive lines of code with the same amount of indentation, belong to the same \"block of code\".\n",
    "**NOTE** You can indent code pressing the `TAB` button on your keyboard (i.e. the one at the left of letter `Q`)."
   ]
  },
  {
   "cell_type": "markdown",
   "metadata": {},
   "source": [
    "### Alternatives\n",
    "\n",
    "As you have seen in the previous example, using the `if` **statement** allows to executes some lines of the code only when some conditions are verified.\n",
    "The rest of the code is always executed.\n",
    "\n",
    "The `if` **statements** can become more complex than that, for example you can specify what to do if a condition is verified and an alternative to be executed only when the condition is not verified.\n",
    "\n",
    "The next code cell will print a certain message if some conditions are verified.\n",
    "The optional `else` clause allows to specify an alternative body if the condtions are not met.\n",
    "When it's present, the `else` acts as a default (catch all) condition.\n",
    "\n",
    "P.S. note that the body of an `if` **statement** can be made of any number of lines, not just 1 per case. All the lines must be properly indented."
   ]
  },
  {
   "cell_type": "code",
   "execution_count": null,
   "metadata": {},
   "outputs": [],
   "source": [
    "a = 3\n",
    "print(\"This is always executed and a is\", a)\n",
    "\n",
    "if a == 4 or a > 8:\n",
    "    print(\"a is a beautiful number\")\n",
    "else:\n",
    "    print(\"hey\")\n",
    "    print(\"a is an ugly number\")\n",
    "    \n",
    "print(\"This is always executed\")"
   ]
  },
  {
   "cell_type": "markdown",
   "metadata": {},
   "source": [
    "### Exercise\n",
    "\n",
    "Write a program in order to check if a number is even or odd. Test it on both input numbers.\n",
    "Use `print()` to see if the program behaves as expected.\n",
    "\n",
    "Hint: the percentage symbol `%` is called **modulo operator**.\n",
    "An operation between two numbers using this operator will produce as result the remainder of an integer division betwen the two numbers.\n",
    "\n",
    "    x = 10 % 6\n",
    "\n",
    "You can check if a number is even if its remainder of a division by 2 is 0."
   ]
  },
  {
   "cell_type": "code",
   "execution_count": null,
   "metadata": {},
   "outputs": [],
   "source": [
    "# Input numbers\n",
    "x = 3\n",
    "y = 62\n",
    "\n",
    "## Write your if statements here\n"
   ]
  },
  {
   "cell_type": "markdown",
   "metadata": {},
   "source": [
    "### A lot of conditions\n",
    "\n",
    "Note that an `if` **statement** can be made of any number of conditions.\n",
    "The first condition must always be indicated with the keyword `if`.\n",
    "Then you can add as many additional conditions as you want using the keyword `elif` (which translates to \"else if\" in plain English).\n",
    "Lastly, you can eventually add the `else` keyword: this has no **boolean** condition associated to it and its body is executed whenever none of the previous conditions was verified.\n",
    "\n",
    "Note that each `if` **statement** must have exactly 1 `if` (at the beginning) and it can have at maximum 1 `else` (at the end), while there are no limits on the number of `elif`.\n",
    "\n",
    "The order of the conditions in an `if` statement is very important! After a condition is verified, all the following ones are automatically ignored."
   ]
  },
  {
   "cell_type": "code",
   "execution_count": null,
   "metadata": {},
   "outputs": [],
   "source": [
    "x = 10\n",
    "\n",
    "# This is the first if statement\n",
    "if x == 1:\n",
    "    print(x, \"is equal to 1\")\n",
    "elif x == 2:\n",
    "    print(x, \"is equal to 2\")\n",
    "elif x < 3:\n",
    "    print(x, \"is smaller than 3\")\n",
    "elif x >= 4 and x < 8:\n",
    "    print(x, \"is greater or equal than 4 and smaller than 8\")\n",
    "else:\n",
    "    print(x, \"is none of the above\")\n",
    "\n",
    "# This is the second if statement\n",
    "if x < 6:\n",
    "    print(x, \"is smaller than 6\")\n",
    "elif x == 7:\n",
    "    print(x, \"is equal to 7\")\n",
    "\n",
    "# This is the third if statement\n",
    "if x > 20:\n",
    "    print(x, \"is greater than 20\")\n",
    "elif x > 8:\n",
    "    print(x, \"is greater than 8\")\n",
    "elif x > 3:\n",
    "    print(x, \"is greater than 3\")\n",
    "else:\n",
    "    print(x, \"is probably just a number\")"
   ]
  },
  {
   "cell_type": "markdown",
   "metadata": {},
   "source": [
    "Look at the indentation and remeber that there can only be 1 `if` in each **statement** to clearly understand which lines are part of which block.\n",
    "\n",
    "Remember that at maximum 1 case of an `if` **statement** will be executed."
   ]
  },
  {
   "cell_type": "code",
   "execution_count": null,
   "metadata": {},
   "outputs": [],
   "source": [
    "if 3 > 2:\n",
    "    print(\"This is the first statement\")\n",
    "if 3 > 1:\n",
    "    print(\"This is the second statement\")\n",
    "if 3 > 2:\n",
    "    print(\"This is the 1st case in the third statement\")\n",
    "elif 3 > 1:\n",
    "    print(\"This is the 2nd case in the third statement\")"
   ]
  },
  {
   "cell_type": "markdown",
   "metadata": {},
   "source": [
    "### How to use `if` statements effectively\n",
    "\n",
    "The `if` **statement** allows to conditionally execute parts of the code, depending on the value of some control **variables**.\n",
    "\n",
    "You may have the following situations:\n",
    " - A piece of code has to be executed only when a condition is verified, while all the rest of the code has to be always executed. In this case you will use only the `if` clause and no `elif` or `else`.\n",
    " - One among different alternative pieces of code has to be executed. In this case it's fundamental to also have the `else` clause to make sure that one of the alternatives will always be executed. Depending on the number of alternatives you may or may not have `elif` clauses.\n",
    " - One among different alternative pieces of code has to be executed only when some conditions are verified, while all the rest of the code will always be executed. In this case you will have one or more `elif` clauses, depending on the number of alternatives, but no `else` clause because when none of the conditions is verified none of the alternatives has to be executed.\n",
    "\n",
    "As you can see, the scenarios described before are characterized by the following elements: the number of alternatives and the presence or not of a default behavior."
   ]
  },
  {
   "cell_type": "code",
   "execution_count": null,
   "metadata": {},
   "outputs": [],
   "source": [
    "x = 10\n",
    "if x < 5:\n",
    "    print(\"This block is executed only if x is less than 5\")\n",
    "    x = 6\n",
    "\n",
    "print(\"This block is always executed\")\n",
    "print(\"x is:\", x)\n",
    "\n",
    "if x == 6:\n",
    "    print(\"This is a possible alternative, x is 6\")\n",
    "    x = 7\n",
    "elif x > 10:\n",
    "    print(\"This is a possible alternative, x is greater than 10\")\n",
    "    x = 8\n",
    "else:\n",
    "    print(\"This is the default alternative, for all x different from 6 that are not greater than 10\")\n",
    "    x = 9\n",
    "\n",
    "print(\"This block is always executed\")\n",
    "print(\"x is:\", x)\n",
    "\n",
    "if x > 10:\n",
    "    print(\"This block is executed only if x is greater than 10\")\n",
    "    x = x + 1\n",
    "elif x > 8:\n",
    "    print(\"This block is executed only if x is greater than 8 but not greater than 10\")\n",
    "    x = x * 2\n",
    "    \n",
    "print(\"This block is always executed\")\n",
    "print(\"x is:\", x)"
   ]
  },
  {
   "cell_type": "markdown",
   "metadata": {},
   "source": [
    "### Counters\n",
    "\n",
    "A counter is a fundamental concept in programming.\n",
    "It is an **int** **variable** that, as its name says, is used to count events.\n",
    "\n",
    "Remember that using the assignment operator you can update the value of a **variable**, e.g. incrementing it by 1 whenever something happens.\n",
    "\n",
    "Don't forget to first initialize the counter variable with a value (generally `0`) otherwise you will get an error when trying to update it the first time (i.e. you are using an undefined variable in an assignment)."
   ]
  },
  {
   "cell_type": "code",
   "execution_count": null,
   "metadata": {},
   "outputs": [],
   "source": [
    "# This is the counter variable\n",
    "x = 0\n",
    "\n",
    "x = x + 1\n",
    "print(\"Count\", x)\n",
    "\n",
    "x = x + 1\n",
    "print(\"Count\", x)\n",
    "\n",
    "x = x + 1\n",
    "print(\"Count\", x)\n",
    "\n",
    "print(\"In total, I counted\", x)"
   ]
  },
  {
   "cell_type": "markdown",
   "metadata": {},
   "source": [
    "A counter is a very simple concept and it has no particular rules, it's just a **variable** as any other.\n",
    "Moreover, after looking at the previous example, you may be asking yourself what's the purpose of that code.\n",
    "After all, as the author of the code, when writing the previous example, you already knew that the counter would have been incremented 3 times.\n",
    "\n",
    "The truth is that counters are useful when used in combination with Python **statements**. Remeber that a statement allows to control the flow of execution.\n",
    "An `if` **statement** allows us to update the counter only when a condition is verified.\n",
    "\n",
    "Consider as an example a digital clock where the displayed numbers change every minute. The code inside the digital clock could be considered as if it's checking the condition \"is 1 minute passed since my last counter update?\" and then act accordingly.\n",
    "\n",
    "A possible use case for you is to use a counter to keep track of how many times a condition was verified in a block of code, given a particular input."
   ]
  },
  {
   "cell_type": "code",
   "execution_count": null,
   "metadata": {},
   "outputs": [],
   "source": [
    "# This is the counter variable\n",
    "c = 0\n",
    "\n",
    "x = 5\n",
    "if x < 12:\n",
    "    c = c + 1\n",
    "\n",
    "x = 8\n",
    "if x < 12:\n",
    "    c = c + 1\n",
    "\n",
    "x = x * 2 * 3\n",
    "if x < 12:\n",
    "    c = c + 1\n",
    "    \n",
    "if c >= 2:\n",
    "    print(\"2 or more conditions have been verified\")"
   ]
  },
  {
   "cell_type": "markdown",
   "metadata": {},
   "source": [
    "### Nested conditions\n",
    "\n",
    "You can write an `if` **statement** within another `if` **statement**.\n",
    "The body of an `if` **statement** is just a generic block of code as all the rest, with the difference that is executed only if its preconditions are satisfied."
   ]
  },
  {
   "cell_type": "code",
   "execution_count": null,
   "metadata": {},
   "outputs": [],
   "source": [
    "n = 0\n",
    "\n",
    "# This is the first if statement\n",
    "if not 2 > 5:\n",
    "    n = n + 1\n",
    "\n",
    "# This is the second if statement\n",
    "if n != 0 or n == 0:\n",
    "    n = n + 1\n",
    "    # This is the third if statement\n",
    "    if 8.5 <= 5.8:\n",
    "        n = n + 1\n",
    "    elif 7.7 > 7.7 and 2.2 == 2.2:\n",
    "        n = n + 1\n",
    "    else:\n",
    "        n = n - 1\n",
    "else:\n",
    "    n = n + 1\n",
    "\n",
    "# This is the fourth if statement\n",
    "if n == 2:\n",
    "    n = n + 1\n",
    "    # This is the fifth if statement\n",
    "    if n > 5:\n",
    "        n = n + 1\n",
    "    elif n < 2:\n",
    "        n = n + 1\n",
    "    else:\n",
    "        n = n + 1\n",
    "else:\n",
    "    n = n + 2\n",
    "\n",
    "print(n)"
   ]
  },
  {
   "cell_type": "markdown",
   "metadata": {},
   "source": [
    "### Exercise\n",
    "\n",
    "Complete the task using what you learnt about `if` **statements**."
   ]
  },
  {
   "cell_type": "code",
   "execution_count": null,
   "metadata": {},
   "outputs": [],
   "source": [
    "# Input data\n",
    "a = 10\n",
    "b = 11\n",
    "\n",
    "# Write some code that: \n",
    "# - prints a message if the sum of the input values is between 10 and 30\n",
    "# - prints a message if at least one of the input values is greater than 10\n",
    "# - prints how many of the above conditions were verified"
   ]
  }
 ],
 "metadata": {
  "kernelspec": {
   "display_name": "Python 3",
   "language": "python",
   "name": "python3"
  },
  "language_info": {
   "codemirror_mode": {
    "name": "ipython",
    "version": 3
   },
   "file_extension": ".py",
   "mimetype": "text/x-python",
   "name": "python",
   "nbconvert_exporter": "python",
   "pygments_lexer": "ipython3",
   "version": "3.8.2"
  }
 },
 "nbformat": 4,
 "nbformat_minor": 4
}
