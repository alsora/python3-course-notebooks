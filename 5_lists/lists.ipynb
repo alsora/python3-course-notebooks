{
 "cells": [
  {
   "cell_type": "markdown",
   "metadata": {},
   "source": [
    "# Lists\n",
    "\n",
    "A list is a container of things.\n",
    "It's a type of variable used to store other variables.\n",
    "\n",
    "A list is created using the brackets `[` and `]` around the elements it will contain.\n",
    "There's a `,` between one element and the other.\n",
    "\n",
    "A list is a variable, as an integer or a string are, so you can assign or print the value of a list variable."
   ]
  },
  {
   "cell_type": "code",
   "execution_count": null,
   "metadata": {},
   "outputs": [],
   "source": [
    "# A list containing 3 elements: 1, 2 and 3\n",
    "a  = [1, 2, 3]\n",
    "\n",
    "print(a)\n",
    "\n",
    "x = 100\n",
    "b = [x, x, 12]"
   ]
  },
  {
   "cell_type": "markdown",
   "metadata": {},
   "source": [
    "### List access operator\n",
    "\n",
    "You can access individual elements in a list using the access operator: `[N]`, where the number inside the brackets is called **index**.\n",
    "\n",
    "The **index** univocally identifies the position of an element inside the list.\n",
    "\n",
    "You must specify the **index** of the element you want to access.\n",
    "Remember that in programming, **indices always start from 0**.\n",
    "\n",
    "Note: differently from other operators, such as mathematical operators `+` or `/`, the access operator is applied to a single variable, the list you want to access, and not to 2 of them."
   ]
  },
  {
   "cell_type": "code",
   "execution_count": null,
   "metadata": {},
   "outputs": [],
   "source": [
    "a = [10, 100, 1000]\n",
    "\n",
    "x = a[0]\n",
    "y = a[1]\n",
    "z = a[2]"
   ]
  },
  {
   "cell_type": "markdown",
   "metadata": {},
   "source": [
    "### Exercise\n",
    "\n",
    "Call a function on each item of a list"
   ]
  },
  {
   "cell_type": "code",
   "execution_count": null,
   "metadata": {},
   "outputs": [],
   "source": [
    "def divide(x):\n",
    "    print(x / 2)\n",
    "\n",
    "# The input list\n",
    "a = [10, 100, 1000]\n",
    "\n",
    "## Call divide on every value stored in the input list\n"
   ]
  },
  {
   "cell_type": "markdown",
   "metadata": {},
   "source": [
    "### List arguments\n",
    "\n",
    "Assume to have a function definition with the following signature (we are not interested in the body at the moment)\n",
    "    \n",
    "    def do_something(x):\n",
    "\n",
    "Looking only at this line, you can't understand what the function will do and what its input is.\n",
    "The function takes only 1 input, named `x`, but note that all these calls are potentially valid\n",
    "\n",
    "    do_something(1)\n",
    "    do_something([1, 2, 3])\n",
    "    a = [1, 10]\n",
    "    do_something(a)\n",
    "    do_something(a[1])\n",
    "    \n",
    "There's obviously a difference in providing as argument a whole list or just an element of it.\n",
    "You are passing different variables with different values: `do_something(a)` passes as argument the elements `1` and `10` \"packed\" together in a list variable. On the other hand `do_something(a[1])` passes as argument `1` and it's equivalent to `do_something(10)`.\n",
    "\n",
    "These are simply 2 different ways for dealing with lists (i.e. at the list or element level). There is not a correct or wrong.\n",
    "\n",
    "**NOTE** in a real scenario a function is usually created with a specific type in mind for its arguments. This means that if you pass a single value to a function that is expecting a list (or the opposite), this may not behave correctly or it may result in an error.\n",
    "\n",
    "Lastly, keep in mind that working with a list with 1 element such as `[8]` is semantically different from working with a single integer with the same value `8`.\n",
    "While containing the same information (i.e. the number `8`) they are two variables of different types, so different rules apply."
   ]
  },
  {
   "cell_type": "code",
   "execution_count": null,
   "metadata": {},
   "outputs": [],
   "source": [
    "a = 8\n",
    "print(a)\n",
    "\n",
    "b = [8]\n",
    "print(b)\n",
    "print(b[0])"
   ]
  },
  {
   "cell_type": "markdown",
   "metadata": {},
   "source": [
    "### Exercise\n",
    "\n",
    "Write a function that computes the similarity among 2 lists: i.e. the percentage of equal values at the same position (e.g. [1, 2, 3] and [3, 2, 1] have 33% similarity).\n",
    "\n",
    "Hint: the `similarity_score()` function takes 2 lists as input arguments."
   ]
  },
  {
   "cell_type": "code",
   "execution_count": null,
   "metadata": {},
   "outputs": [],
   "source": [
    "def similarity_score(a, b):\n",
    "    ## Fill the function here\n",
    "    \n",
    "# Input lists\n",
    "x = [10, 20, 40]\n",
    "y = [10, 30, 40]\n",
    "\n",
    "print(\"The similarity is: \", similarity_score(x, y))"
   ]
  },
  {
   "cell_type": "markdown",
   "metadata": {},
   "source": [
    "### Different ways for accessing elements\n",
    "\n",
    "The index used by the `[]` operator to access elements in a list can also be specified using variables and math operations.\n",
    "\n",
    "**NOTE:** don't abuse these notations: as you may see they don't allow to understand what a program does at a first glance."
   ]
  },
  {
   "cell_type": "code",
   "execution_count": null,
   "metadata": {},
   "outputs": [],
   "source": [
    "a = [1, 10, 100, 1000, 10000]\n",
    "\n",
    "print(a[1 + 1])\n",
    "print(a[a[0]])"
   ]
  },
  {
   "cell_type": "markdown",
   "metadata": {},
   "source": [
    "### Exercise\n",
    "\n",
    "Write a function that allows to checks if the visa of a passenger has been accepted or not.\n",
    "Check all the passengers.\n",
    "\n",
    "Hint: only Mark and John have been accepted."
   ]
  },
  {
   "cell_type": "code",
   "execution_count": null,
   "metadata": {},
   "outputs": [],
   "source": [
    "# Whether the visa has been accepted for a passenger\n",
    "# values are ordered according to the passenger seat number\n",
    "visa_accepted = [True, False, False, True]\n",
    "\n",
    "## Write your function here\n",
    "\n",
    "\n",
    "## Passengers\n",
    "name_1 = \"Mark\"\n",
    "seat_1 = 0\n",
    "\n",
    "name_2 = \"John\"\n",
    "seat_2 = 3\n",
    "\n",
    "name_3 = \"Clara\"\n",
    "seat_3 = 2\n",
    "\n",
    "name_4 = \"Mickey\"\n",
    "seat_4 = 1\n",
    "\n",
    "## Call your function here"
   ]
  },
  {
   "cell_type": "markdown",
   "metadata": {},
   "source": [
    "### Lists and Strings\n",
    "\n",
    "Lists and strings present some similarities.\n",
    "This is because Python treats a **string** similarly to a list of individual characters.\n",
    "\n",
    "As we will see, they are not exactly the same, but they share some important functions and operators.\n",
    "\n",
    "You can access a single character in a string as with elements in a list.\n",
    "\n",
    "You can compute the `len()` of a list in the same way as done for strings. "
   ]
  },
  {
   "cell_type": "code",
   "execution_count": null,
   "metadata": {},
   "outputs": [],
   "source": [
    "a = \"Hello\"\n",
    "print(a[1])\n",
    "\n",
    "b = [1, 2, 3]\n",
    "print(len(b))"
   ]
  },
  {
   "cell_type": "markdown",
   "metadata": {},
   "source": [
    "### Exercise\n",
    "\n",
    "Write a function that prints the third element of a list. **Call it on all the input lists**.\n",
    "\n",
    "Hint: how to handle all the possible cases? Is it always possible to do what requested?"
   ]
  },
  {
   "cell_type": "code",
   "execution_count": null,
   "metadata": {},
   "outputs": [],
   "source": [
    "# Input lists\n",
    "a = [10, 20, 30, 40, 50]\n",
    "b = [8, 11, 12]\n",
    "c = [77, 41]"
   ]
  },
  {
   "cell_type": "markdown",
   "metadata": {},
   "source": [
    "### Exercise\n",
    "\n",
    "Write a validation function that accepts only lists ending with `z` or with `9`.\n",
    "\n",
    "**NOTE**: all the lists have a different length, but the `validate()` function is always the same."
   ]
  },
  {
   "cell_type": "code",
   "execution_count": null,
   "metadata": {},
   "outputs": [],
   "source": [
    "## Write your function here\n",
    "\n",
    "# Input lists\n",
    "l1 = [0, 1, 2, 4, 5, 6, 7]\n",
    "l2 = \"baz\"\n",
    "l3 = [\"z\", \"z\", \"k\"]\n",
    "l4 = []\n",
    "\n",
    "ok1 = validate(l1)\n",
    "ok2 = validate(l2)\n",
    "ok3 = validate(l3)\n",
    "ok4 = validate(l4)"
   ]
  },
  {
   "cell_type": "markdown",
   "metadata": {},
   "source": [
    "### More on the access operator\n",
    "\n",
    "The access operator `[]` allows to obtain the value of a particular element in a list.\n",
    "\n",
    "You have always to make sure that the **index** that you are using it's valid, i.e. it must be between `0` (included as `0` denotes the first element) and the length of the list (excluded as `len(list) -1` denotes the last element)."
   ]
  },
  {
   "cell_type": "code",
   "execution_count": null,
   "metadata": {},
   "outputs": [],
   "source": [
    "a = [10, 100, 1000]\n",
    "print(a[0])\n",
    "print(a[1])\n",
    "print(a[2])\n",
    "print(a[len(a) - 1])"
   ]
  },
  {
   "cell_type": "code",
   "execution_count": null,
   "metadata": {},
   "outputs": [],
   "source": [
    "a = [10, 100, 1000]\n",
    "print(a[4])"
   ]
  },
  {
   "cell_type": "code",
   "execution_count": null,
   "metadata": {},
   "outputs": [],
   "source": [
    "a = []\n",
    "print(a[0])"
   ]
  },
  {
   "cell_type": "markdown",
   "metadata": {},
   "source": [
    "### Slicing a list\n",
    "\n",
    "The access operator allows also to extract sub-lists from a list. For example given a list of 5 elements you may want to create a new list with only the elements from the 4th and 5th elements.\n",
    "\n",
    "Try to figure out how the slicing operator works from the next example.\n",
    "\n",
    "**NOTE** The result of the slicing operator is always a list!"
   ]
  },
  {
   "cell_type": "code",
   "execution_count": null,
   "metadata": {},
   "outputs": [],
   "source": [
    "a = [11, 26, 32, 48, 54]\n",
    "b = a[3:5]\n",
    "\n",
    "print(b[0])"
   ]
  },
  {
   "cell_type": "markdown",
   "metadata": {},
   "source": [
    "### Exercise\n",
    "\n",
    "Write a function that returns the first 2 characters of a string if this string has less than 5 characters, otherwise it should return the last 3."
   ]
  },
  {
   "cell_type": "code",
   "execution_count": null,
   "metadata": {},
   "outputs": [],
   "source": [
    "# Input strings\n",
    "a = \"hello\"\n",
    "b = \"life\"\n",
    "c = \"tornado\""
   ]
  }
 ],
 "metadata": {
  "kernelspec": {
   "display_name": "Python 3",
   "language": "python",
   "name": "python3"
  },
  "language_info": {
   "codemirror_mode": {
    "name": "ipython",
    "version": 3
   },
   "file_extension": ".py",
   "mimetype": "text/x-python",
   "name": "python",
   "nbconvert_exporter": "python",
   "pygments_lexer": "ipython3",
   "version": "3.7.5"
  }
 },
 "nbformat": 4,
 "nbformat_minor": 4
}
