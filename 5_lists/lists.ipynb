{
 "cells": [
  {
   "cell_type": "markdown",
   "metadata": {},
   "source": [
    "# Lists\n",
    "\n",
    "So far, you have been using the following types: **int** for integer numbers, **float** for decimal numbers, **string** for text and **boolean** for `True`, `False`.\n",
    "\n",
    "Another type of variable that is available in Python is the **list**.\n",
    "A **list** is a container: more precisely it's an ordered sequence of values.\n",
    "\n",
    "A list is defined using comma-separated `,` values within square brackets: for example `[8, 6, 25]`.\n",
    "\n",
    "Note that the value of a **list** variable is the container with all its elements. This is evident when printing such a variable."
   ]
  },
  {
   "cell_type": "code",
   "execution_count": null,
   "metadata": {},
   "outputs": [],
   "source": [
    "# `a` is a list containing two elements: 1 and 2\n",
    "a  = [1, 2]\n",
    "\n",
    "# Print the list `a` which value is [1, 2]\n",
    "print(a)\n",
    "# Print two separate values\n",
    "print(1, 2)\n",
    "\n",
    "x = 100\n",
    "b = [x, x, 12]\n",
    "\n",
    "print(b)"
   ]
  },
  {
   "cell_type": "markdown",
   "metadata": {},
   "source": [
    "### Indexing operator\n",
    "\n",
    "You can access individual elements of a list using the indexing operator: you must specify the list variable followed by the **index** of the element you want to acces between squared brackets `my_list[N]`.\n",
    "\n",
    "The **index** value identifies a position inside the list.\n",
    "You must specify the **index** of the element you want to access.\n",
    "\n",
    "Remember that **indices always start from 0**."
   ]
  },
  {
   "cell_type": "code",
   "execution_count": null,
   "metadata": {},
   "outputs": [],
   "source": [
    "# `a` is a list containing 3 elements: 10, 100 and 1000\n",
    "a = [10, 100, 1000]\n",
    "\n",
    "x = a[0] # Assign the value of element 0 of `a` to variable `x`\n",
    "y = a[1]\n",
    "\n",
    "print(x)\n",
    "print(y)\n",
    "print(a[2])"
   ]
  },
  {
   "cell_type": "markdown",
   "metadata": {},
   "source": [
    "**Remeber that index 0 is used to access the first element in the list**\n",
    "\n",
    "If you try to access a position that is not present in the list (i.e. after the last element), you will get an error."
   ]
  },
  {
   "cell_type": "code",
   "execution_count": null,
   "metadata": {},
   "outputs": [],
   "source": [
    "a = [10, 100, 1000]\n",
    "k = a[3]"
   ]
  },
  {
   "cell_type": "code",
   "execution_count": null,
   "metadata": {},
   "outputs": [],
   "source": [
    "a = []\n",
    "print(a[0])"
   ]
  },
  {
   "cell_type": "markdown",
   "metadata": {},
   "source": [
    "### Exercise\n",
    "\n",
    "Use multiple times the indexing operator to get every value in a list and call a function on each of them."
   ]
  },
  {
   "cell_type": "code",
   "execution_count": null,
   "metadata": {},
   "outputs": [],
   "source": [
    "def divide(x):\n",
    "    return x / 2\n",
    "\n",
    "# The input list\n",
    "a = [10, 100, 1000]\n",
    "\n",
    "## Call `divide()` on every value stored in the input list and print the results\n"
   ]
  },
  {
   "cell_type": "markdown",
   "metadata": {},
   "source": [
    "### Lists as input parameters\n",
    "\n",
    "A list can be passed to a function as input argument as you can do with any other type of variable.\n",
    "    \n",
    "    def do_something(x):\n",
    "        # This does something\n",
    "       \n",
    "    do_something(1)\n",
    "    do_something([1, 2, 3])\n",
    "    \n",
    "There's obviously a difference in providing as input argument a whole list or only one of its elements.\n",
    "A function is usually created with a specific type in mind for its parameters. This means that if you pass a single value to a function that is expecting a list (or the opposite), this may not behave correctly or it may result in an error.\n",
    "\n",
    "Moreover, note that a list with only 1 element such as `[8]` is different from an integer with the same value `8`.\n",
    "While containing the same information (i.e. the number `8`) they are variables of two different types, so different rules apply."
   ]
  },
  {
   "cell_type": "code",
   "execution_count": null,
   "metadata": {},
   "outputs": [],
   "source": [
    "a = 8\n",
    "print(a)\n",
    "\n",
    "b = [8]\n",
    "print(b)\n",
    "print(b[0]) # You have to use the indexing operator to get the value in a list of 1 element\n",
    "\n",
    "print(a == b)"
   ]
  },
  {
   "cell_type": "markdown",
   "metadata": {},
   "source": [
    "### Exercise\n",
    "\n",
    "Write a function that computes the similarity between 2 lists made of 3 elements each: i.e. the percentage of values at corresponding positions that are equal (for example the lists [1, 2, 3] and [3, 2, 1] have 33% similarity score between each other).\n",
    "\n",
    "Hints:\n",
    " - The score can be computed as the number of equal values divided by the total number of values\n",
    " - You need to use a counter variable"
   ]
  },
  {
   "cell_type": "code",
   "execution_count": null,
   "metadata": {},
   "outputs": [],
   "source": [
    "def similarity_score_3_el(a, b):\n",
    "    ## Write the function body here\n",
    "    \n",
    "# Input lists\n",
    "x = [10, 20, 40]\n",
    "y = [10, 30, 40]\n",
    "\n",
    "print(\"The similarity is:\", similarity_score_3_el(x, y),\"%\")"
   ]
  },
  {
   "cell_type": "markdown",
   "metadata": {},
   "source": [
    "### Different ways for accessing elements\n",
    "\n",
    "The index value used by the indexing operator `[]` is a generic value of type **int**, so it can also be specified using variables and math operations.\n",
    "\n",
    "Note that you can't use float (i.e. decimal numbers), strings or other lists as indices.\n",
    "Positions, as in the result of a race, are ordinal numbers: there is no position 2.5 ."
   ]
  },
  {
   "cell_type": "code",
   "execution_count": null,
   "metadata": {},
   "outputs": [],
   "source": [
    "a = [1, 10, 100, 1000, 10000]\n",
    "\n",
    "print(a[1 + 1])\n",
    "print(a[a[0]])\n",
    "\n",
    "# It's better to precompute long expressions using a variable for the sake of readability\n",
    "x = a[0] * 2 + 1\n",
    "print(a[x])"
   ]
  },
  {
   "cell_type": "markdown",
   "metadata": {},
   "source": [
    "### Exercise\n",
    "\n",
    "Write a function that allows to check if the visa of a passenger has been accepted or not.\n",
    "Check all the passengers.\n",
    "\n",
    "Hint: only Mark and John have been accepted."
   ]
  },
  {
   "cell_type": "code",
   "execution_count": null,
   "metadata": {},
   "outputs": [],
   "source": [
    "# Whether the visa has been accepted for a passenger.\n",
    "# Values are ordered according to the passenger seat number\n",
    "visa_accepted = [True, False, False, True]\n",
    "\n",
    "## Write your function here\n",
    "\n",
    "\n",
    "## Name and seat number of all passengers\n",
    "name_1 = \"Mark\"\n",
    "seat_1 = 0\n",
    "\n",
    "name_2 = \"John\"\n",
    "seat_2 = 3\n",
    "\n",
    "name_3 = \"Clara\"\n",
    "seat_3 = 2\n",
    "\n",
    "name_4 = \"Mickey\"\n",
    "seat_4 = 1\n",
    "\n",
    "## Call your function here"
   ]
  },
  {
   "cell_type": "markdown",
   "metadata": {},
   "source": [
    "### Lists and Strings\n",
    "\n",
    "**Lists** and **strings** present some similarities.\n",
    "A **string** is a textual value and it's called like this because it's a string of characters, i.e. a sequence of values, similarly to a **list**.\n",
    "The two types share some important functions and operators.\n",
    "\n",
    "\n",
    "For example:\n",
    " - You can access a single character in a **string** with the indexing operator `[]` as you would do for elements in a list.\n",
    " - You can compute the `len()` of a **list** in the same way as done for strings.\n",
    " \n",
    " Note that the `len()` function is very useful to determine if an index is valid or not (i.e. out of bound) for a given list."
   ]
  },
  {
   "cell_type": "code",
   "execution_count": null,
   "metadata": {},
   "outputs": [],
   "source": [
    "a = \"Hello\"\n",
    "print(a[1])\n",
    "\n",
    "b = [1, 2, 3]\n",
    "print(len(b))"
   ]
  },
  {
   "cell_type": "markdown",
   "metadata": {},
   "source": [
    "### Exercise\n",
    "\n",
    "Write a function that returns the third element of a list or `-1` if that's not possible."
   ]
  },
  {
   "cell_type": "code",
   "execution_count": null,
   "metadata": {},
   "outputs": [],
   "source": [
    "# Input lists\n",
    "a = [10, 20, 30, 40, 50]\n",
    "b = [8, 11, 12]\n",
    "c = [77, 41]"
   ]
  },
  {
   "cell_type": "markdown",
   "metadata": {},
   "source": [
    "### Exercise\n",
    "\n",
    "Write a function that checks wether a list ends with 9 or not.\n",
    "\n",
    "Hint: you may need to use an expression to compute the index of the last element of a generic list, try to figure it out."
   ]
  },
  {
   "cell_type": "code",
   "execution_count": null,
   "metadata": {},
   "outputs": [],
   "source": [
    "# Input lists\n",
    "l1 = [0, 1, 2, 4, 5, 6, 7]\n",
    "l2 = [9]\n",
    "l3 = [9, 9, 5]"
   ]
  },
  {
   "cell_type": "markdown",
   "metadata": {},
   "source": [
    "### Recap on Indices\n",
    "\n",
    "The indexing operator `[]` allows to obtain the value of a particular element in a **list**.\n",
    "\n",
    "You have always to make sure that the **index** value that you are using it's valid, i.e. it must be between `0` (included as `0` denotes the first element) and the length of the list (excluded as `len(list) -1` denotes the last element).\n",
    "Otherwise you will get an out of range error.\n",
    "\n",
    "Python also provides a more compact way for accessing elements at the end of a list: using a negative value as index is equivalent to starting to count positions from the end of the list."
   ]
  },
  {
   "cell_type": "code",
   "execution_count": null,
   "metadata": {},
   "outputs": [],
   "source": [
    "a = [10, 100, 1000]\n",
    "print(\"a[0] is\", a[0])\n",
    "print(\"a[1] is\", a[1])\n",
    "print(\"a[2] is\", a[2])\n",
    "print(\"a[len(a) - 1] is\", a[len(a) - 1])\n",
    "print(\"a[-1] is\", a[-1])\n",
    "print(\"a[len(a) - 2] is\", a[len(a) - 2])\n",
    "print(\"a[-2] is\", a[-2])\n",
    "\n",
    "print(\"------\")\n",
    "\n",
    "print(\"The greater available index is 2 and the list length is\", len(a))\n",
    "print(\"2 is biggest integer number that is smaller than\", len(a))\n",
    "print(\"Is 2 smaller than 3?\", 2 < 3)\n",
    "print(\"Is 3 smaller than 3?\", 3 < 3)\n",
    "print(\"Is 4 smaller than 3?\", 3 < 3)"
   ]
  },
  {
   "cell_type": "markdown",
   "metadata": {},
   "source": [
    "### Modifying a list\n",
    "\n",
    "The indexing operator can be used also to modify the value of an element of the list.\n",
    "This is done by using it on the left hand-side of an assignment, in the same way as with other variables.\n",
    "\n",
    "The operator has the same rules as before: you must specify a valid index (i.e. not out of range)."
   ]
  },
  {
   "cell_type": "code",
   "execution_count": null,
   "metadata": {},
   "outputs": [],
   "source": [
    "a = [0, 0, 0]\n",
    "print(a[1])\n",
    "a[1] = 8\n",
    "\n",
    "print(a)"
   ]
  },
  {
   "cell_type": "markdown",
   "metadata": {},
   "source": [
    "One of the differences between **lists** and **strings** is that **you can't modify a single character of a string** (the indexing operator can be used in a **string** only to read a character)."
   ]
  },
  {
   "cell_type": "code",
   "execution_count": null,
   "metadata": {},
   "outputs": [],
   "source": [
    "a = \"Hello\"\n",
    "\n",
    "print(a[1]) # This is valid\n",
    "a[1] = \"p\" # This is not supported"
   ]
  },
  {
   "cell_type": "markdown",
   "metadata": {},
   "source": [
    "### Variables, objects and values\n",
    "\n",
    "In the beginning, we said that variables are labels that allow to access locations in memory where values can be stored.\n",
    "\n",
    "Now it's time to add some more specific, and less ambiguous, terminology.\n",
    "\n",
    "```\n",
    "a = 1\n",
    "b = 2\n",
    "\n",
    "x = \"Hello\"\n",
    "y = \"World\"\n",
    "```\n",
    "\n",
    "You already saw some Python types: **int**, **float**, **boolean**, **string** and **list**.\n",
    "In the above code, you have two **int** and two **string**.\n",
    "`1` and `2` (and so `a` and `b`) are both **int**, but they are different entities. They are called **objects of type int**.\n",
    "\n",
    "A variable is a reference (i.e. a label, such as `a`, `b`, `x` or `y`) to an object (a specific **int** or **string**) and objects have a value (e.g. `1`, `2`, etc.).\n",
    "\n",
    "**`a` is a variable that reference to an object of type int which value is `1`**.\n"
   ]
  },
  {
   "cell_type": "markdown",
   "metadata": {},
   "source": [
    "### Mutable and Immutable types\n",
    "\n",
    "A type is said to be immutable if the only way for modifying the value of an object is to completely replace it. On the other hand, mutable types support additional operators that allow to modify only parts of the object.\n",
    "\n",
    "As you just saw, it is possible to change a single value within a **list**. This is because the **list is a mutable type**.\n",
    "\n",
    "This is the first mutable type that you have encountered so far: all the basic types such as **int**,**float**, **boolean** and **string** are immutable (remember that you can't modify a single character of a string)."
   ]
  },
  {
   "attachments": {
    "Screenshot%20from%202020-03-20%2008-57-01.png": {
     "image/png": "[encoded data removed]"
    }
   },
   "cell_type": "markdown",
   "metadata": {},
   "source": [
    "### Copying by reference\n",
    "\n",
    "When you copy a variable using the assignment operator, what really happens is that you create a new reference to the same object.\n",
    "\n",
    "<br>\n",
    "<center>a = \"banana\"</center>\n",
    "<center>b = a</center>\n",
    "<br>\n",
    "\n",
    "![Screenshot%20from%202020-03-20%2008-57-01.png](attachment:Screenshot%20from%202020-03-20%2008-57-01.png)\n",
    "\n",
    "\n",
    "\n",
    "When running this piece of code, Python only has a single object of type **string** stored in memory and two separate variables reference to it.\n",
    "\n",
    "This does not impact you in any way when working with immutable types, but mutable types such as **lists** are different.\n",
    "\n",
    "When an object of mutable type is modified, all the variables that are referencing to it will see the change."
   ]
  },
  {
   "cell_type": "code",
   "execution_count": null,
   "metadata": {},
   "outputs": [],
   "source": [
    "a = 8 # `a` is a reference to an int object with value 8\n",
    "b = a # `b` is another reference to that int object with value 8\n",
    "a = 5 # The object referenced by `a` is not modified, but rather `a` is now a reference to a new object\n",
    "print(\"a is\", a, \"and b is\", b)\n",
    "\n",
    "x = [0, 0, 0] # `x` is a reference to a list object with value [0, 0, 0]\n",
    "y = x # `y` is another reference to that list object with value [0, 0, 0]\n",
    "x[0] = 1 # The list object referenced by `x` is modified\n",
    "print(\"x is\", x, \"and y is\", y)\n",
    "y[1] = 1 # The list object referenced by `y` is modified\n",
    "print(\"x is\", x, \"and y is\", y)\n",
    "\n",
    "x = [9, 9, 9] # `x` is now a reference to a new object\n",
    "print(\"x is\", x, \"and y is\", y)"
   ]
  },
  {
   "cell_type": "markdown",
   "metadata": {},
   "source": [
    "Note the difference of using the list indexing operator on the left or on the right hand side of an assignment operator."
   ]
  },
  {
   "cell_type": "code",
   "execution_count": null,
   "metadata": {},
   "outputs": [],
   "source": [
    "x = [10, 100, 1000]\n",
    "\n",
    "a = x[0] # We are reading from the list object, as done at the beginning of the lesson\n",
    "a = 0 # `a` is now a reference to a new variable\n",
    "print(x)\n",
    "\n",
    "x[0] = 0 # We are modifying the list object\n",
    "print(x)"
   ]
  },
  {
   "cell_type": "markdown",
   "metadata": {},
   "source": [
    "**Copy by reference** applies also when you use a list as **input argument** for a function, which is a very common situation.\n",
    "\n",
    "When calling a function, the list is copied into the input parameter.\n",
    "This means that the placeholder variable in the function body is a reference to that list object.\n",
    "Every operation in the function body that modifies the list (through the place-holder input parameter variable) will automatically reflect on the list passed as input argument.\n",
    "\n",
    "If you want to write a function that modifies a list, do not `return` the modified version.\n",
    "Simply apply your modifications to the place-holder variable."
   ]
  },
  {
   "cell_type": "code",
   "execution_count": null,
   "metadata": {},
   "outputs": [],
   "source": [
    "def modify_list(x):\n",
    "    # This function modifies the list passed as input\n",
    "    x[0] = 9\n",
    "    \n",
    "def modify_list_v2(x):\n",
    "    # This function modifies the list passed as input\n",
    "    # This is equivalent to `modify_list()` because the new \n",
    "    # variable `k` is just another reference to the input\n",
    "    k = x\n",
    "    k[2] = 9\n",
    "\n",
    "def modify_list_and_return(x):\n",
    "    # This function modifies the list passed as input\n",
    "    # It has a return value, used for other purposes\n",
    "    ret = 1278\n",
    "    if x[1] > 5:\n",
    "        x[1] = 7\n",
    "        ret = ret + 9912\n",
    "    else:\n",
    "        x[1] = 9\n",
    "    return ret\n",
    "    \n",
    "a = [0, 0, 0]\n",
    "modify_list(a)\n",
    "print(a)\n",
    "modify_list_v2(a)\n",
    "print(a)\n",
    "x = modify_list_and_return(a)\n",
    "print(a)\n",
    "print(x)"
   ]
  },
  {
   "cell_type": "markdown",
   "metadata": {},
   "source": [
    "Don't worry if what you just saw looks confusing at first.\n",
    "There are few important points to keep in mind:\n",
    " - The assignment operator makes a variable to reference to a new object.\n",
    " - Only mutable objects can be modified.\n",
    " - Modifying an object affects all the variables that are referencing to it."
   ]
  },
  {
   "cell_type": "markdown",
   "metadata": {},
   "source": [
    "### Exercise\n",
    "\n",
    "Write a function `saturate()` that takes a list as input parameter and modifies it."
   ]
  },
  {
   "cell_type": "code",
   "execution_count": null,
   "metadata": {},
   "outputs": [],
   "source": [
    "## Write the function here\n",
    "# If the first element of the input list is greater than the second,\n",
    "# modify the first to be equal to the second.\n",
    "\n",
    "\n",
    "# Input lists\n",
    "a = [20, 1]\n",
    "b = [12, 12, 5]\n",
    "c = [1, 3.4]\n",
    "\n",
    "print(\"Before saturation:\")\n",
    "\n",
    "print(a)\n",
    "print(b)\n",
    "print(c)\n",
    "\n",
    "saturate(a)\n",
    "saturate(b)\n",
    "saturate(c)\n",
    "\n",
    "print(\"After saturation:\")\n",
    "\n",
    "print(a)\n",
    "print(b)\n",
    "print(c)"
   ]
  }
 ],
 "metadata": {
  "kernelspec": {
   "display_name": "Python 3",
   "language": "python",
   "name": "python3"
  },
  "language_info": {
   "codemirror_mode": {
    "name": "ipython",
    "version": 3
   },
   "file_extension": ".py",
   "mimetype": "text/x-python",
   "name": "python",
   "nbconvert_exporter": "python",
   "pygments_lexer": "ipython3",
   "version": "3.7.5"
  }
 },
 "nbformat": 4,
 "nbformat_minor": 4
}
