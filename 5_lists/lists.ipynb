{
 "cells": [
  {
   "cell_type": "markdown",
   "metadata": {},
   "source": [
    "# Lists\n",
    "\n",
    "Another type of variable that is available in Python is the **list**.\n",
    "A **list** variable it's a container: more precisely it's a sequence of multiple values.\n",
    "\n",
    "A list is defined using comma-separated `,` values inside square brackets `[` `]`.\n",
    "\n",
    "Remember that a list is a variable, as an integer or a string are, so you can assign or print the value of a list variable."
   ]
  },
  {
   "cell_type": "code",
   "execution_count": null,
   "metadata": {},
   "outputs": [],
   "source": [
    "# `a` is a list containing 3 elements: 1, 2 and 3\n",
    "a  = [1, 2, 3]\n",
    "\n",
    "print(a)\n",
    "\n",
    "x = 100\n",
    "b = [x, x, 12]"
   ]
  },
  {
   "cell_type": "markdown",
   "metadata": {},
   "source": [
    "### List access operator\n",
    "\n",
    "You can access individual elements of a list using the access operator: you must specify the list variable followed by the **index** of the value you want to acces between squared brackets `[N]`.\n",
    "\n",
    "The **index** univocally identifies the position of an element inside the list.\n",
    "\n",
    "You must specify the **index** of the element you want to access.\n",
    "Remember that in programming, **indices always start from 0**."
   ]
  },
  {
   "cell_type": "code",
   "execution_count": null,
   "metadata": {},
   "outputs": [],
   "source": [
    "# `a` is a list containing 3 elements: 10, 100 and 1000\n",
    "a = [10, 100, 1000]\n",
    "\n",
    "x = a[0]\n",
    "y = a[1]\n",
    "z = a[2]"
   ]
  },
  {
   "cell_type": "markdown",
   "metadata": {},
   "source": [
    "**Remeber that index 0 is used to access the first element in the list**\n",
    "\n",
    "If you try to access a position that is not present in the list (i.e. after the last element), you will get an error."
   ]
  },
  {
   "cell_type": "code",
   "execution_count": null,
   "metadata": {},
   "outputs": [],
   "source": [
    "a = [10, 100, 1000]\n",
    "\n",
    "k = a[3]"
   ]
  },
  {
   "cell_type": "markdown",
   "metadata": {},
   "source": [
    "### Exercise\n",
    "\n",
    "Call a function on each value of a list"
   ]
  },
  {
   "cell_type": "code",
   "execution_count": null,
   "metadata": {},
   "outputs": [],
   "source": [
    "def divide(x):\n",
    "    return x / 2\n",
    "\n",
    "# The input list\n",
    "a = [10, 100, 1000]\n",
    "\n",
    "## Call `divide()` on every value stored in the input list and print the results\n"
   ]
  },
  {
   "cell_type": "markdown",
   "metadata": {},
   "source": [
    "### List arguments\n",
    "\n",
    "A list can be passed to a function as an input argument as you can do with any other type of variable.\n",
    "    \n",
    "    def do_something(x):\n",
    "        # This does something\n",
    "       \n",
    "    do_something(1)\n",
    "    do_something([1, 2, 3])\n",
    "    \n",
    "There's obviously a difference in providing as input argument a whole list or only one of its elements.\n",
    "A function is usually created with a specific type in mind for its arguments. This means that if you pass a single value to a function that is expecting a list (or the opposite), this may not behave correctly or it may result in an error.\n",
    "\n",
    "Moreover, note that a list with only 1 element such as `[8]` is different from an integer with the same value `8`.\n",
    "While containing the same information (i.e. the number `8`) they are variables of two different types, so different rules apply."
   ]
  },
  {
   "cell_type": "code",
   "execution_count": null,
   "metadata": {},
   "outputs": [],
   "source": [
    "a = 8\n",
    "print(a)\n",
    "\n",
    "b = [8]\n",
    "print(b)\n",
    "print(b[0])"
   ]
  },
  {
   "cell_type": "markdown",
   "metadata": {},
   "source": [
    "### Exercise\n",
    "\n",
    "Write a function that computes the similarity between 2 lists: i.e. the percentage values at corresponding positions that are equal.\n",
    "\n",
    "Hint: [1, 2, 3] and [3, 2, 1] have 33% similarity"
   ]
  },
  {
   "cell_type": "code",
   "execution_count": null,
   "metadata": {},
   "outputs": [],
   "source": [
    "def similarity_score(a, b):\n",
    "    ## Write the function body here\n",
    "    \n",
    "# Input lists\n",
    "x = [10, 20, 40]\n",
    "y = [10, 30, 40]\n",
    "\n",
    "print(\"The similarity is: \", similarity_score(x, y))"
   ]
  },
  {
   "cell_type": "markdown",
   "metadata": {},
   "source": [
    "### Different ways for accessing elements\n",
    "\n",
    "The index used by the access operator `[]` can also be specified using variables and math operations."
   ]
  },
  {
   "cell_type": "code",
   "execution_count": null,
   "metadata": {},
   "outputs": [],
   "source": [
    "a = [1, 10, 100, 1000, 10000]\n",
    "\n",
    "print(a[1 + 1])\n",
    "print(a[a[0]])\n",
    "\n",
    "# It's better to precompute long expressions using a variable for the sake of readability\n",
    "x = a[0] * 2 + 1\n",
    "print(a[x])"
   ]
  },
  {
   "cell_type": "markdown",
   "metadata": {},
   "source": [
    "### Exercise\n",
    "\n",
    "Write a function that allows to check if the visa of a passenger has been accepted or not.\n",
    "Check all the passengers.\n",
    "\n",
    "Hint: only Mark and John have been accepted."
   ]
  },
  {
   "cell_type": "code",
   "execution_count": null,
   "metadata": {},
   "outputs": [],
   "source": [
    "# Whether the visa has been accepted for a passenger\n",
    "# values are ordered according to the passenger seat number\n",
    "visa_accepted = [True, False, False, True]\n",
    "\n",
    "## Write your function here\n",
    "\n",
    "\n",
    "## Passengers\n",
    "name_1 = \"Mark\"\n",
    "seat_1 = 0\n",
    "\n",
    "name_2 = \"John\"\n",
    "seat_2 = 3\n",
    "\n",
    "name_3 = \"Clara\"\n",
    "seat_3 = 2\n",
    "\n",
    "name_4 = \"Mickey\"\n",
    "seat_4 = 1\n",
    "\n",
    "## Call your function here"
   ]
  },
  {
   "cell_type": "markdown",
   "metadata": {},
   "source": [
    "### Lists and Strings\n",
    "\n",
    "Lists and strings present some similarities.\n",
    "This is because a **string** is ultimately a sequence of individual characters.\n",
    "\n",
    "For this reason, they share some important functions and operators.\n",
    "\n",
    "\n",
    "For example:\n",
    " - You can access a single character in a string with the access operator as with elements in a list.\n",
    " - You can compute the `len()` of a list in the same way as done for strings.\n",
    " \n",
    " Note that the `len()` function can be useful to determine if an index is valid or out of bound for a given list."
   ]
  },
  {
   "cell_type": "code",
   "execution_count": null,
   "metadata": {},
   "outputs": [],
   "source": [
    "a = \"Hello\"\n",
    "print(a[1])\n",
    "\n",
    "b = [1, 2, 3]\n",
    "print(len(b))"
   ]
  },
  {
   "cell_type": "markdown",
   "metadata": {},
   "source": [
    "### Exercise\n",
    "\n",
    "Write a function that prints the third element of a list. **Call it on all the input lists**.\n",
    "\n",
    "Hint: how to handle all the possible cases? Is it always possible to do what requested?"
   ]
  },
  {
   "cell_type": "code",
   "execution_count": null,
   "metadata": {},
   "outputs": [],
   "source": [
    "# Input lists\n",
    "a = [10, 20, 30, 40, 50]\n",
    "b = [8, 11, 12]\n",
    "c = [77, 41]"
   ]
  },
  {
   "cell_type": "markdown",
   "metadata": {},
   "source": [
    "### Exercise\n",
    "\n",
    "Write a function that checks wether a list ends with `z` or `9` or not.\n",
    "\n",
    "**NOTE**: all the lists have a different length, but the function must be able to handle all of them. You will need an expression to compute the last index in the list."
   ]
  },
  {
   "cell_type": "code",
   "execution_count": null,
   "metadata": {},
   "outputs": [],
   "source": [
    "# Input lists\n",
    "l1 = [0, 1, 2, 4, 5, 6, 7]\n",
    "l2 = \"baz\"\n",
    "l3 = [\"z\", \"z\", \"k\"]"
   ]
  },
  {
   "cell_type": "markdown",
   "metadata": {},
   "source": [
    "### More on the access operator\n",
    "\n",
    "The access operator `[]` allows to obtain the value of a particular element in a list.\n",
    "\n",
    "You have always to make sure that the **index** that you are using it's valid, i.e. it must be between `0` (included as `0` denotes the first element) and the length of the list (excluded as `len(list) -1` denotes the last element).\n",
    "\n",
    "Python also provides a more compact way for accessing the last elements of a list: using a negative value as index is equivalent to starting to count positions from the end of the list."
   ]
  },
  {
   "cell_type": "code",
   "execution_count": null,
   "metadata": {},
   "outputs": [],
   "source": [
    "a = [10, 100, 1000]\n",
    "print(\"a[0] is\", a[0])\n",
    "print(\"a[1] is\", a[1])\n",
    "print(\"a[2] is\", a[2])\n",
    "print(\"a[len(a) - 1] is\", a[len(a) - 1])\n",
    "print(\"a[-1] is\", a[-1])\n",
    "print(\"a[len(a) - 2] is\", a[len(a) - 2])\n",
    "print(\"a[-2] is\", a[-2])"
   ]
  },
  {
   "cell_type": "code",
   "execution_count": null,
   "metadata": {},
   "outputs": [],
   "source": [
    "a = [10, 100, 1000]\n",
    "print(a[4])"
   ]
  },
  {
   "cell_type": "code",
   "execution_count": null,
   "metadata": {},
   "outputs": [],
   "source": [
    "a = []\n",
    "print(a[0])"
   ]
  },
  {
   "cell_type": "markdown",
   "metadata": {},
   "source": [
    "### Slicing a list\n",
    "\n",
    "The access operator also allows to extract sub-lists from a list. For example given a list of 5 elements you may want to create a new list with only the 4th and 5th elements.\n",
    "\n",
    "Try to figure out how the slicing operator works from the next example.\n",
    "\n",
    "**NOTE** The result of the slicing operator is always a list!"
   ]
  },
  {
   "cell_type": "code",
   "execution_count": null,
   "metadata": {},
   "outputs": [],
   "source": [
    "a = [11, 26, 32, 48, 54]\n",
    "b = a[2:4]\n",
    "\n",
    "print(b)\n",
    "print(b[0])"
   ]
  },
  {
   "cell_type": "markdown",
   "metadata": {},
   "source": [
    "### Exercise\n",
    "\n",
    "Write a function that returns the first 2 characters of a string if this string has less than 5 characters, otherwise it should return the last 3. **Call it on all the input strings.**"
   ]
  },
  {
   "cell_type": "code",
   "execution_count": null,
   "metadata": {},
   "outputs": [],
   "source": [
    "# Input strings\n",
    "a = \"hello\"\n",
    "b = \"life\"\n",
    "c = \"tornado\""
   ]
  }
 ],
 "metadata": {
  "kernelspec": {
   "display_name": "Python 3",
   "language": "python",
   "name": "python3"
  },
  "language_info": {
   "codemirror_mode": {
    "name": "ipython",
    "version": 3
   },
   "file_extension": ".py",
   "mimetype": "text/x-python",
   "name": "python",
   "nbconvert_exporter": "python",
   "pygments_lexer": "ipython3",
   "version": "3.7.5"
  }
 },
 "nbformat": 4,
 "nbformat_minor": 4
}
