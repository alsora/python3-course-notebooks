{
 "cells": [
  {
   "cell_type": "markdown",
   "metadata": {},
   "source": [
    "# Lists\n",
    "\n",
    "Another type of variable that is available in Python is the **list**.\n",
    "A **list** variable is a container: more precisely it's a sequence of multiple values.\n",
    "\n",
    "A list is defined using comma-separated `,` values within square brackets: for example `[8, 6, 25]`.\n",
    "\n",
    "Note that the value of a **list** variable is the container with all its elements. This is evident when printing such a variable."
   ]
  },
  {
   "cell_type": "code",
   "execution_count": null,
   "metadata": {},
   "outputs": [],
   "source": [
    "# `a` is a list containing 2 elements: 1 and 2\n",
    "a  = [1, 2]\n",
    "\n",
    "# Print the list `a`\n",
    "print(a)\n",
    "\n",
    "x = 100\n",
    "b = [x, x, 12]\n",
    "\n",
    "print(b)"
   ]
  },
  {
   "cell_type": "markdown",
   "metadata": {},
   "source": [
    "### Indexing operator\n",
    "\n",
    "You can access individual elements of a list using the indexing operator: you must specify the list variable followed by the **index** of the element you want to acces between squared brackets `[N]`.\n",
    "\n",
    "The **index** value identifies a position inside the list.\n",
    "You must specify the **index** of the element you want to access.\n",
    "Remember that in programming, **indices always start from 0**."
   ]
  },
  {
   "cell_type": "code",
   "execution_count": null,
   "metadata": {},
   "outputs": [],
   "source": [
    "# `a` is a list containing 3 elements: 10, 100 and 1000\n",
    "a = [10, 100, 1000]\n",
    "\n",
    "x = a[0]\n",
    "y = a[1]\n",
    "z = a[2]"
   ]
  },
  {
   "cell_type": "markdown",
   "metadata": {},
   "source": [
    "**Remeber that index 0 is used to access the first element in the list**\n",
    "\n",
    "If you try to access a position that is not present in the list (i.e. after the last element), you will get an error."
   ]
  },
  {
   "cell_type": "code",
   "execution_count": null,
   "metadata": {},
   "outputs": [],
   "source": [
    "a = [10, 100, 1000]\n",
    "k = a[3]"
   ]
  },
  {
   "cell_type": "code",
   "execution_count": null,
   "metadata": {},
   "outputs": [],
   "source": [
    "a = []\n",
    "print(a[0])"
   ]
  },
  {
   "cell_type": "markdown",
   "metadata": {},
   "source": [
    "### Exercise\n",
    "\n",
    "Use multiple times the indexing operator to get every value in a list and call a function on each of them."
   ]
  },
  {
   "cell_type": "code",
   "execution_count": null,
   "metadata": {},
   "outputs": [],
   "source": [
    "def divide(x):\n",
    "    return x / 2\n",
    "\n",
    "# The input list\n",
    "a = [10, 100, 1000]\n",
    "\n",
    "## Call `divide()` on every value stored in the input list and print the results\n"
   ]
  },
  {
   "cell_type": "markdown",
   "metadata": {},
   "source": [
    "### Lists as input parameters\n",
    "\n",
    "A list can be passed to a function as input argument as you can do with any other type of variable.\n",
    "    \n",
    "    def do_something(x):\n",
    "        # This does something\n",
    "       \n",
    "    do_something(1)\n",
    "    do_something([1, 2, 3])\n",
    "    \n",
    "There's obviously a difference in providing as input argument a whole list or only one of its elements.\n",
    "A function is usually created with a specific type in mind for its parameters. This means that if you pass a single value to a function that is expecting a list (or the opposite), this may not behave correctly or it may result in an error.\n",
    "\n",
    "Moreover, note that a list with only 1 element such as `[8]` is different from an integer with the same value `8`.\n",
    "While containing the same information (i.e. the number `8`) they are variables of two different types, so different rules apply."
   ]
  },
  {
   "cell_type": "code",
   "execution_count": null,
   "metadata": {},
   "outputs": [],
   "source": [
    "a = 8\n",
    "print(a)\n",
    "\n",
    "b = [8]\n",
    "print(b)\n",
    "print(b[0]) # You have to use the indexing operator to get the value in a list of 1 element\n",
    "\n",
    "print(a == b)"
   ]
  },
  {
   "cell_type": "markdown",
   "metadata": {},
   "source": [
    "### Exercise\n",
    "\n",
    "Write a function that computes the similarity between 2 lists made of 3 elements each: i.e. the percentage of values at corresponding positions that are equal (for example the lists [1, 2, 3] and [3, 2, 1] have 33% similarity score between each other).\n",
    "\n",
    "Hints:\n",
    " - The score can be computed as the number of equal values divided by the total number of values\n",
    " - You need to use a counter variable"
   ]
  },
  {
   "cell_type": "code",
   "execution_count": null,
   "metadata": {},
   "outputs": [],
   "source": [
    "def similarity_score_3_el(a, b):\n",
    "    ## Write the function body here\n",
    "    \n",
    "# Input lists\n",
    "x = [10, 20, 40]\n",
    "y = [10, 30, 40]\n",
    "\n",
    "print(\"The similarity is:\", similarity_score_3_el(x, y),\"%\")"
   ]
  },
  {
   "cell_type": "markdown",
   "metadata": {},
   "source": [
    "### Different ways for accessing elements\n",
    "\n",
    "The index value used by the indexing operator `[]` is a generic value of type **int**, so it can also be specified using variables and math operations.\n",
    "\n",
    "Note that you can't use float (i.e. decimal numbers), strings or other lists as indices.\n",
    "Positions, as in the result of a race, are ordinal numbers: there is no position 2.5 ."
   ]
  },
  {
   "cell_type": "code",
   "execution_count": null,
   "metadata": {},
   "outputs": [],
   "source": [
    "a = [1, 10, 100, 1000, 10000]\n",
    "\n",
    "print(a[1 + 1])\n",
    "print(a[a[0]])\n",
    "\n",
    "# It's better to precompute long expressions using a variable for the sake of readability\n",
    "x = a[0] * 2 + 1\n",
    "print(a[x])"
   ]
  },
  {
   "cell_type": "markdown",
   "metadata": {},
   "source": [
    "### Exercise\n",
    "\n",
    "Write a function that checks if the visa of a passenger has been accepted or not.\n",
    "Check all the passengers.\n",
    "\n",
    "Hint: only Mark and John have been accepted."
   ]
  },
  {
   "cell_type": "code",
   "execution_count": null,
   "metadata": {},
   "outputs": [],
   "source": [
    "# Whether the visa has been accepted for a passenger.\n",
    "# Values are ordered according to the passenger seat number\n",
    "visa_accepted = [True, False, False, True]\n",
    "\n",
    "## Write your function here\n",
    "\n",
    "\n",
    "## Name and seat number of all passengers\n",
    "name_1 = \"Mark\"\n",
    "seat_1 = 0\n",
    "\n",
    "name_2 = \"John\"\n",
    "seat_2 = 3\n",
    "\n",
    "name_3 = \"Clara\"\n",
    "seat_3 = 2\n",
    "\n",
    "name_4 = \"Mickey\"\n",
    "seat_4 = 1\n",
    "\n",
    "## Call your function here"
   ]
  },
  {
   "cell_type": "markdown",
   "metadata": {},
   "source": [
    "### Lists and Strings\n",
    "\n",
    "**Lists** and **strings** present some similarities.\n",
    "This is because a **string** can be considered as a sequence of individual characters.\n",
    "\n",
    "The two types share some important functions and operators.\n",
    "\n",
    "\n",
    "For example:\n",
    " - You can access a single character in a **string** with the indexing operator `[]` as you would do for elements in a list.\n",
    " - You can compute the `len()` of a **list** in the same way as done for strings.\n",
    " \n",
    " Note that the `len()` function is very useful to determine if an index is valid or not (i.e. out of bound) for a given list."
   ]
  },
  {
   "cell_type": "code",
   "execution_count": null,
   "metadata": {},
   "outputs": [],
   "source": [
    "a = \"Hello\"\n",
    "print(a[1])\n",
    "\n",
    "b = [1, 2, 3]\n",
    "print(len(b))"
   ]
  },
  {
   "cell_type": "markdown",
   "metadata": {},
   "source": [
    "### Exercise\n",
    "\n",
    "Write a function that returns the third element of a list or `-1` if that's not possible."
   ]
  },
  {
   "cell_type": "code",
   "execution_count": null,
   "metadata": {},
   "outputs": [],
   "source": [
    "# Input lists\n",
    "a = [10, 20, 30, 40, 50]\n",
    "b = [8, 11, 12]\n",
    "c = [77, 41]"
   ]
  },
  {
   "cell_type": "markdown",
   "metadata": {},
   "source": [
    "### Exercise\n",
    "\n",
    "Write a function that checks wether a list ends with `z` or `9` or not.\n",
    "\n",
    "Hint: you may need to use an expression to compute the index of the last element of a generic list."
   ]
  },
  {
   "cell_type": "code",
   "execution_count": null,
   "metadata": {},
   "outputs": [],
   "source": [
    "# Input lists\n",
    "l1 = [0, 1, 2, 4, 5, 6, 7]\n",
    "l2 = \"baz\"\n",
    "l3 = [\"z\", \"z\", \"k\"]"
   ]
  },
  {
   "cell_type": "markdown",
   "metadata": {},
   "source": [
    "### Recap on Indices\n",
    "\n",
    "The indexing operator `[]` allows to obtain the value of a particular element in a **list**.\n",
    "\n",
    "You have always to make sure that the **index** value that you are using it's valid, i.e. it must be between `0` (included as `0` denotes the first element) and the length of the list (excluded as `len(list) -1` denotes the last element).\n",
    "Otherwise you will get an out of range error.\n",
    "\n",
    "Python also provides a more compact way for accessing elements at the end of a list: using a negative value as index is equivalent to starting to count positions from the end of the list."
   ]
  },
  {
   "cell_type": "code",
   "execution_count": null,
   "metadata": {},
   "outputs": [],
   "source": [
    "a = [10, 100, 1000]\n",
    "print(\"a[0] is\", a[0])\n",
    "print(\"a[1] is\", a[1])\n",
    "print(\"a[2] is\", a[2])\n",
    "print(\"a[len(a) - 1] is\", a[len(a) - 1])\n",
    "print(\"a[-1] is\", a[-1])\n",
    "print(\"a[len(a) - 2] is\", a[len(a) - 2])\n",
    "print(\"a[-2] is\", a[-2])\n",
    "\n",
    "print(\"------\")\n",
    "\n",
    "print(\"The greater available index is 2 and the list length is\", len(a))\n",
    "print(\"2 is biggest integer number that is smaller than\", len(a))\n",
    "print(\"Is 2 smaller than 3?\", 2 < 3)\n",
    "print(\"Is 3 smaller than 3?\", 3 < 3)\n",
    "print(\"Is 4 smaller than 3?\", 3 < 3)"
   ]
  },
  {
   "cell_type": "markdown",
   "metadata": {},
   "source": [
    "### Modifying a list\n",
    "\n",
    "The indexing operator can be used also to modify the value of an element of the list.\n",
    "This is done by using it on the left hand-side of an assignment, in the same way as with other variables.\n",
    "\n",
    "The operator has the same rules as before: you must specify a valid index (i.e. not out of range)."
   ]
  },
  {
   "cell_type": "code",
   "execution_count": null,
   "metadata": {},
   "outputs": [],
   "source": [
    "a = [0, 0, 0]\n",
    "print(a[1])\n",
    "a[1] = 8\n",
    "\n",
    "print(a)"
   ]
  },
  {
   "cell_type": "markdown",
   "metadata": {},
   "source": [
    "One of the differences between **lists** and **strings** is that **you can't modify a single character of a string** (the indexing operator can be used in a **string** only to read a character)."
   ]
  },
  {
   "cell_type": "code",
   "execution_count": null,
   "metadata": {},
   "outputs": [],
   "source": [
    "a = \"Hello\"\n",
    "\n",
    "print(a[1]) # This is valid\n",
    "a[1] = \"p\" # This is not supported"
   ]
  },
  {
   "cell_type": "markdown",
   "metadata": {},
   "source": [
    "### Copying a list\n",
    "\n",
    "Remember that variables are labels that allow to access locations in memory where values can be stored.\n",
    "\n",
    "So far you have been able to use the assignment operator to copy variables.\n",
    "After the copy you ended up with two completely independent objects, i.e. two labels for two different locations in memory that, temporarily, store equal values.\n",
    "\n",
    "This is valid for all the types seen in the previous chapters:**int**, **float**, **boolean** and **string**.\n",
    "However, **lists** are a more complex type and they work differently.\n",
    "\n",
    "Copying a **list** results in creating a new label that refers to the same location in memory of the copied variable.\n",
    "You are not creating a new **list**, you are simply defining a new label for accessing it.\n",
    "\n",
    "The most relevant implication is that using the indexing operator to modify one list, will result in automatically modifying also the other one."
   ]
  },
  {
   "cell_type": "code",
   "execution_count": null,
   "metadata": {},
   "outputs": [],
   "source": [
    "a = 8\n",
    "b = a\n",
    "a = 5\n",
    "print(\"a is\", a, \"and b is\", b)\n",
    "\n",
    "x = [0, 0, 0]\n",
    "y = x\n",
    "x[1] = 1\n",
    "print(\"x is\", x, \"and y is\", y)\n",
    "y[0] = 1\n",
    "print(\"x is\", x, \"and y is\", y)"
   ]
  },
  {
   "cell_type": "markdown",
   "metadata": {},
   "source": [
    "The mechanism used by basic types is called **copy by value** (i.e. we copy something by creating a new value that is equal to the original), while for **lists** we talk about **copy by reference** (i.e. we copy something by creating a new label for referencing to it).\n",
    "\n",
    "One of the main reasons behind the existance of 2 different copy mechanisms is performance optimization.\n",
    "Even if every line of a Python program seems to be executed instantaneously by your computer, in reality different operations have different execution times that depend on their complexity.\n",
    "For example, copying a single value (i.e. any of the basic types, as **int** that use **copy by value**) is very quick.\n",
    "On the other hand a **list** can potentially store up to billions of elements. This means that copying a list by value could potentially take billions of time more than copying a variable of basic type.\n",
    "\n",
    "You shouldn't care at all about the performance of your program given your current level of Python knowledge, but being aware that **lists are copied by reference** is very important.\n",
    "It can save you a lot of time when trying to understand why your program does not work as expected.\n",
    "\n",
    "The main reason is that **copy by reference** applies also when you use a list as **input argument** for a function, which is a very common situation.\n",
    "When calling a function, the list is assigned (i.e. copied) into the input parameter.\n",
    "Every operation in the function body that modifies the list (through the place-holder input parameter variable) will automatically reflect on the list passed as input argument.\n",
    "\n",
    "If you want to write a function that modifies a list, do not `return` the modified version.\n",
    "Simply apply your modifications to the place-holder variable."
   ]
  },
  {
   "cell_type": "code",
   "execution_count": null,
   "metadata": {},
   "outputs": [],
   "source": [
    "def modify_list(x):\n",
    "    # This function modifies the list passed as input\n",
    "    x[0] = 9\n",
    "    \n",
    "def modify_list_v2(x):\n",
    "    # This function modifies the list passed as input\n",
    "    # This is equivalent to `modify_list()` because the new \n",
    "    # variable `k` is just another reference to the input\n",
    "    k = x\n",
    "    k[2] = 9\n",
    "\n",
    "def modify_list_and_return(x):\n",
    "    # This function modifies the list passed as input\n",
    "    # It has a return, used for other purposes\n",
    "    ret = 1278\n",
    "    if x[1] > 5:\n",
    "        x[1] = 7\n",
    "        ret = ret + 9912\n",
    "    else:\n",
    "        x[1] = 9\n",
    "    return ret\n",
    "    \n",
    "a = [0, 0, 0]\n",
    "modify_list(a)\n",
    "print(a)\n",
    "modify_list_v2(a)\n",
    "print(a)\n",
    "x = modify_list_and_return(a)\n",
    "print(a)\n",
    "print(x)"
   ]
  },
  {
   "cell_type": "markdown",
   "metadata": {},
   "source": [
    "As a last remark, keep in mind that using the indexing operator to copy an element from a list, as you have already done since the beginning of this lesson, is equivalent to copy a variable holding only that value.\n",
    "This means that you don't have to worry about the just mentioned concept, but the standard rules will apply. **Copy by value** will be used and no undesired references will be added."
   ]
  },
  {
   "cell_type": "code",
   "execution_count": null,
   "metadata": {},
   "outputs": [],
   "source": [
    "a = [10, 100, 1000]\n",
    "# Note that here we are copying an int value from the list\n",
    "b = a[1]\n",
    "# Variable `b` and the second element of list `a` are two different entities\n",
    "# Modifying `b` does not affect list `a`\n",
    "b = 0\n",
    "print(a)"
   ]
  },
  {
   "cell_type": "markdown",
   "metadata": {},
   "source": [
    "### Exercise\n",
    "\n",
    "Write a function `saturate()` that takes a list as input parameter and modifies it."
   ]
  },
  {
   "cell_type": "code",
   "execution_count": null,
   "metadata": {},
   "outputs": [],
   "source": [
    "## Write the function here\n",
    "# If the first element of the input list is greater than the second,\n",
    "# modify the first to be equal to the second.\n",
    "\n",
    "\n",
    "# Input lists\n",
    "a = [20, 1]\n",
    "b = [12, 12, 5]\n",
    "c = [1, 3.4]\n",
    "\n",
    "print(\"Before saturation:\")\n",
    "\n",
    "print(a)\n",
    "print(b)\n",
    "print(c)\n",
    "\n",
    "saturate(a)\n",
    "saturate(b)\n",
    "saturate(c)\n",
    "\n",
    "print(\"After saturation:\")\n",
    "\n",
    "print(a)\n",
    "print(b)\n",
    "print(c)"
   ]
  }
 ],
 "metadata": {
  "kernelspec": {
   "display_name": "Python 3",
   "language": "python",
   "name": "python3"
  },
  "language_info": {
   "codemirror_mode": {
    "name": "ipython",
    "version": 3
   },
   "file_extension": ".py",
   "mimetype": "text/x-python",
   "name": "python",
   "nbconvert_exporter": "python",
   "pygments_lexer": "ipython3",
   "version": "3.7.5"
  }
 },
 "nbformat": 4,
 "nbformat_minor": 4
}
