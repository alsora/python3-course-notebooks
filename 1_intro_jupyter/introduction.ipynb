{
 "cells": [
  {
   "cell_type": "markdown",
   "metadata": {},
   "source": [
    "#  Introduction to Jupyter Notebooks\n",
    "\n",
    "The Jupyter Notebook is an open-source web application that allows you to create and share documents that contain live code, equations, visualizations and narrative text.\n",
    "\n",
    "\n",
    "A Notebook is made of cells and each of them can be of some different types.\n",
    "The currently selected cell is identified by a colored rectangle that surrounds it.\n",
    "\n",
    " - Markdown cells: this whole block of text is a markdown cell! It's a cell that contains text or images. It's usually used to provide descriptions or notes about what the code will do. Markdown cells are editable. Double click on this cell to start editing it if you want! When you are done with your editing and you want to \"save\" the cell, just press [SHIFT + Enter] or the `Run` button in the bar at the top of the notebook.\n",
    " - Code cells: a code cell is a type of cell that contains executable Python code. You will notice that they are always in editable mode. On the left of the code cell you will find the text `In [ ]:`. You can run a code cell as done before: just press [SHIFT + Enter] or the `Run` button in the bar at the top of the notebook. Note that after running the cell, an increasing number will appear at its left. This number indicates the order in which the code cells have been run in the whole Notebook. As you may know, Python code can print text and display output. If a code cell produces some output, this will be displayed immediately after it, with the text `Out [ ]:` and a number matching the one of the input. Running again a code cell will \"refresh its output\".\n",
    " - Output cells: these cells are automatically generated when running a code cell that prints something. You can't directly edit it. It can only be modified running its parent code cell.\n",
    " \n",
    " \n",
    "\n"
   ]
  },
  {
   "cell_type": "code",
   "execution_count": null,
   "metadata": {},
   "outputs": [],
   "source": [
    "## This is a code cell\n",
    "print(\"... and this is a raw cell\")"
   ]
  },
  {
   "cell_type": "markdown",
   "metadata": {},
   "source": [
    "### Adding cells\n",
    "\n",
    "While working, you can completely edit your Jupyter Notebook, adding notes, example or anything you want.\n",
    "\n",
    "- Use the \"plus sign\" icon to insert a cell below the currently selected cell\n",
    "- Use `Insert` -> `Insert Cell Above` from the menu to insert above"
   ]
  },
  {
   "cell_type": "markdown",
   "metadata": {},
   "source": [
    "### Changing the type of a cell\n",
    "\n",
    "You can always change the type of a cell from the dropdown menu present in the nav bar.\n",
    "You can only change the type of the currently selected cell.\n",
    "\n",
    "For example, select now this cell. A blue rectangle should surround it.\n",
    "In the nav bar at the top, you should see written `Markdown`. \n",
    "Click on the dropdown menu and select the type `Code`.\n",
    "\n",
    "You will see the layout of this cell to change, transforming it into a code cell.\n",
    "You can try to run this cell!\n",
    "\n",
    "Nothing bad should happen.\n",
    "\n",
    "After all your experiments, convert this cell back to Markdown."
   ]
  },
  {
   "cell_type": "markdown",
   "metadata": {},
   "source": [
    "### Saving the Notebook\n",
    "\n",
    "The Notebook automatically saves every time you run something.\n",
    "In addition, you can create Checkpoints.\n",
    "To create a Checkpoint, click `File` -> `Save and Checkpoint` in the nav bar at the top.\n",
    "\n",
    "Checkpoints allow you to restore the Notebook to that old state, by clicking `File` -> `Revert to Checkpoint` in the nav bar at the top."
   ]
  },
  {
   "cell_type": "markdown",
   "metadata": {},
   "source": [
    "### More cells!!!!\n",
    "\n",
    "\n",
    "After running a cell, you will automatically select the following one.\n",
    "Running the last cell will create a new cell after it.\n",
    "\n",
    "Try running the last cell.\n",
    "This will create a new cell.\n",
    "\n",
    "Now try deleting the cell you just created.\n",
    "To do this: select the cell with the mouse by clicking in the white space between the cell content and the colore bounding box. After the click, the bounding box should be blue.\n",
    "Now press the letter `d` 2 times in quick succession.\n",
    "The cell should disappear."
   ]
  },
  {
   "cell_type": "code",
   "execution_count": null,
   "metadata": {},
   "outputs": [],
   "source": [
    "print(\"I'm the last cell\")"
   ]
  }
 ],
 "metadata": {
  "kernelspec": {
   "display_name": "Python 3",
   "language": "python",
   "name": "python3"
  },
  "language_info": {
   "codemirror_mode": {
    "name": "ipython",
    "version": 3
   },
   "file_extension": ".py",
   "mimetype": "text/x-python",
   "name": "python",
   "nbconvert_exporter": "python",
   "pygments_lexer": "ipython3",
   "version": "3.7.5"
  }
 },
 "nbformat": 4,
 "nbformat_minor": 4
}
