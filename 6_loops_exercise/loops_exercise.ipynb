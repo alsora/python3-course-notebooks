{
 "cells": [
  {
   "cell_type": "markdown",
   "metadata": {},
   "source": [
    "# Exercise\n",
    "\n",
    "Write a function that computes the sum of valid values in a list.\n",
    "Call it on every input list and then compute the average and the maximum of the results"
   ]
  },
  {
   "cell_type": "code",
   "execution_count": null,
   "metadata": {},
   "outputs": [],
   "source": [
    "# - Valid values are all the odd numbers except `99` and `-1`.\n",
    "# - All the values after the first `-1` must be discarded.\n",
    "\n",
    "# Input data\n",
    "a = [1, 99, 6, -1, -1, 3, 99]\n",
    "b = [-1]\n",
    "c = [99, 99, -1]\n",
    "d = [8, 4, 9, 9]\n",
    "e = [99]"
   ]
  }
 ],
 "metadata": {
  "kernelspec": {
   "display_name": "Python 3",
   "language": "python",
   "name": "python3"
  },
  "language_info": {
   "codemirror_mode": {
    "name": "ipython",
    "version": 3
   },
   "file_extension": ".py",
   "mimetype": "text/x-python",
   "name": "python",
   "nbconvert_exporter": "python",
   "pygments_lexer": "ipython3",
   "version": "3.7.5"
  }
 },
 "nbformat": 4,
 "nbformat_minor": 4
}
