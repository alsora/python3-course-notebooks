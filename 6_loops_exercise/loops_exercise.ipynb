{
 "cells": [
  {
   "cell_type": "markdown",
   "metadata": {},
   "source": [
    "# Exercise\n",
    "\n",
    "Write the required function and try it on the input lists."
   ]
  },
  {
   "cell_type": "code",
   "execution_count": null,
   "metadata": {},
   "outputs": [],
   "source": [
    "# This function takes a list as input argument\n",
    "# and returns the sum of its valid values.\n",
    "# - Values equal to `100` are discarded.\n",
    "# - Odd values are valid except `-1`.\n",
    "# - All the values after the first `-1` must be discarded.\n",
    "\n",
    "# Input data\n",
    "a = [1, 100, 6, -1, -1, 3, 100]\n",
    "b = [-1]\n",
    "c = [100, 100, -1]\n",
    "d = [8, 4, 9, 9]\n",
    "e = [100]"
   ]
  }
 ],
 "metadata": {
  "kernelspec": {
   "display_name": "Python 3",
   "language": "python",
   "name": "python3"
  },
  "language_info": {
   "codemirror_mode": {
    "name": "ipython",
    "version": 3
   },
   "file_extension": ".py",
   "mimetype": "text/x-python",
   "name": "python",
   "nbconvert_exporter": "python",
   "pygments_lexer": "ipython3",
   "version": "3.7.5"
  }
 },
 "nbformat": 4,
 "nbformat_minor": 4
}
