{
 "cells": [
  {
   "cell_type": "markdown",
   "metadata": {},
   "source": [
    "# Exercise\n",
    "\n",
    "You performed an experiment where you observed the state of a system every hour.\n",
    "The observed state at a given instant is a single odd number.\n",
    "However, not all the values you obtained from the experiment are valid:\n",
    " - `99` is the full scale value of the observation tool: it indicates that nothing was observed at that time, so it's invalid.\n",
    " - `-1` indicates a fault in the observation tool: it's invalid and also all the successive values in the sequence are invalid.\n",
    " - even values denote noise in the observation tool: they are invalid.\n",
    "\n",
    "Due to the many problems that can affect your experiment, you repeated it multiple times.\n",
    "Every list variable (from `a` to `f`) contains all the observations that you got from a single experiment.\n",
    "Note that experimets had different durations, so the number of observations may be different in each case.\n",
    "\n",
    "You have to modify the `results` variable such that every element is the sum of all the valid observations of the corresponding experiment (i.e. the first element for experiment `a`, the second element for experiment `b`, and so on).\n",
    "\n",
    "Then you have to validate the `results` with some control values.\n",
    "For each control value, discard the results that are higher than that (i.e. set them to `0`).\n",
    "You should take note (i.e. print) how many experiment results are invalidated by each control value and how many valid results are left at the end."
   ]
  },
  {
   "cell_type": "code",
   "execution_count": null,
   "metadata": {},
   "outputs": [],
   "source": [
    "# Experiment observations\n",
    "a = [1, 99, 6, -1, -1, 3, 99]\n",
    "b = [-1]\n",
    "c = [99, 99, -1]\n",
    "d = [8, 4, 9, 9]\n",
    "e = [99]\n",
    "f = [7, 5]\n",
    "\n",
    "# List where to store the result of each experiment\n",
    "results = [0] * 6\n",
    "\n",
    "# The control values\n",
    "control_1 = 16\n",
    "control_2 = 10"
   ]
  }
 ],
 "metadata": {
  "kernelspec": {
   "display_name": "Python 3",
   "language": "python",
   "name": "python3"
  },
  "language_info": {
   "codemirror_mode": {
    "name": "ipython",
    "version": 3
   },
   "file_extension": ".py",
   "mimetype": "text/x-python",
   "name": "python",
   "nbconvert_exporter": "python",
   "pygments_lexer": "ipython3",
   "version": "3.7.5"
  }
 },
 "nbformat": 4,
 "nbformat_minor": 4
}
