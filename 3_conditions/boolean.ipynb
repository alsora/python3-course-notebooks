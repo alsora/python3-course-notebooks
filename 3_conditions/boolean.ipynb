{
 "cells": [
  {
   "cell_type": "markdown",
   "metadata": {},
   "source": [
    "# Boolean conditions\n",
    "\n",
    "An additional type available in Python is the **boolean**. It is used to represent if a condition is verified or not.\n",
    "\n",
    "A boolean can only have 2 possible values: `True` or `False`.\n",
    "This is a possible value that can be assigned to variables and used in your Python code, such as numbers (**int**, **float**) and text (**string**);"
   ]
  },
  {
   "cell_type": "code",
   "execution_count": null,
   "metadata": {},
   "outputs": [],
   "source": [
    "x = True\n",
    "y = False\n",
    "x = y\n",
    "\n",
    "# Boolean can be printed\n",
    "print(y)"
   ]
  },
  {
   "cell_type": "markdown",
   "metadata": {},
   "source": [
    "Boolean values are written capitalized, i.e. with the first letter uppercase.\n",
    "If you write them differently you will get an error.\n",
    "\n",
    "In the next example Python will look for a variable named `true` (that does not exist in this program)."
   ]
  },
  {
   "cell_type": "code",
   "execution_count": null,
   "metadata": {},
   "outputs": [],
   "source": [
    "a = true"
   ]
  },
  {
   "cell_type": "markdown",
   "metadata": {},
   "source": [
    "### Comparison operators\n",
    "\n",
    "Next to mathematical operators, Python provides comparison operators.\n",
    "A comparison operator evaluates to a value of type **boolean**.\n",
    "\n",
    "Here some examples of comparison operators."
   ]
  },
  {
   "cell_type": "code",
   "execution_count": null,
   "metadata": {},
   "outputs": [],
   "source": [
    "# If 2 is greater than 5, then `2 > 5` will evaluate to True, otherwise it will evaluate to False\n",
    "# The value is then assigned to variable `x`\n",
    "x = 2 > 5\n",
    "\n",
    "a = 3\n",
    "y = a <= 5 # <= is the smaller or equal operator \n",
    "\n",
    "b = 4\n",
    "\n",
    "z = a == b # == is the equality operator: is one value equal to another?\n",
    "k = a != b # != is the inequality operator: is one value different from another?"
   ]
  },
  {
   "cell_type": "markdown",
   "metadata": {},
   "source": [
    "**Note the difference between the equality operator `==` and the assignement operator `=`**\n",
    "\n",
    "Expressions like the ones above behave exactly as probably more familiar ones like `x = 2 + 3`. You perform a computation and you assign the result to a variable."
   ]
  },
  {
   "cell_type": "markdown",
   "metadata": {},
   "source": [
    "### Exercise\n",
    "\n",
    "Print the requested values"
   ]
  },
  {
   "cell_type": "code",
   "execution_count": null,
   "metadata": {},
   "outputs": [],
   "source": [
    "a = \"Hello\"\n",
    "## Perform equality comparison between variable `a` and \"World\" and print the result\n",
    "\n",
    "b = 7\n",
    "## Perform a greater or equal comparison between 10 and variable `b` and print the result"
   ]
  },
  {
   "cell_type": "markdown",
   "metadata": {},
   "source": [
    "### Logical operators\n",
    "\n",
    "\n",
    "Python also provides some particular comparison operators that are written in plain English: the logical operators.\n",
    "Logical operators are tipically used when multiple conditions have to be combined. \n",
    "\n",
    " - `and`: it's True if both the boolean variables are True\n",
    " - `or`: it's True if at least one boolean variable is True\n",
    " - `not`: it's True only if the boolean variable is False\n",
    "\n",
    "\n",
    "<table>\n",
    "<tr><td>\n",
    "\n",
    "| x | y | x and y |\n",
    "|:---:|:---:|:---:|\n",
    "| `True` | `True` | `True` |\n",
    "| `True` | `False` | `False` |\n",
    "| `False` | `True` | `False` |\n",
    "| `False` | `False` | `False` |\n",
    "\n",
    "</td><td>\n",
    "    \n",
    "| x | y | x or y |\n",
    "|:---:|:---:|:---:|\n",
    "| `True` | `True` | `True` |\n",
    "| `True` | `False` | `True` |\n",
    "| `False` | `True` | `True` |\n",
    "| `False` | `False` | `False` |\n",
    "\n",
    "</td><td>\n",
    "\n",
    "|x | not x |\n",
    "|:---:|:---:|\n",
    "| `True` | `False` |\n",
    "| `False` | `True` |\n",
    "\n",
    "</td></tr> </table>"
   ]
  },
  {
   "cell_type": "code",
   "execution_count": null,
   "metadata": {},
   "outputs": [],
   "source": [
    "x = 2 > 5 and 3 > 1.1\n",
    "y = 3 > 1 and 8 <= 3\n",
    "\n",
    "z = 0.01 > 2 * 0.001 or 8 > 11 or 3 == 4\n",
    "k = False or 10 > 1\n",
    "\n",
    "j = False and False\n",
    "\n",
    "m = not y and not k\n",
    "p = (x and y) or (j and not m)"
   ]
  },
  {
   "cell_type": "markdown",
   "metadata": {},
   "source": [
    "### `if` statement\n",
    "\n",
    "A statement in Python is a way for controlling the flow of execution of code.\n",
    "\n",
    "In all the Python programs seen so far, all the instructions were executed one after the other.\n",
    "The `if` statement allows to check a condition and to change the behavior of the program accordingly.\n",
    "\n",
    "An example consists in running a block of code only if a condition is verified."
   ]
  },
  {
   "cell_type": "code",
   "execution_count": null,
   "metadata": {},
   "outputs": [],
   "source": [
    "# This is an `if` statement\n",
    "if 2 > 5:\n",
    "    print(\"2 is greater than 5\")\n",
    "\n",
    "print(\"Normal execution here\")\n",
    "\n",
    "# This is another `if` statement\n",
    "if 8 <= 9:\n",
    "    print(\"8 is less than or equal to 9\")\n",
    "    \n",
    "print(\"Another normal execution here\")"
   ]
  },
  {
   "cell_type": "markdown",
   "metadata": {},
   "source": [
    "As you may notice an `if` statement is made of the following parts:\n",
    " - the `if` keyword detenos the beginning of the statement\n",
    " - a **boolean** condition that will be evaluated by the program\n",
    " - the `:` at the end of that line\n",
    " - one or more line of code that constitute the body of the `if` statement. These are the lines that are conditionally executed. You can clearly identify them because they are indented 4 spaces with respect to the rest of the code.\n",
    "\n",
    "\n",
    "Indentation is the process of adding leading whitespaces at the beginning of a line of code.\n",
    "Indentation is always done with multiple of 4 spaces.\n",
    "Consecutive lines of code with the same amount of indentation, belong to the same \"block of code\".\n",
    "**NOTE** You can indent code pressing the `TAB` button on your keyboard (i.e. the one at the left of letter `Q`)."
   ]
  },
  {
   "cell_type": "markdown",
   "metadata": {},
   "source": [
    "### Alternatives\n",
    "\n",
    "As you have seen in the previous example, using the `if` statement allows to ignore some lines of the code if the condition is not verified.\n",
    "The rest of the code is always executed.\n",
    "The `if` statements can become more complex than that, for example you can specify a what to do if a condition is verified and an alternative to be executed only when the condition is not verified.\n",
    "\n",
    "The next code cell will print a certain message if some conditions are verified.\n",
    "The optional `else` clause allows to specify an alternative body if the condtions are not met.\n",
    "When it's present, the `else` acts as a default (catch all) condition.\n",
    "\n",
    "P.S. note that the body of an `if` statement can be made of any number of lines, not just 1 per case. All the lines must be properly indented."
   ]
  },
  {
   "cell_type": "code",
   "execution_count": null,
   "metadata": {},
   "outputs": [],
   "source": [
    "a = 3\n",
    "print(\"This is always executed and a is\", a)\n",
    "\n",
    "if a == 4 or a > 8:\n",
    "    print(\"a is a beautiful number\")\n",
    "else:\n",
    "    print(\"hey\")\n",
    "    print(\"a is an ugly number\")\n",
    "    \n",
    "print(\"This is always executed\")"
   ]
  },
  {
   "cell_type": "markdown",
   "metadata": {},
   "source": [
    "### Exercise\n",
    "\n",
    "Write an `if` statement in order to check if a number is even or odd. Test it on both input numbers.\n",
    "Use `print()` to see if the statements behaved as expected.\n",
    "\n",
    "Hint: the percentage symbol `%` is called **modulo operator**.\n",
    "An operation between two numbers using this operator will be evaluated as the remainder of an integer division betwen the two numbers.\n",
    "\n",
    "    x = 10 % 6\n",
    "\n",
    "Use it to complete the exercise."
   ]
  },
  {
   "cell_type": "code",
   "execution_count": null,
   "metadata": {},
   "outputs": [],
   "source": [
    "# Input numbers\n",
    "x = 3\n",
    "y = 62\n",
    "\n",
    "## Write your if statements here\n"
   ]
  },
  {
   "cell_type": "markdown",
   "metadata": {},
   "source": [
    "### A lot of conditions\n",
    "\n",
    "Note that an `if` statement can be made of any number of conditions.\n",
    "The first condition must be indicated with the keyword `if`.\n",
    "Then you can add as many additional conditions as you want using the keyword `elif` (which translates to \"else if\" in plain English).\n",
    "Lastly, you can eventually add the `else` keyword: this has no boolean condition associated to it and its body is executed whenever none of the previous conditions was verified.\n",
    "\n",
    "Note that each `if` statement must have exactly 1 `if` (at the beginning) and it can have at maximum 1 `else` (at the end).\n",
    "\n",
    "The order of the conditions in an `if` statement is important! After a condition is verified, all the following ones are automatically discarded."
   ]
  },
  {
   "cell_type": "code",
   "execution_count": null,
   "metadata": {},
   "outputs": [],
   "source": [
    "x = 10\n",
    "\n",
    "# This is the first if statement\n",
    "if x == 1:\n",
    "    print(x, \"is equal to 1\")\n",
    "elif x == 2:\n",
    "    print(x, \"is equal to 2\")\n",
    "elif x < 3:\n",
    "    print(x, \"is smaller than 3\")\n",
    "elif x >= 4 and x < 8:\n",
    "    print(x, \"is greater or equal than 4 and smaller than 8\")\n",
    "else:\n",
    "    print(x, \"is none of the above\")\n",
    "\n",
    "# This is the second if statement\n",
    "if x < 6:\n",
    "    print(x, \"is smaller than 6\")\n",
    "elif x == 7:\n",
    "    print(x, \"is equal to 7\")\n",
    "\n",
    "# This is the third if statement\n",
    "if x > 20:\n",
    "    print(x, \"is greater than 20\")\n",
    "elif x > 8:\n",
    "    print(x, \"is greater than 8\")\n",
    "elif x > 3:\n",
    "    print(x, \"is greater than 3\")\n",
    "else:\n",
    "    print(x, \"is probably just a number\")"
   ]
  },
  {
   "cell_type": "markdown",
   "metadata": {},
   "source": [
    "Look at the indentation and remeber that there can only be 1 `if` in each statement to clearly understand which lines are part of which block.\n",
    "Only 1 case of an `if` statement will be executed."
   ]
  },
  {
   "cell_type": "code",
   "execution_count": null,
   "metadata": {},
   "outputs": [],
   "source": [
    "if 3 > 2:\n",
    "    print(\"This is the first statement\")\n",
    "if 3 > 1:\n",
    "    print(\"This is the second statement\")\n",
    "if 3 > 2:\n",
    "    print(\"This is the 1st case in the third statement\")\n",
    "elif 3 > 1:\n",
    "    print(\"This is the 2nd case in the third statement\")"
   ]
  },
  {
   "cell_type": "markdown",
   "metadata": {},
   "source": [
    "### Counters\n",
    "\n",
    "A counter is an **int** variable that, as its name says, is used to count events.\n",
    "Using the assignment operator you can update the value of a variable (e.g. incrementing it by 1).\n",
    "\n",
    "Don't forget to first initialize the counter variable with a value (generally `0`) otherwise you will get an error when trying to update it the first time (i.e. you are using an undefined variable in an assignment)."
   ]
  },
  {
   "cell_type": "code",
   "execution_count": null,
   "metadata": {},
   "outputs": [],
   "source": [
    "x = 0\n",
    "\n",
    "x = x + 1\n",
    "print(\"I count\", x)\n",
    "\n",
    "x = x + 1\n",
    "print(\"I count\", x)\n",
    "\n",
    "x = x + 1\n",
    "print(\"I count\", x)"
   ]
  },
  {
   "cell_type": "markdown",
   "metadata": {},
   "source": [
    "A counter is a very simple concept and it has no particular rules, it's just a variable as any other.\n",
    "Moreover, after looking at the previous example, you may be asking yourself what's the purpose of that code.\n",
    "After all, as the author of the code, when writing the previous example, you already knew that the counter variable would have been incremented 3 times.\n",
    "\n",
    "The truth is that counters are useful when used in combination with Python statements. Remeber that a statement allows to control the flow of execution.\n",
    "An `if` statement allows us to update the counter only when a condition is verified.\n",
    "\n",
    "Consider as an example a digital clock where the displayed numbers increase every minute. The code inside the digital clock could be considered as if it's checking the condition \"is 1 minute passed since my last counter update?\" and then act accordingly.\n",
    "\n",
    "A possible use case for you is to use a counter to keep track of how many times a condition was verified in a block of code, given a particular input."
   ]
  },
  {
   "cell_type": "code",
   "execution_count": null,
   "metadata": {},
   "outputs": [],
   "source": [
    "c = 0\n",
    "\n",
    "x = 5\n",
    "if x < 12:\n",
    "    c = c + 1\n",
    "\n",
    "x = 8\n",
    "if x < 12:\n",
    "    c = c + 1\n",
    "\n",
    "x = x * 2 * 3\n",
    "if x < 12:\n",
    "    c = c + 1\n",
    "    \n",
    "if c > 2:\n",
    "    print(\"2 or more conditions have been verified\")"
   ]
  },
  {
   "cell_type": "markdown",
   "metadata": {},
   "source": [
    "### Nested conditions\n",
    "\n",
    "You can write an `if` statement within another `if` statement.\n",
    "The body of an `if` statement is just a block of code as all the rest, with the difference that is executed only if some conditions are satisfied."
   ]
  },
  {
   "cell_type": "code",
   "execution_count": null,
   "metadata": {},
   "outputs": [],
   "source": [
    "n = 0\n",
    "\n",
    "# This is the first if statement\n",
    "if not 2 > 5:\n",
    "    n = n + 1\n",
    "\n",
    "# This is the second if statement\n",
    "if n != 0 or n == 0:\n",
    "    n = n + 1\n",
    "    # This is the third if statement\n",
    "    if 8.5 <= 5.8:\n",
    "        n = n + 1\n",
    "    elif 7.7 > 7.7 and 2.2 == 2.2:\n",
    "        n = n + 1\n",
    "    else:\n",
    "        n = n - 1\n",
    "else:\n",
    "    n = n + 1"
   ]
  },
  {
   "cell_type": "markdown",
   "metadata": {},
   "source": [
    "### Exercise\n",
    "\n",
    "Complete the code using what you learnt about `if` statements"
   ]
  },
  {
   "cell_type": "code",
   "execution_count": null,
   "metadata": {},
   "outputs": [],
   "source": [
    "# Input data\n",
    "a = 10\n",
    "b = 11\n",
    "\n",
    "# Write some code that: \n",
    "# - prints a message if the sum of the input values is between 10 and 30\n",
    "# - prints a message if at least one of the input values is greater than 10"
   ]
  }
 ],
 "metadata": {
  "kernelspec": {
   "display_name": "Python 3",
   "language": "python",
   "name": "python3"
  },
  "language_info": {
   "codemirror_mode": {
    "name": "ipython",
    "version": 3
   },
   "file_extension": ".py",
   "mimetype": "text/x-python",
   "name": "python",
   "nbconvert_exporter": "python",
   "pygments_lexer": "ipython3",
   "version": "3.7.5"
  }
 },
 "nbformat": 4,
 "nbformat_minor": 4
}
