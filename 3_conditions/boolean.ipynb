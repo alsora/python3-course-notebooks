{
 "cells": [
  {
   "cell_type": "markdown",
   "metadata": {},
   "source": [
    "# Boolean conditions\n",
    "\n",
    "An additional type available in Python is the **boolean**.\n",
    "\n",
    "A boolean variable can only have 2 possible values: `True` or `False`."
   ]
  },
  {
   "cell_type": "code",
   "execution_count": null,
   "metadata": {},
   "outputs": [],
   "source": [
    "x = True\n",
    "y = False\n",
    "x = y\n",
    "\n",
    "# Boolean can be printed as well\n",
    "print(y)"
   ]
  },
  {
   "cell_type": "markdown",
   "metadata": {},
   "source": [
    "### Comparison operators\n",
    "\n",
    "Next to mathematical operators, Python provides comparison operators.\n",
    "A comparison operator evaluates to a value of type **boolean**.\n",
    "\n",
    "Here some examples of comparison operators."
   ]
  },
  {
   "cell_type": "code",
   "execution_count": null,
   "metadata": {},
   "outputs": [],
   "source": [
    "# If 2 is greater than 5, then `2 > 5` will evaluate to True, otherwise it will evaluate to False\n",
    "# The value is then assigned to variable `x`\n",
    "x = 2 > 5\n",
    "\n",
    "a = 3\n",
    "y = a <= 5 # <= is the smaller or equal operator \n",
    "\n",
    "b = 4\n",
    "\n",
    "z = a == b # == is the equality operator: is one value equal to another?\n",
    "k = a != b # != is the inequality operator: is one value different from another?"
   ]
  },
  {
   "cell_type": "markdown",
   "metadata": {},
   "source": [
    "**Note the difference between the equality operator `==` and the assignement operator `=`**"
   ]
  },
  {
   "cell_type": "markdown",
   "metadata": {},
   "source": [
    "### Exercise\n",
    "\n",
    "Print the requested values"
   ]
  },
  {
   "cell_type": "code",
   "execution_count": null,
   "metadata": {},
   "outputs": [],
   "source": [
    "a = \"Hello\"\n",
    "## Print the result of an equality comparison between variable `a` and \"World\"\n",
    "\n",
    "b = 7\n",
    "## Print the result of a greater or equal comparison between 10 and variable `b`"
   ]
  },
  {
   "cell_type": "markdown",
   "metadata": {},
   "source": [
    "### More comparison operators\n",
    "\n",
    "\n",
    "Python also provides some particular comparison operators that are written in plain English:\n",
    " - **or** it's True if at least one of the 2 boolean variables is True\n",
    " - **and** it's True if both the boolean variables are True\n",
    " - **not** changes the value of a boolean variables"
   ]
  },
  {
   "cell_type": "code",
   "execution_count": null,
   "metadata": {},
   "outputs": [],
   "source": [
    "x = True or False\n",
    "y = False and False\n",
    "\n",
    "k = x or False\n",
    "m = 2 < 5 and x\n",
    "\n",
    "p = not y and True and 3 > 1.1"
   ]
  },
  {
   "cell_type": "markdown",
   "metadata": {},
   "source": [
    "### If-else statement\n",
    "\n",
    "A statement in Python is a way for controlling the flow of execution of code.\n",
    "\n",
    "Normally, when you run a code block, all the instructions are executed one after the other.\n",
    "An **if-else** statement allows to let the program decide which lines have to be executed."
   ]
  },
  {
   "cell_type": "code",
   "execution_count": null,
   "metadata": {},
   "outputs": [],
   "source": [
    "if 2 > 5:\n",
    "    print(\"2 is greater than 5\")\n",
    "\n",
    "if 8 <= 9:\n",
    "    print(\"8 is less than or equal to 9\")"
   ]
  },
  {
   "cell_type": "markdown",
   "metadata": {},
   "source": [
    "As you may notice an **if-else** statement is made of the following parts:\n",
    " - the `if` keyword detenos the beginning of the statement\n",
    " - a boolean condition that will be evaluated by the program\n",
    " - the `:` at the end of the statement line\n",
    " - one or more line of code that constitute the body of the **if-else** statement. These are the lines that are conditionally executed. They must be indented 4 spaces with respect to the rest of the code.\n",
    "\n",
    "\n",
    "Indentation is the concept of adding leading whitespaces at the beginning of a line of code.\n",
    "Indentation is always done with multiple of 4 spaces.\n",
    "Consecutive lines of code with the same amount of indentation, belong to the same \"block of code\".\n",
    "**NOTE** You can indent code pressing the `TAB` button on your keyboard (i.e. the one at the left of letter `Q`)."
   ]
  },
  {
   "cell_type": "markdown",
   "metadata": {},
   "source": [
    "Obviously, the **if-else** statements can become much more complex than this.\n",
    "\n",
    "The next code cell will print a certain message if some conditions are verified.\n",
    "The optional **else** clause allows to specify an alternative body if the condtions are not met.\n",
    "When it's present, the **else** acts as a default (catch all) condition.\n",
    "\n",
    "P.S. note that the body of an **if-else** statement can be made of any number of lines, not just 1 per case. All the lines must be properly indented."
   ]
  },
  {
   "cell_type": "code",
   "execution_count": null,
   "metadata": {},
   "outputs": [],
   "source": [
    "a = 3\n",
    "if a == 4 or a > 8:\n",
    "    print(\"a is a beautiful number\")\n",
    "else:\n",
    "    print(\"hey\")\n",
    "    print(\"a is an ugly number\")"
   ]
  },
  {
   "cell_type": "markdown",
   "metadata": {},
   "source": [
    "### Exercise\n",
    "\n",
    "Write an **if-else** statement to check if a number is even or odd. Test it on both input numbers.\n",
    "Use `print()` to see if the statements behaved as expected.\n",
    "\n",
    "Hint: the `%` (percentage symbol) is called **modulo operator**.\n",
    "An operation between two numbers using this operator will be evaluated as the remainder of an integer division betwen the two numbers.\n",
    "\n",
    "    x = 10 % 6\n",
    "\n",
    "Try to use it to complete the exercise."
   ]
  },
  {
   "cell_type": "code",
   "execution_count": null,
   "metadata": {},
   "outputs": [],
   "source": [
    "# Input numbers\n",
    "x = 3\n",
    "y = 62\n",
    "\n",
    "## Write your if-else statements here\n"
   ]
  },
  {
   "cell_type": "markdown",
   "metadata": {},
   "source": [
    "### A lot of conditions\n",
    "\n",
    "Note that an **if-else** statement can be made of any number of conditions.\n",
    "The first condition must be indicated with the keyword `if`.\n",
    "You can add as many additional conditions as you want using the keyword `elif` (which translates to \"else if\" in plain English).\n",
    "Lastly, you can eventually add the `else` keyword: this has no boolean condition associated to it and its body is executed whenever none of the previous conditions was verified.\n",
    "\n",
    "Note that each **if-else** statement must have exactly 1 `if` (at the beginning) and it can have at maximum 1 `else` (at the end).\n",
    "\n",
    "The order of the conditions in an **if-else** statement is important! After a condition is verified, all the following ones are automatically discarded."
   ]
  },
  {
   "cell_type": "code",
   "execution_count": null,
   "metadata": {},
   "outputs": [],
   "source": [
    "x = 10\n",
    "\n",
    "# This is the first if-else statement\n",
    "if x == 1:\n",
    "    print(x, \"is equal to 1\")\n",
    "elif x == 2:\n",
    "    print(x, \"is equal to 2\")\n",
    "elif x < 3:\n",
    "    print(x, \"is smaller than 3\")\n",
    "elif x >= 4 and x < 8:\n",
    "    print(x, \"is greater or equal than 4 and smaller than 8\")\n",
    "else:\n",
    "    print(x, \"is none of the above\")\n",
    "\n",
    "# This is the second if-else statement\n",
    "if x < 6:\n",
    "    print(x, \"is smaller than 6\")\n",
    "elif x == 7:\n",
    "    print(x, \"is equal to 7\")\n",
    "\n",
    "# This is the third if-else statement\n",
    "if x > 20:\n",
    "    print(x, \"is greater than 20\")\n",
    "elif x > 8:\n",
    "    print(x, \"is greater than 8\")\n",
    "elif x > 3:\n",
    "    print(x, \"is greater than 3\")\n",
    "else:\n",
    "    print(x, \"is probably just a number\")"
   ]
  },
  {
   "cell_type": "markdown",
   "metadata": {},
   "source": [
    "### Exercise\n",
    "\n",
    "Complete the code using what you learnt about **if-else** statements"
   ]
  },
  {
   "cell_type": "code",
   "execution_count": null,
   "metadata": {},
   "outputs": [],
   "source": [
    "# Input data\n",
    "a = 10\n",
    "b = 11\n",
    "\n",
    "# Write some code that: \n",
    "# - prints a message if the sum of the input values is between 10 and 30\n",
    "# - prints a message if at least one of the input values is greater than 10"
   ]
  }
 ],
 "metadata": {
  "kernelspec": {
   "display_name": "Python 3",
   "language": "python",
   "name": "python3"
  },
  "language_info": {
   "codemirror_mode": {
    "name": "ipython",
    "version": 3
   },
   "file_extension": ".py",
   "mimetype": "text/x-python",
   "name": "python",
   "nbconvert_exporter": "python",
   "pygments_lexer": "ipython3",
   "version": "3.7.5"
  }
 },
 "nbformat": 4,
 "nbformat_minor": 4
}