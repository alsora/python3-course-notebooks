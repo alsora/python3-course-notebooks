{
 "cells": [
  {
   "cell_type": "markdown",
   "metadata": {},
   "source": [
    "# Boolean conditions\n",
    "\n",
    "An additional type available in Python is the **boolean**.\n",
    "\n",
    "A boolean variable can only have 2 possible values: `True` or `False`."
   ]
  },
  {
   "cell_type": "code",
   "execution_count": null,
   "metadata": {},
   "outputs": [],
   "source": [
    "x = True\n",
    "y = False\n",
    "x = y\n",
    "\n",
    "# Boolean can be printed as well\n",
    "print(y)"
   ]
  },
  {
   "cell_type": "markdown",
   "metadata": {},
   "source": [
    "### Comparison operators\n",
    "\n",
    "Next to mathematical operators, Python provides comparison operators.\n",
    "A comparison operator returns a value of type **boolean**.\n",
    "\n",
    "Here some examples of comparison operators."
   ]
  },
  {
   "cell_type": "code",
   "execution_count": null,
   "metadata": {},
   "outputs": [],
   "source": [
    "# If 2 is greater than 5 x will be True. Otherwise it will be False\n",
    "x = 2 > 5\n",
    "\n",
    "a = 3\n",
    "y = a <= 5 # <= is the smaller or equal operator \n",
    "\n",
    "b = 4\n",
    "\n",
    "z = a == b # == is the equality operator: is one value equal to another?\n",
    "k = a != b # != is the inequality operator: is one value different from another?"
   ]
  },
  {
   "cell_type": "markdown",
   "metadata": {},
   "source": [
    "### Exercise\n",
    "\n",
    "Print the requested values"
   ]
  },
  {
   "cell_type": "code",
   "execution_count": null,
   "metadata": {},
   "outputs": [],
   "source": [
    "a = \"Hello\"\n",
    "## Print the result of an equality comparison between variable `a` and \"World\"\n",
    "\n",
    "b = 7\n",
    "## Print the result of a greater or equal comparison between 10 and variable `b`"
   ]
  },
  {
   "cell_type": "markdown",
   "metadata": {},
   "source": [
    "### More comparison operators\n",
    "\n",
    "\n",
    "Python also provides some particular comparison operators that are written in plain English:\n",
    " - **or** it's True if at least one of the 2 boolean variables is True\n",
    " - **and** it's True if both the boolean variables are True\n",
    " - **not** changes the value of a boolean variables"
   ]
  },
  {
   "cell_type": "code",
   "execution_count": null,
   "metadata": {},
   "outputs": [],
   "source": [
    "x = True or False\n",
    "y = False and False\n",
    "\n",
    "k = x or False\n",
    "m = 2 < 5 and x\n",
    "\n",
    "p = not y and True and 3 > 1.1"
   ]
  },
  {
   "cell_type": "markdown",
   "metadata": {},
   "source": [
    "### If-else statement\n",
    "\n",
    "A statement in Python is a way for controlling the flow of execution of code.\n",
    "\n",
    "Normally, when you run a code block, all the instructions are executed one after the other.\n",
    "An **if-else** statement allows to let the program decide which lines have to be executed."
   ]
  },
  {
   "cell_type": "code",
   "execution_count": null,
   "metadata": {},
   "outputs": [],
   "source": [
    "if 2 > 5:\n",
    "    print(\"This comes from the first statement\")\n",
    "\n",
    "if 8 <= 9:\n",
    "    print(\"This comes from the second statement\")"
   ]
  },
  {
   "cell_type": "markdown",
   "metadata": {},
   "source": [
    "As you may notice an **if-else** statement is made of the following parts:\n",
    " - a boolean condition that will be evaluated by the program\n",
    " - the `:` at the end of the statement line\n",
    " - one or more line of code that constitute the body of the **if-else** statement. These are the lines that are conditionally executed. They must be indented 4 spaces with respect to the rest of the code.\n",
    " \n",
    "**NOTE** You can indent code pressing the `TAB` button on your keyboard (i.e. the one at the left of letter `Q`)."
   ]
  },
  {
   "cell_type": "markdown",
   "metadata": {},
   "source": [
    "Obviously, the **if-else** statements can become much more complex than this."
   ]
  },
  {
   "cell_type": "code",
   "execution_count": null,
   "metadata": {},
   "outputs": [],
   "source": [
    "a = 3\n",
    "if a == 4 and a > 2:\n",
    "    print(\"a is a beautiful number\")\n",
    "else:\n",
    "    print(\"a is an ugly number\")\n",
    "\n",
    "b = 7\n",
    "\n",
    "if a > 5:\n",
    "    print(\"a is greater than 5\")\n",
    "elif b > 5:\n",
    "    print(\"b is greater than 5\")\n",
    "else:\n",
    "    print(\"no numbers are greater than 5\")"
   ]
  },
  {
   "cell_type": "markdown",
   "metadata": {},
   "source": [
    "### Exercise\n",
    "\n",
    "Write **if-else** statements to check if the input number is even or odd.\n",
    "\n",
    "Hint: the `%` (percentage symbol) is called modulo operator. It returns the remainder of a division. Try to use it to complete the exercise."
   ]
  },
  {
   "cell_type": "code",
   "execution_count": null,
   "metadata": {},
   "outputs": [],
   "source": [
    "# Input numbers\n",
    "x = 3\n",
    "y = 62\n",
    "\n",
    "## Write your if-else statements here"
   ]
  },
  {
   "cell_type": "markdown",
   "metadata": {},
   "source": [
    "### A lot of conditions\n",
    "\n",
    "Note that an **if-else** statement can be made of any number of conditions.\n",
    "However, only 1 `if` (at the beginning) and 1 `else` (at the end) are allowed, all the others must be `elif`.\n",
    "The `else` has no condition and it's executed whenever none of the previous conditions was verified."
   ]
  },
  {
   "cell_type": "code",
   "execution_count": null,
   "metadata": {},
   "outputs": [],
   "source": [
    "x = 10\n",
    "\n",
    "if x == 1:\n",
    "    print(1)\n",
    "elif x == 2:\n",
    "    print(2)\n",
    "elif x < 3:\n",
    "    print(3)\n",
    "elif x >= 4 and x < 8:\n",
    "    print(4)\n",
    "else:\n",
    "    print(5)\n",
    "    \n",
    "if x < 6:\n",
    "    print(6)\n",
    "elif x == 7:\n",
    "    print(7)\n"
   ]
  },
  {
   "cell_type": "markdown",
   "metadata": {},
   "source": [
    "### Exercise\n",
    "\n",
    "Complete the code using what you learnt about **if-else** statements"
   ]
  },
  {
   "cell_type": "code",
   "execution_count": null,
   "metadata": {},
   "outputs": [],
   "source": [
    "# Input data\n",
    "a = 10\n",
    "b = 11\n",
    "\n",
    "# Write some code that: \n",
    "# - prints a message if the sum of the input values is between 10 and 30\n",
    "# - prints a message if at least one of the input values is greater than 10"
   ]
  }
 ],
 "metadata": {
  "kernelspec": {
   "display_name": "Python 3",
   "language": "python",
   "name": "python3"
  },
  "language_info": {
   "codemirror_mode": {
    "name": "ipython",
    "version": 3
   },
   "file_extension": ".py",
   "mimetype": "text/x-python",
   "name": "python",
   "nbconvert_exporter": "python",
   "pygments_lexer": "ipython3",
   "version": "3.7.5"
  }
 },
 "nbformat": 4,
 "nbformat_minor": 4
}
