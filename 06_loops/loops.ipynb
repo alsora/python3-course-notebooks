{
 "cells": [
  {
   "cell_type": "markdown",
   "metadata": {},
   "source": [
    "# Loops\n",
    "\n",
    "The `if` statement is used to conditionally execute some parts of the code.\n",
    "\n",
    "Another common requirement for a Python program is to repeat some operations multipe times. This is done with **loop** statements.\n",
    "\n",
    "As the `if` statements deal with **boolean** variables, the **loop** statements usually deal with containers like **lists**."
   ]
  },
  {
   "cell_type": "markdown",
   "metadata": {},
   "source": [
    "### The `for` loop\n",
    "\n",
    "In the previous lesson you wrote code to perform operations on every element of a list; however, this is a very repetitive task: you can do it if your list has a small number of elements, but it would become unsustainable in case of hundreds or thousands of elements."
   ]
  },
  {
   "cell_type": "code",
   "execution_count": null,
   "metadata": {},
   "outputs": [],
   "source": [
    "a = [1, 8, 64]\n",
    "\n",
    "x = a[0]\n",
    "print(x)\n",
    "x = a[1]\n",
    "print(x)\n",
    "x = a[2]\n",
    "print(x)"
   ]
  },
  {
   "cell_type": "markdown",
   "metadata": {},
   "source": [
    "Here is where the `for` loop statement comes into help.\n",
    "A `for` loop requires a list of elements and it is based on the concept of iterations.\n",
    "An iteration consists in executing the code that is in the body of the statement using one of the element in the list.\n",
    "The `for` loop goes through all the elements in the list one after the other, according to their order (i.e. their index).\n",
    "The `for` loop runs many iterations as the number of elements in the list.\n",
    "\n",
    "The body of a `for` loop is like the body of a function that is called on every element in the list, one by one.\n",
    "Note that the whole body is called on one element before proceeding to the next one."
   ]
  },
  {
   "cell_type": "code",
   "execution_count": null,
   "metadata": {},
   "outputs": [],
   "source": [
    "def divide(z):\n",
    "    return z / 2\n",
    "\n",
    "my_list = [1, 8, 64]\n",
    "for x in my_list:\n",
    "    print(\"This iteration is working with\", x)\n",
    "    half_x = divide(x)\n",
    "    print(\"The result is\", half_x)"
   ]
  },
  {
   "cell_type": "markdown",
   "metadata": {},
   "source": [
    "A `for` loop is characterized by:\n",
    " - the `for` keyword\n",
    " - a loop variable (`x` in the example above), i.e. a name to be used to refer to the current element in the **list** in turn\n",
    " - the **list** you want to work on\n",
    " - a body that does some work using the loop variable\n",
    "\n",
    "You can note the similarities betwen the `for` and the other statements: you need a colon `:` at the end of the first line and the body must be indented.\n",
    "\n",
    "The first line of the `for` statement always defines a so called loop variable.\n",
    "This variable is a place-holder and it allows to use values from the list in the statement body, using the same concept as **input parameters** of functions allow to use external values into the function body.\n",
    "\n",
    "The first iteration will assign the first element of the list to the loop variable and then it will execute the body of the `for` loop using that value. After the execution of the whole body, the successive iteration will start and the successive element in the list will be automatically assigned to the loop variable. This will continue until all the elements in the list have been processed.\n",
    "\n",
    "The name of this variable is not relevant, simply be careful to not use a name that is already used by some other variable in the code."
   ]
  },
  {
   "cell_type": "markdown",
   "metadata": {},
   "source": [
    "### Exercise\n",
    "\n",
    "Define a function that given an input number, returns the number itself if it's positive or `0` if the input number is negative.\n",
    "Use a `for` loop to call the function on every value in the input list and to print all the results."
   ]
  },
  {
   "cell_type": "code",
   "execution_count": null,
   "metadata": {},
   "outputs": [],
   "source": [
    "# Input list\n",
    "x = [1, 0, -2, -4, 5]"
   ]
  },
  {
   "cell_type": "markdown",
   "metadata": {},
   "source": [
    "### Exercise\n",
    "\n",
    "Define a function that takes a list as input argument and returns the sum of its elements. Call it on both input lists.\n",
    "\n",
    "Hint: you need to use a counter to incrementally keep track of the sum"
   ]
  },
  {
   "cell_type": "code",
   "execution_count": null,
   "metadata": {},
   "outputs": [],
   "source": [
    "# Input data\n",
    "x = [100, 1000, 10]\n",
    "y = [1, 1]"
   ]
  },
  {
   "cell_type": "markdown",
   "metadata": {},
   "source": [
    "### How to use `for` loops effectively\n",
    "\n",
    "A `for` loop can be used for a wide variety of reasons and most of the times it's invetibale when working with a **list**. Remember that it allows to do an operation multiple times, using all the elements of a list.\n",
    "Examples of use-cases are:\n",
    "\n",
    " - To call a function on every element of a container.\n",
    " - To update an external value multiple times according to the elements of a container."
   ]
  },
  {
   "cell_type": "code",
   "execution_count": null,
   "metadata": {},
   "outputs": [],
   "source": [
    "c = 0\n",
    "for x in [10, 20, 30]:\n",
    "    c = c + x # Update an external variable\n",
    "    print(\"The current elemenet is\", x, \"the current sum is\", c) # Call a function on the current element"
   ]
  },
  {
   "cell_type": "markdown",
   "metadata": {},
   "source": [
    "In the above example, the variable `c` is defined outside of the `for` loop and then it is used inside.\n",
    "The variable is initialized once before the loop and then it is updated in every loop iteration.\n",
    "\n",
    "On the other hand, if you define a variable inside a `for` loop, its value will be reset at every iteration."
   ]
  },
  {
   "cell_type": "code",
   "execution_count": null,
   "metadata": {},
   "outputs": [],
   "source": [
    "for x in [10, 20, 30]:\n",
    "    c = 0\n",
    "    c = c + x\n",
    "    print(\"The current elemenet is\", x, \"the current sum is\", c)"
   ]
  },
  {
   "cell_type": "markdown",
   "metadata": {},
   "source": [
    "### Debugging Python programs\n",
    "\n",
    "In computer science, to **debug** is the process of fixing errors in a computer program.\n",
    "You can have two main types of errors.\n",
    "\n",
    "Syntax errors consist in writing a line of code that is not recognized by Python. This kind of errors are automatically detected when you run your program and will result in stopping the execution."
   ]
  },
  {
   "cell_type": "code",
   "execution_count": null,
   "metadata": {},
   "outputs": [],
   "source": [
    "# missing `,` and closing `]`\n",
    "a = [1, 2 3"
   ]
  },
  {
   "cell_type": "markdown",
   "metadata": {},
   "source": [
    "Functional errors consist in having a Python program that does not do what is supposed to do, even if it terminates successfully, with no syntax errors appear."
   ]
  },
  {
   "cell_type": "code",
   "execution_count": null,
   "metadata": {},
   "outputs": [],
   "source": [
    "def max(a, b):\n",
    "    # should check `>` instead of `<`\n",
    "    if a < b:\n",
    "        return a\n",
    "    else:\n",
    "        return b\n",
    "\n",
    "print(max(10, 20))"
   ]
  },
  {
   "cell_type": "markdown",
   "metadata": {},
   "source": [
    "Fixing functional errors is not easy because you have no initial clue about where the error could be.\n",
    "This is particularly true when dealing with `if` and `for` statements as you are required to think about what happens during each iteration of the loop and about which lines are executed in each case.\n",
    "\n",
    "A very naive, but effective, way for understanding what's going on, is to fill your code with `print()` statements. Print every variable and every condition that your code works with.\n",
    "This is similar to what you would do in your mind while trying to figure out what the program is doing and why it is not producing the expected output.\n",
    "\n",
    "Examples of what to print are:\n",
    " - In the line before an `if` statement, print all values involved in the comparison\n",
    " - In all the cases of an `if` statement (i.e. `if`, `elif`, etc..), print something to know that a specific case has been executed.\n",
    " - In the first line of a `for` loop print the current state of your system, i.e. the current value of the loop variable and eventually also other additional variables.\n",
    " \n",
    "As a rule of thumb, the more you print, the better, as long as you remember to add meaningful messages to the `print()` function rather than just printing plain numbers and then having to figure out which call originated a particular output line."
   ]
  },
  {
   "cell_type": "code",
   "execution_count": null,
   "metadata": {},
   "outputs": [],
   "source": [
    "x = 20\n",
    "y = 10\n",
    "for a in [22, 11, 33, 55, 44]:\n",
    "    print(\"Start of iteration with a:\", a, \"x:\", x, \"y:\", y)\n",
    "    if a < x:\n",
    "        x = a - 1\n",
    "        print(\"---- a is smaller than x, setting x:\", x, \"and jump to next iteration\")\n",
    "        continue\n",
    "    if a > y:\n",
    "        y = a + 1\n",
    "        print(\"---- a is greater than y, setting y:\", y)\n",
    "    print(\"---- x:\", x, \"y:\", y)\n",
    "    if x > y:\n",
    "        y = x + 1\n",
    "        print(\"---- x is greater than y, setting y:\", y)\n",
    "    else:\n",
    "        x = y - 1\n",
    "        print(\"---- x is smaller than y, setting x:\", x)\n",
    "    print(\"End of iteration with a:\", a, \"x:\", x, \"y:\", y)\n",
    "    \n",
    "print(\"#####\")\n",
    "print(\"#####\")\n",
    "print(\"#####\")\n",
    "print(\"final values are x:\", x, \"y:\", y)"
   ]
  },
  {
   "cell_type": "markdown",
   "metadata": {},
   "source": [
    "### Scope of variables and `for` loops\n",
    "\n",
    "A variable can't be used outside the scope where it is defined. This is generally equivalent to say that a variable can only be used in lines with the same or more level of indentation than where it has been defined.\n",
    "The input parameters of functions and the loop variables have a slightly different rule.\n",
    "\n",
    " - The scope of function input parameters is the function body.\n",
    " - A variable defined outside a function, **can't** be used in the function body.\n",
    " - The scope of loop variables is the loop body.\n",
    " - A variable defined outside a loop, **can** be used in the function body.\n",
    "\n",
    "A program that does not follow this rule, will never be correct. It may work for some particular input, but it will eventually break."
   ]
  },
  {
   "cell_type": "code",
   "execution_count": null,
   "metadata": {},
   "outputs": [],
   "source": [
    "def count_greater_than_2(my_list):\n",
    "    # `my_list` is considered to be defined here\n",
    "    c = 0 # `c` is defined here, it couldn't be defined outside of the function\n",
    "    for x in my_list:\n",
    "        # `x` is considered to be defined here\n",
    "        if x > 2:\n",
    "            # loops allow to use variables defined outside\n",
    "            c = c + 1 # `c` can be used here as this line is contained in its scope\n",
    "\n",
    "    # `x` can't be used here as this line is outside of its scope\n",
    "    return c # `c` can be used here as this line is at the same level of its scope\n",
    "        \n",
    "# `my_list` can't be used here as this line is outside of its scope\n",
    "# `c` can't be used here as this line is outside of its scope\n",
    "print(count_greater_than_2([1, 2, 3, 4, 5]))"
   ]
  },
  {
   "cell_type": "markdown",
   "metadata": {},
   "source": [
    "### Exercise\n",
    "\n",
    "Write a function that takes as input a list of **positive** numbers and returns the highest number in the list.\n",
    "\n",
    "Hints: \n",
    " - You need to use an additional variable, similarly to what done with counters. This variable will store the highest element found so far.\n",
    " - Be careful at how you initlalize this variable."
   ]
  },
  {
   "cell_type": "code",
   "execution_count": null,
   "metadata": {},
   "outputs": [],
   "source": [
    "# Input list\n",
    "x = [1, 2, 3, 4, 10]\n",
    "y = [5, 8, 6, 4]\n",
    "z = [2, 1]"
   ]
  },
  {
   "cell_type": "markdown",
   "metadata": {},
   "source": [
    "### Controlling the flow of a loop\n",
    "\n",
    "Python supports multiple levels of indentation. This means that you can have a statement inside a statement inside a statement inside a statement...\n",
    "\n",
    "You can combine together statements of different types, i.e. `for` and `if`."
   ]
  },
  {
   "cell_type": "code",
   "execution_count": null,
   "metadata": {},
   "outputs": [],
   "source": [
    "a = [10, 100, 1000]\n",
    "\n",
    "for x in a:\n",
    "    if x == 10:\n",
    "        print(\"The value is 10\")\n",
    "    else:\n",
    "        print(\"The value is not 10\")"
   ]
  },
  {
   "cell_type": "markdown",
   "metadata": {},
   "source": [
    "### Exercise\n",
    "\n",
    "Define a function that takes a list as input argument and returns the sum of all the elements with a value between 5 and 9."
   ]
  },
  {
   "cell_type": "code",
   "execution_count": null,
   "metadata": {},
   "outputs": [],
   "source": [
    "# Input lists\n",
    "a = [1, 2, 3, 4, 5, 6, 7, 8, 9, 10]\n",
    "b = [6]"
   ]
  },
  {
   "cell_type": "markdown",
   "metadata": {},
   "source": [
    "### More flow control\n",
    "\n",
    "It is also possible to use `if` statements inside `for` loops to skip iterations or to terminate the loop early when some particular condition is satisfied.\n",
    "\n",
    "This is done using the keywords `continue` and `break`.\n",
    " - `continue` ends the current iteration and makes the loop to continue with the next one.\n",
    " - `break` ends the current iteration and terminates the loop, ignoring remaining elements in the container.\n",
    " \n",
    "Note how both keywords stops the current iteration. Similarly to `return` in a function, the lines after a `continue` or `break` are not executed."
   ]
  },
  {
   "cell_type": "code",
   "execution_count": null,
   "metadata": {},
   "outputs": [],
   "source": [
    "a = [10, 20, 30, 40, 50]\n",
    "\n",
    "print(\"Start the loop\")\n",
    "\n",
    "for x in a:\n",
    "    print(\"Start of iteration with x =\", x)\n",
    "    if x == 20:\n",
    "        continue # If this line is executed, stop the current iteration and start the next one\n",
    "    if x == 40:\n",
    "        break # If this line is executed, exit from the loop\n",
    "    print(\"End of iteration with x =\", x)\n",
    "    \n",
    "print(\"End of the loop\")"
   ]
  },
  {
   "cell_type": "markdown",
   "metadata": {},
   "source": [
    "The `continue` and `break` keyword **must** always be within an `if` statement.\n",
    "\n",
    "The motivation is similar to when you have multiple `return` in a function body: lines after them are not executed, so this has to happen only in some situations, not always."
   ]
  },
  {
   "cell_type": "code",
   "execution_count": null,
   "metadata": {},
   "outputs": [],
   "source": [
    "a = [10, 20, 30, 40, 50]\n",
    "\n",
    "# Lines after a `continue` are not executed, so this loop is\n",
    "# equivalent to one with only the first line\n",
    "for x in a:\n",
    "    print(\"I'm doing something with\", x)\n",
    "    continue\n",
    "    print(\"I'm doing something else with\", x)\n",
    "    \n",
    "print(\"-----\")    \n",
    "\n",
    "# A `break` stop the execution of the loop.\n",
    "# This is not really a loop, but it's equivalent to call the first line with the first element of the list\n",
    "for x in a:\n",
    "    print(\"I'm doing such crazy things with\", x)\n",
    "    break\n",
    "    print(\"I'm doing bad things with\", x)"
   ]
  },
  {
   "cell_type": "markdown",
   "metadata": {},
   "source": [
    "### Exercise\n",
    "\n",
    "Define a function that concatenates strings until the `\"TAG\"` symbol is found.\n",
    "\n",
    "Hints:\n",
    " - String concatenation is obtained using the `+` operator with strings: `x = \"a\" + \"bc\" + \"d\"` will result in `x = \"abcd\"`.\n",
    " - This exercise is almost equivalent to summing all the elements in a list using a counter variable, but now the \"counter\" will be a string, not an integer number. How should you initialize it?"
   ]
  },
  {
   "cell_type": "code",
   "execution_count": null,
   "metadata": {},
   "outputs": [],
   "source": [
    "# Input list\n",
    "sequence = ['CAG','TAC','CAA','TAG','TAC','CAG','CAA']"
   ]
  },
  {
   "cell_type": "markdown",
   "metadata": {},
   "source": [
    "### Exercise\n",
    "\n",
    "Define a function that plays Black Jack: it should take a deck as input and \"draw\" cards from itk until the sum of the points of the cards drawn is either 21 or more.\n",
    "If the sum is exactly 21, the game is won, otherwise it's lost.\n",
    "The function should return whether the game was won or not.\n",
    "\n",
    "Play the game using `deck_1`, then, only if the game is won, play the game using also `deck_2`."
   ]
  },
  {
   "cell_type": "code",
   "execution_count": null,
   "metadata": {},
   "outputs": [],
   "source": [
    "# Draw cards in order from the deck\n",
    "deck_1 = [5, 10, 1, 1, 3, 1, 10, 6, 7, 10]\n",
    "deck_2 = [7, 9, 7, 2, 5, 8, 1, 1, 5, 9]"
   ]
  },
  {
   "cell_type": "markdown",
   "metadata": {},
   "source": [
    "### Nested `for` loops\n",
    "\n",
    "You can have a `for` loop inside a `for` loop. These are called nested loops.\n",
    "\n",
    "Remember that, for each element in the container, the whole body of a loop is excuted once.\n",
    "This will result in restarting the inner loop in every new iteration of the outer loop."
   ]
  },
  {
   "cell_type": "code",
   "execution_count": null,
   "metadata": {},
   "outputs": [],
   "source": [
    "for x in [1, 2, 3]:\n",
    "    print(\"outer loop:\", x)\n",
    "    for y in [10, 20, 30]:\n",
    "        print(\"inner loop:\", y, \"and outer loop:\", x)"
   ]
  },
  {
   "cell_type": "markdown",
   "metadata": {},
   "source": [
    "The `continue` and `break` keywords can be used also with nested loops, but keep in mind that they will only apply to the body of the specific loop that is containing them."
   ]
  },
  {
   "cell_type": "code",
   "execution_count": null,
   "metadata": {},
   "outputs": [],
   "source": [
    "for x in [10, 20, 30, 40]:\n",
    "    print(\"outer loop:\", x)\n",
    "    if x == 30:\n",
    "        continue\n",
    "    for y in [1, 2, 3, 4]:\n",
    "        print(\"inner loop:\", y, \"and outer loop:\", x)\n",
    "        if x > 10 and y == 2:\n",
    "            break\n",
    "    print(\"end of outer loop:\", x)"
   ]
  },
  {
   "cell_type": "markdown",
   "metadata": {},
   "source": [
    "### Exercise\n",
    "\n",
    "Define a function that given 2 input numbers returns the smallest.\n",
    "Call this function on every possible pair of X-Y values and sum together all the returned values.\n",
    "\n",
    "Hints: \n",
    " - Use a nested `for` loop to call the function on every pair and a counter to keep track of the sum\n",
    " - The result is 38"
   ]
  },
  {
   "cell_type": "code",
   "execution_count": null,
   "metadata": {},
   "outputs": [],
   "source": [
    "# Problem data\n",
    "x_values = [2, 5, 8]\n",
    "y_values = [4, 19, 4, 1]"
   ]
  },
  {
   "cell_type": "markdown",
   "metadata": {},
   "source": [
    "### Exercise\n",
    "\n",
    "Write a block of code that does the following task:\n",
    "for each `x` value, this has to be multiplied with each of the `y` values.\n",
    "For each `x` value, it should also check if the sum of all these products is greater than the threshold and print a message accordingly.\n",
    "\n",
    "Hints:\n",
    " - Use a nested `for` loop and a counter.\n",
    " - Try to understand the key difference between this execise and the previous one, in particular **where the counter should be initialized**.\n",
    " - Only the first two `x` values (`4` and `6.28`) will have a sum of products greater than the threshold"
   ]
  },
  {
   "cell_type": "code",
   "execution_count": null,
   "metadata": {},
   "outputs": [],
   "source": [
    "# Problem data\n",
    "x_values = [4, 6.28, 2, 0.5]\n",
    "y_values = [0.1, 3, 7, -3.1, 2.6]\n",
    "threshold = 20"
   ]
  }
 ],
 "metadata": {
  "kernelspec": {
   "display_name": "Python 3",
   "language": "python",
   "name": "python3"
  },
  "language_info": {
   "codemirror_mode": {
    "name": "ipython",
    "version": 3
   },
   "file_extension": ".py",
   "mimetype": "text/x-python",
   "name": "python",
   "nbconvert_exporter": "python",
   "pygments_lexer": "ipython3",
   "version": "3.7.5"
  }
 },
 "nbformat": 4,
 "nbformat_minor": 4
}