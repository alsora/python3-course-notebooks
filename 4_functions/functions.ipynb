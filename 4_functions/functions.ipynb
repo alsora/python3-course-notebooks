{
 "cells": [
  {
   "cell_type": "markdown",
   "metadata": {},
   "source": [
    "# Functions\n",
    "\n",
    "After discovering how to use variables, you must learn about functions.\n",
    "\n",
    "Actually you have already been using a function from the very beginning."
   ]
  },
  {
   "cell_type": "code",
   "execution_count": null,
   "metadata": {},
   "outputs": [],
   "source": [
    "print(\"Hello, World\")"
   ]
  },
  {
   "cell_type": "markdown",
   "metadata": {},
   "source": [
    "This is the `print()` function.\n",
    "\n",
    "A function is characterized by 3 elements: its name, its return value and its input arguments.\n",
    "Note that a function must always have a name (and it must be unique), but it could have no return value and any number of arguments (also 0).\n",
    "\n",
    "Functions are used to avoid having to write multiple times the same piece of code."
   ]
  },
  {
   "cell_type": "markdown",
   "metadata": {},
   "source": [
    "As you can see a function definition starts with the syntax `def`.\n",
    "Then you find its name and parenthesis.\n",
    "Lastly you always have the `:`.\n",
    "\n",
    "As for **if-else** statements, the body of a function is indented 4 spaces or with a [TAB].\n",
    "\n",
    "A function must be defined using the keyword `def` before being used by your program.\n",
    "The part of the code starting with `def` and ending at the end of the function body is the function definition.\n",
    "\n",
    "A function definition alone **does not do anything**. \n",
    "When the Python program reaches a function definition, it only learns about the function existence such that it will know what to do when it will see a function call\n",
    "\n",
    "Calling a function requires to write its name and the parenthesis `()`.\n",
    "You can imagine that calling a function is equivalent to copying there the body of the function."
   ]
  },
  {
   "cell_type": "code",
   "execution_count": null,
   "metadata": {},
   "outputs": [],
   "source": [
    "def say_hi():\n",
    "    print(\"Hi\")\n",
    "\n",
    "say_hi()\n",
    "say_hi()"
   ]
  },
  {
   "cell_type": "markdown",
   "metadata": {},
   "source": [
    "### Input Parameters\n",
    "\n",
    "A function like `say_hi()` defined above will do the same task every time it's run.\n",
    "\n",
    "This is not particularly useful, because it means that for every small difference in what we have to do, we will have to write a slightly different function.\n",
    "\n",
    "Input parameters solve this issue.\n",
    "They provide a way for injecting custom information within a function, with the purpose of using it in the function body to obtain a \"custom\" behavior.\n",
    "\n",
    "The eventual presence of function arguments must be indicated in the function definition between parenthesis.\n",
    "\n",
    "Since the function definition is not run, the parameters that you specify there are just \"place-holder\" variables.\n",
    "\n",
    "Calling a function with parameters requires to specify values for the parameters between the parenthesis.\n",
    "These values will substitute the place-holders that were used in the definition."
   ]
  },
  {
   "cell_type": "code",
   "execution_count": null,
   "metadata": {},
   "outputs": [],
   "source": [
    "def print_sum(a, b):\n",
    "    # This is a function named `print_sum`. It takes 2 arguments\n",
    "    # Guess what it does...\n",
    "    sum = a + b\n",
    "    print(sum)\n",
    "\n",
    "sum(1, 3)\n",
    "sum(c, 1)"
   ]
  },
  {
   "cell_type": "markdown",
   "metadata": {},
   "source": [
    "### Return values\n",
    "\n",
    "Most of the times, we are not interested in defining custom funcions for printing data.\n",
    "\n",
    "What we need is to perform some computations and then to store the result in a variable.\n",
    "\n",
    "**Return values** are used for this.\n",
    "The presence of the return statement in a function body tells you that you can use that function in an assignement. The assigned value will be the value of the returned variable."
   ]
  },
  {
   "cell_type": "code",
   "execution_count": null,
   "metadata": {},
   "outputs": [],
   "source": [
    "def sum(a, b):\n",
    "    # This function is a variation of `print_sum` that returns the result instead of printing.\n",
    "    sum = a + b\n",
    "    return sum\n",
    "\n",
    "c = sum(1, 3)\n",
    "d = sum(c, 1)"
   ]
  },
  {
   "cell_type": "markdown",
   "metadata": {},
   "source": [
    "### Exercise\n",
    "\n",
    "Fill the `test` functions such that they do what requested"
   ]
  },
  {
   "cell_type": "code",
   "execution_count": null,
   "metadata": {},
   "outputs": [],
   "source": [
    "def test(a):\n",
    "    # This function prints the result of the sum between the input and 10\n",
    "    ## Your code goes here\n",
    "    \n",
    "\n",
    "test(1)\n",
    "test(3)"
   ]
  },
  {
   "cell_type": "code",
   "execution_count": null,
   "metadata": {},
   "outputs": [],
   "source": [
    "def test(a, b):\n",
    "    # This function prints a greetings message which includes the name and age of the person\n",
    "    ## Your code goes here\n",
    "\n",
    "\n",
    "test(\"Max\", 15)\n",
    "test(\"Bob\", 77)"
   ]
  },
  {
   "cell_type": "code",
   "execution_count": null,
   "metadata": {},
   "outputs": [],
   "source": [
    "def test(x):\n",
    "    # This function returns the squared power of the input argument\n",
    "    ## Your code goes here\n",
    "\n",
    "\n",
    "a = test(6)\n",
    "print(test(a))"
   ]
  },
  {
   "cell_type": "markdown",
   "metadata": {},
   "source": [
    "### More functions\n",
    "\n",
    "`print()` is not the only function that Python provides you. There are a lot of them.\n",
    "\n",
    "An example of another commonly used function is `len()`.\n",
    "This function returns the length of a string variable"
   ]
  },
  {
   "cell_type": "code",
   "execution_count": null,
   "metadata": {},
   "outputs": [],
   "source": [
    "a = len(\"Text\")\n",
    "b = len(\"A\" + \"B\")\n",
    "c = len(\"A\") + b\n",
    "d = \"World\"\n",
    "e = len(d)"
   ]
  },
  {
   "cell_type": "markdown",
   "metadata": {},
   "source": [
    "### Multiple indentation\n",
    "\n",
    "You can use statements like **if-else** inside functions.\n",
    "\n",
    "As you already saw, the body of a statement requires 4 spaces of indentation with respect to the first line of the statement.\n",
    "Moreover, the body of a function is already indented 4 spaces with respect to the beginning of the line.\n",
    "This will result in multiple levels of indentation when using a statement inside a function.\n",
    "\n",
    "Indentation is a fundamental concept in Python: it tells the program where the body of a function or statement begins and ends."
   ]
  },
  {
   "cell_type": "code",
   "execution_count": null,
   "metadata": {},
   "outputs": [],
   "source": [
    "def my_function():\n",
    "    if (2 > 5):\n",
    "        return 10\n",
    "    else:\n",
    "        return 1\n",
    "\n",
    "a = my_function()\n",
    "print(a)"
   ]
  },
  {
   "cell_type": "markdown",
   "metadata": {},
   "source": [
    "### Exercise\n",
    "\n",
    "Write a function named `convert` that converts hours from 24h to 12h format, by returning the correct 12h format"
   ]
  },
  {
   "cell_type": "code",
   "execution_count": null,
   "metadata": {},
   "outputs": [],
   "source": [
    "## Write your function here\n",
    "\n",
    "x = 19\n",
    "print(x, \" corresponds to \", convert(x))\n",
    "\n",
    "x = 3\n",
    "print(x, \" corresponds to \", convert(x))\n",
    "\n",
    "x = 24\n",
    "print(x, \" corresponds to \", convert(x))"
   ]
  },
  {
   "cell_type": "markdown",
   "metadata": {},
   "source": [
    "### Exercise\n",
    "\n",
    "Write a function `passport_is_valid()` that checks the details of a visitor and decides if he can enter the country.\n",
    "\n",
    "Hint: Maximillion shall not pass the control."
   ]
  },
  {
   "cell_type": "code",
   "execution_count": null,
   "metadata": {},
   "outputs": [],
   "source": [
    "## Write here the `passport_is_valid` function.\n",
    "# A passenger can be admitted only if the sum of the letters\n",
    "# in his name and surname is less than 20 characters.\n",
    "# Passengers older than 30 must be from UK, \n",
    "# while younger passengers have no nationality restrictions.\n",
    "\n",
    "\n",
    "def control(n, s, a, c):\n",
    "    if passport_is_valid(n, s, a, c):\n",
    "        print(\"Welcome!\")\n",
    "    else:\n",
    "        print(\"Go back to your country!\")\n",
    "\n",
    "# First passenger details\n",
    "name = \"Max\"\n",
    "surname = \"Power\"\n",
    "age = 43\n",
    "country = \"UK\"\n",
    "\n",
    "control(name, surname, age, country)\n",
    "\n",
    "# Second passenger details\n",
    "name = \"Maximillion\"\n",
    "surname = \"PegasusJr.\"\n",
    "age = 17\n",
    "country = \"FR\"\n",
    "\n",
    "control(name, surname, age, country)"
   ]
  },
  {
   "cell_type": "markdown",
   "metadata": {},
   "source": [
    "### Exercise\n",
    "\n",
    "Find and correct all the errors, until you are able to run the code and the output shows\n",
    "    \n",
    "    Hello1\n",
    "    Hello3\n",
    "    Hello5\n",
    "    Hello7\n",
    "    \n",
    "Hints:\n",
    " - The code execution stops at the first error. If you see that a line is being correctly executed, it means that there are no errors \"above\" that line.\n",
    " - Errors may be hard to interpret, but knowing them is key to learn how to program. If you have doubts, try searching your error on Google"
   ]
  },
  {
   "cell_type": "code",
   "execution_count": null,
   "metadata": {},
   "outputs": [],
   "source": [
    "a = \"Hello1\"\n",
    "print(a)\n",
    "\n",
    "if len(Hello2\") < 2 or > :\n",
    "    print(\"Hello3\")\n",
    "else\n",
    "    print(Hello4)\n",
    "\n",
    "print(\"Hello5\")\n",
    "\n",
    "sum(a):\n",
    "    return a + a\n",
    "\n",
    "c = sum(5,2)\n",
    "print(\"Hello\", c)"
   ]
  }
 ],
 "metadata": {
  "kernelspec": {
   "display_name": "Python 3",
   "language": "python",
   "name": "python3"
  },
  "language_info": {
   "codemirror_mode": {
    "name": "ipython",
    "version": 3
   },
   "file_extension": ".py",
   "mimetype": "text/x-python",
   "name": "python",
   "nbconvert_exporter": "python",
   "pygments_lexer": "ipython3",
   "version": "3.7.5"
  }
 },
 "nbformat": 4,
 "nbformat_minor": 4
}
