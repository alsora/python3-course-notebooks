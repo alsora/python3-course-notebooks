{
 "cells": [
  {
   "cell_type": "markdown",
   "metadata": {},
   "source": [
    "# Functions\n",
    "\n",
    "After discovering how to use variables, you must learn about functions.\n",
    "\n",
    "Actually you have already been using a function from the very beginning."
   ]
  },
  {
   "cell_type": "code",
   "execution_count": null,
   "metadata": {},
   "outputs": [],
   "source": [
    "print(\"Hello, World\")"
   ]
  },
  {
   "cell_type": "markdown",
   "metadata": {},
   "source": [
    "This is the `print()` function.\n",
    "\n",
    "A generic function is characterized by 3 elements: its name, its return value and its input arguments.\n",
    "Note that a function must have a name (and it must be unique), but it could have no return value and any number of arguments (also 0).\n",
    "\n",
    "Functions are used to avoid having to write every time the same piece of code."
   ]
  },
  {
   "cell_type": "code",
   "execution_count": null,
   "metadata": {},
   "outputs": [],
   "source": [
    "def sum(a, b):\n",
    "    # This is a function named `sum`. It takes 2 arguments and returns 1 value.\n",
    "    # Guess what it does...\n",
    "    s = a + b\n",
    "    return s\n",
    "\n",
    "def say_hi():\n",
    "    print(\"Hi\")\n",
    "\n",
    "c = sum(1, 3)\n",
    "d = sum(c, 1)\n",
    "\n",
    "say_hi()\n",
    "say_hi()"
   ]
  },
  {
   "cell_type": "markdown",
   "metadata": {},
   "source": [
    "As you can see a function always starts with the syntax `def`.\n",
    "Then you find its name and eventual arguments between parenthesis.\n",
    "Lastly you always have the `:`.\n",
    "\n",
    "As for **if-else** statements, the body of a function is indented 4 spaces or with a [TAB].\n",
    "\n",
    "If a function wants to return some value, it must do it using the syntax `return`.\n",
    "\n",
    "A function must be defined using the keyword before being used by your program.\n",
    "The part of the code starting with `def` and ending at the end of the function body is the function definition.\n",
    "The arguments in the function definition are \"place-holder\" variables.\n",
    "\n",
    "Note that a function definition **does not do anything**. It only tells your program what to do when it will  encounter the name of the function.\n",
    "\n",
    "Calling a function requires to write its name, parenthesis and eventual arguments between parenthesis.\n",
    "You can imagine that calling a function is equivalent to write there the body of the function, with the actual values passed as arguments that substitute the place-holders used in the definition.\n",
    "The `return` statement in the function body tells you that you can use that function in an assignement. The assigned value will be the value of the returned variable.\n",
    "\n",
    "Given the previous definition of `sum()`, the following lines are equivalent\n",
    "\n",
    "    c = sum(1, 3)\n",
    "    \n",
    "    c = 1 + 3"
   ]
  },
  {
   "cell_type": "markdown",
   "metadata": {},
   "source": [
    "### Exercise\n",
    "\n",
    "Fill the `test` functions to do what requested"
   ]
  },
  {
   "cell_type": "code",
   "execution_count": null,
   "metadata": {},
   "outputs": [],
   "source": [
    "def test(a):\n",
    "    # This function prints the result of the sum between the input and 10 and then the square of that number\n",
    "    print(\"Test results for input:\", a)\n",
    "    # Your code goes here\n",
    "    \n",
    "\n",
    "test(1)\n",
    "test(3)"
   ]
  },
  {
   "cell_type": "code",
   "execution_count": null,
   "metadata": {},
   "outputs": [],
   "source": [
    "def test(a, b):\n",
    "    # This function prints a greetings message including name and age of the person\n",
    "    # Your code goes here\n",
    "\n",
    "\n",
    "test(\"Max\", 15)\n",
    "test(\"Bob\", 77)"
   ]
  },
  {
   "cell_type": "markdown",
   "metadata": {},
   "source": [
    "### More functions\n",
    "\n",
    "`print()` is not the only function that Python provides you. There are a lot of them.\n",
    "\n",
    "An example is `len()`.\n",
    "This function returns the length of a string variable"
   ]
  },
  {
   "cell_type": "code",
   "execution_count": null,
   "metadata": {},
   "outputs": [],
   "source": [
    "a = len(\"Text\")\n",
    "b = len(\"A\" + \"B\")\n",
    "c = len(\"A\") + b"
   ]
  },
  {
   "cell_type": "markdown",
   "metadata": {},
   "source": [
    "### Multiple indentation\n",
    "\n",
    "You can use statements inside functions.\n",
    "Remember that a statement requires an extra level of indentation."
   ]
  },
  {
   "cell_type": "code",
   "execution_count": null,
   "metadata": {},
   "outputs": [],
   "source": [
    "def my_function():\n",
    "    if (2 > 5):\n",
    "        return 10\n",
    "    else:\n",
    "        return 1\n",
    "\n",
    "a = my_function()\n",
    "print(a)"
   ]
  },
  {
   "cell_type": "markdown",
   "metadata": {},
   "source": [
    "### Exercise\n",
    "\n",
    "Write a function named `convert` that converts hours from 24h to 12h format, by returning the correct 12h format"
   ]
  },
  {
   "cell_type": "code",
   "execution_count": null,
   "metadata": {},
   "outputs": [],
   "source": [
    "## Write your function here\n",
    "\n",
    "x = 19\n",
    "print(x, \" corresponds to \", convert(x))\n",
    "\n",
    "x = 3\n",
    "print(x, \" corresponds to \", convert(x))\n",
    "\n",
    "x = 24\n",
    "print(x, \" corresponds to \", convert(x))"
   ]
  },
  {
   "cell_type": "markdown",
   "metadata": {},
   "source": [
    "### Exercise\n",
    "\n",
    "Write a function `passport_analysis()` that checks the details of a visitor and decides if he can enter the country.\n",
    "\n",
    "Hint: Maximillion shall not pass the control."
   ]
  },
  {
   "cell_type": "code",
   "execution_count": null,
   "metadata": {},
   "outputs": [],
   "source": [
    "## Write here the analysis function.\n",
    "# A passenger can be admitted only if the sum of the letters\n",
    "# in his name and surname is less than 20 characters.\n",
    "# Passengers older than 30 must be from UK, \n",
    "# while younger passengers have no nationality restrictions.\n",
    "\n",
    "\n",
    "def control(n, s, a, c):\n",
    "    if passport_analysis(n, s, a, c):\n",
    "        print(\"Welcome!\")\n",
    "    else:\n",
    "        print(\"Go back to your country!\")\n",
    "\n",
    "# First passenger details\n",
    "name = \"Max\"\n",
    "surname = \"Power\"\n",
    "age = 43\n",
    "country = \"UK\"\n",
    "\n",
    "control(name, surname, age, country)\n",
    "\n",
    "# First passenger details\n",
    "name = \"Maximillion\"\n",
    "surname = \"PegasusJr.\"\n",
    "age = 17\n",
    "country = \"FR\"\n",
    "\n",
    "control(name, surname, age, country)"
   ]
  },
  {
   "cell_type": "markdown",
   "metadata": {},
   "source": [
    "### Exercise\n",
    "\n",
    "Find and correct all the errors, until you are able to run the code and the output shows\n",
    "    \n",
    "    Hello1\n",
    "    Hello3\n",
    "    Hello5\n",
    "    Hello7"
   ]
  },
  {
   "cell_type": "code",
   "execution_count": null,
   "metadata": {},
   "outputs": [],
   "source": [
    "a = \"Hello1\"\n",
    "print(a)\n",
    "\n",
    "if len(Hello2\") < 2 or > :\n",
    "    print(\"Hello3\")\n",
    "else\n",
    "    print(Hello4)\n",
    "\n",
    "print(\"Hello5\")\n",
    "\n",
    "sum(a):\n",
    "    return a + a\n",
    "\n",
    "c = sum(5,2)\n",
    "print(\"Hello\", c)"
   ]
  }
 ],
 "metadata": {
  "kernelspec": {
   "display_name": "Python 3",
   "language": "python",
   "name": "python3"
  },
  "language_info": {
   "codemirror_mode": {
    "name": "ipython",
    "version": 3
   },
   "file_extension": ".py",
   "mimetype": "text/x-python",
   "name": "python",
   "nbconvert_exporter": "python",
   "pygments_lexer": "ipython3",
   "version": "3.7.5"
  }
 },
 "nbformat": 4,
 "nbformat_minor": 4
}
