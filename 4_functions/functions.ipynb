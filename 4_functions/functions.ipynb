{
 "cells": [
  {
   "cell_type": "markdown",
   "metadata": {},
   "source": [
    "# Functions\n",
    "\n",
    "After discovering how to use variables, you must learn about functions.\n",
    "\n",
    "Actually you have already been using a function from the very beginning."
   ]
  },
  {
   "cell_type": "code",
   "execution_count": null,
   "metadata": {},
   "outputs": [],
   "source": [
    "print(\"Hello, World\")"
   ]
  },
  {
   "cell_type": "markdown",
   "metadata": {},
   "source": [
    "This is the `print()` function.\n",
    "\n",
    "A function is characterized by 3 elements: its name, its return value and its input arguments.\n",
    "Note that a function must always have a name (and it must be unique), but it could have no return value and any number of arguments (also 0).\n",
    "\n",
    "Functions are used to avoid having to write multiple times the same piece of code."
   ]
  },
  {
   "cell_type": "code",
   "execution_count": null,
   "metadata": {},
   "outputs": [],
   "source": [
    "def say_hi():\n",
    "    # This is a function named `say_hi`. It has no arguments\n",
    "    print(\"Hi\")\n",
    "\n",
    "say_hi()\n",
    "say_hi()"
   ]
  },
  {
   "cell_type": "markdown",
   "metadata": {},
   "source": [
    "As you can see a function definition starts with the keyword `def`.\n",
    "Then you find its name and parenthesis.\n",
    "Lastly, as in **if-else** statements, you have the `:`, which indicates that the body will begin in the following line.\n",
    "\n",
    "As for **if-else** statements, the body of a function is indented 4 spaces or with a [TAB].\n",
    "\n",
    "A function must be defined using the keyword `def` before being used by your program.\n",
    "The part of the code starting with `def` and ending at the end of the function body is the function definition.\n",
    "\n",
    "A function definition alone **does not do anything**. \n",
    "When the Python program reaches a function definition, it only learns about the function existence such that it will know what to do when it will see a function call\n",
    "\n",
    "Calling (i.e. running or executing) a function requires to write its name and the parenthesis `()`.\n",
    "You can imagine that the call of a function is equivalent to copying there the whole body of the function.\n",
    "\n",
    "Calling a function before it has been defined will result in an error.\n",
    "This is the same issue as when using a variable name before a value has been assigned to it."
   ]
  },
  {
   "cell_type": "code",
   "execution_count": null,
   "metadata": {},
   "outputs": [],
   "source": [
    "say_hello() # Python does not know what this means at this point in the program\n",
    "\n",
    "def say_hello():\n",
    "    print(\"Hello\")"
   ]
  },
  {
   "cell_type": "markdown",
   "metadata": {},
   "source": [
    "### Input Parameters\n",
    "\n",
    "A function like `say_hi()` defined above will do the same task every time it's run.\n",
    "\n",
    "This is not particularly useful, because it means that for every small difference in what we have to do, we will have to write a slightly different function (e.g. `say_hello()`).\n",
    "\n",
    "Input parameters solve this issue.\n",
    "They provide a way for injecting custom information into a function, with the purpose of using it in the function body to obtain a \"custom\" behavior.\n",
    "\n",
    "The eventual presence of function input arguments must be indicated in the function definition between the parenthesis.\n",
    "Here you should write the names of the argument variables. \n",
    "\n",
    "Since the function definition is not run, the parameters that you specify there are just \"place-holder\" variables.\n",
    "Nevertheless, you can use them within the function body.\n",
    "\n",
    "Calling a function with parameters requires to specify values for the parameters between the parenthesis after the function name.\n",
    "As before, the function call can be imagined as the function body being substituted there. Moreover, since now there are input parameters, the values specified withing parenthesis will be assigned to the corresponding place-holder variable.\n",
    "\n",
    "Note that you can give any name you want to function input parameters in the function definition. They don't need to match any name of already existing variables. Remember that every time a function is called, variables corresponding to the input parameters will be created, by assigning them the values specified in the function call."
   ]
  },
  {
   "cell_type": "code",
   "execution_count": null,
   "metadata": {},
   "outputs": [],
   "source": [
    "def print_age(age):\n",
    "    # This is a function named `print_age`. It has 1 argument named `age`\n",
    "    print(\"Hello, I'm\", age, \"years old\")\n",
    "\n",
    "print_age(13)\n",
    "x = 5\n",
    "print_age(x)"
   ]
  },
  {
   "cell_type": "markdown",
   "metadata": {},
   "source": [
    "### Return values\n",
    "\n",
    "Most of the times, we are not interested in defining custom funcions with the only purpose of printing data.\n",
    "\n",
    "What we really need is to perform some computations and then to store the result of this computation in a variable for later use.\n",
    "\n",
    "As the result of a mathematical expression can be assigned to a variable, the same is true also for the result of a function.\n",
    "\n",
    "**Return values** are used for this.\n",
    "The presence of the return keyword in a function body tells you that you can use that function in an assignement.\n",
    "Calling the function will evaluate to the value that is indicated after the `return` keyword in the function body."
   ]
  },
  {
   "cell_type": "code",
   "execution_count": null,
   "metadata": {},
   "outputs": [],
   "source": [
    "def sum_10(val):\n",
    "    # This is a function named `sum_10`. It has 1 argument named `val` and it returns a value\n",
    "    sum = val + 10\n",
    "    return sum\n",
    "\n",
    "a = 1\n",
    "b = a + 10\n",
    "c = sum_10(b)\n",
    "\n",
    "print(a)\n",
    "print(b)\n",
    "print(sum_10(b))"
   ]
  },
  {
   "cell_type": "markdown",
   "metadata": {},
   "source": [
    "The keyword `return` makes the function to terminate after that line.\n",
    "\n",
    "Most of the functions will have a single return line, however it's allowed to have multiple `return` lines in the same function body.\n",
    "They can be conditionally executed through an **if-else** statement."
   ]
  },
  {
   "cell_type": "code",
   "execution_count": null,
   "metadata": {},
   "outputs": [],
   "source": [
    "def function_1():\n",
    "    # This function is really BAD PRACTICE!\n",
    "    # It's name is not explicative, it does not take parameters and it has 2 consecutive `return`\n",
    "    # The second `return` will never be executed, it's only spam\n",
    "    return 1\n",
    "    return 2\n",
    "\n",
    "x = function_1()\n",
    "print(x)\n",
    "\n",
    "def get_max(a, b):\n",
    "    # This function conditionally return different values\n",
    "    if a > b:\n",
    "        return a\n",
    "    else:\n",
    "        return b\n",
    "    \n",
    "y = get_max(10, 30)\n",
    "print(y)\n",
    "\n",
    "def get_max_v2(a, b):\n",
    "    # Note that most of the times multiple returns are never required\n",
    "    if a > b:\n",
    "        ret = a\n",
    "    else:\n",
    "        ret = b\n",
    "    return ret\n",
    "\n",
    "z = get_max_v2(10, 30)\n",
    "print(z)"
   ]
  },
  {
   "cell_type": "markdown",
   "metadata": {},
   "source": [
    "### Exercise\n",
    "\n",
    "Fill the `test` functions such that they do what requested"
   ]
  },
  {
   "cell_type": "code",
   "execution_count": null,
   "metadata": {},
   "outputs": [],
   "source": [
    "def test(a):\n",
    "    # This function prints the result of the sum between the input and 10\n",
    "    ## Your code goes here\n",
    "    \n",
    "\n",
    "test(1)\n",
    "test(3)"
   ]
  },
  {
   "cell_type": "code",
   "execution_count": null,
   "metadata": {},
   "outputs": [],
   "source": [
    "def test(a, b):\n",
    "    # This function prints a greetings message which includes the name and age of the person\n",
    "    ## Your code goes here\n",
    "\n",
    "\n",
    "test(\"Max\", 15)\n",
    "test(\"Bob\", 77)"
   ]
  },
  {
   "cell_type": "code",
   "execution_count": null,
   "metadata": {},
   "outputs": [],
   "source": [
    "def test(x):\n",
    "    # This function returns the squared power of the input argument\n",
    "    ## Your code goes here\n",
    "\n",
    "\n",
    "a = test(6)\n",
    "print(test(a))"
   ]
  },
  {
   "cell_type": "markdown",
   "metadata": {},
   "source": [
    "### More functions\n",
    "\n",
    "`print()` is not the only function that Python provides you. There are a lot of them.\n",
    "\n",
    "An example of another commonly used function is `len()`.\n",
    "This function returns the length of a string variable"
   ]
  },
  {
   "cell_type": "code",
   "execution_count": null,
   "metadata": {},
   "outputs": [],
   "source": [
    "a = len(\"Text\")\n",
    "b = len(\"A\" + \"B\")\n",
    "c = len(\"A\") + b\n",
    "d = \"World\"\n",
    "e = len(d)"
   ]
  },
  {
   "cell_type": "markdown",
   "metadata": {},
   "source": [
    "### Multiple indentation\n",
    "\n",
    "You can use statements like **if-else** inside functions.\n",
    "\n",
    "As you already saw, the body of a statement requires 4 spaces of indentation with respect to the first line of the statement.\n",
    "Moreover, the body of a function is already indented 4 spaces with respect to the beginning of the line.\n",
    "This will result in multiple levels of indentation when using a statement inside a function.\n",
    "\n",
    "Indentation is a fundamental concept in Python: it tells the program where the body of a function or statement begins and ends."
   ]
  },
  {
   "cell_type": "code",
   "execution_count": null,
   "metadata": {},
   "outputs": [],
   "source": [
    "def my_function():\n",
    "    if 2 > 5:\n",
    "        return 10\n",
    "    else:\n",
    "        return 1\n",
    "\n",
    "a = my_function()\n",
    "print(a)"
   ]
  },
  {
   "cell_type": "markdown",
   "metadata": {},
   "source": [
    "### Exercise\n",
    "\n",
    "Write a function named `convert` that converts hours from 24h to 12h format, by returning the correct 12h format"
   ]
  },
  {
   "cell_type": "code",
   "execution_count": null,
   "metadata": {},
   "outputs": [],
   "source": [
    "## Write your function here\n",
    "\n",
    "x = 19\n",
    "print(x, \"corresponds to\", convert(x))\n",
    "\n",
    "x = 3\n",
    "print(x, \"corresponds to\", convert(x))\n",
    "\n",
    "x = 24\n",
    "print(x, \"corresponds to\", convert(x))"
   ]
  },
  {
   "cell_type": "markdown",
   "metadata": {},
   "source": [
    "### Exercise\n",
    "\n",
    "Write a function named `validate` such that the result of the requested comparison it's printed."
   ]
  },
  {
   "cell_type": "code",
   "execution_count": null,
   "metadata": {},
   "outputs": [],
   "source": [
    "## Write here the `validate()` function.\n",
    "# x is valid if less than 25% of y\n",
    "\n",
    "\n",
    "# Input data\n",
    "x = 35\n",
    "y = 111\n",
    "\n",
    "result = validate(x, y)\n",
    "print(\"The result is:\", result)"
   ]
  },
  {
   "cell_type": "markdown",
   "metadata": {},
   "source": [
    "### Exercise\n",
    "\n",
    "Find and correct all the errors, until you are able to run the code and the output shows\n",
    "    \n",
    "    Hello1\n",
    "    Hello3\n",
    "    Hello5\n",
    "    Hello7\n",
    "    \n",
    "Hints:\n",
    " - The code execution stops at the first error. If you see that a line is being correctly executed, it means that there are no errors \"above\" that line.\n",
    " - Errors may be hard to interpret, but knowing them is key to learn how to program. If you have doubts, try searching your error on Google"
   ]
  },
  {
   "cell_type": "code",
   "execution_count": null,
   "metadata": {},
   "outputs": [],
   "source": [
    "a = \"Hello1\"\n",
    "print(a)\n",
    "\n",
    "if len(Hello2\") < 2 or > :\n",
    "    print(\"Hello3\")\n",
    "else\n",
    "    print(Hello4)\n",
    "\n",
    "print(\"Hello5\")\n",
    "\n",
    "sum(a):\n",
    "    return a + a\n",
    "\n",
    "c = sum(5,2)\n",
    "print(\"Hello\", c)"
   ]
  }
 ],
 "metadata": {
  "kernelspec": {
   "display_name": "Python 3",
   "language": "python",
   "name": "python3"
  },
  "language_info": {
   "codemirror_mode": {
    "name": "ipython",
    "version": 3
   },
   "file_extension": ".py",
   "mimetype": "text/x-python",
   "name": "python",
   "nbconvert_exporter": "python",
   "pygments_lexer": "ipython3",
   "version": "3.7.5"
  }
 },
 "nbformat": 4,
 "nbformat_minor": 4
}
