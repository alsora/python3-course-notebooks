{
 "cells": [
  {
   "cell_type": "markdown",
   "metadata": {},
   "source": [
    "# Functions\n",
    "\n",
    "After discovering how to use variables, you must learn about functions.\n",
    "\n",
    "This is a fundamental lesson. Your Python code will be mostly made of functions and variables, and note that functions add a layer of complexity to what you have done so far.\n",
    "\n",
    "Actually you have already been using functions from the very beginning."
   ]
  },
  {
   "cell_type": "code",
   "execution_count": null,
   "metadata": {},
   "outputs": [],
   "source": [
    "print(\"Hello, World\")"
   ]
  },
  {
   "cell_type": "markdown",
   "metadata": {},
   "source": [
    "This is the `print()` function.\n",
    "\n",
    "A function is characterized by 3 elements: its name, its return value and its input parameters.\n",
    "Note that a function must always have a name (and it must be unique), but it could have no return value and any number of input parameters (also 0).\n",
    "\n",
    "The `print()` function is named `print`, it has as input parameters the values that you want to display and it has no return value.\n",
    "\n",
    "Functions are used to avoid having to write multiple times the same piece of code."
   ]
  },
  {
   "cell_type": "code",
   "execution_count": null,
   "metadata": {},
   "outputs": [],
   "source": [
    "def say_hi():\n",
    "    # This is a function named `say_hi`. It has no input parameters\n",
    "    print(\"Hi\")\n",
    "\n",
    "say_hi()\n",
    "say_hi()"
   ]
  },
  {
   "cell_type": "markdown",
   "metadata": {},
   "source": [
    "A function must be defined using the keyword `def` before being used by your program.\n",
    "The part of the code starting with `def` and ending at the end of the function body is the function definition.\n",
    "\n",
    "As you can see a function definition starts with the keyword `def`.\n",
    "Then you find the name of the function followed by parenthesis `(` `)`.\n",
    "The first line ends, as in `if` statements, with the colon `:`, which indicates that the body will begin in the following line.\n",
    "As for `if` statements, the body of a function is indented 4 spaces or with a [TAB].\n",
    "\n",
    "A function definition alone **does not do anything**. \n",
    "When the Python program reaches a function definition, it only learns about the function existence such that it will know what to do when it will see a function call.\n",
    "\n",
    "Calling (i.e. running or executing) a function requires to write its name and the parenthesis `()`.\n",
    "You can imagine that the call of a function is equivalent to copying there the whole body of the function.\n",
    "\n",
    "Calling a function before that it has been defined will result in an error.\n",
    "This is the same issue as when using a variable name before a value has been assigned to it."
   ]
  },
  {
   "cell_type": "code",
   "execution_count": null,
   "metadata": {},
   "outputs": [],
   "source": [
    "say_hello() # Python does not know what this means at this point in the program\n",
    "\n",
    "def say_hello():\n",
    "    print(\"Hello\")"
   ]
  },
  {
   "cell_type": "markdown",
   "metadata": {},
   "source": [
    "### Input Parameters\n",
    "\n",
    "A function like `say_hi()` defined above will do the same task every time it's run.\n",
    "\n",
    "This is not particularly useful, because it requires that for every small difference in what we have to do, we will have to write a slightly different function (e.g. `say_hello()`).\n",
    "\n",
    "**Input parameters** solve this issue.\n",
    "They provide a way for injecting custom information into a function, with the purpose of using it in the function body to obtain a \"custom\" behavior.\n",
    "\n",
    "The eventual presence of function input parameters must be indicated in the function definition between the parenthesis.\n",
    "Here you have to write names for the argument variables. \n",
    "Since a function definition is not run, the parameters that you specify there are just \"place-holder\" variables. They can be used within the function body.\n",
    "\n",
    "Calling a function with parameters requires to specify values for the parameters between the parenthesis after the function name.\n",
    "As before, the function call can be imagined as the function body being substituted there. Moreover, since now there are input parameters, the values specified withing parenthesis will be assigned to the corresponding place-holder variable.\n",
    "\n",
    "Note that you can give any name you want to function input parameters in the function definition. They don't need to match any name of already existing variables. Remember that every time a function is called, variables corresponding to the input parameters will be created, by assigning them the values specified in the function call."
   ]
  },
  {
   "cell_type": "code",
   "execution_count": null,
   "metadata": {},
   "outputs": [],
   "source": [
    "def print_age(age):\n",
    "    # This is a function named `print_age`. It has 1 argument named `age`\n",
    "    print(\"Hello, I'm\", age, \"years old\")\n",
    "\n",
    "print_age(13)\n",
    "x = 5\n",
    "print_age(x)"
   ]
  },
  {
   "cell_type": "markdown",
   "metadata": {},
   "source": [
    "### Scope of a variable\n",
    "\n",
    "Variables in programming languages always have a scope.\n",
    "The scope of a variable is made of all the parts of the program from which that variable is accessible.\n",
    "\n",
    "The variables that you have created so far always had a **global scope**, i.e. they accessible from everywhere starting from the moment they are initialized and until the end of the program. \n",
    "However, a variable that is created within the body of a function has a **local scope**. This means that it's only accessible within the function and that it's \"destroyed\" when the function ends.\n",
    "\n",
    "You can't access variables outside their scope. You already saw that a standard variable (i.e. with global scope) is not accessible before it has been initialized. You will get the same error if you try to access a variable created within the function body anywhere outside of the function.\n",
    "\n",
    "That's why you can use any name you want for the **input parameters**: they will be local to the function."
   ]
  },
  {
   "cell_type": "code",
   "execution_count": null,
   "metadata": {},
   "outputs": [],
   "source": [
    "x = 8 # This is a global variable\n",
    "\n",
    "print(x) # `x` is always accessible now that it has been already initialized\n",
    "\n",
    "def my_function(k):\n",
    "    a = 2 + k\n",
    "    print(a)\n",
    "    \n",
    "print(x) # `x` is always accessible now that it has been already initialized\n",
    "\n",
    "# `a` or `k` are NOT accessible outside the function body\n",
    "my_function(x)\n",
    "# `a` or `k` are NOT accessible outside the function body\n",
    "\n",
    "print(x) # `x` is always accessible now that it has been already initialized"
   ]
  },
  {
   "cell_type": "markdown",
   "metadata": {},
   "source": [
    "### Return values\n",
    "\n",
    "Defining custom functions with the only purpose of printing data is not generally very useful.\n",
    "What is really important is to use functions to perform some computations and then to store the result of this computation in a variable for later use. This requires to \n",
    "\n",
    "In the same way as the result of a mathematical expression can be assigned to a variable, also the result of the computation done inside a function can be assigned.\n",
    "\n",
    "**Return values** are used for this.\n",
    "The presence of the return keyword in a function body tells you that you can use that function in an assignement.\n",
    "Calling a function that has a `return` value can be considered equivalent to first executing all the code within the function's body until the value that has to be returned is obtained. Then this value is \"substituted\" in the place where the function was called.\n",
    "\n",
    "Note: you can't use a function without `return` in an assignment!"
   ]
  },
  {
   "cell_type": "code",
   "execution_count": null,
   "metadata": {},
   "outputs": [],
   "source": [
    "def sum_10(val):\n",
    "    # This is a function named `sum_10`. It has 1 argument named `val` and it returns a value\n",
    "    sum = val + 10\n",
    "    return sum\n",
    "\n",
    "a = 1\n",
    "b = a + 10\n",
    "# The next line can be seen as `c = b + 10`\n",
    "c = sum_10(b)\n",
    "\n",
    "print(a)\n",
    "print(b)\n",
    "print(c)\n",
    "print(sum_10(100))"
   ]
  },
  {
   "cell_type": "markdown",
   "metadata": {},
   "source": [
    "### Exercise\n",
    "\n",
    "Fill the `test` functions such that they do what requested"
   ]
  },
  {
   "cell_type": "code",
   "execution_count": null,
   "metadata": {},
   "outputs": [],
   "source": [
    "def test(a):\n",
    "    # This function prints the result of the sum between the input and 10\n",
    "    ## Write the function body here\n",
    "    \n",
    "\n",
    "test(1)\n",
    "test(3)"
   ]
  },
  {
   "cell_type": "code",
   "execution_count": null,
   "metadata": {},
   "outputs": [],
   "source": [
    "def test(a, b):\n",
    "    # This function prints a greetings message which includes the name and age of the person\n",
    "    ## Write the function body here\n",
    "\n",
    "\n",
    "test(\"Max\", 15)\n",
    "test(\"Bob\", 77)"
   ]
  },
  {
   "cell_type": "code",
   "execution_count": null,
   "metadata": {},
   "outputs": [],
   "source": [
    "def test(x):\n",
    "    # This function returns the squared power of the input argument\n",
    "    ## Write the function body here\n",
    "\n",
    "\n",
    "a = test(6)\n",
    "print(test(a))"
   ]
  },
  {
   "cell_type": "markdown",
   "metadata": {},
   "source": [
    "### More on `return`\n",
    "\n",
    "The keyword `return` makes the function to terminate after that line (i.e. you exit from the function and you *return* to the program).\n",
    "\n",
    "Most of the functions will have a single `return` line, however it's allowed to have multiple `return` lines in the same function body.\n",
    "They can be conditionally executed through an `if` statement.\n",
    "\n",
    "An `if` statement can be used within a function as in any other part of the code.\n",
    "Only remember that the body of a statement requires 4 spaces of indentation with respect to the first line of the statement. Since the body of a function is already indented of 4 spaces with respect to the beginning of the line, this will result in multiple levels of indentation when using a statement inside a function.\n",
    "\n",
    "Indentation is a fundamental concept in Python: it tells the program where the body of a function or statement begins and ends."
   ]
  },
  {
   "cell_type": "code",
   "execution_count": null,
   "metadata": {},
   "outputs": [],
   "source": [
    "def function_1():\n",
    "    # This function is really BAD WRITTEN!\n",
    "    # Its name is not explicative, it does not take parameters and it has 2 consecutive `return`\n",
    "    # The second `return` will never be executed, so it's only spam\n",
    "    c = 1\n",
    "    return c\n",
    "    c = c + 1\n",
    "    return c\n",
    "\n",
    "x = function_1()\n",
    "print(x)\n",
    "\n",
    "def get_max(a, b):\n",
    "    # This function conditionally return different values\n",
    "    if a > b:\n",
    "        return a\n",
    "    else:\n",
    "        return b\n",
    "    \n",
    "y = get_max(10, 30)\n",
    "print(y)\n",
    "\n",
    "def get_max_v2(a, b):\n",
    "    # Note that most of the times multiple returns are never required\n",
    "    # This function is equivalent ot `get_max()`\n",
    "    if a > b:\n",
    "        ret = a\n",
    "    else:\n",
    "        ret = b\n",
    "    return ret\n",
    "\n",
    "z = get_max_v2(10, 30)\n",
    "print(z)"
   ]
  },
  {
   "cell_type": "markdown",
   "metadata": {},
   "source": [
    "Note the difference between the 2 versions `get_max()` and `get_max_v2()`: when using multiple `return` values, the `return` keyword must be within the `if` statement body (i.e. it's indented so the return will be conditionally executed). On the other hand, if there is only a single `return`, this must not be within the `if` statement body."
   ]
  },
  {
   "cell_type": "markdown",
   "metadata": {},
   "source": [
    "### How to use functions effectively\n",
    "\n",
    "Most of the functions should have input parameters and should return a value.\n",
    "These are the **input** and the **output** of your function.\n",
    "\n",
    "Functions that return a value will generally either:\n",
    " - produce an output that is obtained by transforming the input\n",
    " - use the input to select one among different possible fixed output (using `if` and multiple `return`)\n",
    " \n",
    "When conditionally choosing the return value, be careful that all the possible cases are handled, i.e. that there is always a value that is returned, no matter which conditions are verified."
   ]
  },
  {
   "cell_type": "code",
   "execution_count": null,
   "metadata": {},
   "outputs": [],
   "source": [
    "def multiply_and_subtract(x):\n",
    "    # This function manipulates the input to compute the output\n",
    "    z = (x * 2) - 4\n",
    "    return z\n",
    "\n",
    "def select_table(num_guests):\n",
    "    # This function examines the input to select one of possible fixed outputs\n",
    "    if num_guests == 1:\n",
    "        return 1\n",
    "    elif num_guests < 3:\n",
    "        return 2\n",
    "    elif num_guests < 10:\n",
    "        return 3\n",
    "    else:\n",
    "        return 4\n",
    "\n",
    "print(multiply_and_subtract(8))\n",
    "    \n",
    "print(select_table(2))"
   ]
  },
  {
   "cell_type": "markdown",
   "metadata": {},
   "source": [
    "Remeber that functions are required to `return` a value if you want to assign the value of their output to a variable.\n",
    "\n",
    "When designing a function, think about which type of value has to be returned.\n",
    " - Is the output a **number**? Then you have to `return` an **int** or **float**.\n",
    " - Is the output a **text**? Then you have to `return` a **string**\n",
    " - Do you have to use the output to check a **condition**? Then you have to `return` a **boolean**."
   ]
  },
  {
   "cell_type": "code",
   "execution_count": null,
   "metadata": {},
   "outputs": [],
   "source": [
    "def magic_operation(x, y):\n",
    "    # This function returns a number\n",
    "    if x > y:\n",
    "        return x\n",
    "    else:\n",
    "        return 5\n",
    "\n",
    "def is_even(x):\n",
    "    # This function returns a boolean\n",
    "    return x % 2 == 0\n",
    "\n",
    "a = magic_operation(2, 5)\n",
    "b = a + magic_operation(3, a)\n",
    "print(\"The magic result is\", b)\n",
    "\n",
    "x = is_even(2)\n",
    "if is_even(7):\n",
    "    print(\"Hey, look, 7 is even\")\n",
    "elif x:\n",
    "    print(\"Hey, look, 2 is even\")"
   ]
  },
  {
   "cell_type": "markdown",
   "metadata": {},
   "source": [
    "Note that, with a little bit of logic, functions that `return` a boolean can written such that they only have a single return statement.\n",
    "\n",
    "This format with a single `return` is generally preferred as it's easier to understand.\n",
    "It's an `or` operation between all the conditions that would return `True`."
   ]
  },
  {
   "cell_type": "code",
   "execution_count": null,
   "metadata": {},
   "outputs": [],
   "source": [
    "def is_magic_number(x):\n",
    "    # This function returns a boolean\n",
    "    if x == 2:\n",
    "        return True\n",
    "    elif x == 8:\n",
    "        return True\n",
    "    elif x > 20 and x < 30:\n",
    "        return True\n",
    "    else:\n",
    "        return x > 99\n",
    "\n",
    "def is_magic_number_v2(x):\n",
    "    # This function returns a boolean and it's equivalent to `is_magic_number()`\n",
    "    return x == 2 or x == 8 or (x > 20 and x < 30) or x > 99"
   ]
  },
  {
   "cell_type": "markdown",
   "metadata": {},
   "source": [
    "### Exercise\n",
    "\n",
    "Write a function named `convert` that converts hours from 24h to 12h format, by returning the correct 12h format"
   ]
  },
  {
   "cell_type": "code",
   "execution_count": null,
   "metadata": {},
   "outputs": [],
   "source": [
    "## Write your function here\n",
    "\n",
    "x = 19\n",
    "print(x, \"corresponds to\", convert(x))\n",
    "\n",
    "x = 3\n",
    "print(x, \"corresponds to\", convert(x))\n",
    "\n",
    "x = 24\n",
    "print(x, \"corresponds to\", convert(x))"
   ]
  },
  {
   "cell_type": "markdown",
   "metadata": {},
   "source": [
    "### Exercise\n",
    "\n",
    "Write a function named `validate` such that it correctly returns a **boolean** value."
   ]
  },
  {
   "cell_type": "code",
   "execution_count": null,
   "metadata": {},
   "outputs": [],
   "source": [
    "## Write here the `validate()` function.\n",
    "# x is valid if less than 25% of y\n",
    "\n",
    "\n",
    "# Input data\n",
    "x = 35\n",
    "y = 111\n",
    "\n",
    "result = validate(x, y)\n",
    "print(\"The result is:\", result)"
   ]
  },
  {
   "cell_type": "markdown",
   "metadata": {},
   "source": [
    "### More functions\n",
    "\n",
    "`print()` is not the only function that Python provides you. There are a lot of them.\n",
    "\n",
    "An example of another commonly used function is `len()`.\n",
    "This function returns the length of a string variable"
   ]
  },
  {
   "cell_type": "code",
   "execution_count": null,
   "metadata": {},
   "outputs": [],
   "source": [
    "a = len(\"Text\")\n",
    "b = len(\"A\" + \"B\")\n",
    "c = len(\"A\") + b\n",
    "d = \"World\"\n",
    "e = len(d)"
   ]
  },
  {
   "cell_type": "markdown",
   "metadata": {},
   "source": [
    "### Exercise\n",
    "\n",
    "Write a function that returns the requested value and call it for the input data provided."
   ]
  },
  {
   "cell_type": "code",
   "execution_count": null,
   "metadata": {},
   "outputs": [],
   "source": [
    "## Write your function here\n",
    "# The function computes the difference between the lengths\n",
    "# of 2 words and returns this value if it's a positive number.\n",
    "# Otherwise 0 is returned\n",
    "\n",
    "# Input data\n",
    "x = \"Hello\"\n",
    "z = \"Python\""
   ]
  },
  {
   "cell_type": "markdown",
   "metadata": {},
   "source": [
    "### Exercise\n",
    "\n",
    "Write a function that, given an input number, it returns the count of how many numbers in the range 1-5 is the input a multiple of.\n",
    "\n",
    "Hints:\n",
    " - The number 6 is multiple of 3 numbers (1, 2 and  3)\n",
    " - Remember about counters and the modulo operator"
   ]
  },
  {
   "cell_type": "code",
   "execution_count": null,
   "metadata": {},
   "outputs": [],
   "source": [
    "# Input numbers\n",
    "x = 6\n",
    "y = 200\n",
    "z = 17"
   ]
  },
  {
   "cell_type": "markdown",
   "metadata": {},
   "source": [
    "### Exercise\n",
    "\n",
    "Find and correct all the errors, until you are able to run the code and the output shows\n",
    "    \n",
    "    Hello1\n",
    "    Hello3\n",
    "    Hello5\n",
    "    Hello7\n",
    "    \n",
    "Hints:\n",
    " - The code execution stops at the first error. If you see that a line is being correctly executed, it means that there are no errors \"above\" that line.\n",
    " - Errors may be hard to interpret, but knowing them is key to learn how to program. If you have doubts, try searching your error on Google"
   ]
  },
  {
   "cell_type": "code",
   "execution_count": null,
   "metadata": {},
   "outputs": [],
   "source": [
    "a = \"Hello1\"\n",
    "print(a)\n",
    "\n",
    "if len(Hello2\") < 2 or > :\n",
    "    print(\"Hello3\")\n",
    "else\n",
    "    print(Hello4)\n",
    "\n",
    "print(\"Hello5\")\n",
    "\n",
    "sum(a):\n",
    "    return a + a\n",
    "\n",
    "c = sum(5,2)\n",
    "print(\"Hello\", c)"
   ]
  }
 ],
 "metadata": {
  "kernelspec": {
   "display_name": "Python 3",
   "language": "python",
   "name": "python3"
  },
  "language_info": {
   "codemirror_mode": {
    "name": "ipython",
    "version": 3
   },
   "file_extension": ".py",
   "mimetype": "text/x-python",
   "name": "python",
   "nbconvert_exporter": "python",
   "pygments_lexer": "ipython3",
   "version": "3.7.5"
  }
 },
 "nbformat": 4,
 "nbformat_minor": 4
}
