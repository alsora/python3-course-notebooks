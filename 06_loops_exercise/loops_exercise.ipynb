{
 "cells": [
  {
   "cell_type": "markdown",
   "metadata": {},
   "source": [
    "# Exercise\n",
    "\n",
    "You performed an experiment where you observed the state of a system every hour.\n",
    "The observed state at a given instant is represented by a single number.\n",
    "However, not all the values you obtained from the experiment are valid:\n",
    " - even values denote noise in the observation tool and they are invalid, only odd values are valid.\n",
    " - `99` is the full scale value of the observation tool: it indicates that nothing was observed at that time, so it's invalid.\n",
    " - `-1` indicates a fault in the observation tool: it's invalid and also all the successive values in the sequence are invalid.\n",
    "\n",
    "Due to the many problems that can affect your experiment, you repeated it multiple times.\n",
    "All the observations obtained from the experiments are stored in the **variables** named `a` to `f`.\n",
    "Note that experimets had different durations, so the number of observations in each **list** may be different in each case.\n",
    "\n",
    "You have to modify the `results` **variable** such that every element is the sum of all the valid observations of the corresponding experiment (i.e. the first element for experiment `a`, the second element for experiment `b`, and so on).\n",
    "\n",
    "Then you have to validate the `results` with some control values. An experiment is invalidated if its result (i.e. its corresponding element in the `results` list) is lower than a control value.\n",
    "You should annotate (i.e. print) the following numbers:\n",
    " - how many experiments are invalidated by control value 1\n",
    " - how many experiments are invalidated by control value 2\n",
    " - how many valid experiments are left at the end\n"
   ]
  },
  {
   "cell_type": "code",
   "execution_count": null,
   "metadata": {},
   "outputs": [],
   "source": [
    "# Experiment observations\n",
    "a = [1, 99, 6, -1, -1, 3, 99]\n",
    "b = [-1]\n",
    "c = [99, 99, -1]\n",
    "d = [8, 4, 9, 9]\n",
    "e = [99]\n",
    "f = [7, 5]\n",
    "\n",
    "# List where to store the result of each experiment\n",
    "results = [0, 0, 0, 0, 0, 0] \n",
    "\n",
    "# The control values\n",
    "control_1 = 16\n",
    "control_2 = 10"
   ]
  }
 ],
 "metadata": {
  "kernelspec": {
   "display_name": "Python 3",
   "language": "python",
   "name": "python3"
  },
  "language_info": {
   "codemirror_mode": {
    "name": "ipython",
    "version": 3
   },
   "file_extension": ".py",
   "mimetype": "text/x-python",
   "name": "python",
   "nbconvert_exporter": "python",
   "pygments_lexer": "ipython3",
   "version": "3.8.2"
  }
 },
 "nbformat": 4,
 "nbformat_minor": 4
}
