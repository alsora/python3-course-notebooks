{
 "cells": [
  {
   "cell_type": "markdown",
   "metadata": {},
   "source": [
    "# Loops and Lists\n",
    "\n",
    "The **if-else** statement is used for deciding which parts of the code to execute.\n",
    "\n",
    "However, often it's required to run the same part of the code multiple times.\n",
    "This is done with loops.\n",
    "\n",
    "Loops are a different type of statements.\n",
    "Where **if-else** deals mainly with **boolean** variables, the loops usually deal with **lists**."
   ]
  },
  {
   "cell_type": "markdown",
   "metadata": {},
   "source": [
    "### Lists\n",
    "\n",
    "A list is a container of things.\n",
    "It's a type of variable used to store other variables.\n",
    "\n",
    "A list is denoted by the brackets `[` and `]` around its elements"
   ]
  },
  {
   "cell_type": "code",
   "execution_count": null,
   "metadata": {},
   "outputs": [],
   "source": [
    "# A list containing 3 elements: 1, 2 and 3\n",
    "a  = [1, 2, 3]\n",
    "\n",
    "print(a)\n",
    "\n",
    "x = 100\n",
    "b = [x, x, 12]"
   ]
  },
  {
   "cell_type": "markdown",
   "metadata": {},
   "source": [
    "You can access individual elements in a list using a brackets operator on the list variable `[]`.\n",
    "\n",
    "You must specify the **index** of the element you want to access.\n",
    "Remember that in programming, **indices always start from 0**."
   ]
  },
  {
   "cell_type": "code",
   "execution_count": null,
   "metadata": {},
   "outputs": [],
   "source": [
    "a = [10, 100, 1000]\n",
    "\n",
    "x = a[0]\n",
    "y = a[1]\n",
    "z = a[2]"
   ]
  },
  {
   "cell_type": "markdown",
   "metadata": {},
   "source": [
    "### Exercise\n",
    "\n",
    "Call a function on each item of a list"
   ]
  },
  {
   "cell_type": "code",
   "execution_count": null,
   "metadata": {},
   "outputs": [],
   "source": [
    "def divide(x):\n",
    "    print(x / 2)\n",
    "\n",
    "# The input list\n",
    "a = [10, 100, 1000]\n",
    "\n",
    "## Call divide on every value stored in the input list\n"
   ]
  },
  {
   "cell_type": "markdown",
   "metadata": {},
   "source": [
    "### Different access methods\n",
    "\n",
    "The index used by the `[]` operator to access elements in a list can also be specified using variables and math operations.\n",
    "\n",
    "**NOTE:** don't abuse these notations: as you may see they don't allow to understand what a program does at a first glance."
   ]
  },
  {
   "cell_type": "code",
   "execution_count": null,
   "metadata": {},
   "outputs": [],
   "source": [
    "a = [1, 10, 100, 1000, 10000]\n",
    "\n",
    "print(a[1 + 1])\n",
    "print(a[a[0]])"
   ]
  },
  {
   "cell_type": "markdown",
   "metadata": {},
   "source": [
    "### Exercise\n",
    "\n",
    "Write a function that allows to checks if the visa of a passenger has been accepted or not.\n",
    "Check all the passengers.\n",
    "\n",
    "Hint: only Mark and John have been accepted."
   ]
  },
  {
   "cell_type": "code",
   "execution_count": null,
   "metadata": {},
   "outputs": [],
   "source": [
    "# Whether the visa has been accepted for a passenger\n",
    "# values are ordered according to the passenger seat number\n",
    "visa_accepted = [True, False, False, True]\n",
    "\n",
    "## Write your function here\n",
    "\n",
    "\n",
    "## Passengers\n",
    "name_1 = \"Mark\"\n",
    "seat_1 = 0\n",
    "\n",
    "name_2 = \"John\"\n",
    "seat_2 = 3\n",
    "\n",
    "name_3 = \"Clara\"\n",
    "seat_3 = 2\n",
    "\n",
    "name_4 = \"Mickey\"\n",
    "seat_4 = 1"
   ]
  },
  {
   "cell_type": "markdown",
   "metadata": {},
   "source": [
    "### List arguments\n",
    "\n",
    "Assume to have a function definition with the following signature (we are not interested in the body at the moment)\n",
    "    \n",
    "    def do_something(x):\n",
    "\n",
    "Looking only at this line, you can't understand what the function will do and what its input is.\n",
    "The function takes only 1 input, named `x`, but note that all these calls are potentially valid\n",
    "\n",
    "    do_something(1)\n",
    "    do_something([1, 2, 3])\n",
    "    a = [1, 10]\n",
    "    do_something(a)\n",
    "    do_something(a[1])\n",
    "    \n",
    "There's obviously a difference in providing as argument a whole list or just an element of it.\n",
    "You are passing different variables with different values: `do_something(a)` passes as argument the elements `1` and `10` \"packed\" together in a list variable. On the other hand `do_something(a[1])` passes as argument `1` and it's 100% equivalent to `do_something(10)`.\n",
    "\n",
    "These are simply 2 different ways for dealing with lists (i.e. at the list or element level). There is not a correct or wrong.\n",
    "\n",
    "**NOTE** in a real scenario a function usually is created with a specific type in mind for its arguments. This means that if you pass a value to a function that is expecting a list, this may not behave correctly or it may result in an error."
   ]
  },
  {
   "cell_type": "markdown",
   "metadata": {},
   "source": [
    "### Exercise\n",
    "\n",
    "Write a function that computes the similarity among 2 lists: i.e. the percentage of equal values at the same position (e.g. [1, 2, 3] and [3, 2, 1] have 33% similarity)"
   ]
  },
  {
   "cell_type": "code",
   "execution_count": null,
   "metadata": {},
   "outputs": [],
   "source": [
    "def similarity_score(a, b):\n",
    "    ## Fill the function here\n",
    "    \n",
    "# Input lists\n",
    "x = [10, 20, 40]\n",
    "y = [10, 30, 40]\n",
    "\n",
    "print(\"The similarity is: \", similarity_score(x, y))"
   ]
  },
  {
   "cell_type": "markdown",
   "metadata": {},
   "source": [
    "### Lists and Strings\n",
    "\n",
    "Lists and strings present some similarities.\n",
    "This is because Python treats a **string** as a list of characters.\n",
    "\n",
    "You can access a single character in a string as with elements in a list.\n",
    "\n",
    "You can compute the `len()` of a list in the same way as done for strings. "
   ]
  },
  {
   "cell_type": "code",
   "execution_count": null,
   "metadata": {},
   "outputs": [],
   "source": [
    "a = \"Hello\"\n",
    "print(a[1])\n",
    "\n",
    "b = [1, 2, 3]\n",
    "print(len(b))"
   ]
  },
  {
   "cell_type": "markdown",
   "metadata": {},
   "source": [
    "### Exercise\n",
    "\n",
    "Write a validation function that accepts only lists ending with `z` or with `9`.\n",
    "\n",
    "**NOTE**: all the lists have a different length, but the `validate()` function is always the same."
   ]
  },
  {
   "cell_type": "code",
   "execution_count": null,
   "metadata": {},
   "outputs": [],
   "source": [
    "## Write your function here\n",
    "\n",
    "# Input lists\n",
    "l1 = [0, 1, 2, 4, 5, 6, 7]\n",
    "l2 = \"baz\"\n",
    "l3 = [\"z\", \"z\", \"k\"]\n",
    "l4 = []\n",
    "\n",
    "ok1 = validate(l1)\n",
    "ok2 = validate(l2)\n",
    "ok3 = validate(l3)\n",
    "ok4 = validate(l4)"
   ]
  },
  {
   "cell_type": "markdown",
   "metadata": {},
   "source": [
    "### Loops\n",
    "\n",
    "If you have done it correctly, you may see that what you wrote in the previous exercise can make sense if your list has a small number of elements, but it would become unusable in case of hundreds or thousands of elements.\n",
    "\n",
    "Here is where the **for** loop statement comes into help.\n",
    "A **for** loop requires a list of elements and it is based on the concept of iterations.\n",
    "An iteration consists in running the whole body of the statement on one of the elements in the list.\n",
    "The **for** loop runs many iterations as the number of elements in the list.\n",
    "\n",
    "The **for** loop statement has some similarities with the **if-else**: you need to write the `:` at the end of the line and its body must be indented.\n",
    "\n",
    "The loop allows to define a temporary variable, `x` in the next code cell.\n",
    "This variable will take at every iteration the value of one of the elements in the list."
   ]
  },
  {
   "cell_type": "code",
   "execution_count": null,
   "metadata": {},
   "outputs": [],
   "source": [
    "def divide(z):\n",
    "    print(z / 2)\n",
    "\n",
    "for x in [1, 8, 64]:\n",
    "    print(\"processing\", x)\n",
    "    divide(x)    \n",
    "    \n",
    "a = [10, 100, 1000]\n",
    "for x in a:\n",
    "    divide(x)"
   ]
  },
  {
   "cell_type": "markdown",
   "metadata": {},
   "source": [
    "### Exercise\n",
    "\n",
    "Write a function that takes a list as argument and prints all the elements with a value between 5 and 10"
   ]
  },
  {
   "cell_type": "code",
   "execution_count": null,
   "metadata": {},
   "outputs": [],
   "source": [
    "# Input lists\n",
    "a = [1, 2, 3, 4, 5, 6, 7, 8, 9, 10]\n",
    "b = [6]"
   ]
  },
  {
   "cell_type": "markdown",
   "metadata": {},
   "source": [
    "### Exercise\n",
    "\n",
    "Write a function that takes a DNA sequence as argument and returns its complementary sequence: adenine (A) must be substituted with thymine (T) and vice versa, while guanine (G) must be substituted with cytosine (C) and vice versa."
   ]
  },
  {
   "cell_type": "code",
   "execution_count": null,
   "metadata": {},
   "outputs": [],
   "source": [
    "# Input DNA sequence\n",
    "dna = \"ACTGATCGATTA\""
   ]
  }
 ],
 "metadata": {
  "kernelspec": {
   "display_name": "Python 3",
   "language": "python",
   "name": "python3"
  },
  "language_info": {
   "codemirror_mode": {
    "name": "ipython",
    "version": 3
   },
   "file_extension": ".py",
   "mimetype": "text/x-python",
   "name": "python",
   "nbconvert_exporter": "python",
   "pygments_lexer": "ipython3",
   "version": "3.7.5"
  }
 },
 "nbformat": 4,
 "nbformat_minor": 4
}
