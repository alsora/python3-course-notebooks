{
 "cells": [
  {
   "cell_type": "markdown",
   "metadata": {},
   "source": [
    "# Modules\n",
    "\n",
    "Python provides many built-in **functions**, such as `print()` and `len()`, and **classes**, such as **string** and **dictionary**.\n",
    "These are functionalities that are required in more or less every Python program, so they are always accessible.\n",
    "\n",
    "You have been defining new custom **functions** and **classes** in all the programs that you have written so far.\n",
    "However, the lifetime of each definition was only the program where it was written.\n",
    "If you had to use the same **function** in a second program, you had to write it again.\n",
    "\n",
    "**Modules** provide a way for organizing your code and being able to access to it from other programs."
   ]
  },
  {
   "cell_type": "markdown",
   "metadata": {},
   "source": [
    "### Create your module\n",
    "\n",
    "**Modules** are just Python files that contain definitions of **functions** and **classes**. This directory contains a file named `fancy_module.py`. Open it and you will see that it contains the definition of a **function** named `sum_numbers()`. This is a very simple **module** made only of 1 definition.\n",
    "\n",
    "You can `import` the **module** to have access to that definition in a code block here.\n",
    "Then you can use the same syntax that you used for **methods** to call a **function** defined in the **module**.\n",
    "To call the **function** you have to use the name of the **module** followed by a dot `.` and by the name of the **function**.\n",
    "\n",
    "\n",
    "Some recommendations:\n",
    " - Modules are Python files and, as such, they require the extension `.py`.\n",
    " - When importing a module, you don't have to specify the extension, but only its name.\n",
    " - Always write `import` statements at the beginning of your program. This will make sure that definitions are already available when you want to use them.\n",
    " - Give meaningful names to the definitions in a module, as you will want to quickly understand what they do and to be able to re-use them.\n"
   ]
  },
  {
   "cell_type": "code",
   "execution_count": null,
   "metadata": {},
   "outputs": [],
   "source": [
    "import fancy_module\n",
    "\n",
    "x = fancy_module.sum_numbers(1, 2)\n",
    "print(x)"
   ]
  },
  {
   "cell_type": "markdown",
   "metadata": {},
   "source": [
    "### Exercise\n",
    "\n",
    "Create a new Python module in this directory. This module should provide the definition of:\n",
    " - a function that takes a string as input and returns the number of occurrences of the most occurring character in it.\n",
    " - a class that contains a dictionary in its state. The class should provide a method for updating the dictionary that takes a key as input and checks if it's already present in the dictionary or not. If it is not, it should create a new key-value pair using that key or the value 10. On the other hand, if it is already present, it should double the value for the provided key. The class should also provide a method that returns the key of the dictionary with the highest value.\n",
    "\n",
    "Import the module in the following code block.\n",
    "Create an object of the class and call the function on all the provided input strings.\n",
    "Use the returned values to update the dictionary using the first method provided by the created object.\n",
    "Check which character was the most occurring one among all the strings by using the second method provided by the created object.\n",
    "\n",
    "Hint: use the constructor function imported from a module."
   ]
  },
  {
   "cell_type": "code",
   "execution_count": null,
   "metadata": {},
   "outputs": [],
   "source": [
    "# Input strings\n",
    "a = \"a\"\n",
    "b = \"hello\"\n",
    "c = \"area\""
   ]
  },
  {
   "cell_type": "markdown",
   "metadata": {},
   "source": [
    "### The `math` module\n",
    "\n",
    "Besides the standard built-in definitions, Python also allows to use more specialized **functions** and **classes**, such as advanced mathematical operations, tools for drawing and much more.\n",
    "\n",
    "These additional functionalities are organized into Python **modules** as the one you created in the previous section.\n",
    "There are literally thousands and thousands of these **modules** created by developers across the world.\n",
    "In order to use these **modules** you have first to install them into your computer and then you are able to `import` them as done before.\n",
    "Note that the most popular **modules** are automatically installed together with Python, so they can be imported right away.\n",
    "\n",
    "Python always provides a **module** named `math` that defines many useful mathematical operations.\n",
    "For example, you may be interested in computing the square root of a number or its base 10 logarithm.\n",
    "\n",
    "Searching for this module in a Web Search Engine, should allow you to find its documentation at the following link: https://docs.python.org/3/library/math.html.\n",
    "\n",
    "Have a look at the link to see what is defined in the `math` **module**.\n",
    "You will see many **functions**, characterized by their name, their input parameters and a short description of what they do.\n",
    "You will not see the body of the **functions**. That's because this is not relevant in order to allow you to use the **function** and adding it would make impossible a quick analysis of the **module**. "
   ]
  },
  {
   "cell_type": "markdown",
   "metadata": {},
   "source": [
    "### Exercise\n",
    "\n",
    "Import the math module and use the gcd function for computing the greatest common divisor between the two input numbers.\n",
    "\n",
    "See the documentation for this function here: https://docs.python.org/3/library/math.html#math.gcd"
   ]
  },
  {
   "cell_type": "code",
   "execution_count": null,
   "metadata": {},
   "outputs": [],
   "source": [
    "# Input values\n",
    "x = 16\n",
    "y = 24"
   ]
  }
 ],
 "metadata": {
  "kernelspec": {
   "display_name": "Python 3",
   "language": "python",
   "name": "python3"
  },
  "language_info": {
   "codemirror_mode": {
    "name": "ipython",
    "version": 3
   },
   "file_extension": ".py",
   "mimetype": "text/x-python",
   "name": "python",
   "nbconvert_exporter": "python",
   "pygments_lexer": "ipython3",
   "version": "3.7.5"
  }
 },
 "nbformat": 4,
 "nbformat_minor": 4
}