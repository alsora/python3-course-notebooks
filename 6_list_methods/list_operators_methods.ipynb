{
 "cells": [
  {
   "cell_type": "markdown",
   "metadata": {},
   "source": [
    "# Operators and Methods\n",
    "\n",
    "You may have understood from the previous lessons that not all the types in Python are the same.\n",
    "\n",
    "A **list** (and equivalently also a **string**) allows much more operations than a basic type, such as an **integer**.\n",
    "\n",
    "Some operators are available on most of the types."
   ]
  },
  {
   "cell_type": "code",
   "execution_count": null,
   "metadata": {},
   "outputs": [],
   "source": [
    "x = 7\n",
    "y = x + 2\n",
    "\n",
    "a = \"hello \"\n",
    "b = a + \"world\"\n",
    "\n",
    "k = [5, 10]\n",
    "z = k + [1]"
   ]
  },
  {
   "cell_type": "markdown",
   "metadata": {},
   "source": [
    "Some operators are specific to particular types and will result in an error if called on the wrong one."
   ]
  },
  {
   "cell_type": "code",
   "execution_count": null,
   "metadata": {},
   "outputs": [],
   "source": [
    "a = [10, 100, 1000]\n",
    "b = a[0]\n",
    "\n",
    "c = b[0]"
   ]
  },
  {
   "cell_type": "markdown",
   "metadata": {},
   "source": [
    "### More on the access operator\n",
    "\n",
    "The access operator `[]` allows to obtain the value of a particular element in a list.\n",
    "\n",
    "You have always to make sure that the **index** that you are using it's valid, i.e. it must be between `0` (included as `0` denotes the first element) and the length of the list (excluded as `len(list) -1` denotes the last element)."
   ]
  },
  {
   "cell_type": "code",
   "execution_count": null,
   "metadata": {},
   "outputs": [],
   "source": [
    "a = [10, 100, 1000]\n",
    "print(a[0])\n",
    "print(a[1])\n",
    "print(a[2])\n",
    "print(a[len(a) - 1])"
   ]
  },
  {
   "cell_type": "code",
   "execution_count": null,
   "metadata": {},
   "outputs": [],
   "source": [
    "a = [10, 100, 1000]\n",
    "print(a[4])"
   ]
  },
  {
   "cell_type": "code",
   "execution_count": null,
   "metadata": {},
   "outputs": [],
   "source": [
    "a = []\n",
    "print(a[0])"
   ]
  },
  {
   "cell_type": "markdown",
   "metadata": {},
   "source": [
    "### Slicing a list\n",
    "\n",
    "The access operator allows also to extract sub-lists from a list. For example given a list of 5 elements you may want to create a new list with only the elements from the 4th and 5th elements.\n",
    "\n",
    "Try to figure out how the slicing operator works from the next example.\n",
    "\n",
    "**NOTE** The result of the slicing operator is always a list!"
   ]
  },
  {
   "cell_type": "code",
   "execution_count": null,
   "metadata": {},
   "outputs": [],
   "source": [
    "a = [11, 26, 32, 48, 54]\n",
    "b = a[3:5]\n",
    "\n",
    "print(b[0])"
   ]
  },
  {
   "cell_type": "markdown",
   "metadata": {},
   "source": [
    "### Exercise\n",
    "\n",
    "Write a function that returns the first 2 characters of a string if this string has less than 5 characters, otherwise it should return the last 3."
   ]
  },
  {
   "cell_type": "code",
   "execution_count": null,
   "metadata": {},
   "outputs": [],
   "source": [
    "# Input strings\n",
    "a = \"hello\"\n",
    "b = \"life\"\n",
    "c = \"tornado\""
   ]
  },
  {
   "cell_type": "markdown",
   "metadata": {},
   "source": [
    "### Methods\n",
    "\n",
    "The \"functions\" that are restricted to a specific type are called **methods**.\n",
    "You can think of them as particular functions and indeed sometimes the words \"method\" and \"function\" are used interchangeably (even if it's not always correct).\n",
    "\n",
    "From the theory point of view, the main difference between a method and a function is that a method takes always at least 1 argument.\n",
    "\n",
    "From a visual point of view, a method is called **on a particular variable**."
   ]
  },
  {
   "cell_type": "code",
   "execution_count": null,
   "metadata": {},
   "outputs": [],
   "source": [
    "# This is the function `len`, called with 1 argument \"Hello\"\n",
    "x = len(\"Hello\") \n",
    "\n",
    "# This is the method `upper`. This method is called ON THE VARIABLE \"Hello\"\n",
    "# The variable itself it's considered as the first argument to the method\n",
    "y = \"Hello\".upper()\n",
    "\n",
    "# This is the method `count`. This method is called ON THE VARIABLE `z`\n",
    "# `count` is a method that takes 2 arguments: \n",
    "# the variable `z` is the first and `1` is the second\n",
    "z = [1, 20, 30, 10, 1, 1]\n",
    "k = z.count(1)"
   ]
  },
  {
   "cell_type": "markdown",
   "metadata": {},
   "source": [
    "### Exercise\n",
    "\n",
    "Write a function that can be used to calculate the GC content of a DNA sequence, i.e. the percentage of bases that are either guanine (G) or cytosine (C)."
   ]
  },
  {
   "cell_type": "code",
   "execution_count": null,
   "metadata": {},
   "outputs": [],
   "source": [
    "# Input DNA sequences\n",
    "dna_1 = \"ACTGATCGATTACGTATAGTATTTGCTATCATACATATATATCGATGCGTTCAT\"\n",
    "dna_2 = \"ATGC\""
   ]
  },
  {
   "cell_type": "markdown",
   "metadata": {},
   "source": [
    "### Methods and variable state\n",
    "\n",
    "Another difference between methods and functions is that when a method is called **on a variable** it can alter its state.\n",
    "\n",
    "The following method has no return value, but calling it will alter the state of the variable on which it's called."
   ]
  },
  {
   "cell_type": "code",
   "execution_count": null,
   "metadata": {},
   "outputs": [],
   "source": [
    "a = []\n",
    "a.append(20)\n",
    "a.append(10)\n",
    "print(a)"
   ]
  },
  {
   "cell_type": "markdown",
   "metadata": {},
   "source": [
    "### Exercise\n",
    "\n",
    "Write a function that takes a list as input and returns as output a new list made only of the odd values."
   ]
  },
  {
   "cell_type": "code",
   "execution_count": null,
   "metadata": {},
   "outputs": [],
   "source": [
    "# Input lists\n",
    "a = [1, 2, 3, 4, 5]\n",
    "b = [10, 11, 20, 11, 30, 11, 40, 11, 50, 11]\n",
    "d = [2]\n",
    "e = [1]"
   ]
  }
 ],
 "metadata": {
  "kernelspec": {
   "display_name": "Python 3",
   "language": "python",
   "name": "python3"
  },
  "language_info": {
   "codemirror_mode": {
    "name": "ipython",
    "version": 3
   },
   "file_extension": ".py",
   "mimetype": "text/x-python",
   "name": "python",
   "nbconvert_exporter": "python",
   "pygments_lexer": "ipython3",
   "version": "3.7.5"
  }
 },
 "nbformat": 4,
 "nbformat_minor": 4
}
